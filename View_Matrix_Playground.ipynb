{
  "nbformat": 4,
  "nbformat_minor": 0,
  "metadata": {
    "colab": {
      "name": "View Matrix Playground.ipynb",
      "provenance": [],
      "authorship_tag": "ABX9TyPDir5dcCkzonxlFkgcsjiv",
      "include_colab_link": true
    },
    "kernelspec": {
      "name": "python3",
      "display_name": "Python 3"
    },
    "language_info": {
      "name": "python"
    }
  },
  "cells": [
    {
      "cell_type": "markdown",
      "metadata": {
        "id": "view-in-github",
        "colab_type": "text"
      },
      "source": [
        "<a href=\"https://colab.research.google.com/github/PTC-Education/PTC-API-Playground/blob/main/View_Matrix_Playground.ipynb\" target=\"_parent\"><img src=\"https://colab.research.google.com/assets/colab-badge.svg\" alt=\"Open In Colab\"/></a>"
      ]
    },
    {
      "cell_type": "code",
      "metadata": {
        "cellView": "form",
        "id": "hTvdnj67jlDa"
      },
      "source": [
        "#@title Import and Setup Onshape Client\n",
        "\n",
        "!pip install onshape-client\n",
        "from onshape_client.client import Client\n",
        "from onshape_client.onshape_url import OnshapeElement\n",
        "import json\n",
        "\n",
        "#@markdown Chage the base if using an enterprise (i.e. \"https://ptc.onshape.com\")\n",
        "base = 'https://cad.onshape.com' #@param {type:\"string\"}\n",
        "\n",
        "#@markdown Would you like to import your API keys from a file, or copy and paste them directly?\n",
        "keyImportOption = \"Copy/Paste Keys\" #@param [\"Upload Keys from File\", \"Copy/Paste Keys\"]\n",
        "\n",
        "from IPython.display import clear_output \n",
        "clear_output()\n",
        "print(\"Onshape Client successfully imported!\")\n",
        "\n",
        "if keyImportOption == \"Upload Keys from File\":\n",
        "  from google.colab import files\n",
        "  uploaded = files.upload()\n",
        "  for fn in uploaded.keys():\n",
        "    execfile(fn)\n",
        "\n",
        "  client = Client(configuration={\"base_url\": base,\n",
        "                                \"access_key\": access,\n",
        "                                \"secret_key\": secret})\n",
        "  clear_output()\n",
        "  print('Onshape client configured - ready to go!')\n",
        "else:\n",
        "  access = input(\"Paste your Onshape Access Key: \")\n",
        "  secret = input(\"Paste your Onshape Secret Key: \")\n",
        "  client = Client(configuration={\"base_url\": base,\n",
        "                                \"access_key\": access,\n",
        "                                \"secret_key\": secret})\n",
        "  clear_output()\n",
        "  print('Onshape client configured - ready to go!')\n"
      ],
      "execution_count": null,
      "outputs": []
    },
    {
      "cell_type": "code",
      "metadata": {
        "id": "EE6Q_HkeMa7s",
        "cellView": "form"
      },
      "source": [
        "#@title Run this cell to load a library of functions for view matrices\n",
        "\n",
        "import math\n",
        "import numpy\n",
        "\n",
        "#@markdown The function `mult(x,y)` multiplies two 4x3 view matrices to get their determinant\n",
        "\n",
        "def mult(x,y):\n",
        "  result = numpy.matmul(x,y)\n",
        "  return result\n",
        "\n",
        "#@markdown The function `IdentityTwelve()` returns a flattened identity view matrix (1x12)\n",
        "def IdentityTwelve():\n",
        "  m = [\n",
        "      1, 0, 0, 0,\n",
        "      0, 1, 0, 0,\n",
        "      0, 0, 1, 0\n",
        "      ]\n",
        "  return m\n",
        "\n",
        "#@markdown The function `Move(base,x1,y1,z1)` takes a 1x12 view matrix and moves the x,y,z coordinates\n",
        "def Move(base,x1,y1,z1):\n",
        "  matrix = base\n",
        "  matrix[3] = x1\n",
        "  matrix[7] = y1\n",
        "  matrix[11] = z1\n",
        "  return matrix\n",
        "\n",
        "#@markdown The function `twelveToThreeByFour(matrix)` takes a flattened 1x12 view matrix and makes a 4x3 matrix for linear algrebra\n",
        "def twelveToThreeByFour(matrix):\n",
        "  threebyfour = [[matrix[0],matrix[1],matrix[2],matrix[3]],\n",
        "                [matrix[4],matrix[5],matrix[6],matrix[7]],\n",
        "                [matrix[8],matrix[9],matrix[10],matrix[11]]]\n",
        "  return threebyfour\n",
        "\n",
        "#@markdown The function `threeByFourToTwelve(matrix)` takes a 4x3 view matrix and flattens it to 1x12, the form used by Onshape\n",
        "def threeByFourToTwelve(matrix):\n",
        "  twelve = [matrix[0][0],matrix[0][1],matrix[0][2],matrix[0][3],\n",
        "             matrix[1][0],matrix[1][1],matrix[1][2],matrix[1][3],\n",
        "             matrix[2][0],matrix[2][1],matrix[2][2],matrix[2][3]]\n",
        "  return twelve\n",
        "\n",
        "def fourByFourToThreeByFour(matrix):\n",
        "  matrix.pop(3)\n",
        "  return matrix\n",
        "\n",
        "def clockwiseSpinX(theta):\n",
        "  m = [[1, 0, 0, 0],\n",
        "       [0, math.cos(theta), math.sin(theta), 0],\n",
        "       [0, -math.sin(theta), math.cos(theta), 0],\n",
        "       [0, 0, 0, 1]\n",
        "       ]\n",
        "  return m\n",
        "\n",
        "#@markdown The function `clockwiseSpinY(theta)` returns a 4x3 matrix with a rotation of theta around the y axis. Same is available for X and Z\n",
        "def clockwiseSpinY(theta):\n",
        "  m = [[math.cos(theta), 0, math.sin(theta), 0],\n",
        "       [0, 1, 0, 0],\n",
        "       [-math.sin(theta), 0, math.cos(theta), 0],\n",
        "       [0, 0, 0, 1]\n",
        "       ]\n",
        "  return m\n",
        "\n",
        "def clockwiseSpinZ(theta):\n",
        "  m = [[math.cos(theta), math.sin(theta), 0, 0],\n",
        "       [-math.sin(theta), math.cos(theta), 0, 0],\n",
        "       [0, 0, 1, 0],\n",
        "       [0, 0, 0, 1]]\n",
        "  return m\n"
      ],
      "execution_count": null,
      "outputs": []
    },
    {
      "cell_type": "code",
      "metadata": {
        "id": "Q78Dd6hpGyvf"
      },
      "source": [
        "from IPython.display import Image\n",
        "import base64\n",
        "\n",
        "def partStudioShadedView(url:str,viewMatrix = [0.612,0.612,0,-0.2,-0.354,0.354,0.707,-0.1,0.707,-0.707,0.707,0]):\n",
        "  fixed_url = '/api/partstudios/d/did/w/wid/e/eid/shadedviews'\n",
        "  element = OnshapeElement(url)\n",
        "  fixed_url = fixed_url.replace('did', element.did)\n",
        "  fixed_url = fixed_url.replace('wid', element.wvmid)\n",
        "  fixed_url = fixed_url.replace('eid', element.eid)\n",
        "\n",
        "  method = 'GET'\n",
        "\n",
        "  matrix = str(viewMatrix).replace('[','').replace(']','')\n",
        "  # print(matrix)\n",
        "\n",
        "  ## View Matrix below is roughly isometric\n",
        "  params = {'viewMatrix':matrix,\n",
        "            'edges':'show',\n",
        "            'outputHeight':600,\n",
        "            'outputWidth':1000,\n",
        "            'pixelSize':0.001}\n",
        "  # print(params)\n",
        "  payload = {}\n",
        "  headers = {'Accept': 'application/vnd.onshape.v1+json',\n",
        "              'Content-Type': 'application/json'}\n",
        "\n",
        "  response = client.api_client.request(method, url=base + fixed_url, query_params=params, headers=headers, body=payload)\n",
        "\n",
        "  parsed = json.loads(response.data)\n",
        "\n",
        "  imgdata = base64.b64decode(parsed['images'][0])\n",
        "\n",
        "  Image(imgdata)\n",
        "\n",
        "  with open(\"image.jpg\", 'wb') as f:\n",
        "      f.write(imgdata)"
      ],
      "execution_count": null,
      "outputs": []
    },
    {
      "cell_type": "code",
      "metadata": {
        "colab": {
          "base_uri": "https://localhost:8080/",
          "height": 654
        },
        "id": "PKFHidvHMDMx",
        "outputId": "356633a6-676e-4870-b399-70c93a5c6487"
      },
      "source": [
        "url = 'https://cad.onshape.com/documents/72d50e005ecf52ceb1363c56/w/69736179d8f29b14d14377cb/e/b2aa4d8ba21396ff6cb8fff5'\n",
        "baseMat = threeByFourToTwelve(mult(clockwiseSpinX(1),clockwiseSpinY(1)))\n",
        "viewMat = Move(baseMat,-0.3,0.1,0)\n",
        "partStudioShadedView(url,viewMat)\n",
        "Image(\"image.jpg\")"
      ],
      "execution_count": null,
      "outputs": [
        {
          "output_type": "stream",
          "name": "stdout",
          "text": [
            "{'viewMatrix': '0.5403023058681398, 0.0, 0.8414709848078965, -0.3, -0.7080734182735712, 0.5403023058681398, 0.4546487134128409, 0.1, -0.4546487134128409, -0.8414709848078965, 0.2919265817264289, 0', 'edges': 'show', 'outputHeight': 600, 'outputWidth': 1000, 'pixelSize': 0.001}\n"
          ]
        },
        {
          "output_type": "execute_result",
          "data": {
            "image/jpeg": "[encoded data removed]",
            "text/plain": [
              "<IPython.core.display.Image object>"
            ]
          },
          "metadata": {},
          "execution_count": 72
        }
      ]
    }
  ]
}