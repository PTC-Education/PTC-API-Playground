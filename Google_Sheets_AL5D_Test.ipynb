{
  "nbformat": 4,
  "nbformat_minor": 0,
  "metadata": {
    "colab": {
      "name": "Google Sheets AL5D Test.ipynb",
      "provenance": [],
      "authorship_tag": "ABX9TyNmlDZyUkSZeyfYfMIRyHa/",
      "include_colab_link": true
    },
    "kernelspec": {
      "name": "python3",
      "display_name": "Python 3"
    },
    "language_info": {
      "name": "python"
    }
  },
  "cells": [
    {
      "cell_type": "markdown",
      "metadata": {
        "id": "view-in-github",
        "colab_type": "text"
      },
      "source": [
        "<a href=\"https://colab.research.google.com/github/PTC-Education/PTC-API-Playground/blob/main/Google_Sheets_AL5D_Test.ipynb\" target=\"_parent\"><img src=\"https://colab.research.google.com/assets/colab-badge.svg\" alt=\"Open In Colab\"/></a>"
      ]
    },
    {
      "cell_type": "code",
      "metadata": {
        "colab": {
          "base_uri": "https://localhost:8080/"
        },
        "id": "ZKTwCNh4Y8Fu",
        "outputId": "848e8d7b-0e17-4d8e-ab85-03fa9fa18156"
      },
      "source": [
        "!pip install onshape-client\n",
        "from onshape_client.client import Client\n",
        "import json\n",
        "base = 'https://cad.onshape.com' # change this if you're using a document in an enterprise (i.e. \"https://ptc.onshape.com\")"
      ],
      "execution_count": null,
      "outputs": [
        {
          "output_type": "stream",
          "text": [
            "Collecting onshape-client\n",
            "\u001b[?25l  Downloading https://files.pythonhosted.org/packages/e7/e4/687bad02d5f0b04d507e029b7728269706c51c5caf1280223e423a2ac05a/onshape_client-1.6.3-py3-none-any.whl (2.1MB)\n",
            "\u001b[K     |████████████████████████████████| 2.1MB 24.4MB/s \n",
            "\u001b[?25hRequirement already satisfied: requests-oauthlib in /usr/local/lib/python3.7/dist-packages (from onshape-client) (1.3.0)\n",
            "Requirement already satisfied: certifi>=2017.4.17 in /usr/local/lib/python3.7/dist-packages (from onshape-client) (2021.5.30)\n",
            "Collecting ruamel.yaml\n",
            "\u001b[?25l  Downloading https://files.pythonhosted.org/packages/0e/57/19361b93542a1bb071fe8b7dd5ae792de6e8ab86c707aa2c44db08c60b99/ruamel.yaml-0.17.10-py3-none-any.whl (108kB)\n",
            "\u001b[K     |████████████████████████████████| 112kB 53.9MB/s \n",
            "\u001b[?25hCollecting nulltype\n",
            "  Downloading https://files.pythonhosted.org/packages/00/0f/47dde1a3cceac9858da0bfb92d2279bf5f993ed075b72983e92efc297db3/nulltype-2.3.1-py2.py3-none-any.whl\n",
            "Requirement already satisfied: urllib3>=1.23 in /usr/local/lib/python3.7/dist-packages (from onshape-client) (1.24.3)\n",
            "Requirement already satisfied: six>=1.10 in /usr/local/lib/python3.7/dist-packages (from onshape-client) (1.15.0)\n",
            "Requirement already satisfied: python-dateutil>=2.1 in /usr/local/lib/python3.7/dist-packages (from onshape-client) (2.8.1)\n",
            "Collecting pint\n",
            "\u001b[?25l  Downloading https://files.pythonhosted.org/packages/33/de/53a77b82553579affab7438d299f850acbc1c4dd741c5ce52594513cb0ef/Pint-0.17-py2.py3-none-any.whl (204kB)\n",
            "\u001b[K     |████████████████████████████████| 215kB 46.9MB/s \n",
            "\u001b[?25hRequirement already satisfied: oauthlib>=3.0.0 in /usr/local/lib/python3.7/dist-packages (from requests-oauthlib->onshape-client) (3.1.1)\n",
            "Requirement already satisfied: requests>=2.0.0 in /usr/local/lib/python3.7/dist-packages (from requests-oauthlib->onshape-client) (2.23.0)\n",
            "Collecting ruamel.yaml.clib>=0.1.2; platform_python_implementation == \"CPython\" and python_version < \"3.10\"\n",
            "\u001b[?25l  Downloading https://files.pythonhosted.org/packages/98/8a/ba37489b423916162b086b01c7c18001cf297350694180468e1698085c58/ruamel.yaml.clib-0.2.6-cp37-cp37m-manylinux1_x86_64.whl (546kB)\n",
            "\u001b[K     |████████████████████████████████| 552kB 38.3MB/s \n",
            "\u001b[?25hRequirement already satisfied: packaging in /usr/local/lib/python3.7/dist-packages (from pint->onshape-client) (21.0)\n",
            "Requirement already satisfied: importlib-metadata; python_version < \"3.8\" in /usr/local/lib/python3.7/dist-packages (from pint->onshape-client) (4.6.1)\n",
            "Requirement already satisfied: idna<3,>=2.5 in /usr/local/lib/python3.7/dist-packages (from requests>=2.0.0->requests-oauthlib->onshape-client) (2.10)\n",
            "Requirement already satisfied: chardet<4,>=3.0.2 in /usr/local/lib/python3.7/dist-packages (from requests>=2.0.0->requests-oauthlib->onshape-client) (3.0.4)\n",
            "Requirement already satisfied: pyparsing>=2.0.2 in /usr/local/lib/python3.7/dist-packages (from packaging->pint->onshape-client) (2.4.7)\n",
            "Requirement already satisfied: typing-extensions>=3.6.4; python_version < \"3.8\" in /usr/local/lib/python3.7/dist-packages (from importlib-metadata; python_version < \"3.8\"->pint->onshape-client) (3.7.4.3)\n",
            "Requirement already satisfied: zipp>=0.5 in /usr/local/lib/python3.7/dist-packages (from importlib-metadata; python_version < \"3.8\"->pint->onshape-client) (3.5.0)\n",
            "Installing collected packages: ruamel.yaml.clib, ruamel.yaml, nulltype, pint, onshape-client\n",
            "Successfully installed nulltype-2.3.1 onshape-client-1.6.3 pint-0.17 ruamel.yaml-0.17.10 ruamel.yaml.clib-0.2.6\n"
          ],
          "name": "stdout"
        }
      ]
    },
    {
      "cell_type": "code",
      "metadata": {
        "colab": {
          "base_uri": "https://localhost:8080/"
        },
        "id": "jiW2-OhuY8Zh",
        "outputId": "c9fa1bc2-23ce-4767-95a9-4f7bbf8df443"
      },
      "source": [
        "import os\n",
        "def include(filename):\n",
        "    if os.path.exists(filename): \n",
        "        execfile(filename)\n",
        "include('colabkeys.py')\n",
        "client = Client(configuration={\"base_url\": base,\n",
        "                               \"access_key\": access,\n",
        "                               \"secret_key\": secret})\n",
        "print('client configured')"
      ],
      "execution_count": null,
      "outputs": [
        {
          "output_type": "stream",
          "text": [
            "client configured\n"
          ],
          "name": "stdout"
        }
      ]
    },
    {
      "cell_type": "markdown",
      "metadata": {
        "id": "sWKNsyIAcM6E"
      },
      "source": [
        "## Digital Twin Functions"
      ]
    },
    {
      "cell_type": "code",
      "metadata": {
        "id": "UK-xaL91c6v5"
      },
      "source": [
        "def setMateValues(baseAngle,shoulderAngle,elbowAngle,wristAngle,handAngle,gripperAngle):\n",
        "  fixed_url = '/api/assemblies/d/did/w/wid/e/eid/matevalues'\n",
        "\n",
        "  # https://cad.onshape.com/documents/4bda16c648566259ea1b4e4c/w/c299b9fc994574c2637e871d/e/2f52bf4870f9d7ddc900b4de\n",
        "  did = '4bda16c648566259ea1b4e4c'\n",
        "  wid = 'c299b9fc994574c2637e871d'\n",
        "  eid = '2f52bf4870f9d7ddc900b4de'\n",
        "\n",
        "  method = 'GET'\n",
        "\n",
        "  params = {}\n",
        "  payload = {}\n",
        "  headers = {'Accept': 'application/vnd.onshape.v2+json',\n",
        "            'Content-Type': 'application/vnd.onshape.v2+json'}\n",
        "\n",
        "  fixed_url = fixed_url.replace('did', did)\n",
        "  fixed_url = fixed_url.replace('wid', wid)\n",
        "  fixed_url = fixed_url.replace('eid', eid)\n",
        "\n",
        "  response = client.api_client.request(method, url=base + fixed_url, query_params=params, headers=headers, body=payload)\n",
        "  fullResponse = json.loads(response.data)\n",
        "  \n",
        "  for i in range(len(fullResponse[\"mateValues\"])):\n",
        "    if fullResponse['mateValues'][i]['mateName'] == \"Base\":\n",
        "      print(fullResponse['mateValues'][i])\n",
        "      fullResponse['mateValues'][i]['rotationZ'] = baseAngle\n",
        "      print(fullResponse['mateValues'][i])\n",
        "\n",
        "  method = 'POST'\n",
        "\n",
        "  params = {}\n",
        "  payload = fullResponse\n",
        "  headers = {'Accept': 'application/vnd.onshape.v2+json',\n",
        "            'Content-Type': 'application/vnd.onshape.v2+json'}\n",
        "  response = client.api_client.request(method, url=base + fixed_url, query_params=params, headers=headers, body=payload)\n",
        "\n",
        "  for i in range(len(fullResponse[\"mateValues\"])):\n",
        "    if fullResponse['mateValues'][i]['mateName'] == \"Shoulder\":\n",
        "      fullResponse['mateValues'][i]['rotationZ'] = shoulderAngle\n",
        "    elif fullResponse['mateValues'][i]['mateName'] == \"Elbow\":\n",
        "      fullResponse['mateValues'][i]['rotationZ'] = elbowAngle\n",
        "    elif fullResponse['mateValues'][i]['mateName'] == \"Wrist\":\n",
        "      fullResponse['mateValues'][i]['rotationZ'] = wristAngle\n",
        "    elif fullResponse['mateValues'][i]['mateName'] == \"Hand\":\n",
        "      fullResponse['mateValues'][i]['rotationZ'] = handAngle\n",
        "    elif fullResponse['mateValues'][i]['mateName'] == \"Gripper\":\n",
        "      fullResponse['mateValues'][i]['rotationZ'] = gripperAngle\n",
        "\n",
        "  method = 'POST'\n",
        "\n",
        "  params = {}\n",
        "  payload = fullResponse\n",
        "  headers = {'Accept': 'application/vnd.onshape.v2+json',\n",
        "            'Content-Type': 'application/vnd.onshape.v2+json'}\n",
        "  response = client.api_client.request(method, url=base + fixed_url, query_params=params, headers=headers, body=payload)\n",
        "  # The command below prints the entire JSON response from Onshape\n",
        "  print(response.status)"
      ],
      "execution_count": null,
      "outputs": []
    },
    {
      "cell_type": "code",
      "metadata": {
        "colab": {
          "base_uri": "https://localhost:8080/"
        },
        "id": "hCYAM47dcPvc",
        "outputId": "6ef13877-3749-4ffb-adbf-c13ed1190bfd"
      },
      "source": [
        "def getTCPPos():\n",
        "  import array\n",
        "  base = 'https://cad.onshape.com'\n",
        "  fixed_url = '/api/assemblies/d/did/w/wid/e/eid'\n",
        "\n",
        "  # https://cad.onshape.com/documents/4bda16c648566259ea1b4e4c/w/c299b9fc994574c2637e871d/e/2f52bf4870f9d7ddc900b4de\n",
        "  did = '4bda16c648566259ea1b4e4c'\n",
        "  wid = 'c299b9fc994574c2637e871d'\n",
        "  eid = '2f52bf4870f9d7ddc900b4de'\n",
        "\n",
        "  method = 'GET'\n",
        "\n",
        "  params = {}\n",
        "  payload = {}\n",
        "  headers = {'Accept': 'application/vnd.onshape.v1+json; charset=UTF-8;qs=0.1',\n",
        "            'Content-Type': 'application/json'}\n",
        "\n",
        "  fixed_url = fixed_url.replace('did', did)\n",
        "  fixed_url = fixed_url.replace('wid', wid)\n",
        "  fixed_url = fixed_url.replace('eid', eid)\n",
        "\n",
        "  response = client.api_client.request(method, url=base + fixed_url, query_params=params, headers=headers, body=payload)\n",
        "  parsed = json.loads(response.data)\n",
        "  # The command below prints the entire JSON response from Onshape\n",
        "  # print(json.dumps(parsed, indent=4, sort_keys=True))\n",
        "\n",
        "  for i in range(len(parsed['rootAssembly']['instances'])):\n",
        "    if \"TCP\" in parsed['rootAssembly']['instances'][i]['name']:\n",
        "      TCPid = parsed['rootAssembly']['instances'][i]['id']\n",
        "      break\n",
        "\n",
        "  for i in range(len(parsed['rootAssembly']['occurrences'])):\n",
        "    if parsed['rootAssembly']['occurrences'][i]['path'][0] == TCPid and len(parsed['rootAssembly']['occurrences'][i]['path'])==1:\n",
        "      TCPpos = [parsed['rootAssembly']['occurrences'][i]['transform'][3],parsed['rootAssembly']['occurrences'][i]['transform'][7],parsed['rootAssembly']['occurrences'][i]['transform'][11]]\n",
        "  return TCPpos\n",
        "print(getTCPPos())"
      ],
      "execution_count": null,
      "outputs": [
        {
          "output_type": "stream",
          "text": [
            "[0.2954604357280716, 0.011017799713790981, 0.20607492077575645]\n"
          ],
          "name": "stdout"
        }
      ]
    },
    {
      "cell_type": "markdown",
      "metadata": {
        "id": "BZr9rX0PcujQ"
      },
      "source": [
        "## Connect Google Sheets"
      ]
    },
    {
      "cell_type": "code",
      "metadata": {
        "id": "qO9A-ba-cuNR"
      },
      "source": [
        "from google.colab import auth\n",
        "auth.authenticate_user()\n",
        "\n",
        "import gspread\n",
        "from oauth2client.client import GoogleCredentials\n",
        "\n",
        "gc = gspread.authorize(GoogleCredentials.get_application_default())"
      ],
      "execution_count": null,
      "outputs": []
    },
    {
      "cell_type": "code",
      "metadata": {
        "id": "JuVPQqemeIB8"
      },
      "source": [
        "worksheet = gc.open_by_url('https://docs.google.com/spreadsheets/d/1-NF7KqZnMjmmixTiP35Eibw5LOw87BVjygtL9KePYVU').sheet1"
      ],
      "execution_count": null,
      "outputs": []
    },
    {
      "cell_type": "code",
      "metadata": {
        "id": "5cuBA6spf-wT"
      },
      "source": [
        "def SetCellsFromTCP():\n",
        "  TCP_cell_list = worksheet.range('B2:D2')\n",
        "  TCP_pos = getTCPPos()\n",
        "  for i in range(len(TCP_cell_list)):\n",
        "    TCP_cell_list[i].value = TCP_pos[i]\n",
        "  worksheet.update_cells(TCP_cell_list)"
      ],
      "execution_count": null,
      "outputs": []
    },
    {
      "cell_type": "code",
      "metadata": {
        "id": "--aocqKUhjrD"
      },
      "source": [
        "def SetMatesFromCells():\n",
        "  Joint_cell_list = worksheet.range('B5:G5')\n",
        "  setMateValues(Joint_cell_list[0].value,Joint_cell_list[1].value,Joint_cell_list[2].value,Joint_cell_list[3].value,Joint_cell_list[4].value,Joint_cell_list[5].value)"
      ],
      "execution_count": null,
      "outputs": []
    },
    {
      "cell_type": "code",
      "metadata": {
        "colab": {
          "base_uri": "https://localhost:8080/"
        },
        "id": "TqR53qCQm-JR",
        "outputId": "77efff82-51f3-4f19-9f46-9dc0a44dfdef"
      },
      "source": [
        "import math\n",
        "setMateValues(math.pi/2,math.pi/2,math.pi/2,math.pi/2,math.pi/2,math.pi/3)"
      ],
      "execution_count": null,
      "outputs": [
        {
          "output_type": "stream",
          "text": [
            "{'jsonType': 'Revolute', 'rotationZ': 1.5707963267948835, 'mateName': 'Base', 'featureId': 'MP0JnvCPgEfKeP2HM'}\n",
            "{'jsonType': 'Revolute', 'rotationZ': 1.5707963267948966, 'mateName': 'Base', 'featureId': 'MP0JnvCPgEfKeP2HM'}\n",
            "200\n"
          ],
          "name": "stdout"
        }
      ]
    },
    {
      "cell_type": "code",
      "metadata": {
        "id": "L4RsTjGbij9k",
        "colab": {
          "base_uri": "https://localhost:8080/"
        },
        "outputId": "5be96549-6d9a-4bb8-da0b-40f768019ca9"
      },
      "source": [
        "import time\n",
        "\n",
        "while True:\n",
        "  SetCellsFromTCP()\n",
        "  time.sleep(0.5)\n",
        "  SetMatesFromCells()\n",
        "  time.sleep(0.5)"
      ],
      "execution_count": null,
      "outputs": [
        {
          "output_type": "stream",
          "text": [
            "{'jsonType': 'Revolute', 'rotationZ': 1.5706999999999893, 'mateName': 'Base', 'featureId': 'MP0JnvCPgEfKeP2HM'}\n",
            "{'jsonType': 'Revolute', 'rotationZ': '1.5707', 'mateName': 'Base', 'featureId': 'MP0JnvCPgEfKeP2HM'}\n",
            "200\n",
            "{'jsonType': 'Revolute', 'rotationZ': 1.5707000000000435, 'mateName': 'Base', 'featureId': 'MP0JnvCPgEfKeP2HM'}\n",
            "{'jsonType': 'Revolute', 'rotationZ': '1.5707', 'mateName': 'Base', 'featureId': 'MP0JnvCPgEfKeP2HM'}\n",
            "200\n",
            "{'jsonType': 'Revolute', 'rotationZ': 1.5707000000000249, 'mateName': 'Base', 'featureId': 'MP0JnvCPgEfKeP2HM'}\n",
            "{'jsonType': 'Revolute', 'rotationZ': '1.3962', 'mateName': 'Base', 'featureId': 'MP0JnvCPgEfKeP2HM'}\n",
            "200\n"
          ],
          "name": "stdout"
        }
      ]
    }
  ]
}