{
  "nbformat": 4,
  "nbformat_minor": 0,
  "metadata": {
    "colab": {
      "name": "Onshape GIF Generator.ipynb",
      "provenance": [],
      "collapsed_sections": [],
      "authorship_tag": "ABX9TyPGrr32hneWI+GFbZKvPnEX",
      "include_colab_link": true
    },
    "kernelspec": {
      "name": "python3",
      "display_name": "Python 3"
    },
    "language_info": {
      "name": "python"
    }
  },
  "cells": [
    {
      "cell_type": "markdown",
      "metadata": {
        "id": "view-in-github",
        "colab_type": "text"
      },
      "source": [
        "<a href=\"https://colab.research.google.com/github/PTC-Education/PTC-API-Playground/blob/main/Onshape_GIF_Generator.ipynb\" target=\"_parent\"><img src=\"https://colab.research.google.com/assets/colab-badge.svg\" alt=\"Open In Colab\"/></a>"
      ]
    },
    {
      "cell_type": "markdown",
      "metadata": {
        "id": "jvGpeYREH1qs"
      },
      "source": [
        "# Hello World Onshape API\n",
        "This example shows how to use Onshape's REST API to export a GIF using the mateValues api to make assemblies move, the partMetadata api to update part colors, and the assembliesShadedView api to get an image of the current view of the assembly.\n",
        "\n",
        "Sample Onshape document: https://cad.onshape.com/documents/1e809243865e8d5244fcd096/w/d031ceaee074757da46d14b9/e/e370ef8f9ad617d9ae83f494"
      ]
    },
    {
      "cell_type": "markdown",
      "metadata": {
        "id": "HNTwbZ2UW4I7"
      },
      "source": [
        "## Set up Onshape client"
      ]
    },
    {
      "cell_type": "code",
      "metadata": {
        "colab": {
          "resources": {
            "http://localhost:8080/nbextensions/google.colab/files.js": {
              "data": "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",
              "ok": true,
              "headers": [
                [
                  "content-type",
                  "application/javascript"
                ]
              ],
              "status": 200,
              "status_text": ""
            }
          },
          "base_uri": "https://localhost:8080/",
          "height": 89
        },
        "id": "6VUCp2uJk9ny",
        "cellView": "form",
        "outputId": "a55f4bfa-b18a-4138-e4cb-29196f0d56bb"
      },
      "source": [
        "#@title Import and Setup Onshape Client\n",
        "\n",
        "!pip install onshape-client\n",
        "from onshape_client.client import Client\n",
        "from onshape_client.onshape_url import OnshapeElement\n",
        "import json\n",
        "\n",
        "#@markdown Chage the base if using an enterprise (i.e. \"https://ptc.onshape.com\")\n",
        "base = 'https://cad.onshape.com' #@param {type:\"string\"}\n",
        "\n",
        "#@markdown Would you like to import your API keys from a file, or copy and paste them directly?\n",
        "keyImportOption = \"Upload Keys from File\" #@param [\"Upload Keys from File\", \"Copy/Paste Keys\"]\n",
        "\n",
        "from IPython.display import clear_output \n",
        "clear_output()\n",
        "print(\"Onshape Client successfully imported!\")\n",
        "\n",
        "if keyImportOption == \"Upload Keys from File\":\n",
        "  from google.colab import files\n",
        "  uploaded = files.upload()\n",
        "  for fn in uploaded.keys():\n",
        "    execfile(fn)\n",
        "\n",
        "  client = Client(configuration={\"base_url\": base,\n",
        "                                \"access_key\": access,\n",
        "                                \"secret_key\": secret})\n",
        "  clear_output()\n",
        "  print('Onshape client configured - ready to go!')\n",
        "else:\n",
        "  access = input(\"Paste your Onshape Access Key: \")\n",
        "  secret = input(\"Paste your Onshape Secret Key: \")\n",
        "  client = Client(configuration={\"base_url\": base,\n",
        "                                \"access_key\": access,\n",
        "                                \"secret_key\": secret})\n",
        "  clear_output()\n",
        "  print('Onshape client configured - ready to go!')\n"
      ],
      "execution_count": 1,
      "outputs": [
        {
          "output_type": "stream",
          "name": "stdout",
          "text": [
            "Onshape client configured - ready to go!\n"
          ]
        }
      ]
    },
    {
      "cell_type": "markdown",
      "metadata": {
        "id": "2wC9YThxW8cX"
      },
      "source": [
        "## Define Mate Motion Functions"
      ]
    },
    {
      "cell_type": "code",
      "metadata": {
        "id": "euGvysfBlxrO",
        "cellView": "form"
      },
      "source": [
        "#@title Get Mates from Assembly\n",
        "#@markdown Defines funciton `getAssemblyMates(url)`, which returns JSON of mates in an assembly\n",
        "url = 'https://cad.onshape.com/documents/1e809243865e8d5244fcd096/w/d031ceaee074757da46d14b9/e/e370ef8f9ad617d9ae83f494' #@param {type:\"string\"}\n",
        "showResponse = False #@param {type:\"boolean\"}\n",
        "\n",
        "def getAssemblyMates(url):\n",
        "  fixed_url = '/api/assemblies/d/did/w/wid/e/eid/matevalues'\n",
        "  element = OnshapeElement(url)\n",
        "  method = 'GET'\n",
        "\n",
        "  params = {}\n",
        "  payload = {}\n",
        "  headers = {'Accept': 'application/vnd.onshape.v2+json',\n",
        "              'Content-Type': 'application/vnd.onshape.v2+json'}\n",
        "\n",
        "  fixed_url = fixed_url.replace('did', element.did)\n",
        "  fixed_url = fixed_url.replace('wid', element.wvmid)\n",
        "  fixed_url = fixed_url.replace('eid', element.eid)\n",
        "\n",
        "  response = client.api_client.request(method, url=base + fixed_url, query_params=params, headers=headers, body=payload)\n",
        "\n",
        "  parsed = json.loads(response.data)\n",
        "  return parsed\n",
        "\n",
        "if showResponse:\n",
        "  mates = getAssemblyMates(url)\n",
        "  print(json.dumps(mates, indent=4, sort_keys=True))\n",
        "else:\n",
        "  pass"
      ],
      "execution_count": null,
      "outputs": []
    },
    {
      "cell_type": "code",
      "metadata": {
        "id": "ZgMEHeLTlBqL",
        "cellView": "form"
      },
      "source": [
        "#@title Set Mates in Assembly\n",
        "#@markdown Defines funciton `setMateByName(url,mateName,position)`, which updates the mate with the specified name to the specified position\n",
        "\n",
        "#@markdown URL must be to an assembly\n",
        "url = 'https://cad.onshape.com/documents/1e809243865e8d5244fcd096/w/d031ceaee074757da46d14b9/e/e370ef8f9ad617d9ae83f494' #@param {type:\"string\"}\n",
        "mateName = \"Revolute 1\" #@param {type:\"string\"}\n",
        "position =  0.2#@param {type:\"number\"}\n",
        "showResponse = False #@param {type:\"boolean\"}\n",
        "\n",
        "def getAssemblyMates(url):\n",
        "  fixed_url = '/api/assemblies/d/did/w/wid/e/eid/matevalues'\n",
        "  element = OnshapeElement(url)\n",
        "  method = 'GET'\n",
        "\n",
        "  params = {}\n",
        "  payload = {}\n",
        "  headers = {'Accept': 'application/vnd.onshape.v2+json',\n",
        "              'Content-Type': 'application/vnd.onshape.v2+json'}\n",
        "\n",
        "  fixed_url = fixed_url.replace('did', element.did)\n",
        "  fixed_url = fixed_url.replace('wid', element.wvmid)\n",
        "  fixed_url = fixed_url.replace('eid', element.eid)\n",
        "\n",
        "  response = client.api_client.request(method, url=base + fixed_url, query_params=params, headers=headers, body=payload)\n",
        "\n",
        "  parsed = json.loads(response.data)\n",
        "  return parsed\n",
        "\n",
        "def setMateByName(url,mateName,position):\n",
        "  fixed_url = '/api/assemblies/d/did/w/wid/e/eid/matevalues'\n",
        "  mates = getAssemblyMates(url)\n",
        "  element = OnshapeElement(url)\n",
        "  \n",
        "\n",
        "  for values in mates['mateValues']:\n",
        "    if values['mateName'] == mateName:\n",
        "      newMate = values\n",
        "  \n",
        "  if newMate['jsonType'] == 'Revolute':\n",
        "    newMate['rotationZ'] = position\n",
        "  elif newMate['jsonType'] == 'Slider':\n",
        "    newMate['translationZ'] = position\n",
        "  else:\n",
        "    print('failed')\n",
        "  \n",
        "  method = 'POST'\n",
        "\n",
        "  params = {}\n",
        "  payload = {'mateValues':[newMate]}\n",
        "  headers = {'Accept': 'application/vnd.onshape.v2+json',\n",
        "              'Content-Type': 'application/vnd.onshape.v2+json'}\n",
        "\n",
        "  fixed_url = fixed_url.replace('did', element.did)\n",
        "  fixed_url = fixed_url.replace('wid', element.wvmid)\n",
        "  fixed_url = fixed_url.replace('eid', element.eid)\n",
        "\n",
        "  response = client.api_client.request(method, url=base + fixed_url, query_params=params, headers=headers, body=payload)\n",
        "\n",
        "  parsed = json.loads(response.data)\n",
        "  return parsed\n",
        "\n",
        "newMates = setMateByName(url,mateName,position)\n",
        "if showResponse:\n",
        "  print(json.dumps(newMates, indent=4, sort_keys=True))\n",
        "else:\n",
        "  pass"
      ],
      "execution_count": 26,
      "outputs": []
    },
    {
      "cell_type": "markdown",
      "metadata": {
        "id": "zuqPKPQhav9L"
      },
      "source": [
        "## Define Color Changing Functions"
      ]
    },
    {
      "cell_type": "code",
      "metadata": {
        "cellView": "form",
        "id": "T10nBZ5kbFiz"
      },
      "source": [
        "#@title Get Parts in Document\n",
        "#@markdown Function `getPartsInDocument(url: str)` returns JSON of all parts in a document\n",
        "url = 'https://cad.onshape.com/documents/1e809243865e8d5244fcd096/w/d031ceaee074757da46d14b9/e/e370ef8f9ad617d9ae83f494' #@param {type:\"string\"}\n",
        "showResponse = False #@param {type:\"boolean\"}\n",
        "def getPartsInDocument(url: str):\n",
        "  fixed_url = '/api/parts/d/did/w/wid'\n",
        "\n",
        "  element = OnshapeElement(url)\n",
        "  fixed_url = fixed_url.replace('did', element.did)\n",
        "  fixed_url = fixed_url.replace('wid', element.wvmid)\n",
        "\n",
        "  method = 'GET'\n",
        "\n",
        "  params = {}\n",
        "  payload = {}\n",
        "  headers = {'Accept': 'application/vnd.onshape.v1+json; charset=UTF-8;qs=0.1',\n",
        "            'Content-Type': 'application/json'}\n",
        "\n",
        "  response = client.api_client.request(method, url=base + fixed_url, query_params=params, headers=headers, body=payload)\n",
        "\n",
        "  parsed = json.loads(response.data)\n",
        "  return parsed\n",
        "\n",
        "if showResponse:\n",
        "  partResponse = getPartsInDocument(url)\n",
        "  print(json.dumps(partResponse, indent=4, sort_keys=True))\n",
        "else:\n",
        "  pass"
      ],
      "execution_count": null,
      "outputs": []
    },
    {
      "cell_type": "markdown",
      "metadata": {
        "id": "C7g1hYRNbVwx"
      },
      "source": [
        "Run below to see all parts with their ID's and the elements they are in"
      ]
    },
    {
      "cell_type": "code",
      "metadata": {
        "colab": {
          "base_uri": "https://localhost:8080/"
        },
        "id": "FdgQYmaEbOj9",
        "outputId": "b1a67edb-a095-47ba-a39b-2aaa594dd36f"
      },
      "source": [
        "parts = getPartsInDocument('https://cad.onshape.com/documents/1e809243865e8d5244fcd096/w/d031ceaee074757da46d14b9/e/e370ef8f9ad617d9ae83f494')\n",
        "for i in range(len(parts)):\n",
        "  print(parts[i][\"name\"] +\" has part ID: \"+ parts[i][\"partId\"]+\" and element ID: \"+parts[i][\"elementId\"])"
      ],
      "execution_count": 12,
      "outputs": [
        {
          "output_type": "stream",
          "name": "stdout",
          "text": [
            "Base has part ID: JHD and element ID: 0843e7f8150646db03e73871\n",
            "Arm has part ID: JKD and element ID: 0843e7f8150646db03e73871\n",
            "World has part ID: JHD and element ID: 8dc78e298d7af55cb4078984\n"
          ]
        }
      ]
    },
    {
      "cell_type": "code",
      "metadata": {
        "cellView": "form",
        "id": "ullGQGoGbjXR"
      },
      "source": [
        "#@title Update Part Color\n",
        "#@markdown Defines funciton `updateColor(url,eid,pid,newOpacity,newColors)`, which updates the mate with the specified name to the specified position\n",
        "\n",
        "#@markdown URL must be to an assembly\n",
        "url = 'https://cad.onshape.com/documents/1e809243865e8d5244fcd096/w/d031ceaee074757da46d14b9/e/e370ef8f9ad617d9ae83f494' #@param {type:\"string\"}\n",
        "#@markdown eid is the element ID of the partStudio that has the part you want to change the color of\n",
        "eid = \"8dc78e298d7af55cb4078984\" #@param {type:\"string\"}\n",
        "#@markdown pid is the part ID of the part you want to change the color of\n",
        "pid = \"JHD\" #@param {type:\"string\"}\n",
        "#@markdown newOpacity is a value from 0-255, or input -1 to keep opacity the same\n",
        "newOpacity = 5 #@param {type:\"number\"}\n",
        "#@markdown newColor is a JSON object of form `{'red': 10, 'green': 255, 'blue': 10}`, or input \"none\" to keep color the same\n",
        "newColors = \"none\" #@param\n",
        "showResponse = False #@param {type:\"boolean\"}\n",
        "\n",
        "def updateColor(url,eid,pid,newOpacity,newColors):\n",
        "\n",
        "  fixed_url = '/api/metadata/d/did/w/wid/e/eid/p/pid'\n",
        "  element = OnshapeElement(url)\n",
        "  fixed_url = fixed_url.replace('did', element.did)\n",
        "  fixed_url = fixed_url.replace('wid', element.wvmid)\n",
        "  fixed_url = fixed_url.replace('eid', eid)\n",
        "  fixed_url = fixed_url.replace('pid', pid)\n",
        "\n",
        "  params = {}\n",
        "  payload = {}\n",
        "  headers = {'Accept': 'application/vnd.onshape.v1+json; charset=UTF-8;qs=0.1',\n",
        "            'Content-Type': 'application/json'}  \n",
        "\n",
        "  response = client.api_client.request('GET', url=base + fixed_url,\n",
        "  query_params=params, headers=headers, body=payload)\n",
        "\n",
        "  partMetaData = json.loads(response.data)\n",
        "  partProperties = partMetaData['properties']\n",
        "\n",
        "  # # Print current appearance values\n",
        "  # for x in partProperties:\n",
        "  #   if x['name'] == \"Appearance\":\n",
        "  #     partAppearance = x\n",
        "  #     break\n",
        "  # print(partAppearance['value'])\n",
        "\n",
        "  for i in range(len(partProperties)):\n",
        "    if partProperties[i]['name'] == \"Appearance\":\n",
        "      if newOpacity == -1:\n",
        "        pass\n",
        "      else:\n",
        "        partProperties[i]['value']['opacity'] = newOpacity\n",
        "      if newColors == \"none\":\n",
        "        pass\n",
        "      else:\n",
        "        partProperties[i]['value']['color'] = newColors\n",
        "      break\n",
        "\n",
        "  partMetaData['properties'] = partProperties\n",
        "  payload = partMetaData\n",
        "\n",
        "  response = client.api_client.request('POST', url=base + fixed_url,\n",
        "  query_params=params, headers=headers, body=payload)\n",
        "  parsed = json.loads(response.data)\n",
        "  return parsed\n",
        "\n",
        "updatedColor = updateColor(url,eid,pid,newOpacity,newColors)\n",
        "if showResponse:\n",
        "  print(json.dumps(updatedColor, indent=4, sort_keys=True))\n",
        "else:\n",
        "  pass"
      ],
      "execution_count": 99,
      "outputs": []
    },
    {
      "cell_type": "markdown",
      "metadata": {
        "id": "FoYg6wVhXgMt"
      },
      "source": [
        "## Define image functions"
      ]
    },
    {
      "cell_type": "code",
      "metadata": {
        "colab": {
          "base_uri": "https://localhost:8080/",
          "height": 617
        },
        "cellView": "form",
        "id": "3LLJYk954g3y",
        "outputId": "881202b0-c027-4f38-b483-538f4fa6641b"
      },
      "source": [
        "#@title Get Shaded View of Assembly\n",
        "#@markdown Defines funciton `assembliesShadedView(url:str,viewMatrix = \"front\",pixelSize = 0.003,edges = \"show\",filename = \"image.jpg\")`, which returns the base64 image data of an assembly and saves the image as a jpeg called \"image.jpg\"\n",
        "\n",
        "#@markdown URL must be to an assembly\n",
        "url = 'https://cad.onshape.com/documents/1e809243865e8d5244fcd096/w/d031ceaee074757da46d14b9/e/e370ef8f9ad617d9ae83f494' #@param {type:\"string\"}\n",
        "#@markdown viewMatrix can be any face direction or isometric as a string, or a 1x12 view matrix\n",
        "viewMatrix = \"isometric\" #@param {type:\"string\"}\n",
        "#@markdown pixelSize is the size in meters for each pixel. If 0, it will fill the image size output\n",
        "pixelSize = 0.0005 #@param {type:\"number\"}\n",
        "#@markdown pixelSize is the size in meters for each pixel. If 0, it will fill the image size output\n",
        "edges = \"hide\" #@param {type:\"string\"}\n",
        "# showImage = True #@param {type:\"boolean\"}\n",
        "\n",
        "from IPython.display import Image\n",
        "import base64\n",
        "\n",
        "def assembliesShadedView(url:str,viewMatrix = \"front\",pixelSize = 0.003,edges = \"show\",filename = \"image.jpg\"):\n",
        "  fixed_url = '/api/assemblies/d/did/w/wid/e/eid/shadedviews'\n",
        "  element = OnshapeElement(url)\n",
        "  fixed_url = fixed_url.replace('did', element.did)\n",
        "  fixed_url = fixed_url.replace('wid', element.wvmid)\n",
        "  fixed_url = fixed_url.replace('eid', element.eid)\n",
        "\n",
        "  method = 'GET'\n",
        "\n",
        "  if any(face in viewMatrix for face in [\"front\",\"back\",\"top\",\"bottom\",\"left\",\"right\"]):\n",
        "    matrix = viewMatrix\n",
        "  elif viewMatrix == \"isometric\":\n",
        "    matrix = \"0.612,0.612,0,0,-0.354,0.354,0.707,0,0.707,-0.707,0.707,0\"\n",
        "  elif isinstance(viewMatrix,list):\n",
        "    matrix = str(viewMatrix).replace('[','').replace(']','')\n",
        "\n",
        "  ## View Matrix below is roughly isometric\n",
        "  params = {'viewMatrix':matrix,\n",
        "            'edges':edges,\n",
        "            'outputHeight':600,\n",
        "            'outputWidth':1000,\n",
        "            'pixelSize':pixelSize}\n",
        "  # print(params)\n",
        "  payload = {}\n",
        "  headers = {'Accept': 'application/vnd.onshape.v1+json',\n",
        "              'Content-Type': 'application/json'}\n",
        "\n",
        "  response = client.api_client.request(method, url=base + fixed_url, query_params=params, headers=headers, body=payload)\n",
        "\n",
        "  parsed = json.loads(response.data)\n",
        "  imgdata = base64.b64decode(parsed['images'][0])\n",
        "  with open(filename, 'wb') as f:\n",
        "    f.write(imgdata)\n",
        "  \n",
        "  return imgdata\n",
        "\n",
        "img = assembliesShadedView(url,viewMatrix,pixelSize,edges)\n",
        "Image(img)\n"
      ],
      "execution_count": 76,
      "outputs": [
        {
          "output_type": "execute_result",
          "data": {
            "image/png": "[encoded data removed]",
            "text/plain": [
              "<IPython.core.display.Image object>"
            ]
          },
          "metadata": {},
          "execution_count": 76
        }
      ]
    },
    {
      "cell_type": "code",
      "metadata": {
        "cellView": "form",
        "id": "IC1b4Tme4Wgu"
      },
      "source": [
        "#@title View Matrix Helper Functions\n",
        "#@markdown Run this cell to load a library of functions for view matrices\n",
        "\n",
        "import math\n",
        "import numpy\n",
        "\n",
        "#@markdown The function `mult(x,y)` multiplies two 4x3 view matrices to get their determinant\n",
        "\n",
        "def mult(x,y):\n",
        "  result = numpy.matmul(x,y)\n",
        "  return result\n",
        "\n",
        "#@markdown The function `IdentityTwelve()` returns a flattened identity view matrix (1x12)\n",
        "def IdentityTwelve():\n",
        "  m = [\n",
        "      1, 0, 0, 0,\n",
        "      0, 1, 0, 0,\n",
        "      0, 0, 1, 0\n",
        "      ]\n",
        "  return m\n",
        "\n",
        "#@markdown The function `Move(base,x1,y1,z1)` takes a 1x12 view matrix and moves the x,y,z coordinates\n",
        "def Move(base,x1,y1,z1):\n",
        "  matrix = base\n",
        "  matrix[3] = x1\n",
        "  matrix[7] = y1\n",
        "  matrix[11] = z1\n",
        "  return matrix\n",
        "\n",
        "#@markdown The function `twelveToThreeByFour(matrix)` takes a flattened 1x12 view matrix and makes a 4x3 matrix for linear algrebra\n",
        "def twelveToThreeByFour(matrix):\n",
        "  threebyfour = [[matrix[0],matrix[1],matrix[2],matrix[3]],\n",
        "                [matrix[4],matrix[5],matrix[6],matrix[7]],\n",
        "                [matrix[8],matrix[9],matrix[10],matrix[11]]]\n",
        "  return threebyfour\n",
        "\n",
        "#@markdown The function `threeByFourToTwelve(matrix)` takes a 4x3 view matrix and flattens it to 1x12, the form used by Onshape\n",
        "def threeByFourToTwelve(matrix):\n",
        "  twelve = [matrix[0][0],matrix[0][1],matrix[0][2],matrix[0][3],\n",
        "             matrix[1][0],matrix[1][1],matrix[1][2],matrix[1][3],\n",
        "             matrix[2][0],matrix[2][1],matrix[2][2],matrix[2][3]]\n",
        "  return twelve\n",
        "\n",
        "def fourByFourToThreeByFour(matrix):\n",
        "  matrix.pop(3)\n",
        "  return matrix\n",
        "\n",
        "#@markdown The functions `clockwiseSpinX(theta)`, `clockwiseSpinY(theta)`, and `clockwiseSpinZ(theta)` returns a 4x3 matrix with a rotation of theta around the specified axis.\n",
        "def clockwiseSpinX(theta):\n",
        "  m = [[1, 0, 0, 0],\n",
        "       [0, math.cos(theta), math.sin(theta), 0],\n",
        "       [0, -math.sin(theta), math.cos(theta), 0],\n",
        "       [0, 0, 0, 1]\n",
        "       ]\n",
        "  return m\n",
        "\n",
        "def clockwiseSpinY(theta):\n",
        "  m = [[math.cos(theta), 0, math.sin(theta), 0],\n",
        "       [0, 1, 0, 0],\n",
        "       [-math.sin(theta), 0, math.cos(theta), 0],\n",
        "       [0, 0, 0, 1]\n",
        "       ]\n",
        "  return m\n",
        "\n",
        "def clockwiseSpinZ(theta):\n",
        "  m = [[math.cos(theta), math.sin(theta), 0, 0],\n",
        "       [-math.sin(theta), math.cos(theta), 0, 0],\n",
        "       [0, 0, 1, 0],\n",
        "       [0, 0, 0, 1]]\n",
        "  return m\n"
      ],
      "execution_count": 44,
      "outputs": []
    },
    {
      "cell_type": "markdown",
      "metadata": {
        "id": "JJic36qW4RZO"
      },
      "source": [
        "Sample of how to use view matrix helper functions below"
      ]
    },
    {
      "cell_type": "code",
      "metadata": {
        "colab": {
          "base_uri": "https://localhost:8080/",
          "height": 617
        },
        "id": "DIloZIJgBt0c",
        "outputId": "812f7dec-52ff-4afd-8091-cab826be6d81"
      },
      "source": [
        "matrix = mult(clockwiseSpinX(-math.pi/4),clockwiseSpinY(-math.pi/4))\n",
        "matrix = threeByFourToTwelve(matrix)\n",
        "matrix = Move(matrix,0,0,0)\n",
        "url = \"https://cad.onshape.com/documents/1e809243865e8d5244fcd096/w/d031ceaee074757da46d14b9/e/e370ef8f9ad617d9ae83f494\"\n",
        "img = assembliesShadedView(url,matrix,0.001,\"hide\",\"image.jpg\")\n",
        "Image(img)"
      ],
      "execution_count": 77,
      "outputs": [
        {
          "output_type": "execute_result",
          "data": {
            "image/png": "[encoded data removed]",
            "text/plain": [
              "<IPython.core.display.Image object>"
            ]
          },
          "metadata": {},
          "execution_count": 77
        }
      ]
    },
    {
      "cell_type": "markdown",
      "metadata": {
        "id": "t3p9yZ_sZ-N8"
      },
      "source": [
        "## Main\n"
      ]
    },
    {
      "cell_type": "code",
      "metadata": {
        "id": "1PbaGmUpotys",
        "cellView": "form"
      },
      "source": [
        "#@title Define Function for transparent background\n",
        "#@markdown function `gen_frame(path)` looks for alpha chanel in image and returns in format for Imageio gif conversion\n",
        "from PIL import Image as Image2\n",
        "\n",
        "def gen_frame(path):\n",
        "    im = Image2.open(path)\n",
        "    alpha = im.getchannel('A')\n",
        "\n",
        "    # Convert the image into P mode but only use 255 colors in the palette out of 256\n",
        "    im = im.convert('RGB').convert('P', palette=Image2.ADAPTIVE, colors=255)\n",
        "\n",
        "    # Set all pixel values below 5 to 255 , and the rest to 0\n",
        "    mask = Image2.eval(alpha, lambda a: 255 if a <=5 else 0)\n",
        "\n",
        "    # Paste the color of index 255 and use alpha as a mask\n",
        "    im.paste(255, mask)\n",
        "\n",
        "    # The transparency index is 255\n",
        "    im.info['transparency'] = 255\n",
        "\n",
        "    return im"
      ],
      "execution_count": 98,
      "outputs": []
    },
    {
      "cell_type": "markdown",
      "metadata": {
        "id": "OIrGGLklNv32"
      },
      "source": [
        "Script below is a sample gif generator. Defines arrays for the positions of the revolute mates and the opacity of the world, then uses for loops to update the position/color of the mates/parts"
      ]
    },
    {
      "cell_type": "code",
      "metadata": {
        "id": "jK0E2ZMBXimh"
      },
      "source": [
        "import time\n",
        "import imageio\n",
        "import io\n",
        "import numpy as np\n",
        "\n",
        "url = \"https://cad.onshape.com/documents/1e809243865e8d5244fcd096/w/d031ceaee074757da46d14b9/e/e370ef8f9ad617d9ae83f494\"\n",
        "\n",
        "images = []\n",
        "\n",
        "matrix = mult(clockwiseSpinX(-math.pi/4),clockwiseSpinY(-math.pi/4))\n",
        "matrix = threeByFourToTwelve(matrix)\n",
        "\n",
        "revolute1Pos1 = np.arange(-0.4,0.4,0.2)\n",
        "revolute1Pos2 = np.arange(0.4,-0.4,-0.2)\n",
        "revolute2Pos1 = np.arange(0,2*math.pi,0.25)\n",
        "colorOpacityUp = np.arange(5,255,20)\n",
        "colorOpacityDown = np.arange(255,5,-20)\n",
        "\n",
        "setMateByName(url,\"Revolute 2\",0)\n",
        "updateColor(url,\"8dc78e298d7af55cb4078984\",\"JHD\",5,\"none\")\n",
        "assembliesShadedView(url,matrix,0.001,\"hide\",\"image.jpg\")\n",
        "im1 = gen_frame(\"image.jpg\")\n",
        "\n",
        "for i, pos in enumerate(revolute1Pos1):\n",
        "  setMateByName(url,\"Revolute 1\",pos)\n",
        "  assembliesShadedView(url,matrix,0.001,\"hide\",\"image.jpg\")\n",
        "  images.append(gen_frame(\"image.jpg\"))\n",
        "for i, pos in enumerate(revolute1Pos2):\n",
        "  setMateByName(url,\"Revolute 1\",pos)\n",
        "  assembliesShadedView(url,matrix,0.001,\"hide\",\"image.jpg\")\n",
        "  images.append(gen_frame(\"image.jpg\"))\n",
        "for i, opacity in enumerate(colorOpacityUp):\n",
        "  updateColor(url,\"8dc78e298d7af55cb4078984\",\"JHD\",int(opacity),\"none\")\n",
        "  setMateByName(url,\"Revolute 2\",revolute2Pos1[i])\n",
        "  assembliesShadedView(url,matrix,0.001,\"hide\",\"image.jpg\")\n",
        "  images.append(gen_frame(\"image.jpg\"))\n",
        "for i, opacity in enumerate(colorOpacityDown):\n",
        "  updateColor(url,\"8dc78e298d7af55cb4078984\",\"JHD\",int(opacity),\"none\")\n",
        "  setMateByName(url,\"Revolute 2\",revolute2Pos1[i+len(colorOpacityUp)])\n",
        "  assembliesShadedView(url,matrix,0.001,\"hide\",\"image.jpg\")\n",
        "  images.append(gen_frame(\"image.jpg\"))\n",
        "\n",
        "setMateByName(url,\"Revolute 2\",0)\n",
        "updateColor(url,\"8dc78e298d7af55cb4078984\",\"JHD\",5,\"none\")\n",
        "images.append(gen_frame(\"image.jpg\"))\n",
        "\n",
        "im1 = gen_frame(\"image.jpg\")\n",
        "im1.save('OnshapeGIF.gif', save_all=True, loop = 500, append_images=images, disposal=2, duration=100)\n"
      ],
      "execution_count": 101,
      "outputs": []
    }
  ]
}