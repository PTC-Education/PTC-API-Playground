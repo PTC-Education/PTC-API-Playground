{
  "nbformat": 4,
  "nbformat_minor": 0,
  "metadata": {
    "colab": {
      "name": "User Progress Analysis",
      "provenance": [],
      "collapsed_sections": [
        "XTxx-XDXPr5T"
      ],
      "authorship_tag": "ABX9TyPKvBh7WEnLx09y9SOKV5yR",
      "include_colab_link": true
    },
    "kernelspec": {
      "name": "python3",
      "display_name": "Python 3"
    },
    "language_info": {
      "name": "python"
    }
  },
  "cells": [
    {
      "cell_type": "markdown",
      "metadata": {
        "id": "view-in-github",
        "colab_type": "text"
      },
      "source": [
        "<a href=\"https://colab.research.google.com/github/PTC-Education/PTC-API-Playground/blob/main/User_Progress_Analysis.ipynb\" target=\"_parent\"><img src=\"https://colab.research.google.com/assets/colab-badge.svg\" alt=\"Open In Colab\"/></a>"
      ]
    },
    {
      "cell_type": "markdown",
      "metadata": {
        "id": "WeGeeXp5BMNh"
      },
      "source": [
        "# Analysis Script to Explore Trends with User Experience\n",
        "\n",
        "This notebook explores trends that might give an indicator as to how a user changes their modeling process over time. The first draft shown here gets the most recent 100 documents from a user, then plots the ratio of parts in the document that have been renamed from their default."
      ]
    },
    {
      "cell_type": "markdown",
      "metadata": {
        "id": "H1FN1h2EEW7m"
      },
      "source": [
        "# Set up Onshape"
      ]
    },
    {
      "cell_type": "markdown",
      "metadata": {
        "id": "hh7vZ456BHI4"
      },
      "source": [
        "## Import Onshape Client"
      ]
    },
    {
      "cell_type": "code",
      "metadata": {
        "id": "ActvUIlTA5Lu"
      },
      "source": [
        "!pip install onshape-client\n",
        "from onshape_client.client import Client\n",
        "from onshape_client.onshape_url import OnshapeElement\n",
        "import json\n",
        "base = 'https://cad.onshape.com' # change this if you're using a document in an enterprise (i.e. \"https://ptc.onshape.com\")"
      ],
      "execution_count": null,
      "outputs": []
    },
    {
      "cell_type": "code",
      "metadata": {
        "colab": {
          "resources": {
            "http://localhost:8080/nbextensions/google.colab/files.js": {
              "data": "Ly8gQ29weXJpZ2h0IDIwMTcgR29vZ2xlIExMQwovLwovLyBMaWNlbnNlZCB1bmRlciB0aGUgQXBhY2hlIExpY2Vuc2UsIFZlcnNpb24gMi4wICh0aGUgIkxpY2Vuc2UiKTsKLy8geW91IG1heSBub3QgdXNlIHRoaXMgZmlsZSBleGNlcHQgaW4gY29tcGxpYW5jZSB3aXRoIHRoZSBMaWNlbnNlLgovLyBZb3UgbWF5IG9idGFpbiBhIGNvcHkgb2YgdGhlIExpY2Vuc2UgYXQKLy8KLy8gICAgICBodHRwOi8vd3d3LmFwYWNoZS5vcmcvbGljZW5zZXMvTElDRU5TRS0yLjAKLy8KLy8gVW5sZXNzIHJlcXVpcmVkIGJ5IGFwcGxpY2FibGUgbGF3IG9yIGFncmVlZCB0byBpbiB3cml0aW5nLCBzb2Z0d2FyZQovLyBkaXN0cmlidXRlZCB1bmRlciB0aGUgTGljZW5zZSBpcyBkaXN0cmlidXRlZCBvbiBhbiAiQVMgSVMiIEJBU0lTLAovLyBXSVRIT1VUIFdBUlJBTlRJRVMgT1IgQ09ORElUSU9OUyBPRiBBTlkgS0lORCwgZWl0aGVyIGV4cHJlc3Mgb3IgaW1wbGllZC4KLy8gU2VlIHRoZSBMaWNlbnNlIGZvciB0aGUgc3BlY2lmaWMgbGFuZ3VhZ2UgZ292ZXJuaW5nIHBlcm1pc3Npb25zIGFuZAovLyBsaW1pdGF0aW9ucyB1bmRlciB0aGUgTGljZW5zZS4KCi8qKgogKiBAZmlsZW92ZXJ2aWV3IEhlbHBlcnMgZm9yIGdvb2dsZS5jb2xhYiBQeXRob24gbW9kdWxlLgogKi8KKGZ1bmN0aW9uKHNjb3BlKSB7CmZ1bmN0aW9uIHNwYW4odGV4dCwgc3R5bGVBdHRyaWJ1dGVzID0ge30pIHsKICBjb25zdCBlbGVtZW50ID0gZG9jdW1lbnQuY3JlYXRlRWxlbWVudCgnc3BhbicpOwogIGVsZW1lbnQudGV4dENvbnRlbnQgPSB0ZXh0OwogIGZvciAoY29uc3Qga2V5IG9mIE9iamVjdC5rZXlzKHN0eWxlQXR0cmlidXRlcykpIHsKICAgIGVsZW1lbnQuc3R5bGVba2V5XSA9IHN0eWxlQXR0cmlidXRlc1trZXldOwogIH0KICByZXR1cm4gZWxlbWVudDsKfQoKLy8gTWF4IG51bWJlciBvZiBieXRlcyB3aGljaCB3aWxsIGJlIHVwbG9hZGVkIGF0IGEgdGltZS4KY29uc3QgTUFYX1BBWUxPQURfU0laRSA9IDEwMCAqIDEwMjQ7CgpmdW5jdGlvbiBfdXBsb2FkRmlsZXMoaW5wdXRJZCwgb3V0cHV0SWQpIHsKICBjb25zdCBzdGVwcyA9IHVwbG9hZEZpbGVzU3RlcChpbnB1dElkLCBvdXRwdXRJZCk7CiAgY29uc3Qgb3V0cHV0RWxlbWVudCA9IGRvY3VtZW50LmdldEVsZW1lbnRCeUlkKG91dHB1dElkKTsKICAvLyBDYWNoZSBzdGVwcyBvbiB0aGUgb3V0cHV0RWxlbWVudCB0byBtYWtlIGl0IGF2YWlsYWJsZSBmb3IgdGhlIG5leHQgY2FsbAogIC8vIHRvIHVwbG9hZEZpbGVzQ29udGludWUgZnJvbSBQeXRob24uCiAgb3V0cHV0RWxlbWVudC5zdGVwcyA9IHN0ZXBzOwoKICByZXR1cm4gX3VwbG9hZEZpbGVzQ29udGludWUob3V0cHV0SWQpOwp9CgovLyBUaGlzIGlzIHJvdWdobHkgYW4gYXN5bmMgZ2VuZXJhdG9yIChub3Qgc3VwcG9ydGVkIGluIHRoZSBicm93c2VyIHlldCksCi8vIHdoZXJlIHRoZXJlIGFyZSBtdWx0aXBsZSBhc3luY2hyb25vdXMgc3RlcHMgYW5kIHRoZSBQeXRob24gc2lkZSBpcyBnb2luZwovLyB0byBwb2xsIGZvciBjb21wbGV0aW9uIG9mIGVhY2ggc3RlcC4KLy8gVGhpcyB1c2VzIGEgUHJvbWlzZSB0byBibG9jayB0aGUgcHl0aG9uIHNpZGUgb24gY29tcGxldGlvbiBvZiBlYWNoIHN0ZXAsCi8vIHRoZW4gcGFzc2VzIHRoZSByZXN1bHQgb2YgdGhlIHByZXZpb3VzIHN0ZXAgYXMgdGhlIGlucHV0IHRvIHRoZSBuZXh0IHN0ZXAuCmZ1bmN0aW9uIF91cGxvYWRGaWxlc0NvbnRpbnVlKG91dHB1dElkKSB7CiAgY29uc3Qgb3V0cHV0RWxlbWVudCA9IGRvY3VtZW50LmdldEVsZW1lbnRCeUlkKG91dHB1dElkKTsKICBjb25zdCBzdGVwcyA9IG91dHB1dEVsZW1lbnQuc3RlcHM7CgogIGNvbnN0IG5leHQgPSBzdGVwcy5uZXh0KG91dHB1dEVsZW1lbnQubGFzdFByb21pc2VWYWx1ZSk7CiAgcmV0dXJuIFByb21pc2UucmVzb2x2ZShuZXh0LnZhbHVlLnByb21pc2UpLnRoZW4oKHZhbHVlKSA9PiB7CiAgICAvLyBDYWNoZSB0aGUgbGFzdCBwcm9taXNlIHZhbHVlIHRvIG1ha2UgaXQgYXZhaWxhYmxlIHRvIHRoZSBuZXh0CiAgICAvLyBzdGVwIG9mIHRoZSBnZW5lcmF0b3IuCiAgICBvdXRwdXRFbGVtZW50Lmxhc3RQcm9taXNlVmFsdWUgPSB2YWx1ZTsKICAgIHJldHVybiBuZXh0LnZhbHVlLnJlc3BvbnNlOwogIH0pOwp9CgovKioKICogR2VuZXJhdG9yIGZ1bmN0aW9uIHdoaWNoIGlzIGNhbGxlZCBiZXR3ZWVuIGVhY2ggYXN5bmMgc3RlcCBvZiB0aGUgdXBsb2FkCiAqIHByb2Nlc3MuCiAqIEBwYXJhbSB7c3RyaW5nfSBpbnB1dElkIEVsZW1lbnQgSUQgb2YgdGhlIGlucHV0IGZpbGUgcGlja2VyIGVsZW1lbnQuCiAqIEBwYXJhbSB7c3RyaW5nfSBvdXRwdXRJZCBFbGVtZW50IElEIG9mIHRoZSBvdXRwdXQgZGlzcGxheS4KICogQHJldHVybiB7IUl0ZXJhYmxlPCFPYmplY3Q+fSBJdGVyYWJsZSBvZiBuZXh0IHN0ZXBzLgogKi8KZnVuY3Rpb24qIHVwbG9hZEZpbGVzU3RlcChpbnB1dElkLCBvdXRwdXRJZCkgewogIGNvbnN0IGlucHV0RWxlbWVudCA9IGRvY3VtZW50LmdldEVsZW1lbnRCeUlkKGlucHV0SWQpOwogIGlucHV0RWxlbWVudC5kaXNhYmxlZCA9IGZhbHNlOwoKICBjb25zdCBvdXRwdXRFbGVtZW50ID0gZG9jdW1lbnQuZ2V0RWxlbWVudEJ5SWQob3V0cHV0SWQpOwogIG91dHB1dEVsZW1lbnQuaW5uZXJIVE1MID0gJyc7CgogIGNvbnN0IHBpY2tlZFByb21pc2UgPSBuZXcgUHJvbWlzZSgocmVzb2x2ZSkgPT4gewogICAgaW5wdXRFbGVtZW50LmFkZEV2ZW50TGlzdGVuZXIoJ2NoYW5nZScsIChlKSA9PiB7CiAgICAgIHJlc29sdmUoZS50YXJnZXQuZmlsZXMpOwogICAgfSk7CiAgfSk7CgogIGNvbnN0IGNhbmNlbCA9IGRvY3VtZW50LmNyZWF0ZUVsZW1lbnQoJ2J1dHRvbicpOwogIGlucHV0RWxlbWVudC5wYXJlbnRFbGVtZW50LmFwcGVuZENoaWxkKGNhbmNlbCk7CiAgY2FuY2VsLnRleHRDb250ZW50ID0gJ0NhbmNlbCB1cGxvYWQnOwogIGNvbnN0IGNhbmNlbFByb21pc2UgPSBuZXcgUHJvbWlzZSgocmVzb2x2ZSkgPT4gewogICAgY2FuY2VsLm9uY2xpY2sgPSAoKSA9PiB7CiAgICAgIHJlc29sdmUobnVsbCk7CiAgICB9OwogIH0pOwoKICAvLyBXYWl0IGZvciB0aGUgdXNlciB0byBwaWNrIHRoZSBmaWxlcy4KICBjb25zdCBmaWxlcyA9IHlpZWxkIHsKICAgIHByb21pc2U6IFByb21pc2UucmFjZShbcGlja2VkUHJvbWlzZSwgY2FuY2VsUHJvbWlzZV0pLAogICAgcmVzcG9uc2U6IHsKICAgICAgYWN0aW9uOiAnc3RhcnRpbmcnLAogICAgfQogIH07CgogIGNhbmNlbC5yZW1vdmUoKTsKCiAgLy8gRGlzYWJsZSB0aGUgaW5wdXQgZWxlbWVudCBzaW5jZSBmdXJ0aGVyIHBpY2tzIGFyZSBub3QgYWxsb3dlZC4KICBpbnB1dEVsZW1lbnQuZGlzYWJsZWQgPSB0cnVlOwoKICBpZiAoIWZpbGVzKSB7CiAgICByZXR1cm4gewogICAgICByZXNwb25zZTogewogICAgICAgIGFjdGlvbjogJ2NvbXBsZXRlJywKICAgICAgfQogICAgfTsKICB9CgogIGZvciAoY29uc3QgZmlsZSBvZiBmaWxlcykgewogICAgY29uc3QgbGkgPSBkb2N1bWVudC5jcmVhdGVFbGVtZW50KCdsaScpOwogICAgbGkuYXBwZW5kKHNwYW4oZmlsZS5uYW1lLCB7Zm9udFdlaWdodDogJ2JvbGQnfSkpOwogICAgbGkuYXBwZW5kKHNwYW4oCiAgICAgICAgYCgke2ZpbGUudHlwZSB8fCAnbi9hJ30pIC0gJHtmaWxlLnNpemV9IGJ5dGVzLCBgICsKICAgICAgICBgbGFzdCBtb2RpZmllZDogJHsKICAgICAgICAgICAgZmlsZS5sYXN0TW9kaWZpZWREYXRlID8gZmlsZS5sYXN0TW9kaWZpZWREYXRlLnRvTG9jYWxlRGF0ZVN0cmluZygpIDoKICAgICAgICAgICAgICAgICAgICAgICAgICAgICAgICAgICAgJ24vYSd9IC0gYCkpOwogICAgY29uc3QgcGVyY2VudCA9IHNwYW4oJzAlIGRvbmUnKTsKICAgIGxpLmFwcGVuZENoaWxkKHBlcmNlbnQpOwoKICAgIG91dHB1dEVsZW1lbnQuYXBwZW5kQ2hpbGQobGkpOwoKICAgIGNvbnN0IGZpbGVEYXRhUHJvbWlzZSA9IG5ldyBQcm9taXNlKChyZXNvbHZlKSA9PiB7CiAgICAgIGNvbnN0IHJlYWRlciA9IG5ldyBGaWxlUmVhZGVyKCk7CiAgICAgIHJlYWRlci5vbmxvYWQgPSAoZSkgPT4gewogICAgICAgIHJlc29sdmUoZS50YXJnZXQucmVzdWx0KTsKICAgICAgfTsKICAgICAgcmVhZGVyLnJlYWRBc0FycmF5QnVmZmVyKGZpbGUpOwogICAgfSk7CiAgICAvLyBXYWl0IGZvciB0aGUgZGF0YSB0byBiZSByZWFkeS4KICAgIGxldCBmaWxlRGF0YSA9IHlpZWxkIHsKICAgICAgcHJvbWlzZTogZmlsZURhdGFQcm9taXNlLAogICAgICByZXNwb25zZTogewogICAgICAgIGFjdGlvbjogJ2NvbnRpbnVlJywKICAgICAgfQogICAgfTsKCiAgICAvLyBVc2UgYSBjaHVua2VkIHNlbmRpbmcgdG8gYXZvaWQgbWVzc2FnZSBzaXplIGxpbWl0cy4gU2VlIGIvNjIxMTU2NjAuCiAgICBsZXQgcG9zaXRpb24gPSAwOwogICAgZG8gewogICAgICBjb25zdCBsZW5ndGggPSBNYXRoLm1pbihmaWxlRGF0YS5ieXRlTGVuZ3RoIC0gcG9zaXRpb24sIE1BWF9QQVlMT0FEX1NJWkUpOwogICAgICBjb25zdCBjaHVuayA9IG5ldyBVaW50OEFycmF5KGZpbGVEYXRhLCBwb3NpdGlvbiwgbGVuZ3RoKTsKICAgICAgcG9zaXRpb24gKz0gbGVuZ3RoOwoKICAgICAgY29uc3QgYmFzZTY0ID0gYnRvYShTdHJpbmcuZnJvbUNoYXJDb2RlLmFwcGx5KG51bGwsIGNodW5rKSk7CiAgICAgIHlpZWxkIHsKICAgICAgICByZXNwb25zZTogewogICAgICAgICAgYWN0aW9uOiAnYXBwZW5kJywKICAgICAgICAgIGZpbGU6IGZpbGUubmFtZSwKICAgICAgICAgIGRhdGE6IGJhc2U2NCwKICAgICAgICB9LAogICAgICB9OwoKICAgICAgbGV0IHBlcmNlbnREb25lID0gZmlsZURhdGEuYnl0ZUxlbmd0aCA9PT0gMCA/CiAgICAgICAgICAxMDAgOgogICAgICAgICAgTWF0aC5yb3VuZCgocG9zaXRpb24gLyBmaWxlRGF0YS5ieXRlTGVuZ3RoKSAqIDEwMCk7CiAgICAgIHBlcmNlbnQudGV4dENvbnRlbnQgPSBgJHtwZXJjZW50RG9uZX0lIGRvbmVgOwoKICAgIH0gd2hpbGUgKHBvc2l0aW9uIDwgZmlsZURhdGEuYnl0ZUxlbmd0aCk7CiAgfQoKICAvLyBBbGwgZG9uZS4KICB5aWVsZCB7CiAgICByZXNwb25zZTogewogICAgICBhY3Rpb246ICdjb21wbGV0ZScsCiAgICB9CiAgfTsKfQoKc2NvcGUuZ29vZ2xlID0gc2NvcGUuZ29vZ2xlIHx8IHt9OwpzY29wZS5nb29nbGUuY29sYWIgPSBzY29wZS5nb29nbGUuY29sYWIgfHwge307CnNjb3BlLmdvb2dsZS5jb2xhYi5fZmlsZXMgPSB7CiAgX3VwbG9hZEZpbGVzLAogIF91cGxvYWRGaWxlc0NvbnRpbnVlLAp9Owp9KShzZWxmKTsK",
              "ok": true,
              "headers": [
                [
                  "content-type",
                  "application/javascript"
                ]
              ],
              "status": 200,
              "status_text": ""
            }
          },
          "base_uri": "https://localhost:8080/",
          "height": 89
        },
        "id": "9EnSUknFA5Vt",
        "outputId": "06be5b56-824e-40b8-ab70-d10a1c2266ca"
      },
      "source": [
        "from google.colab import files\n",
        "\n",
        "uploaded = files.upload()\n",
        "for fn in uploaded.keys():\n",
        "  execfile(fn)\n",
        "\n",
        "client = Client(configuration={\"base_url\": base,\n",
        "                               \"access_key\": access,\n",
        "                               \"secret_key\": secret})\n",
        "print('client configured')"
      ],
      "execution_count": 2,
      "outputs": [
        {
          "output_type": "display_data",
          "data": {
            "text/html": [
              "\n",
              "     <input type=\"file\" id=\"files-939616ac-b0fc-4dbc-a6f1-1a8fcce0da11\" name=\"files[]\" multiple disabled\n",
              "        style=\"border:none\" />\n",
              "     <output id=\"result-939616ac-b0fc-4dbc-a6f1-1a8fcce0da11\">\n",
              "      Upload widget is only available when the cell has been executed in the\n",
              "      current browser session. Please rerun this cell to enable.\n",
              "      </output>\n",
              "      <script src=\"/nbextensions/google.colab/files.js\"></script> "
            ],
            "text/plain": [
              "<IPython.core.display.HTML object>"
            ]
          },
          "metadata": {}
        },
        {
          "output_type": "stream",
          "name": "stdout",
          "text": [
            "Saving colabkeys.py to colabkeys.py\n",
            "client configured\n"
          ]
        }
      ]
    },
    {
      "cell_type": "markdown",
      "metadata": {
        "id": "IVxQnTAQBAch"
      },
      "source": [
        "## Get list of documents from user"
      ]
    },
    {
      "cell_type": "code",
      "metadata": {
        "id": "5OeztyA7Bsjh"
      },
      "source": [
        "def documents(params = {}):\n",
        "  fixed_url = '/api/documents'\n",
        "  method = 'GET'\n",
        "\n",
        "  payload = {}\n",
        "  headers = {'Accept': 'application/vnd.onshape.v1+json',\n",
        "            'Content-Type': 'application/json'}\n",
        "\n",
        "  response = client.api_client.request(method, url=base + fixed_url, query_params=params, headers=headers, body=payload)\n",
        "\n",
        "  parsed = json.loads(response.data)\n",
        "  # The command below prints the entire JSON response from Onshape\n",
        "  # print(json.dumps(parsed, indent=4, sort_keys=True))\n",
        "  return parsed\n",
        "documents({'offset':20,'filter':1})"
      ],
      "execution_count": null,
      "outputs": []
    },
    {
      "cell_type": "code",
      "metadata": {
        "colab": {
          "base_uri": "https://localhost:8080/"
        },
        "id": "NyggfXu4Ep_v",
        "outputId": "10928100-7a80-4bb6-a3f8-3235cfbb855d"
      },
      "source": [
        "docs = documents({'filter':1})\n",
        "docs2040 = documents({'offset':20,'filter':1})\n",
        "docs4060 = documents({'offset':40,'filter':1})\n",
        "docs6080 = documents({'offset':60,'filter':1})\n",
        "docs80100 = documents({'offset':80,'filter':1})\n",
        "for x in docs2040['items']:\n",
        "  docs['items'].append(x)\n",
        "for x in docs4060['items']:\n",
        "  docs['items'].append(x)\n",
        "for x in docs6080['items']:\n",
        "  docs['items'].append(x)\n",
        "for x in docs80100['items']:\n",
        "  docs['items'].append(x)\n",
        "print(len(docs['items']))"
      ],
      "execution_count": 47,
      "outputs": [
        {
          "output_type": "stream",
          "name": "stdout",
          "text": [
            "100\n"
          ]
        }
      ]
    },
    {
      "cell_type": "code",
      "metadata": {
        "colab": {
          "base_uri": "https://localhost:8080/"
        },
        "id": "Ld0XgtZ2EfW_",
        "outputId": "0dd443ce-0856-41a1-f6c1-eca7e67cad20"
      },
      "source": [
        "print(docs['items'][0]['name'])"
      ],
      "execution_count": 14,
      "outputs": [
        {
          "output_type": "stream",
          "name": "stdout",
          "text": [
            "Dashboard Test\n"
          ]
        }
      ]
    },
    {
      "cell_type": "code",
      "metadata": {
        "colab": {
          "base_uri": "https://localhost:8080/"
        },
        "id": "09zcUyKyCWrU",
        "outputId": "f38d4519-e72c-488c-a66a-6546181d24d2"
      },
      "source": [
        "import datetime\n",
        "\n",
        "docDWidList = [] ## Document id and default workspace ID's added to 2D array\n",
        "docCreatedAtList = []\n",
        "docNameList = []\n",
        "for x in docs['items']:\n",
        "  docDWidList.append([x['id'],x['defaultWorkspace']['id']])\n",
        "  docCreatedAtList.append(datetime.datetime.fromisoformat(x['createdAt']).date())\n",
        "  docNameList.append(x['name'])\n",
        "\n",
        "print(docIDList)\n",
        "print(docCreatedAtList)\n",
        "print(docNameList)"
      ],
      "execution_count": 48,
      "outputs": [
        {
          "output_type": "stream",
          "name": "stdout",
          "text": [
            "[['085516aadfae1895dbb885ad', '85f3ceb11457f3e7c9ca42f9'], ['858daab0db558d373e0c6826', '578503a63ef4485a84e1d411'], ['98e6db81e084e408079cea8a', '183bcbeaaecca9d25cc88e88'], ['728a62d9e3be6432c63f8be5', 'bc029fe7d89d4744868b20ad'], ['7fa7a496b5a242221e1f92af', 'cb8c2b3ae50af68cdbb86e2f'], ['79a0c95ae2ec99144ead217c', '9fbf7961f9e350e0c86e896a'], ['090026b075aa255ce3d59fc5', '14ccb2502def38da26b6bc2e'], ['c1d3a04e6d80c7ddff2c6fa1', 'cf939dd2aad844961b1dbb74'], ['44503b2fdb8162db597ad99b', '6337668d6f9ccc881828de1f'], ['1632778e06d6e463655f52bf', '6abfc818146374f46aaf0b67'], ['03a4028cac99759d95f3178f', '0deb55227976f4f797381cd2'], ['79e0302124211187343cae00', 'bbad3b38d11ee5372292b26f'], ['3d3e7e88cd86f936f2876de2', 'a7dc96a4f6f7699aead4612f'], ['e85907147ccfcd9d310c13e8', 'afa5ca5c2724780ca8646d45'], ['08894493e97ce9c4f5053830', '67a7e5d9690b21b2398dbd8f'], ['a9986db4def2e5c07d5b2442', '1d66515bf5ba99468795fe72'], ['ba7d0be0300134a64710bc1e', '65d5700ed95f1f3ee7aaebea'], ['df38147c32468b00e46839bf', '9af9f0315209a654f2c6991f'], ['94476cf478458b62e2709936', 'a16ba8306b7f0646ec420bee'], ['71c98dc6c10794be50801257', '4d7d74f46fe6c330aeff4625'], ['e20f0997ca240c2946b7e33b', '67de432d5c06aa88666e7735'], ['9e0878dfcce12a4a996be8a7', '0aab7305e4b4f0d3537962d6'], ['6ff31c74b2b6c965bd136e52', '13d058991e5ad0485dd58368'], ['98e268cddad867d57cd2dfa2', 'ed7cba34cb8e31c558682e96'], ['2c805ea227b412ff7be2ff19', '58437ef3126f7c8ae3caef05'], ['cd20ecba40cf1678a1fd8a96', '37fc2daeb5cf045b39f3be79'], ['cc9c5cb9912e286856491ca1', '46ca1ebc66132096757402de'], ['f71405a25b97609d2a1a5856', 'b4c596c07d24befc09c2b7a3'], ['bc0b6ecd30d99fa2b95f7a47', '7e817338fae60b72bc0e16a6'], ['5ba1eb5e5f8ddb831d755d06', '2c1ffb51df0e9d946adb27b3'], ['e0f063195a58d3111129399b', 'b6f71e335631a5dd5b90002f'], ['130d56773425cc5e0bfd5fdb', '6fe439a8e5ba9198f0b6e77e'], ['c2e2c61dd630714f9c61fd93', 'fab4fceb22776edbd79124f2'], ['cf8e958b79dbe4f091b75841', 'a004b3cae952f5849b37a809'], ['d897b4554ac69453bb358275', 'eacfc3fe0f69e9f77d30b7c0'], ['5cbc9ae214cdfc9126fee849', 'a3845f05ede4d9120c3e7ce2'], ['df6e9f47151917f96fc32608', '0092cd83316fefea0c7a39a2'], ['93945e751319e4f932fee5a9', '60b4d54976e7b3bc3c564697'], ['b4570eae7888d499c2904528', '0afdbe0333988953fac30adf'], ['916983e376e0aaeb7bc10a3b', '1f386e96bb8981fbeb9f798e'], ['a8bedcad8042a3958171a3df', '1ab4d6696531c91073a5186b'], ['dcb7a4c5c1ccb712d7fb5d60', '0c2fca62e3c99418d71c3483'], ['0102546de4c472fe90a15c7d', '06f7302fa6e70eed0e9ded44'], ['489c14c2e8de60a5f562ee7c', '16021bf3071cfe45555d4fcf'], ['f587d4d4358e5b95cc5441c5', '84ab8ac6d379b9dfbe3b4807'], ['92b1a9a196874d943d2616b9', 'e499dbe4824803319c01ea29'], ['ae730bcb250aaf341ef232cf', 'a0d2bf16849b7d6fe4ec85a5'], ['eecccfab1c8776ea7391b956', '31f74da518761683b404d0a1'], ['b27cbb793d1e4c9a973e3ec4', '6f0fd7997a366a0839667e99'], ['3c1fc7d5525c38a79d0ed3af', '7277fb16ae28fd1fcda515c7'], ['604b6b0cc5aa451614414275', '0fb51068ec4f9cdf67d9a4a4'], ['4597e35d49e9e04177381824', 'a7634131d7d10aa8cf713961'], ['b12907cda9bf03b6314b7716', 'b0817510291c49fc5d7b15cb'], ['f4a3b261eaec7eb4f842d058', '3f7ada252260a21d2354bc36'], ['d1e3d5e4ca5a5ee399cfbf85', '2f213b1ed53547cbff20ff87'], ['c4afe5aa29f4509209b4af3f', '22e09631fe038e73bc9a0140'], ['96558e0d1d64253f2eabc7ab', 'c748e56206698b17eb9a69ce'], ['b4c133c258a91fe8aba07ef2', '886415c4cde339fee810024a'], ['a98f51508b7f9f45aea4c8f9', 'd27dbc1b32e1690e1f82e50d'], ['8f06823a189be5f5dac1ad96', '0b247382a132392fa21a2f0c']]\n",
            "[datetime.date(2021, 9, 21), datetime.date(2021, 9, 20), datetime.date(2021, 9, 17), datetime.date(2021, 9, 17), datetime.date(2021, 9, 16), datetime.date(2021, 9, 15), datetime.date(2021, 9, 15), datetime.date(2021, 9, 9), datetime.date(2021, 9, 9), datetime.date(2021, 9, 5), datetime.date(2021, 9, 5), datetime.date(2021, 9, 4), datetime.date(2021, 9, 1), datetime.date(2021, 8, 31), datetime.date(2021, 8, 30), datetime.date(2021, 8, 25), datetime.date(2021, 8, 22), datetime.date(2021, 8, 21), datetime.date(2021, 8, 19), datetime.date(2021, 8, 17), datetime.date(2021, 8, 13), datetime.date(2021, 8, 12), datetime.date(2021, 8, 9), datetime.date(2021, 8, 6), datetime.date(2021, 8, 5), datetime.date(2021, 8, 5), datetime.date(2021, 8, 4), datetime.date(2021, 8, 2), datetime.date(2021, 8, 2), datetime.date(2021, 8, 2), datetime.date(2021, 8, 2), datetime.date(2021, 8, 2), datetime.date(2021, 7, 28), datetime.date(2021, 7, 28), datetime.date(2021, 7, 26), datetime.date(2021, 7, 26), datetime.date(2021, 7, 26), datetime.date(2021, 7, 26), datetime.date(2021, 7, 26), datetime.date(2021, 7, 26), datetime.date(2021, 7, 26), datetime.date(2021, 7, 26), datetime.date(2021, 7, 20), datetime.date(2021, 7, 20), datetime.date(2021, 7, 19), datetime.date(2021, 7, 16), datetime.date(2021, 7, 16), datetime.date(2021, 7, 16), datetime.date(2021, 7, 16), datetime.date(2021, 7, 16), datetime.date(2021, 7, 16), datetime.date(2021, 7, 16), datetime.date(2021, 7, 14), datetime.date(2021, 7, 14), datetime.date(2021, 7, 13), datetime.date(2021, 7, 12), datetime.date(2021, 7, 12), datetime.date(2021, 7, 7), datetime.date(2021, 7, 6), datetime.date(2021, 7, 2), datetime.date(2021, 6, 29), datetime.date(2021, 6, 28), datetime.date(2021, 6, 22), datetime.date(2021, 6, 18), datetime.date(2021, 6, 17), datetime.date(2021, 6, 15), datetime.date(2021, 6, 15), datetime.date(2021, 6, 8), datetime.date(2021, 6, 7), datetime.date(2021, 5, 21), datetime.date(2021, 5, 18), datetime.date(2021, 5, 13), datetime.date(2021, 5, 12), datetime.date(2021, 5, 6), datetime.date(2021, 4, 28), datetime.date(2021, 4, 27), datetime.date(2021, 4, 24), datetime.date(2021, 4, 15), datetime.date(2021, 4, 5), datetime.date(2021, 4, 5), datetime.date(2021, 3, 31), datetime.date(2021, 3, 19), datetime.date(2021, 3, 11), datetime.date(2021, 3, 8), datetime.date(2021, 3, 5), datetime.date(2021, 2, 26), datetime.date(2021, 2, 23), datetime.date(2021, 2, 23), datetime.date(2021, 2, 22), datetime.date(2021, 2, 18), datetime.date(2021, 2, 18), datetime.date(2021, 2, 2), datetime.date(2021, 2, 2), datetime.date(2021, 1, 29), datetime.date(2021, 1, 25), datetime.date(2020, 12, 30), datetime.date(2020, 12, 22), datetime.date(2020, 12, 21), datetime.date(2020, 12, 20), datetime.date(2020, 12, 18)]\n",
            "['Dashboard Test', 'motiontest', 'Flask Test', 'webcam test', 'Bottle Demo', 'Kansas Girls', 'Whiplash', 'FeatureBlocks', 'FANUC cr15iA - Copy', 'Zayde', 'Bin', 'Sandpaper Holder', 'Starbase Amusement Park', 'Toothbrush Holder', 'LEGO Spike Prime - StarBase', 'Mate Blocks Test', 'Candy Sorter - IoT Test', 'Bird Gears', 'Onshape IoT Test', 'DX Raspberry Pi Case', 'Workbench', 'Website test', 'test', 'Thumbnail Animation Test', 'test', 'Featureblocks', 'Candy Sorter Main', 'Jupyter Test', 'Microbit Digital Twin', 'FeatureScript Test', 'App Script Test', 'asdfg', 'FeatureBlocks', 'FeatureBlocks', 'FeatureBlocks 9', 'FeatureBlocks7', 'FeatureBlocks6', 'FeatureBlocks5', 'FeatureBlocks4', 'FeatureBlocks3', 'FeatureBlocks2', 'FeatureBlocks Test', 'API Demo', 'PTC Onshape', 'Airtable', 'Blockly Test 8', 'Blockly Test 7', 'Blockly Test 6', 'Blockly Test 5', 'Blockly Test 4', 'Blockly test 3', 'blockly  test 2', 'Olga Test', 'Blockly Test', 'Jupyter Test', 'Sheets Test', 'SignHolder', 'Bricks Test', 'Microbit', 'Measure Value - Copy', 'Baseball holder - Copy', 'BlocklyTest', 'UR3e Path Planning', 'Ender 3', 'Macro Test', 'Motion Checkpoints', 'Gaze Digital Twin', 'James Testing', 'dice - Copy', 'LEGO Duck Challenge (playlist) - Guillermo', '3D printer service', 'DX in Education Summit', 'Colab Example Document', 'Blockly test', 'LEGO Spike Prime - Complete Set - Copy', 'ARBase test', 'fence spacing', 'Blockly Test', 'Reference Frames', 'Airplane - Copy', 'Transformation Tests (Public) - Copy', 'Jürgen Arm Demo', 'Spatial Toolbox Drawing', 'Untitled document', 'Clock - ColabDemo - Copy', 'DX RPi Case', 'Meta Sculpt - Copy', 'Draw Test', 'Colab Api Test', 'ME131 Robot Arms', \"ME 131 - Team Automata's VEX Robotics Part Library 1.3.0\", 'LEGO Gear Train - Sample', 'Remote Control Holder', 'Spline Test', 'Kallax Slots', 'App Test 2', 'App Test', 'LEGO Spike Prime - Complete Set - Copy', 'PLTW AL5D', 'Miura attempt - Copy']\n"
          ]
        }
      ]
    },
    {
      "cell_type": "markdown",
      "metadata": {
        "id": "mHVl2x8wDNR8"
      },
      "source": [
        "## Get elements list for each document"
      ]
    },
    {
      "cell_type": "code",
      "metadata": {
        "id": "3PcqsjyeHEGr"
      },
      "source": [
        "def documentElements(did,wid):\n",
        "  fixed_url = '/api/documents/d/did/w/wid/elements'\n",
        "  method = 'GET'\n",
        "\n",
        "  params = {}\n",
        "  payload = {}\n",
        "  headers = {'Accept': 'application/vnd.onshape.v1+json',\n",
        "            'Content-Type': 'application/json'}\n",
        "  \n",
        "  fixed_url = fixed_url.replace('did', did)\n",
        "  fixed_url = fixed_url.replace('wid', wid)\n",
        "\n",
        "  response = client.api_client.request(method, url=base + fixed_url, query_params=params, headers=headers, body=payload)\n",
        "\n",
        "  parsed = json.loads(response.data)\n",
        "  # The command below prints the entire JSON response from Onshape\n",
        "  # print(json.dumps(parsed, indent=4, sort_keys=True))\n",
        "  return parsed"
      ],
      "execution_count": 49,
      "outputs": []
    },
    {
      "cell_type": "code",
      "metadata": {
        "colab": {
          "base_uri": "https://localhost:8080/"
        },
        "id": "3YRJT1NvIp6_",
        "outputId": "a4bdcd75-4cf2-41ef-ea13-a7414c00fa54"
      },
      "source": [
        "PartStudioIDList = []\n",
        "AssemblyIDList = []\n",
        "for x in docDWidList:\n",
        "  elements = documentElements(x[0],x[1])\n",
        "  for y in elements:\n",
        "    if y['elementType'] == \"PARTSTUDIO\":\n",
        "      PartStudioIDList.append([x[0],x[1],y['id']])\n",
        "    if y['elementType'] == \"ASSEMBLY\":\n",
        "      AssemblyIDList.append([x[0],x[1],y['id']])\n",
        "\n",
        "print(PartStudioIDList)\n",
        "print(AssemblyIDList)"
      ],
      "execution_count": 50,
      "outputs": [
        {
          "output_type": "stream",
          "name": "stdout",
          "text": [
            "[['085516aadfae1895dbb885ad', '85f3ceb11457f3e7c9ca42f9', 'c13289731f3873dfb45b47a1'], ['858daab0db558d373e0c6826', '578503a63ef4485a84e1d411', 'c13c2d5fcb6f3d4ba3e17939'], ['98e6db81e084e408079cea8a', '183bcbeaaecca9d25cc88e88', '72af76e1128604b6635d3719'], ['728a62d9e3be6432c63f8be5', 'bc029fe7d89d4744868b20ad', '5d569d090af62695f4fbcb00'], ['7fa7a496b5a242221e1f92af', 'cb8c2b3ae50af68cdbb86e2f', 'f2429531683ec5a38a104be6'], ['7fa7a496b5a242221e1f92af', 'cb8c2b3ae50af68cdbb86e2f', '417260def048ff88802bf87c'], ['79a0c95ae2ec99144ead217c', '9fbf7961f9e350e0c86e896a', '24499271082c87f3c6a08f2b'], ['090026b075aa255ce3d59fc5', '14ccb2502def38da26b6bc2e', 'a502410f148761254070b03f'], ['c1d3a04e6d80c7ddff2c6fa1', 'cf939dd2aad844961b1dbb74', '14ba41888859669b88f7aed2'], ['44503b2fdb8162db597ad99b', '6337668d6f9ccc881828de1f', 'e090f832c9f64d32383db6f2'], ['44503b2fdb8162db597ad99b', '6337668d6f9ccc881828de1f', '0a6941c81e1565cabc9a258a'], ['44503b2fdb8162db597ad99b', '6337668d6f9ccc881828de1f', '4f8fbc7bc777e61e4ad15df5'], ['44503b2fdb8162db597ad99b', '6337668d6f9ccc881828de1f', 'fc6bb36e0fb0a79006e670a5'], ['44503b2fdb8162db597ad99b', '6337668d6f9ccc881828de1f', '10e689671310ea240eef3a62'], ['44503b2fdb8162db597ad99b', '6337668d6f9ccc881828de1f', 'a4b5b2a0d9fcd2dd3a992590'], ['44503b2fdb8162db597ad99b', '6337668d6f9ccc881828de1f', '3134bcf15c2d6b27d4503dc0'], ['44503b2fdb8162db597ad99b', '6337668d6f9ccc881828de1f', '21cc589e890f714f5b212d76'], ['03a4028cac99759d95f3178f', '0deb55227976f4f797381cd2', '6fae5b1162410407d5998870'], ['79e0302124211187343cae00', 'bbad3b38d11ee5372292b26f', '8bca5b30e922292c890c9232'], ['3d3e7e88cd86f936f2876de2', 'a7dc96a4f6f7699aead4612f', 'cdac6d6dadd67517d5e490f0'], ['e85907147ccfcd9d310c13e8', 'afa5ca5c2724780ca8646d45', '851c6208f1add470e44197bf'], ['e85907147ccfcd9d310c13e8', 'afa5ca5c2724780ca8646d45', 'e721e1da34c12e99a05468cc'], ['e85907147ccfcd9d310c13e8', 'afa5ca5c2724780ca8646d45', 'a803ad8a0669c394b851af6f'], ['e85907147ccfcd9d310c13e8', 'afa5ca5c2724780ca8646d45', '47761bce09f4fec437387b9d'], ['e85907147ccfcd9d310c13e8', 'afa5ca5c2724780ca8646d45', 'fc6437f259df57797113ab4d'], ['e85907147ccfcd9d310c13e8', 'afa5ca5c2724780ca8646d45', '30e9c23405d33c5aa989b877'], ['08894493e97ce9c4f5053830', '67a7e5d9690b21b2398dbd8f', 'f557c47465ca09fd80486d92'], ['ba7d0be0300134a64710bc1e', '65d5700ed95f1f3ee7aaebea', '6d91bcff2fe72e8aee5e5647'], ['ba7d0be0300134a64710bc1e', '65d5700ed95f1f3ee7aaebea', '65add383eb9a891a2aa2057f'], ['ba7d0be0300134a64710bc1e', '65d5700ed95f1f3ee7aaebea', 'b689edffacff2b4e5a35c204'], ['ba7d0be0300134a64710bc1e', '65d5700ed95f1f3ee7aaebea', '6ddfc1da1bab9b67e35231f7'], ['ba7d0be0300134a64710bc1e', '65d5700ed95f1f3ee7aaebea', '1b8fa6752525d1a79cb649d6'], ['ba7d0be0300134a64710bc1e', '65d5700ed95f1f3ee7aaebea', '93dfe5cb2dfa17907ad8a4fa'], ['ba7d0be0300134a64710bc1e', '65d5700ed95f1f3ee7aaebea', '34e1f748a908afe2fd9a75b8'], ['ba7d0be0300134a64710bc1e', '65d5700ed95f1f3ee7aaebea', 'a1dcf2580ded0293e6111e8a'], ['ba7d0be0300134a64710bc1e', '65d5700ed95f1f3ee7aaebea', '412c47cc2cc28d60428ed09f'], ['ba7d0be0300134a64710bc1e', '65d5700ed95f1f3ee7aaebea', '8c3af0ca891e6c4e693b35fa'], ['ba7d0be0300134a64710bc1e', '65d5700ed95f1f3ee7aaebea', '724858a0a919bd5e4a035445'], ['ba7d0be0300134a64710bc1e', '65d5700ed95f1f3ee7aaebea', 'b8a36dd9ddf197e217f405a9'], ['ba7d0be0300134a64710bc1e', '65d5700ed95f1f3ee7aaebea', '121526ffb769dbaae00bd76a'], ['ba7d0be0300134a64710bc1e', '65d5700ed95f1f3ee7aaebea', 'f85b0c450ef8e87bd556bf74'], ['ba7d0be0300134a64710bc1e', '65d5700ed95f1f3ee7aaebea', '314a47508bbf44d9c8cc0e77'], ['ba7d0be0300134a64710bc1e', '65d5700ed95f1f3ee7aaebea', 'ebbd06dbc8fb1eed2cb51b07'], ['ba7d0be0300134a64710bc1e', '65d5700ed95f1f3ee7aaebea', 'aebe0bdbcff7bffa7130ee1d'], ['ba7d0be0300134a64710bc1e', '65d5700ed95f1f3ee7aaebea', '2fa9e908f1a6cc1dc49db831'], ['ba7d0be0300134a64710bc1e', '65d5700ed95f1f3ee7aaebea', '12a91ecff457b60c2a804c74'], ['ba7d0be0300134a64710bc1e', '65d5700ed95f1f3ee7aaebea', 'c221a1c11b75059fa7ebcabd'], ['ba7d0be0300134a64710bc1e', '65d5700ed95f1f3ee7aaebea', '611a03781cf3348e9e93d7f6'], ['ba7d0be0300134a64710bc1e', '65d5700ed95f1f3ee7aaebea', 'ae895d957dba6c765b5d7b45'], ['ba7d0be0300134a64710bc1e', '65d5700ed95f1f3ee7aaebea', 'a6b907a06f77b734db15d9c2'], ['ba7d0be0300134a64710bc1e', '65d5700ed95f1f3ee7aaebea', '149fd913ceb78d277f56a9c8'], ['ba7d0be0300134a64710bc1e', '65d5700ed95f1f3ee7aaebea', 'f44a219009f83b4d0225f8a2'], ['ba7d0be0300134a64710bc1e', '65d5700ed95f1f3ee7aaebea', 'f3dab52b31da4d4440ba9c33'], ['ba7d0be0300134a64710bc1e', '65d5700ed95f1f3ee7aaebea', 'a185649fc94715f631b64237'], ['ba7d0be0300134a64710bc1e', '65d5700ed95f1f3ee7aaebea', '8b6d53da669638b2e2b7d68d'], ['ba7d0be0300134a64710bc1e', '65d5700ed95f1f3ee7aaebea', '4610a528ea97bd8d193e363f'], ['ba7d0be0300134a64710bc1e', '65d5700ed95f1f3ee7aaebea', 'b68a74a952af1bbe9befeade'], ['ba7d0be0300134a64710bc1e', '65d5700ed95f1f3ee7aaebea', '6937e9928e533dfad824610d'], ['ba7d0be0300134a64710bc1e', '65d5700ed95f1f3ee7aaebea', '8d27507c11541140a3de87ee'], ['ba7d0be0300134a64710bc1e', '65d5700ed95f1f3ee7aaebea', 'c39c26c599c1b38f9c91c9ac'], ['ba7d0be0300134a64710bc1e', '65d5700ed95f1f3ee7aaebea', '378c338b2d09375202763a43'], ['ba7d0be0300134a64710bc1e', '65d5700ed95f1f3ee7aaebea', 'c8fe2010c20994e960417276'], ['df38147c32468b00e46839bf', '9af9f0315209a654f2c6991f', '018ff69da277ab8bf922799b'], ['71c98dc6c10794be50801257', '4d7d74f46fe6c330aeff4625', 'd3e1ce509ffb4c2e2bdbda1c'], ['71c98dc6c10794be50801257', '4d7d74f46fe6c330aeff4625', 'bfad2911bd2885062006209e'], ['71c98dc6c10794be50801257', '4d7d74f46fe6c330aeff4625', '059e9c950cc99927412fa274'], ['71c98dc6c10794be50801257', '4d7d74f46fe6c330aeff4625', '6fe9432cd2f2423f929269dd'], ['71c98dc6c10794be50801257', '4d7d74f46fe6c330aeff4625', '66a1d82df7c7de495a836fa9'], ['e20f0997ca240c2946b7e33b', '67de432d5c06aa88666e7735', 'f5019350eab0e9f9a0acbcf1'], ['e20f0997ca240c2946b7e33b', '67de432d5c06aa88666e7735', 'ba554bbb1b84fe0eae0c1626'], ['e20f0997ca240c2946b7e33b', '67de432d5c06aa88666e7735', '355be32c6ad45d71241ae731'], ['9e0878dfcce12a4a996be8a7', '0aab7305e4b4f0d3537962d6', 'b1101ea7f7d83bd3a38bcdf9'], ['6ff31c74b2b6c965bd136e52', '13d058991e5ad0485dd58368', '7d4e644fd386203432cd5588'], ['6ff31c74b2b6c965bd136e52', '13d058991e5ad0485dd58368', 'af702a9426b4c3c219a4b32f'], ['98e268cddad867d57cd2dfa2', 'ed7cba34cb8e31c558682e96', '11f5a5e644651e8eebe741d9'], ['2c805ea227b412ff7be2ff19', '58437ef3126f7c8ae3caef05', 'f5bdb4302b4e76522650f8d6'], ['cd20ecba40cf1678a1fd8a96', '37fc2daeb5cf045b39f3be79', '2624d21cc16ebefacb3a942d'], ['cc9c5cb9912e286856491ca1', '46ca1ebc66132096757402de', 'ccd10d8d01a681bd4a893190'], ['f71405a25b97609d2a1a5856', 'b4c596c07d24befc09c2b7a3', '02af60650b9ef158c0bd6861'], ['bc0b6ecd30d99fa2b95f7a47', '7e817338fae60b72bc0e16a6', '6b6e7b587474bff0afc2ab7a'], ['5ba1eb5e5f8ddb831d755d06', '2c1ffb51df0e9d946adb27b3', 'd38f75d8bd5015aee1d8575c'], ['5ba1eb5e5f8ddb831d755d06', '2c1ffb51df0e9d946adb27b3', '5a65f78bad0314457d9c3ce1'], ['5ba1eb5e5f8ddb831d755d06', '2c1ffb51df0e9d946adb27b3', '568da6ab43d40aff3dde2161'], ['5ba1eb5e5f8ddb831d755d06', '2c1ffb51df0e9d946adb27b3', '2b6a4f242115d95bcb87dfc2'], ['5ba1eb5e5f8ddb831d755d06', '2c1ffb51df0e9d946adb27b3', '7a98368542804dac959a66a8'], ['e0f063195a58d3111129399b', 'b6f71e335631a5dd5b90002f', '9e698969c03fe58472f92530'], ['130d56773425cc5e0bfd5fdb', '6fe439a8e5ba9198f0b6e77e', '1c4a9880afda9c55db074717'], ['130d56773425cc5e0bfd5fdb', '6fe439a8e5ba9198f0b6e77e', '43ee3ec5034f39f10a890774'], ['c2e2c61dd630714f9c61fd93', 'fab4fceb22776edbd79124f2', '8f34d7d7a752a90bd26b4974'], ['cf8e958b79dbe4f091b75841', 'a004b3cae952f5849b37a809', '8c659bb9756a1317dd745196'], ['d897b4554ac69453bb358275', 'eacfc3fe0f69e9f77d30b7c0', '2b3f79b3e84a2fd9fc3db26c'], ['5cbc9ae214cdfc9126fee849', 'a3845f05ede4d9120c3e7ce2', 'de9194afb127b213c9964289'], ['df6e9f47151917f96fc32608', '0092cd83316fefea0c7a39a2', '5ced896c55ac64343a9687a1'], ['b4570eae7888d499c2904528', '0afdbe0333988953fac30adf', 'c03c88c94aec70ebc9a6d78f'], ['916983e376e0aaeb7bc10a3b', '1f386e96bb8981fbeb9f798e', '0a18ca8f27bed58b9c425e9f'], ['a8bedcad8042a3958171a3df', '1ab4d6696531c91073a5186b', '4384f4e8bcd501038c0599cb'], ['dcb7a4c5c1ccb712d7fb5d60', '0c2fca62e3c99418d71c3483', 'ff370b54972a24abfbe8ff56'], ['0102546de4c472fe90a15c7d', '06f7302fa6e70eed0e9ded44', 'e53be44d3dc3c0d2f71535fe'], ['489c14c2e8de60a5f562ee7c', '16021bf3071cfe45555d4fcf', '17c13289203e060846709994'], ['f587d4d4358e5b95cc5441c5', '84ab8ac6d379b9dfbe3b4807', '9508774db6a3d8187ed1cbd8'], ['92b1a9a196874d943d2616b9', 'e499dbe4824803319c01ea29', '193efaa172205384ceddc676'], ['ae730bcb250aaf341ef232cf', 'a0d2bf16849b7d6fe4ec85a5', '09f754dccf771b0825e99583'], ['eecccfab1c8776ea7391b956', '31f74da518761683b404d0a1', '5d75c81872788ee207559d27'], ['b27cbb793d1e4c9a973e3ec4', '6f0fd7997a366a0839667e99', 'd0bb4963786b39f3726a4fb7'], ['3c1fc7d5525c38a79d0ed3af', '7277fb16ae28fd1fcda515c7', '7ad4750aae1cc01eb81cb3b2'], ['604b6b0cc5aa451614414275', '0fb51068ec4f9cdf67d9a4a4', '58a5cb3e845782539e571fc7'], ['4597e35d49e9e04177381824', 'a7634131d7d10aa8cf713961', '723b37c8e5665612dc728b76'], ['b12907cda9bf03b6314b7716', 'b0817510291c49fc5d7b15cb', 'b478f5b849724470ddebedb5'], ['f4a3b261eaec7eb4f842d058', '3f7ada252260a21d2354bc36', '6a37771a04d1cc5bcb030b7f'], ['d1e3d5e4ca5a5ee399cfbf85', '2f213b1ed53547cbff20ff87', '35a7c94b3fb7cd6769cc0836'], ['c4afe5aa29f4509209b4af3f', '22e09631fe038e73bc9a0140', 'f87766af845f4628455466c7'], ['96558e0d1d64253f2eabc7ab', 'c748e56206698b17eb9a69ce', 'a65c4269d7a57faba297d149'], ['b4c133c258a91fe8aba07ef2', '886415c4cde339fee810024a', '7f73c227aa99317fe113a8be'], ['a98f51508b7f9f45aea4c8f9', 'd27dbc1b32e1690e1f82e50d', 'ee0573f3bac82fb519fe2167'], ['8f06823a189be5f5dac1ad96', '0b247382a132392fa21a2f0c', 'd7e93ab2fc10fca63c90591c'], ['24dc14094675be56b19ca5e9', '3d7480896d5a2f0e99804a70', 'bf00c3dcea8d9dd1109ad826'], ['b3f34d2655c060553529064b', 'f4ceac27dc530f0f188a9f81', '437aac60bcf978aa0b372c58'], ['32703d124184c7b55761b09f', 'd7eb9109a3312be255719dc1', '9f06acf933e5994b81cf17ad'], ['df1cee9e683d019bbed0cf5e', 'f20bc3a9e0e05dfab53a495c', '2e024ee27d3c6d781c1b4d9b'], ['af276bc55a9806a98df99515', 'be7e14912366e06eb8777307', '7c58734578f3bb45bc16a3ed'], ['861fcc0df972a053f31144f8', '0b52f8cc6dc54811e1f12095', '8deb4c8e337c1b31873b5ce0'], ['0db5d2ee7d8e9535a7a08ca2', 'fd112eae32fd86d4c686d05f', 'ffa5cf306295de3fe2ed09a5'], ['0db5d2ee7d8e9535a7a08ca2', 'fd112eae32fd86d4c686d05f', '42d7c88687386d888af44114'], ['0db5d2ee7d8e9535a7a08ca2', 'fd112eae32fd86d4c686d05f', '67ddc52abd227a66f68d4344'], ['0db5d2ee7d8e9535a7a08ca2', 'fd112eae32fd86d4c686d05f', 'b2c6b298c7cb9ecdbf1381c7'], ['0db5d2ee7d8e9535a7a08ca2', 'fd112eae32fd86d4c686d05f', '4d2709f991f68a49a2c27be0'], ['0db5d2ee7d8e9535a7a08ca2', 'fd112eae32fd86d4c686d05f', 'e5d1ade2636fc8fcfcd42935'], ['0db5d2ee7d8e9535a7a08ca2', 'fd112eae32fd86d4c686d05f', 'efb64c4b7bde2085dda62e8a'], ['0db5d2ee7d8e9535a7a08ca2', 'fd112eae32fd86d4c686d05f', 'e77b9c94a23d535224b229c2'], ['0db5d2ee7d8e9535a7a08ca2', 'fd112eae32fd86d4c686d05f', '46d23d30b7dd5ffbd4871435'], ['0db5d2ee7d8e9535a7a08ca2', 'fd112eae32fd86d4c686d05f', '8d18dc306333f3b3460875e0'], ['0db5d2ee7d8e9535a7a08ca2', 'fd112eae32fd86d4c686d05f', '165db182f66b6a0763dc02f4'], ['0db5d2ee7d8e9535a7a08ca2', 'fd112eae32fd86d4c686d05f', '54cbdc3c4696357bcc6841d2'], ['0db5d2ee7d8e9535a7a08ca2', 'fd112eae32fd86d4c686d05f', '55b8893ece7e7737709ecddf'], ['9c6273909b5718d484b17b25', '83a4e602ea5a163bb6d3d674', '334161c043c6bb9c7e9664b1'], ['448fd792083681cecf874ef6', 'a3f3223450e89258feeae742', '6fbb73c62d66dac6b56e62d4'], ['448fd792083681cecf874ef6', 'a3f3223450e89258feeae742', '8db8d2d0c332e60129e37fb6'], ['872d13025e77b9885aa083d2', '40bc6c81659e90754d4511aa', '77034acf90eeb0c735052212'], ['872d13025e77b9885aa083d2', '40bc6c81659e90754d4511aa', 'd17935c12ff9ebedec7d0a39'], ['872d13025e77b9885aa083d2', '40bc6c81659e90754d4511aa', '1a4d10487f98e1b2ccb1811a'], ['fbad549c2e6ae07c7545ecf8', '2812ba1d91ba520c321656c0', '184eabe2adcee7cb67f18281'], ['3e2f52164f5a3a37c5d84e92', 'b69e140b060de0f8f95929c2', 'ab24286bae90223b98a99671'], ['3e2f52164f5a3a37c5d84e92', 'b69e140b060de0f8f95929c2', 'f06709e5b8717eb0f3e2d8df'], ['c064fd63b32efe01d479e34f', '9935ffcdd23a761842384255', 'cea70632f0a565aa999bc04f'], ['21d6cefdc3e2027ccf95c363', '39130bf6cd05e66bec2363d0', 'dcdedbd9ff14e93fc3a56e63'], ['21d6cefdc3e2027ccf95c363', '39130bf6cd05e66bec2363d0', '75e45b34ebe48b34e2225d08'], ['21d6cefdc3e2027ccf95c363', '39130bf6cd05e66bec2363d0', '147d5bcd40714416ea2a3389'], ['21d6cefdc3e2027ccf95c363', '39130bf6cd05e66bec2363d0', 'ae2f170c2c81f8d6310d0787'], ['586f19022c488e525d50323d', 'de4f3f0858706e1d745fd24c', '9b45970c791d2d4a83093f45'], ['7b1ea499ba204910f3db0450', 'fbe1acea8e7fe33ef70a7741', '434578822c9ea104cadd843a'], ['263517311c2ad139d4eb57ca', 'b45057ae06777e0c28bca6c5', 'd316bcbc694c9dbb6555f340'], ['263517311c2ad139d4eb57ca', 'b45057ae06777e0c28bca6c5', '32cdf7b73deb13465e2e0dd9'], ['8a675f9db3b762a86dce5b07', '4d7e25377dfbd2187da8757d', '7bad0ca71b12057cf0d9353d'], ['2451f6a4675b399457363576', 'ab455f0c7d3951669ee22ca6', '85a3900156d70aaf6a0e25a7'], ['2451f6a4675b399457363576', 'ab455f0c7d3951669ee22ca6', 'e8ed641e78154c60bddd90c7'], ['2451f6a4675b399457363576', 'ab455f0c7d3951669ee22ca6', 'ef83dbf523bda74ba15b1287'], ['2451f6a4675b399457363576', 'ab455f0c7d3951669ee22ca6', '7f101e4a2250fd5d3ac4c62b'], ['2451f6a4675b399457363576', 'ab455f0c7d3951669ee22ca6', 'f677deb39cb91390bf27daf2'], ['2451f6a4675b399457363576', 'ab455f0c7d3951669ee22ca6', 'd35e1ce9d0e79d339fc7ab75'], ['2451f6a4675b399457363576', 'ab455f0c7d3951669ee22ca6', '95685a4fdcc825a6a3202261'], ['2451f6a4675b399457363576', 'ab455f0c7d3951669ee22ca6', 'b2f47a97b2fa8ac749e5a6a5'], ['2451f6a4675b399457363576', 'ab455f0c7d3951669ee22ca6', 'd7bbe3697a85e6435ee19a9f'], ['2451f6a4675b399457363576', 'ab455f0c7d3951669ee22ca6', '25b28c1f0cec6ae1af108161'], ['2451f6a4675b399457363576', 'ab455f0c7d3951669ee22ca6', '6524bee820d963319ec66ba4'], ['2451f6a4675b399457363576', 'ab455f0c7d3951669ee22ca6', '366a66932235ff59814dd7b5'], ['2451f6a4675b399457363576', 'ab455f0c7d3951669ee22ca6', '4a569392b20ef309f03bfe2f'], ['2451f6a4675b399457363576', 'ab455f0c7d3951669ee22ca6', '33d4fad5087ac272f8a277f6'], ['2451f6a4675b399457363576', 'ab455f0c7d3951669ee22ca6', '244d8ff647a3aea900a1eeb3'], ['2451f6a4675b399457363576', 'ab455f0c7d3951669ee22ca6', 'a9f1978da2f56ee06362798d'], ['2451f6a4675b399457363576', 'ab455f0c7d3951669ee22ca6', '7eea3bfd529c89adac9aac5b'], ['2451f6a4675b399457363576', 'ab455f0c7d3951669ee22ca6', '5d23840d4b1a3f765895d703'], ['2451f6a4675b399457363576', 'ab455f0c7d3951669ee22ca6', 'ca664b6407d4de82a1f85fe1'], ['2451f6a4675b399457363576', 'ab455f0c7d3951669ee22ca6', '45f705d5ebf57a49603a1bb4'], ['2451f6a4675b399457363576', 'ab455f0c7d3951669ee22ca6', 'd28269fa3179d3ed9df998fa'], ['2451f6a4675b399457363576', 'ab455f0c7d3951669ee22ca6', '117e0306a76df320845784bd'], ['2451f6a4675b399457363576', 'ab455f0c7d3951669ee22ca6', '2aa7d4eaacd216c69cdfb2a0'], ['2451f6a4675b399457363576', 'ab455f0c7d3951669ee22ca6', 'c3704e8d62447886739a0ab2'], ['2451f6a4675b399457363576', 'ab455f0c7d3951669ee22ca6', '339adda53b0435c3d785043f'], ['2451f6a4675b399457363576', 'ab455f0c7d3951669ee22ca6', '07e493a6db41a51dd1f3addf'], ['2451f6a4675b399457363576', 'ab455f0c7d3951669ee22ca6', '38077b7e098dc4c39ec07adb'], ['2451f6a4675b399457363576', 'ab455f0c7d3951669ee22ca6', '81bbd3dfeb1820c3a3aabc68'], ['2451f6a4675b399457363576', 'ab455f0c7d3951669ee22ca6', 'ca9eff37905f6a8f3c8e54f8'], ['2451f6a4675b399457363576', 'ab455f0c7d3951669ee22ca6', '8c12a5ae3915aa2a072c5e70'], ['2451f6a4675b399457363576', 'ab455f0c7d3951669ee22ca6', '45790c0742acb924b4377a29'], ['2451f6a4675b399457363576', 'ab455f0c7d3951669ee22ca6', 'b82795e5e22f8b95f706b64f'], ['2451f6a4675b399457363576', 'ab455f0c7d3951669ee22ca6', '8cbb7f4c4147b47630e4e32a'], ['2451f6a4675b399457363576', 'ab455f0c7d3951669ee22ca6', '5e8c67de635ccedb03e4130f'], ['2451f6a4675b399457363576', 'ab455f0c7d3951669ee22ca6', '5ae4b473c0c3af264953838b'], ['a3b649a98db7225fb52f969f', '1f4fe790bbfcbd962bdfc65a', 'b9e38ad2894e5705fc5cfb95'], ['01298770180b19fd96bd5950', '5827c16ab6ef1e3c1e8e8e44', 'b44492b24febbda4667398ef'], ['e032c558cd3fb53ead12bcf3', 'b19c37b1c89d74ec90956467', '23ed2cc68eae16415d5c3e21'], ['bb22099573adad2eb4ea7daa', '7c08e43470d8f47139b916ab', 'fd78f2dedd3f5ed9d2c0191b'], ['b61ef05ac53f06fe515e6022', 'f38b2584886488dfce4181f6', '01a9041e409a643790c7294e'], ['1e6c5af969a96b64fc7b199a', 'a1df2aeff683c39ab29cc2eb', 'b16ccf327009fe79d48ce107'], ['1e6c5af969a96b64fc7b199a', 'a1df2aeff683c39ab29cc2eb', '5cb9b17ffc96440c00521b65'], ['8880926b6c2ab79061d02664', '2bc936e7ccd19b0b829a3c81', '1dfc017e25e5111670c222ca'], ['8880926b6c2ab79061d02664', '2bc936e7ccd19b0b829a3c81', '315d86ed5e6b1c77ab1100de'], ['2cb1d8de87807467563508dd', 'c2891bafad677365b4fa7813', 'a4ae6cfee7e98114c0137638'], ['03426d55b9b546b145516e07', '847444320f2a6db6e56d3108', 'bf6b24b68ebc8a850fb3ef0e'], ['03b60b46e66d77464d5cd7af', '0b5e9c7bbc89f612804b5cb7', 'ee37a408f701869df0a8a2f6'], ['03b60b46e66d77464d5cd7af', '0b5e9c7bbc89f612804b5cb7', 'c27a45265b44173a195b0cc3'], ['03b60b46e66d77464d5cd7af', '0b5e9c7bbc89f612804b5cb7', '0a6368c32d8fc0c4c2b2cdf5'], ['03b60b46e66d77464d5cd7af', '0b5e9c7bbc89f612804b5cb7', '1523a88d52b7bdbc30ee5d84'], ['0348163e512056cd4e93496f', '8305a9cb53c515054cedea65', '0cf913330a74b71cfc76acfd'], ['0348163e512056cd4e93496f', '8305a9cb53c515054cedea65', 'bef5cb1a9bb5ac244852e5b3'], ['f8c9c3ce67e0bd7b4b6d44c8', 'a519cb932ae173ac49f0c4e4', 'c335421d639a80836964246c'], ['f8c9c3ce67e0bd7b4b6d44c8', 'a519cb932ae173ac49f0c4e4', '96254b7e196f092213de2885'], ['0ad4f6776ce2c4e2c387002b', '1eed7a5ec35ead56d3762239', '288fd8778008bb91431e7433'], ['0ad4f6776ce2c4e2c387002b', '1eed7a5ec35ead56d3762239', '99ee8bacc5ba0e137617a942'], ['6c5b870d4ecc154a8f219002', '80a55c179c654768bc134eb0', 'ca39096b6035b7efa5119c36'], ['842f5a3e9b15cf6b52fdb1f3', 'c6cfa3120e38b494c53054bb', '6e53a958adc44c38c797d799'], ['b909b6e049def1ec7354139a', 'e14b57c76262e8608b3b5865', '6178e3f6230c03bfffd09580'], ['b909b6e049def1ec7354139a', 'e14b57c76262e8608b3b5865', '253b548178ab4c4a3ce3875b'], ['b909b6e049def1ec7354139a', 'e14b57c76262e8608b3b5865', '13e08bdca0f1aa9dfef9a471'], ['b909b6e049def1ec7354139a', 'e14b57c76262e8608b3b5865', 'acb205cfad5e9e37394a3e2e'], ['b909b6e049def1ec7354139a', 'e14b57c76262e8608b3b5865', 'de26e9e0064affd2f73ba954'], ['b909b6e049def1ec7354139a', 'e14b57c76262e8608b3b5865', '65a7a2bd90b2e07dd8307e48'], ['b909b6e049def1ec7354139a', 'e14b57c76262e8608b3b5865', '543712ac7811524921ab5133'], ['b909b6e049def1ec7354139a', 'e14b57c76262e8608b3b5865', 'a9abcc55492056c4ca46c6c4'], ['b909b6e049def1ec7354139a', 'e14b57c76262e8608b3b5865', '6d710f01ddc6de332d0cf74d'], ['b909b6e049def1ec7354139a', 'e14b57c76262e8608b3b5865', '213a76958ac0348bcc1ddea0'], ['b909b6e049def1ec7354139a', 'e14b57c76262e8608b3b5865', '8f17c90f0c10d3a052b6f756'], ['b909b6e049def1ec7354139a', 'e14b57c76262e8608b3b5865', '5f6c60d6c7645c7af90bac79'], ['b909b6e049def1ec7354139a', 'e14b57c76262e8608b3b5865', 'ab13aa5f80fa03c20622a009'], ['b909b6e049def1ec7354139a', 'e14b57c76262e8608b3b5865', 'c113fff8879565675b5f620f'], ['b909b6e049def1ec7354139a', 'e14b57c76262e8608b3b5865', '3ae19243f6075c90386f260d'], ['b909b6e049def1ec7354139a', 'e14b57c76262e8608b3b5865', 'e795e50db806ad53ea743412'], ['b909b6e049def1ec7354139a', 'e14b57c76262e8608b3b5865', '9c54425ec9e3f9f74a01fdb3'], ['b909b6e049def1ec7354139a', 'e14b57c76262e8608b3b5865', 'a968518a4086893d0bb34b6c'], ['b909b6e049def1ec7354139a', 'e14b57c76262e8608b3b5865', '9f354e2be2661259f6061558'], ['b909b6e049def1ec7354139a', 'e14b57c76262e8608b3b5865', 'c33c9b362e3053683aaf931f'], ['b909b6e049def1ec7354139a', 'e14b57c76262e8608b3b5865', '04a456893a11cded661b15ba'], ['b909b6e049def1ec7354139a', 'e14b57c76262e8608b3b5865', '34597c0e414363d54af3ac96'], ['d6e8258816be1cf3d6469be9', 'ec2446be312b82cac5f89d06', '64ebf1e360d5ec62ace8e603'], ['d6e8258816be1cf3d6469be9', 'ec2446be312b82cac5f89d06', '58087fd6dfb51e5c8a8c0627'], ['d6e8258816be1cf3d6469be9', 'ec2446be312b82cac5f89d06', '763dde2c7cd37bc87dc3c4bf'], ['d6e8258816be1cf3d6469be9', 'ec2446be312b82cac5f89d06', '061c4dda5f7938a31cac8744'], ['d6e8258816be1cf3d6469be9', 'ec2446be312b82cac5f89d06', '59616be07d4b3574caf2d285'], ['d6e8258816be1cf3d6469be9', 'ec2446be312b82cac5f89d06', 'eac46283c8cd107a58ed7f7a'], ['666e4697a7fa1e802567c699', 'c91165ddc44513f739c816d1', '26c64253bb79b61dbe0c1631'], ['666e4697a7fa1e802567c699', 'c91165ddc44513f739c816d1', 'c76fcb25b1433ed82ea36418'], ['33d1f34fd412b8faa4cc3d7e', '42debf3e736542be7bf6c6c4', '0655a894705bf838e028383a'], ['cfd0add1c79dbb46c80dec2f', 'ca8d67d9e48ad996503e7d66', '9d98eea2c34636ac0ec5333b'], ['cfd0add1c79dbb46c80dec2f', 'ca8d67d9e48ad996503e7d66', '9552624b92942122a4ad44a7'], ['7f25f5fda840e5d83e419d19', '5b099455c1858022e860545d', '2317a5c1b500cd910239d590'], ['e468cd899b05ee24d06d0bb8', 'c3a7546cb8512d8c870a87d9', '9945da2f5dcd1f9bb66a0d7b'], ['4c187b1a64ba5173e2c9ff09', '2bd4db7714f8d360a6e65f86', '7a81bebbb146d716f52f4bb7'], ['4c187b1a64ba5173e2c9ff09', '2bd4db7714f8d360a6e65f86', '652ce71973ffb2b25a71692b'], ['4c187b1a64ba5173e2c9ff09', '2bd4db7714f8d360a6e65f86', '4795aca80aa41a0db3e0bde5'], ['4c187b1a64ba5173e2c9ff09', '2bd4db7714f8d360a6e65f86', '80e0a4d1a113a3d0fabfc7d0'], ['4c187b1a64ba5173e2c9ff09', '2bd4db7714f8d360a6e65f86', 'e4f04610342765ba181f77cc'], ['4c187b1a64ba5173e2c9ff09', '2bd4db7714f8d360a6e65f86', '4d2a5dee8da023da8985a3f9'], ['4c187b1a64ba5173e2c9ff09', '2bd4db7714f8d360a6e65f86', 'ba54f90c2377c9a475362c9a'], ['4c187b1a64ba5173e2c9ff09', '2bd4db7714f8d360a6e65f86', 'f556845ffd6526d1919ad282'], ['4c187b1a64ba5173e2c9ff09', '2bd4db7714f8d360a6e65f86', '62b6b9af01b8ad7745ede57d'], ['4c187b1a64ba5173e2c9ff09', '2bd4db7714f8d360a6e65f86', '5ea460afd5ba56aafcb77b70'], ['4c187b1a64ba5173e2c9ff09', '2bd4db7714f8d360a6e65f86', '7075fb7f0d1e88c9a34ba5b6'], ['4c187b1a64ba5173e2c9ff09', '2bd4db7714f8d360a6e65f86', 'acbf618c6a4851b24e13ecac'], ['4c187b1a64ba5173e2c9ff09', '2bd4db7714f8d360a6e65f86', '30002268aa5c531e664f0133'], ['4c187b1a64ba5173e2c9ff09', '2bd4db7714f8d360a6e65f86', '03c098c8a3e2e08bc1bbdb7f'], ['4c187b1a64ba5173e2c9ff09', '2bd4db7714f8d360a6e65f86', '5cbabfc1f990c6fb8fd0f6cc'], ['4c187b1a64ba5173e2c9ff09', '2bd4db7714f8d360a6e65f86', 'd75a6cffee54e460a3471f58'], ['4c187b1a64ba5173e2c9ff09', '2bd4db7714f8d360a6e65f86', '44f60647b3f40473c67fb120'], ['4c187b1a64ba5173e2c9ff09', '2bd4db7714f8d360a6e65f86', 'e2f04c576dc0f5a957096534'], ['4c187b1a64ba5173e2c9ff09', '2bd4db7714f8d360a6e65f86', '2cfe34c87822f70ef3beeb09'], ['4c187b1a64ba5173e2c9ff09', '2bd4db7714f8d360a6e65f86', '2964e4c8db394e6f6e58b3f2'], ['4c187b1a64ba5173e2c9ff09', '2bd4db7714f8d360a6e65f86', '1435680cab2be9a4313034ff'], ['4c187b1a64ba5173e2c9ff09', '2bd4db7714f8d360a6e65f86', '409d3e3905099d7d6c39df49'], ['4c187b1a64ba5173e2c9ff09', '2bd4db7714f8d360a6e65f86', 'f5db64bdc9d952e23c818432'], ['4c187b1a64ba5173e2c9ff09', '2bd4db7714f8d360a6e65f86', '2cd189343059bc1849a0a933'], ['4c187b1a64ba5173e2c9ff09', '2bd4db7714f8d360a6e65f86', 'a0e4d402f8d70f0de688fb8c'], ['4c187b1a64ba5173e2c9ff09', '2bd4db7714f8d360a6e65f86', 'bc1dcdf1ee1dac8f75d16a7b'], ['4c187b1a64ba5173e2c9ff09', '2bd4db7714f8d360a6e65f86', '1398a5fe20b389f7cdbe20e9'], ['4c187b1a64ba5173e2c9ff09', '2bd4db7714f8d360a6e65f86', '05960772d3fbbb890ee82a50'], ['4c187b1a64ba5173e2c9ff09', '2bd4db7714f8d360a6e65f86', '1c417001584f149219d286e5'], ['4c187b1a64ba5173e2c9ff09', '2bd4db7714f8d360a6e65f86', '6e9037fa0804c9e2eeb3fa9b'], ['4c187b1a64ba5173e2c9ff09', '2bd4db7714f8d360a6e65f86', 'e5390cc80b396f7d2f1dc002'], ['4c187b1a64ba5173e2c9ff09', '2bd4db7714f8d360a6e65f86', '4c10ee69ef514960cdf405cd'], ['4c187b1a64ba5173e2c9ff09', '2bd4db7714f8d360a6e65f86', 'feb1f04a16669fdfc4b2cf88'], ['4c187b1a64ba5173e2c9ff09', '2bd4db7714f8d360a6e65f86', '2bd9cf9bf9e5b4af5010270f'], ['4c187b1a64ba5173e2c9ff09', '2bd4db7714f8d360a6e65f86', '9597e5d3b5480778816aeb3b'], ['4c187b1a64ba5173e2c9ff09', '2bd4db7714f8d360a6e65f86', '12c8ab5c8e0b2062b10777ae'], ['4c187b1a64ba5173e2c9ff09', '2bd4db7714f8d360a6e65f86', '503867f4058340a9bbe11aee'], ['4bda16c648566259ea1b4e4c', 'c299b9fc994574c2637e871d', '7b5bc60e32e112ae487c32dc'], ['4bda16c648566259ea1b4e4c', 'c299b9fc994574c2637e871d', '5d45a3141cdcedd36d886652'], ['4bda16c648566259ea1b4e4c', 'c299b9fc994574c2637e871d', 'a7c06cbc1b62f155d5d6b36b'], ['4bda16c648566259ea1b4e4c', 'c299b9fc994574c2637e871d', '28a9b5f7c5e9b4b86e6a0321'], ['4bda16c648566259ea1b4e4c', 'c299b9fc994574c2637e871d', 'd4c3246f8c3dd0488959e802'], ['4bda16c648566259ea1b4e4c', 'c299b9fc994574c2637e871d', '8c09c55acead327fe0d739ab'], ['4bda16c648566259ea1b4e4c', 'c299b9fc994574c2637e871d', 'ddd4ecb7957c17831784d7c0'], ['4bda16c648566259ea1b4e4c', 'c299b9fc994574c2637e871d', 'ce4ad3bde88b270de7ac46fc'], ['4bda16c648566259ea1b4e4c', 'c299b9fc994574c2637e871d', '253c96150226fadcfcb97353'], ['4bda16c648566259ea1b4e4c', 'c299b9fc994574c2637e871d', 'fe5b425311078748c0292e0c'], ['4bda16c648566259ea1b4e4c', 'c299b9fc994574c2637e871d', '250d97e3b5e9e406d801767c'], ['a33a1215ca97bfc569449511', '517dc9c6349ef6c6c87433e0', '21ccc7c8b894ff41926a8780']]\n",
            "[['085516aadfae1895dbb885ad', '85f3ceb11457f3e7c9ca42f9', '16c3a2969ced18441dc46204'], ['858daab0db558d373e0c6826', '578503a63ef4485a84e1d411', '0efa0e62509a0b2029e1bc59'], ['98e6db81e084e408079cea8a', '183bcbeaaecca9d25cc88e88', 'f486ffc95413b4b17dddf82d'], ['728a62d9e3be6432c63f8be5', 'bc029fe7d89d4744868b20ad', 'fe7f2989b95f866b0d72d0a5'], ['7fa7a496b5a242221e1f92af', 'cb8c2b3ae50af68cdbb86e2f', 'fca6003f4940ea518958b278'], ['79a0c95ae2ec99144ead217c', '9fbf7961f9e350e0c86e896a', '1b1dfdc7aec7eb03bb8cb82a'], ['090026b075aa255ce3d59fc5', '14ccb2502def38da26b6bc2e', 'dc420b3716375a2c07903ced'], ['c1d3a04e6d80c7ddff2c6fa1', 'cf939dd2aad844961b1dbb74', '342c27fca8631dabb7254d4b'], ['44503b2fdb8162db597ad99b', '6337668d6f9ccc881828de1f', 'f4854c558fb0596d2d993c58'], ['03a4028cac99759d95f3178f', '0deb55227976f4f797381cd2', '0b69f50408d1b0f988aa10b8'], ['79e0302124211187343cae00', 'bbad3b38d11ee5372292b26f', 'cdab5ad4213b37b24113b0bd'], ['3d3e7e88cd86f936f2876de2', 'a7dc96a4f6f7699aead4612f', '4ce8e66d100a2dc3c0f08d1c'], ['e85907147ccfcd9d310c13e8', 'afa5ca5c2724780ca8646d45', '829df2dac59163ca669c3ea1'], ['e85907147ccfcd9d310c13e8', 'afa5ca5c2724780ca8646d45', '5bf2281d1f7ec883e2c7a5fa'], ['e85907147ccfcd9d310c13e8', 'afa5ca5c2724780ca8646d45', 'c5760f7dac1d26859e56edfd'], ['08894493e97ce9c4f5053830', '67a7e5d9690b21b2398dbd8f', '4cf7c5c27561cf554df9ea08'], ['ba7d0be0300134a64710bc1e', '65d5700ed95f1f3ee7aaebea', '1ccca20bccd1bc5cdabe2144'], ['ba7d0be0300134a64710bc1e', '65d5700ed95f1f3ee7aaebea', 'ba462c32e2c50e58ad1c2b4e'], ['ba7d0be0300134a64710bc1e', '65d5700ed95f1f3ee7aaebea', 'ad8250ecf80531ec484f7ac8'], ['ba7d0be0300134a64710bc1e', '65d5700ed95f1f3ee7aaebea', '989e9b8fc5bef48b916f853b'], ['ba7d0be0300134a64710bc1e', '65d5700ed95f1f3ee7aaebea', '01c56487c1af79d1a8a8d888'], ['ba7d0be0300134a64710bc1e', '65d5700ed95f1f3ee7aaebea', 'c3739a1f9a86172706a55973'], ['ba7d0be0300134a64710bc1e', '65d5700ed95f1f3ee7aaebea', '3a500555652135f201071079'], ['ba7d0be0300134a64710bc1e', '65d5700ed95f1f3ee7aaebea', '13cb08371b5124f03b24b2e7'], ['ba7d0be0300134a64710bc1e', '65d5700ed95f1f3ee7aaebea', '00ef7efd27679ddc0ee8f064'], ['ba7d0be0300134a64710bc1e', '65d5700ed95f1f3ee7aaebea', '9bb6c31825f2e7fedd195dad'], ['ba7d0be0300134a64710bc1e', '65d5700ed95f1f3ee7aaebea', '37e9c12670805426f7dd7afe'], ['ba7d0be0300134a64710bc1e', '65d5700ed95f1f3ee7aaebea', 'c8c1bf9e4aa2492c820ccda2'], ['ba7d0be0300134a64710bc1e', '65d5700ed95f1f3ee7aaebea', 'b98ae60fda7cf330672cd2c2'], ['ba7d0be0300134a64710bc1e', '65d5700ed95f1f3ee7aaebea', 'c42fd9415acc0cfe6533936e'], ['ba7d0be0300134a64710bc1e', '65d5700ed95f1f3ee7aaebea', '116b06a70339237bde855af3'], ['df38147c32468b00e46839bf', '9af9f0315209a654f2c6991f', '704d066e582ab012339500e9'], ['df38147c32468b00e46839bf', '9af9f0315209a654f2c6991f', '094d6e69825aa929879a3404'], ['71c98dc6c10794be50801257', '4d7d74f46fe6c330aeff4625', '0f2d4a58c6a0ce605a3fd4f0'], ['e20f0997ca240c2946b7e33b', '67de432d5c06aa88666e7735', '2cfcce54da3f35252c6836de'], ['9e0878dfcce12a4a996be8a7', '0aab7305e4b4f0d3537962d6', '071d5e334e5745fec5218d4b'], ['6ff31c74b2b6c965bd136e52', '13d058991e5ad0485dd58368', '85767388a14dd25e9669204f'], ['6ff31c74b2b6c965bd136e52', '13d058991e5ad0485dd58368', 'd108fff03687367c217142fe'], ['98e268cddad867d57cd2dfa2', 'ed7cba34cb8e31c558682e96', '6931b3f1962390e6ba67467b'], ['2c805ea227b412ff7be2ff19', '58437ef3126f7c8ae3caef05', '7778f8c9441db18c7ddb72b8'], ['cd20ecba40cf1678a1fd8a96', '37fc2daeb5cf045b39f3be79', '1a83dab80f47a1476ccd2268'], ['cc9c5cb9912e286856491ca1', '46ca1ebc66132096757402de', 'b23d54c6d17e2dc553e99171'], ['f71405a25b97609d2a1a5856', 'b4c596c07d24befc09c2b7a3', '78576affcc154cfe2b38b342'], ['bc0b6ecd30d99fa2b95f7a47', '7e817338fae60b72bc0e16a6', '14fb6bbb4afaa75621bfc589'], ['5ba1eb5e5f8ddb831d755d06', '2c1ffb51df0e9d946adb27b3', 'ee0628979c06ea0d795b6ab4'], ['e0f063195a58d3111129399b', 'b6f71e335631a5dd5b90002f', '106b9ad653921db9b09286af'], ['130d56773425cc5e0bfd5fdb', '6fe439a8e5ba9198f0b6e77e', 'c29d44772328ec3e4c5c9282'], ['c2e2c61dd630714f9c61fd93', 'fab4fceb22776edbd79124f2', 'd8372e28dbfcdc0657cb0c1c'], ['cf8e958b79dbe4f091b75841', 'a004b3cae952f5849b37a809', 'e9399913a3456c081f0e8a30'], ['d897b4554ac69453bb358275', 'eacfc3fe0f69e9f77d30b7c0', '34d347fb17db9823e14c3c74'], ['5cbc9ae214cdfc9126fee849', 'a3845f05ede4d9120c3e7ce2', 'dd7cdd1a548333884d8edafc'], ['df6e9f47151917f96fc32608', '0092cd83316fefea0c7a39a2', 'b02f9e85968577c1bb7d4b4f'], ['b4570eae7888d499c2904528', '0afdbe0333988953fac30adf', '1e27f57356b499baa1aefe4b'], ['916983e376e0aaeb7bc10a3b', '1f386e96bb8981fbeb9f798e', '91c23c11e40e632cb515d744'], ['a8bedcad8042a3958171a3df', '1ab4d6696531c91073a5186b', 'ebc0019c77785100612b75ef'], ['dcb7a4c5c1ccb712d7fb5d60', '0c2fca62e3c99418d71c3483', 'c7aafb6e8e51195547e4425e'], ['0102546de4c472fe90a15c7d', '06f7302fa6e70eed0e9ded44', '7c9aefe636d654f95955bb46'], ['489c14c2e8de60a5f562ee7c', '16021bf3071cfe45555d4fcf', '566e112749b52471bf4f4952'], ['f587d4d4358e5b95cc5441c5', '84ab8ac6d379b9dfbe3b4807', 'fd66512dc6543c72fddc60cc'], ['92b1a9a196874d943d2616b9', 'e499dbe4824803319c01ea29', 'c7619e308b6536a9093f3f0d'], ['ae730bcb250aaf341ef232cf', 'a0d2bf16849b7d6fe4ec85a5', '8438ec5ee470f091c31e4c46'], ['eecccfab1c8776ea7391b956', '31f74da518761683b404d0a1', '8ed0b280ee7754f8c78bdee6'], ['b27cbb793d1e4c9a973e3ec4', '6f0fd7997a366a0839667e99', 'd6e229879e513bc7d375d751'], ['3c1fc7d5525c38a79d0ed3af', '7277fb16ae28fd1fcda515c7', '1533c9ea13dde7f442fb0776'], ['604b6b0cc5aa451614414275', '0fb51068ec4f9cdf67d9a4a4', 'd48dd5b335adb7d7d3579a4b'], ['4597e35d49e9e04177381824', 'a7634131d7d10aa8cf713961', '09eca2f0d6755fd1f42574f3'], ['b12907cda9bf03b6314b7716', 'b0817510291c49fc5d7b15cb', '0b13fdb8026e9d703d77ade1'], ['f4a3b261eaec7eb4f842d058', '3f7ada252260a21d2354bc36', '379b4a06378249427782f3dc'], ['d1e3d5e4ca5a5ee399cfbf85', '2f213b1ed53547cbff20ff87', '1ba51270ffaee1df4c7be9f1'], ['c4afe5aa29f4509209b4af3f', '22e09631fe038e73bc9a0140', '417b2d0efff5a953fe55fe9f'], ['96558e0d1d64253f2eabc7ab', 'c748e56206698b17eb9a69ce', 'cda1a919cf0858549cadc49f'], ['b4c133c258a91fe8aba07ef2', '886415c4cde339fee810024a', '519355fe0329a5ed46f50ada'], ['a98f51508b7f9f45aea4c8f9', 'd27dbc1b32e1690e1f82e50d', '2683a5cdf033fcbd33c4785b'], ['8f06823a189be5f5dac1ad96', '0b247382a132392fa21a2f0c', '44c8977bce0782b7d72c879e'], ['24dc14094675be56b19ca5e9', '3d7480896d5a2f0e99804a70', '2c020efbf006afa605ddc47f'], ['b3f34d2655c060553529064b', 'f4ceac27dc530f0f188a9f81', '4d27f3be8b6a2c36f265de04'], ['32703d124184c7b55761b09f', 'd7eb9109a3312be255719dc1', '857afb03b2be711fe203dcbb'], ['af276bc55a9806a98df99515', 'be7e14912366e06eb8777307', 'fe3f6bb0f673fe6b341f1614'], ['861fcc0df972a053f31144f8', '0b52f8cc6dc54811e1f12095', '3ccc7a45f9d4929a6539c759'], ['0db5d2ee7d8e9535a7a08ca2', 'fd112eae32fd86d4c686d05f', 'c5542c2cc3ea4f38ab64846c'], ['0db5d2ee7d8e9535a7a08ca2', 'fd112eae32fd86d4c686d05f', '4a95467e797b1c70c04d14b0'], ['0db5d2ee7d8e9535a7a08ca2', 'fd112eae32fd86d4c686d05f', 'd4ba75fa74aafdf1a478884d'], ['0db5d2ee7d8e9535a7a08ca2', 'fd112eae32fd86d4c686d05f', '9260b0d562cdff54b41e44ca'], ['9c6273909b5718d484b17b25', '83a4e602ea5a163bb6d3d674', 'c8ebc1ac0c17320f7491f2eb'], ['448fd792083681cecf874ef6', 'a3f3223450e89258feeae742', '9fed238fac3172b6506d7813'], ['fbad549c2e6ae07c7545ecf8', '2812ba1d91ba520c321656c0', 'a59b9e1bfdd36ea03d6d5ba5'], ['3e2f52164f5a3a37c5d84e92', 'b69e140b060de0f8f95929c2', '1f8b9a96067a551ab4ff1896'], ['c064fd63b32efe01d479e34f', '9935ffcdd23a761842384255', '2f056b5e6d03fb7492d2fc92'], ['21d6cefdc3e2027ccf95c363', '39130bf6cd05e66bec2363d0', '2e2a6038601efafe7cd19dc0'], ['586f19022c488e525d50323d', 'de4f3f0858706e1d745fd24c', '13e2d5e05a3517281533e8ea'], ['586f19022c488e525d50323d', 'de4f3f0858706e1d745fd24c', 'b8a7626da9c746b718b2da3c'], ['7b1ea499ba204910f3db0450', 'fbe1acea8e7fe33ef70a7741', 'f0bd9e7cdfc5af92e23543a0'], ['263517311c2ad139d4eb57ca', 'b45057ae06777e0c28bca6c5', 'b9bec276c16652866a8cdde8'], ['8a675f9db3b762a86dce5b07', '4d7e25377dfbd2187da8757d', 'c1d8d433309fac8ed0544898'], ['2451f6a4675b399457363576', 'ab455f0c7d3951669ee22ca6', '630503ba72346d1ecc28afba'], ['2451f6a4675b399457363576', 'ab455f0c7d3951669ee22ca6', '763bc69a975828ebfe16e4d9'], ['2451f6a4675b399457363576', 'ab455f0c7d3951669ee22ca6', 'cec0784ff4a5d9a91df58f9d'], ['2451f6a4675b399457363576', 'ab455f0c7d3951669ee22ca6', '9cb123aa71cccfa0e53521ab'], ['2451f6a4675b399457363576', 'ab455f0c7d3951669ee22ca6', '1ec74b8c5a41c5368d6d8977'], ['2451f6a4675b399457363576', 'ab455f0c7d3951669ee22ca6', '7a8a7f11df417578519f7c5f'], ['2451f6a4675b399457363576', 'ab455f0c7d3951669ee22ca6', 'f50af150eef93e3e47fa6a3a'], ['2451f6a4675b399457363576', 'ab455f0c7d3951669ee22ca6', '6e400b22c8b67f9adb794d4d'], ['2451f6a4675b399457363576', 'ab455f0c7d3951669ee22ca6', '19700eb955183b695c0e5f48'], ['2451f6a4675b399457363576', 'ab455f0c7d3951669ee22ca6', 'fa552f42a71caf4797078703'], ['2451f6a4675b399457363576', 'ab455f0c7d3951669ee22ca6', 'b6bfaefee1b2c5eff644e32c'], ['2451f6a4675b399457363576', 'ab455f0c7d3951669ee22ca6', '2da02447d6e512fda40ec2a3'], ['2451f6a4675b399457363576', 'ab455f0c7d3951669ee22ca6', '65c9e25408867d02d616c82f'], ['2451f6a4675b399457363576', 'ab455f0c7d3951669ee22ca6', 'f4f1eab52112f433fa651bd2'], ['a3b649a98db7225fb52f969f', '1f4fe790bbfcbd962bdfc65a', '513f6e2c628414e611fd38bb'], ['01298770180b19fd96bd5950', '5827c16ab6ef1e3c1e8e8e44', '4bea69ff863a961dead2cfec'], ['e032c558cd3fb53ead12bcf3', 'b19c37b1c89d74ec90956467', '23cbb3b26e00b1234aad60c4'], ['bb22099573adad2eb4ea7daa', '7c08e43470d8f47139b916ab', '67cb1d22c65fb548487543b6'], ['b61ef05ac53f06fe515e6022', 'f38b2584886488dfce4181f6', '98eec9b7462b43132f2d637a'], ['1e6c5af969a96b64fc7b199a', 'a1df2aeff683c39ab29cc2eb', '8816a9be6b2db900f414cfed'], ['8880926b6c2ab79061d02664', '2bc936e7ccd19b0b829a3c81', 'add644b3e07621c89af01552'], ['2cb1d8de87807467563508dd', 'c2891bafad677365b4fa7813', '0549bded8390332258ca2666'], ['03426d55b9b546b145516e07', '847444320f2a6db6e56d3108', '548aad77df6ff3a66fb82c82'], ['03b60b46e66d77464d5cd7af', '0b5e9c7bbc89f612804b5cb7', '9c832b31a543be63de1b835e'], ['0348163e512056cd4e93496f', '8305a9cb53c515054cedea65', '63edb4eae8e1a494d3cb1a0e'], ['0348163e512056cd4e93496f', '8305a9cb53c515054cedea65', 'fb72b6f4a18ac9b2b090f2e1'], ['0348163e512056cd4e93496f', '8305a9cb53c515054cedea65', 'c5c940a0c601c0b4286dba6c'], ['0ad4f6776ce2c4e2c387002b', '1eed7a5ec35ead56d3762239', 'd74c60a7c021786c2ee4f571'], ['6c5b870d4ecc154a8f219002', '80a55c179c654768bc134eb0', '31bc892351d7554abbd61dad'], ['842f5a3e9b15cf6b52fdb1f3', 'c6cfa3120e38b494c53054bb', '042a4fcb0a11325f15655313'], ['b909b6e049def1ec7354139a', 'e14b57c76262e8608b3b5865', '1f8f823a34ed596e7f533b97'], ['b909b6e049def1ec7354139a', 'e14b57c76262e8608b3b5865', '8f1daa9bdcc4c19f2da548fa'], ['b909b6e049def1ec7354139a', 'e14b57c76262e8608b3b5865', 'bf18a895f725fd7f06a4906b'], ['b909b6e049def1ec7354139a', 'e14b57c76262e8608b3b5865', '97f680ce7b1f58c6bd351bb1'], ['b909b6e049def1ec7354139a', 'e14b57c76262e8608b3b5865', 'de4e8ec5838c9c0fc52fee0d'], ['b909b6e049def1ec7354139a', 'e14b57c76262e8608b3b5865', '572d3e085ead677cc269ab2a'], ['b909b6e049def1ec7354139a', 'e14b57c76262e8608b3b5865', '8f1d77eebd61c210c6f899d1'], ['b909b6e049def1ec7354139a', 'e14b57c76262e8608b3b5865', 'f4eac4fad427c03548fef2eb'], ['b909b6e049def1ec7354139a', 'e14b57c76262e8608b3b5865', '4ec759737679e7acb3f6ca20'], ['b909b6e049def1ec7354139a', 'e14b57c76262e8608b3b5865', '63b378bccf968b724f333823'], ['b909b6e049def1ec7354139a', 'e14b57c76262e8608b3b5865', 'fe63175b042ceb0c959efde0'], ['b909b6e049def1ec7354139a', 'e14b57c76262e8608b3b5865', '9364980d34b478027d9e846b'], ['b909b6e049def1ec7354139a', 'e14b57c76262e8608b3b5865', 'a41a5ef84a7e8a133563d994'], ['b909b6e049def1ec7354139a', 'e14b57c76262e8608b3b5865', '5b41a647a586ed4e58c08ab4'], ['b909b6e049def1ec7354139a', 'e14b57c76262e8608b3b5865', 'f5cef1b3784a8f4dd4421c55'], ['b909b6e049def1ec7354139a', 'e14b57c76262e8608b3b5865', 'b34f77a4630fda87d4bb3a0b'], ['b909b6e049def1ec7354139a', 'e14b57c76262e8608b3b5865', 'ead5ba9fb5e82c375feec979'], ['b909b6e049def1ec7354139a', 'e14b57c76262e8608b3b5865', 'b0c82a97780cbefc345f100d'], ['b909b6e049def1ec7354139a', 'e14b57c76262e8608b3b5865', 'e3be014c6b376aa12b5ab224'], ['d6e8258816be1cf3d6469be9', 'ec2446be312b82cac5f89d06', 'ed7e761f17b9db9f3de35be7'], ['d6e8258816be1cf3d6469be9', 'ec2446be312b82cac5f89d06', '6a5370c57cae98f78d485d8f'], ['666e4697a7fa1e802567c699', 'c91165ddc44513f739c816d1', '23c52250f0d3d85a2982a210'], ['33d1f34fd412b8faa4cc3d7e', '42debf3e736542be7bf6c6c4', '0b6f70ea133b86a83674baae'], ['cfd0add1c79dbb46c80dec2f', 'ca8d67d9e48ad996503e7d66', '55c868bd76382a99b0b91fd2'], ['7f25f5fda840e5d83e419d19', '5b099455c1858022e860545d', '7f4e3f5b43fa9e3680bf1f71'], ['e468cd899b05ee24d06d0bb8', 'c3a7546cb8512d8c870a87d9', '2a694c2769b0d76ac2f5082c'], ['4c187b1a64ba5173e2c9ff09', '2bd4db7714f8d360a6e65f86', '0a5d4ef041e007cbd14cc266'], ['4c187b1a64ba5173e2c9ff09', '2bd4db7714f8d360a6e65f86', '2ea1eeac573200f7773f468c'], ['4c187b1a64ba5173e2c9ff09', '2bd4db7714f8d360a6e65f86', 'acc4b102cacf32b1e5848eef'], ['4c187b1a64ba5173e2c9ff09', '2bd4db7714f8d360a6e65f86', '78a34993283a68b364dbced8'], ['4c187b1a64ba5173e2c9ff09', '2bd4db7714f8d360a6e65f86', '2267fe6f359a3b9d8b5747a1'], ['4c187b1a64ba5173e2c9ff09', '2bd4db7714f8d360a6e65f86', 'ea8f60c35a0bb85768b63b65'], ['4c187b1a64ba5173e2c9ff09', '2bd4db7714f8d360a6e65f86', 'fc58691d741dd336c683cbc9'], ['4c187b1a64ba5173e2c9ff09', '2bd4db7714f8d360a6e65f86', 'e61e6922b360810ef5259f5f'], ['4c187b1a64ba5173e2c9ff09', '2bd4db7714f8d360a6e65f86', 'e475a2028472d9ffff9c8e4c'], ['4c187b1a64ba5173e2c9ff09', '2bd4db7714f8d360a6e65f86', 'a5ba62cc68c35b806b8226f4'], ['4c187b1a64ba5173e2c9ff09', '2bd4db7714f8d360a6e65f86', '22f8ddda4572ba3a35da8172'], ['4c187b1a64ba5173e2c9ff09', '2bd4db7714f8d360a6e65f86', 'fb8ae802b4df048a5bbc4373'], ['4c187b1a64ba5173e2c9ff09', '2bd4db7714f8d360a6e65f86', '50cbd43f2963765562e1fe12'], ['4c187b1a64ba5173e2c9ff09', '2bd4db7714f8d360a6e65f86', 'ce09c7eb7a527b545c9855ab'], ['4bda16c648566259ea1b4e4c', 'c299b9fc994574c2637e871d', '9fa29076d62ff37bf9d78a2c'], ['4bda16c648566259ea1b4e4c', 'c299b9fc994574c2637e871d', 'e99b03b04f9866dab597e49d'], ['4bda16c648566259ea1b4e4c', 'c299b9fc994574c2637e871d', '06ef2b484f687633011aef53'], ['4bda16c648566259ea1b4e4c', 'c299b9fc994574c2637e871d', 'b033c94efc97e367ab8165ee'], ['4bda16c648566259ea1b4e4c', 'c299b9fc994574c2637e871d', '2f52bf4870f9d7ddc900b4de'], ['4bda16c648566259ea1b4e4c', 'c299b9fc994574c2637e871d', 'fa8a6b91826bf98c84e25484'], ['4bda16c648566259ea1b4e4c', 'c299b9fc994574c2637e871d', 'c02a86d26fb36ca8d0bcaff3'], ['4bda16c648566259ea1b4e4c', 'c299b9fc994574c2637e871d', '43a1dd499f13398ee31ab77e'], ['4bda16c648566259ea1b4e4c', 'c299b9fc994574c2637e871d', 'eda68a0498aa6088a6b4413e'], ['4bda16c648566259ea1b4e4c', 'c299b9fc994574c2637e871d', '4f0d6331588bb4fd10556293'], ['4bda16c648566259ea1b4e4c', 'c299b9fc994574c2637e871d', 'fc413c49b0e473e3910d60cc'], ['a33a1215ca97bfc569449511', '517dc9c6349ef6c6c87433e0', 'd8ba8d1d781f266976392b1f'], ['a33a1215ca97bfc569449511', '517dc9c6349ef6c6c87433e0', 'f88150bb2576d204d3fb9438']]\n"
          ]
        }
      ]
    },
    {
      "cell_type": "markdown",
      "metadata": {
        "id": "iVg0xEhoKf9X"
      },
      "source": [
        "# Part Studio Analysis"
      ]
    },
    {
      "cell_type": "markdown",
      "metadata": {
        "id": "XTxx-XDXPr5T"
      },
      "source": [
        "## Feature List Analysis"
      ]
    },
    {
      "cell_type": "code",
      "metadata": {
        "id": "laHZvzaRLUKh"
      },
      "source": [
        "def getFeatureList(did,wid,eid):\n",
        "  fixed_url = '/api/partstudios/d/did/w/wid/e/eid/features'\n",
        "\n",
        "  fixed_url = fixed_url.replace('did', did)\n",
        "  fixed_url = fixed_url.replace('wid', wid)\n",
        "  fixed_url = fixed_url.replace('eid', eid)\n",
        "\n",
        "  method = 'GET'\n",
        "  params = {}\n",
        "  payload = {}\n",
        "  headers = {'Accept': 'application/vnd.onshape.v1+json; charset=UTF-8;qs=0.1',\n",
        "            'Content-Type': 'application/json'}\n",
        "\n",
        "  response = client.api_client.request(method, url=base + fixed_url, query_params=params, headers=headers, body=payload)\n",
        "  parsed = json.loads(response.data)\n",
        "  # The command below prints the entire JSON response from Onshape\n",
        "  # print(json.dumps(parsed, indent=4, sort_keys=True))\n",
        "  return parsed"
      ],
      "execution_count": 62,
      "outputs": []
    },
    {
      "cell_type": "code",
      "metadata": {
        "id": "2LSQaJL9OuV9"
      },
      "source": [
        "getFeatureList(PartStudioIDList[1][0],PartStudioIDList[1][1],PartStudioIDList[1][2])"
      ],
      "execution_count": null,
      "outputs": []
    },
    {
      "cell_type": "code",
      "metadata": {
        "id": "GcIenRGyO7Pq"
      },
      "source": [
        "for x in PartStudioIDList:\n",
        "  featureList = getFeatureList[x[0],x[1],x[2]]"
      ],
      "execution_count": null,
      "outputs": []
    },
    {
      "cell_type": "markdown",
      "metadata": {
        "id": "FqZy-CZiPuFa"
      },
      "source": [
        "## Part Name Analysis\n"
      ]
    },
    {
      "cell_type": "code",
      "metadata": {
        "id": "FBCeZWOHP6Vt"
      },
      "source": [
        "def getPartList(did,wid):\n",
        "  fixed_url = '/api/parts/d/did/w/wid'\n",
        "\n",
        "  # Method below specifies the request type - 'GET' or 'POST'\n",
        "  method = 'GET'\n",
        "\n",
        "  params = {}\n",
        "  payload = {}\n",
        "  headers = {'Accept': 'application/vnd.onshape.v1+json; charset=UTF-8;qs=0.1',\n",
        "            'Content-Type': 'application/json'}\n",
        "\n",
        "  fixed_url = fixed_url.replace('did', did)\n",
        "  fixed_url = fixed_url.replace('wid', wid)\n",
        "  response = client.api_client.request(method, url=base + fixed_url, query_params=params, headers=headers, body=payload)\n",
        "\n",
        "  # The command below prints the entire JSON response from Onshape\n",
        "  parsed = json.loads(response.data)\n",
        "  # print(json.dumps(parsed, indent=4, sort_keys=True))\n",
        "  return parsed\n",
        "\n",
        "getPartList(docDWidList[1][0],docDWidList[1][1])"
      ],
      "execution_count": null,
      "outputs": []
    },
    {
      "cell_type": "code",
      "metadata": {
        "id": "EpUWjcFrQTet"
      },
      "source": [
        "renamedPartsRatio = []\n",
        "for x in docDWidList:\n",
        "  parts = getPartList(x[0],x[1])\n",
        "  defaultNames = 0\n",
        "  descriptiveNames = 0\n",
        "  if len(parts) == 0:\n",
        "    renamedPartsRatio.append(float('NaN'))\n",
        "  else:\n",
        "    for y in parts:\n",
        "      if \"Part\" in y['name']:\n",
        "        defaultNames += 1\n",
        "      else:\n",
        "        descriptiveNames += 1\n",
        "    renamedPartsRatio.append(descriptiveNames/len(parts))\n"
      ],
      "execution_count": 52,
      "outputs": []
    },
    {
      "cell_type": "code",
      "metadata": {
        "colab": {
          "base_uri": "https://localhost:8080/"
        },
        "id": "MrYJKqE8Rfa_",
        "outputId": "377c5896-23bb-4795-d293-e94c3d2d10fd"
      },
      "source": [
        "print(renamedPartsRatio)"
      ],
      "execution_count": 53,
      "outputs": [
        {
          "output_type": "stream",
          "name": "stdout",
          "text": [
            "[nan, 0.0, nan, nan, 1.0, 0.0, 0.0, 0.0, 1.0, 0.0, 0.0, 0.2222222222222222, 0.16666666666666666, 1.0, 1.0, 0.0, 1.0, 0.0, nan, 0.9957356076759062, 0.0, 0.0, nan, 0.0, nan, nan, 1.0, 0.0, 1.0, 0.0, 0.0, nan, 0.0, 0.0, nan, 0.0, nan, 0.0, 0.0, 0.0, 0.0, 0.0, 0.0, 1.0, nan, 0.0, 0.0, 0.0, 0.0, nan, 0.0, 0.0, 0.0, 0.0, nan, nan, 0.0, 1.0, 1.0, 0.2, 0.0, 0.0, 0.9202898550724637, 0.27444444444444444, 0.0, 1.0, 0.0, 0.0, 1.0, 0.0, 0.0, 0.0, 0.3333333333333333, 0.0, 1.0, 0.0, 0.0, nan, 1.0, 0.0, 1.0, 0.3333333333333333, 0.5, 0.0, 1.0, 0.9935897435897436, 0.4, 0.0, 0.0, nan, 1.0, 1.0, 0.0, nan, 0.0, 0.0, 0.0, 1.0, 0.509090909090909, 1.0]\n"
          ]
        }
      ]
    },
    {
      "cell_type": "code",
      "metadata": {
        "colab": {
          "base_uri": "https://localhost:8080/",
          "height": 271
        },
        "id": "ffSRP11KStXV",
        "outputId": "3afbb978-583f-4a82-f3a0-8c5edaad41be"
      },
      "source": [
        "import matplotlib.pyplot as plt\n",
        "import matplotlib.dates as mdates\n",
        "\n",
        "plt.gca().xaxis.set_major_formatter(mdates.DateFormatter('%m/%d/%Y'))\n",
        "plt.gca().xaxis.set_major_locator(mdates.DayLocator(interval=30))\n",
        "plt.plot(docCreatedAtList,renamedPartsRatio)\n",
        "plt.gcf().autofmt_xdate()"
      ],
      "execution_count": 56,
      "outputs": [
        {
          "output_type": "display_data",
          "data": {
            "image/png": "[encoded data removed]",
            "text/plain": [
              "<Figure size 432x288 with 1 Axes>"
            ]
          },
          "metadata": {
            "needs_background": "light"
          }
        }
      ]
    }
  ]
}