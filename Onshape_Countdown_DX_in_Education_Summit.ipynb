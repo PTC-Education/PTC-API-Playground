{
  "nbformat": 4,
  "nbformat_minor": 0,
  "metadata": {
    "colab": {
      "name": "Onshape Countdown - DX in Education Summit.ipynb",
      "provenance": [],
      "collapsed_sections": [],
      "authorship_tag": "ABX9TyPo7T7v0siBJdG3T90DNoAv",
      "include_colab_link": true
    },
    "kernelspec": {
      "name": "python3",
      "display_name": "Python 3"
    },
    "language_info": {
      "name": "python"
    }
  },
  "cells": [
    {
      "cell_type": "markdown",
      "metadata": {
        "id": "view-in-github",
        "colab_type": "text"
      },
      "source": [
        "<a href=\"https://colab.research.google.com/github/PTC-Education/PTC-API-Playground/blob/main/Onshape_Countdown_DX_in_Education_Summit.ipynb\" target=\"_parent\"><img src=\"https://colab.research.google.com/assets/colab-badge.svg\" alt=\"Open In Colab\"/></a>"
      ]
    },
    {
      "cell_type": "markdown",
      "metadata": {
        "id": "elw1t5tdO6H8"
      },
      "source": [
        "# Onshape Countdown Timer\n",
        "Controlling [this public Onshape document](https://cad.onshape.com/documents/7b1ea499ba204910f3db0450/w/fbe1acea8e7fe33ef70a7741/e/434578822c9ea104cadd843a) using snippets from the Onshape API Snippets library found [in this repo](https://github.com/PTC-Education/PTC-API-Playground).\n"
      ]
    },
    {
      "cell_type": "markdown",
      "metadata": {
        "id": "OJUY0B2SoTE7"
      },
      "source": [
        "import client"
      ]
    },
    {
      "cell_type": "code",
      "metadata": {
        "id": "Oq2Fb7zOYPJu"
      },
      "source": [
        "!pip install onshape-client\n",
        "from onshape_client.client import Client\n",
        "import json\n",
        "base = 'https://cad.onshape.com' # change this if you're using a document in an enterprise (i.e. \"https://ptc.onshape.com\")"
      ],
      "execution_count": null,
      "outputs": []
    },
    {
      "cell_type": "markdown",
      "metadata": {
        "id": "b4Eqz5WqoXMk"
      },
      "source": [
        "add application keys, stored in \"colabkeys.py\" file, uploaded to runtime in \"files\" on the left bar."
      ]
    },
    {
      "cell_type": "code",
      "metadata": {
        "id": "qC5NHiW7YPbX",
        "colab": {
          "base_uri": "https://localhost:8080/"
        },
        "outputId": "5330dd78-c1fb-48b5-ff16-7927c112c096"
      },
      "source": [
        "import os\n",
        "def include(filename):\n",
        "    if os.path.exists(filename): \n",
        "        execfile(filename)\n",
        "include('colabkeys.py')\n",
        "client = Client(configuration={\"base_url\": base,\n",
        "                               \"access_key\": access,\n",
        "                               \"secret_key\": secret})"
      ],
      "execution_count": 3,
      "outputs": [
        {
          "output_type": "stream",
          "text": [
            "/usr/local/lib/python3.7/dist-packages/onshape_client/client.py:158: UserWarning: A Client was already created so this will create another and override it. Please use Client.get_client() to get the previously created client.\n",
            "  \"A Client was already created so this will create another and override it. Please use \"\n"
          ],
          "name": "stderr"
        }
      ]
    },
    {
      "cell_type": "markdown",
      "metadata": {
        "id": "qNIMZvbCokLf"
      },
      "source": [
        "Create function for getting the information for the sketch with text in the first feature of a Part Studio, changing the text to the input timeRemaining, then sending the updated feature to the Part Studio. Also tracking how long the function takes to execute and return elapsed time."
      ]
    },
    {
      "cell_type": "code",
      "metadata": {
        "id": "cnGUw9Y3Yqh2"
      },
      "source": [
        "def updateTime(timeRemaining):\n",
        "  start = time.time()\n",
        "  fixed_url = '/api/partstudios/d/did/w/wid/e/eid/features'\n",
        "\n",
        "  #https://cad.onshape.com/documents/7b1ea499ba204910f3db0450/w/fbe1acea8e7fe33ef70a7741/e/434578822c9ea104cadd843a\n",
        "  did = '7b1ea499ba204910f3db0450'\n",
        "  wid = 'fbe1acea8e7fe33ef70a7741'\n",
        "  eid = '434578822c9ea104cadd843a'\n",
        "\n",
        "  fixed_url = fixed_url.replace('did', did)\n",
        "  fixed_url = fixed_url.replace('wid', wid)\n",
        "  fixed_url = fixed_url.replace('eid', eid)\n",
        "\n",
        "  method = 'GET'\n",
        "  params = {}\n",
        "  payload = {}\n",
        "  headers = {'Accept': 'application/vnd.onshape.v1+json; charset=UTF-8;qs=0.1',\n",
        "            'Content-Type': 'application/json'}\n",
        "\n",
        "  response = client.api_client.request(method, url=base + fixed_url, query_params=params, headers=headers, body=payload)\n",
        "  # print(json.loads(response.data)[\"features\"][0][\"message\"][\"entities\"][0][\"message\"]['parameters'][1]['message']['value'])\n",
        "\n",
        "  newFeature = json.loads(response.data)[\"features\"][0]\n",
        "  newFeature[\"message\"][\"entities\"][0][\"message\"]['parameters'][1]['message']['value'] = '''Next Session Starts in\n",
        "'''+timeRemaining\n",
        "  # print(newFeature[\"message\"][\"entities\"][0][\"message\"]['parameters'][1]['message']['value'])\n",
        "  # print(timeRemaining)\n",
        "  # print(json.loads(response.data)[\"sourceMicroversion\"])\n",
        "  # print(json.loads(response.data)[\"serializationVersion\"])\n",
        "\n",
        "  fixed_url = '/api/partstudios/d/did/w/wid/e/eid/features/featureid/fid'\n",
        "\n",
        "  fid = json.loads(response.data)[\"features\"][0][\"message\"][\"featureId\"]\n",
        "\n",
        "  fixed_url = fixed_url.replace('did', did)\n",
        "  fixed_url = fixed_url.replace('wid', wid)\n",
        "  fixed_url = fixed_url.replace('eid', eid, 1)\n",
        "  fixed_url = fixed_url.replace('fid', fid)\n",
        "\n",
        "  # print(fixed_url)\n",
        "\n",
        "  method = 'POST'\n",
        "  params = {}\n",
        "  payload = {'feature': newFeature,\n",
        "            'serializationVersion': json.loads(response.data)[\"serializationVersion\"],\n",
        "            'sourceMicroversion': json.loads(response.data)[\"sourceMicroversion\"]}\n",
        "  headers = {'Accept': 'application/vnd.onshape.v1+json; charset=UTF-8;qs=0.1',\n",
        "            'Content-Type': 'application/json'}\n",
        "\n",
        "  response = client.api_client.request(method, url=base + fixed_url, query_params=params, headers=headers, body=payload)\n",
        "  # print(response.data)\n",
        "  end = time.time()\n",
        "  callTime = start-end\n",
        "  return callTime"
      ],
      "execution_count": 27,
      "outputs": []
    },
    {
      "cell_type": "markdown",
      "metadata": {
        "id": "jY6s-tl9o_at"
      },
      "source": [
        "Function for counting down. Calls updateTime funciton above and accounts for the API call time in the timer."
      ]
    },
    {
      "cell_type": "code",
      "metadata": {
        "id": "bf20vO1MOwq3"
      },
      "source": [
        "# import the time module\n",
        "import time\n",
        "\n",
        "# define the countdown func.\n",
        "def countdown(timerIn):\n",
        "  t = int(timerIn)\n",
        "  while t > 0:\n",
        "    mins, secs = divmod(t, 60)\n",
        "    timer = '{:02d}:{:02d}'.format(mins, secs)\n",
        "    print(timer)\n",
        "    callTime = -updateTime(timer)\n",
        "    print(callTime)\n",
        "    time.sleep(4)\n",
        "    timerIn -= 4+callTime\n",
        "    t = int(timerIn)\n",
        "    \n",
        "  print('Right now!')\n",
        "  updateTime('Right now!')\n",
        "\n",
        "\n",
        "# input time in seconds\n",
        "timerIn = input(\"Enter the time in seconds: \")\n",
        "\n",
        "# function call\n",
        "countdown(float(timerIn))\n"
      ],
      "execution_count": null,
      "outputs": []
    }
  ]
}