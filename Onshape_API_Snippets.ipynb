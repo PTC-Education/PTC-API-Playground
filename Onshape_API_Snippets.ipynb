{
  "nbformat": 4,
  "nbformat_minor": 0,
  "metadata": {
    "colab": {
      "name": "Onshape API Snippets.ipynb",
      "provenance": [],
      "collapsed_sections": [],
      "include_colab_link": true
    },
    "kernelspec": {
      "name": "python3",
      "display_name": "Python 3"
    }
  },
  "cells": [
    {
      "cell_type": "markdown",
      "metadata": {
        "id": "view-in-github",
        "colab_type": "text"
      },
      "source": [
        "<a href=\"https://colab.research.google.com/github/PTC-Education/PTC-API-Playground/blob/main/Onshape_API_Snippets.ipynb\" target=\"_parent\"><img src=\"https://colab.research.google.com/assets/colab-badge.svg\" alt=\"Open In Colab\"/></a>"
      ]
    },
    {
      "cell_type": "markdown",
      "metadata": {
        "id": "EkYuuXsp6jXG"
      },
      "source": [
        "# 0. READ ME - Onshape API Snippets Overview\n",
        "This snippets library is split into numbered sections to help you get started with interacting with Onshape's REST API using their Python Client."
      ]
    },
    {
      "cell_type": "markdown",
      "metadata": {
        "id": "LQZUky8OuaId"
      },
      "source": [
        "**[Click here](https://cad.onshape.com/glassworks/#/) to see the full OpenAPI documentation of the Onshape REST API**"
      ]
    },
    {
      "cell_type": "markdown",
      "metadata": {
        "id": "Q6G5kA2p18pk"
      },
      "source": [
        "***Start by using snippet 0.1*** to import the client and configuring you connection with API Keys generated in [Onshape's Dev Portal](https://dev-portal.onshape.com/). You can connect the snippets to your Onshape document by editing the \"did\", \"eid\", and \"wid\" from the URL of your Onshape document following the pattern https://cad.onshape.com/documents/'did'/w/'wid'/e/'eid'. Snippets are organized by API endpoints below.\n",
        "00. Connect (start here)\n",
        "01. PartStudios\n",
        "02. Parts\n",
        "03. MetaData\n",
        "04. FeatureStudios\n",
        "05. Elements\n",
        "06. AppElements\n",
        "07. Assemblies\n",
        "08. Thumbnails\n",
        "09. Documents\n",
        "10. Users\n",
        "11. Comments\n",
        "\n",
        "All \"GET\" snippets reference [this public Onshape document](https://cad.onshape.com/documents/263517311c2ad139d4eb57ca/w/b45057ae06777e0c28bca6c5/e/d316bcbc694c9dbb6555f340). The default parameters for the did, wid, and eid will only work for \"GET\" requests because your API keys will not be able to edit the public document with a \"POST\" request."
      ]
    },
    {
      "cell_type": "markdown",
      "metadata": {
        "id": "PRgztUNcltiW"
      },
      "source": [
        "# 00.1 Connect - Import and Configure Client"
      ]
    },
    {
      "cell_type": "code",
      "metadata": {
        "id": "WqldgOhylzPv",
        "cellView": "form"
      },
      "source": [
        "#@title Import and Setup Onshape Client\n",
        "\n",
        "!pip install onshape-client\n",
        "from onshape_client.client import Client\n",
        "from onshape_client.onshape_url import OnshapeElement\n",
        "import json\n",
        "\n",
        "#@markdown Chage the base if using an enterprise (i.e. \"https://ptc.onshape.com\")\n",
        "base = 'https://cad.onshape.com' #@param {type:\"string\"}\n",
        "\n",
        "#@markdown Would you like to import your API keys from a file, or copy and paste them directly?\n",
        "keyImportOption = \"Upload Keys from File\" #@param [\"Upload Keys from File\", \"Copy/Paste Keys\"]\n",
        "\n",
        "from IPython.display import clear_output \n",
        "clear_output()\n",
        "print(\"Onshape Client successfully imported!\")\n",
        "\n",
        "if keyImportOption == \"Upload Keys from File\":\n",
        "  from google.colab import files\n",
        "  uploaded = files.upload()\n",
        "  for fn in uploaded.keys():\n",
        "    execfile(fn)\n",
        "\n",
        "  client = Client(configuration={\"base_url\": base,\n",
        "                                \"access_key\": access,\n",
        "                                \"secret_key\": secret})\n",
        "  clear_output()\n",
        "  print('Onshape client configured - ready to go!')\n",
        "else:\n",
        "  access = input(\"Paste your Onshape Access Key: \")\n",
        "  secret = input(\"Paste your Onshape Secret Key: \")\n",
        "  client = Client(configuration={\"base_url\": base,\n",
        "                                \"access_key\": access,\n",
        "                                \"secret_key\": secret})\n",
        "  clear_output()\n",
        "  print('Onshape client configured - ready to go!')\n"
      ],
      "execution_count": null,
      "outputs": []
    },
    {
      "cell_type": "markdown",
      "metadata": {
        "id": "i0n-76agpt4k"
      },
      "source": [
        "# 00.1.1 Connect - Import Python Client\n",
        "This snippet shows how to install the [python-client from Onshape](https://github.com/onshape-public/onshape-clients/tree/master/python)"
      ]
    },
    {
      "cell_type": "code",
      "metadata": {
        "id": "8rb81Zbgpyt4"
      },
      "source": [
        "!pip install onshape-client\n",
        "from onshape_client.client import Client\n",
        "from onshape_client.onshape_url import OnshapeElement\n",
        "import json\n",
        "base = 'https://cad.onshape.com' # change this if you're using a document in an enterprise (i.e. \"https://ptc.onshape.com\")"
      ],
      "execution_count": null,
      "outputs": []
    },
    {
      "cell_type": "markdown",
      "metadata": {
        "id": "ScyaAozUg0_W"
      },
      "source": [
        "# 00.2 Connect - Configure with API Keys in separate document (recommended)\n",
        "This snippet shows how you can pull API keys from a document stored in your google drive. **Good for sharing a notebook but keeping your keys secret**. Run the first snippet to load files from drive, then upload a python file that includes your access and secret keys as strings to your drive (can upload from Colab with the folder icon on the left menu).\n",
        "\n",
        "The colabkeys.py file should look something like the following (below are fake keys - replace with your own from [dev-portal.onshape.com](https://dev-portal.onshape.com/)):\n",
        "```\n",
        "access = 'Z97asb1257FkEwzp3EmCpa'\n",
        "secret = 'nHwN3q7asdvg4aryFC9rxYyo9U4o415WokYa8VOQ9YfUh4Zx'\n",
        "```\n"
      ]
    },
    {
      "cell_type": "code",
      "metadata": {
        "id": "eYSfnEjzhIBK"
      },
      "source": [
        "from google.colab import files\n",
        "\n",
        "uploaded = files.upload()\n",
        "for fn in uploaded.keys():\n",
        "  execfile(fn)\n",
        "\n",
        "client = Client(configuration={\"base_url\": base,\n",
        "                               \"access_key\": access,\n",
        "                               \"secret_key\": secret})\n",
        "print('client configured')"
      ],
      "execution_count": null,
      "outputs": []
    },
    {
      "cell_type": "markdown",
      "metadata": {
        "id": "pg-gJbulIFqj"
      },
      "source": [
        "# 00.2.1 Connect - Import keys from Google Drive file"
      ]
    },
    {
      "cell_type": "markdown",
      "metadata": {
        "id": "EW44EfToO8u4"
      },
      "source": [
        "If your \"colabkeys.py\" file is saved in your google drive, you'll need to run the code cell below to allow Colab to access drive."
      ]
    },
    {
      "cell_type": "code",
      "metadata": {
        "id": "FEdXyExPNYaQ"
      },
      "source": [
        "from google.colab import drive\n",
        "drive.mount('/content/drive')\n",
        "import os\n",
        "def include(filename):\n",
        "  if os.path.exists(filename): \n",
        "    execfile(filename)\n",
        "include('/content/drive/MyDrive/colabkeys.py')\n",
        "client = Client(configuration={\"base_url\": base,\n",
        "                               \"access_key\": access,\n",
        "                               \"secret_key\": secret})\n",
        "print('client configured')"
      ],
      "execution_count": null,
      "outputs": []
    },
    {
      "cell_type": "markdown",
      "metadata": {
        "id": "6Q586JmMIZ8n"
      },
      "source": [
        "# 00.2.2 Connect - Local runtime\n",
        "First [follow these instructions](https://research.google.com/colaboratory/local-runtimes.html) for connecting to a local runtime, then run the snippet below to find your local file with your api keys."
      ]
    },
    {
      "cell_type": "code",
      "metadata": {
        "id": "R4seCCjwIY9Z",
        "cellView": "form"
      },
      "source": [
        "#@title Import and Setup Onshape Client\n",
        "#@markdown First connect to a local runtime following <a href=\"https://research.google.com/colaboratory/local-runtimes.html\" target=\"_blank\">these instrucitons</a>\n",
        "\n",
        "!pip install onshape-client\n",
        "from onshape_client.client import Client\n",
        "from onshape_client.onshape_url import OnshapeElement\n",
        "import json\n",
        "\n",
        "#@markdown Chage the base if using an enterprise (i.e. \"https://ptc.onshape.com\")\n",
        "base = 'https://cad.onshape.com' #@param {type:\"string\"}\n",
        "\n",
        "#@markdown Would you like to import your API keys from a file, or copy and paste them directly?\n",
        "keyImportOption = \"Upload Keys from File\" #@param [\"Upload Keys from File\", \"Copy/Paste Keys\"]\n",
        "\n",
        "from IPython.display import clear_output \n",
        "clear_output()\n",
        "print(\"Onshape Client successfully imported!\")\n",
        "\n",
        "if keyImportOption == \"Upload Keys from File\":\n",
        "  filePath = input(\"Input the filepath of the python file with your API Keys (e.g. './Documents/apikeys.py'): \")\n",
        "  exec(open(filePath).read())\n",
        "  client = Client(configuration={\"base_url\": base,\n",
        "                                \"access_key\": access,\n",
        "                                \"secret_key\": secret})\n",
        "  clear_output()\n",
        "  print('Onshape client configured - ready to go!')\n",
        "else:\n",
        "  access = input(\"Paste your Onshape Access Key: \")\n",
        "  secret = input(\"Paste your Onshape Secret Key: \")\n",
        "  client = Client(configuration={\"base_url\": base,\n",
        "                                \"access_key\": access,\n",
        "                                \"secret_key\": secret})\n",
        "  clear_output()\n",
        "  print('Onshape client configured - ready to go!')\n"
      ],
      "execution_count": null,
      "outputs": []
    },
    {
      "cell_type": "markdown",
      "metadata": {
        "id": "0GIOCdP_27qH"
      },
      "source": [
        "# 01.1 PartStudios - Get Mass Properties\n",
        "For certain API endpoints, you must pass specific endpoints. For this example, you need to provide the element id of a part studio to get the mass properties for the parts in that part studio."
      ]
    },
    {
      "cell_type": "code",
      "metadata": {
        "id": "pPr35BZi3BBb",
        "cellView": "form"
      },
      "source": [
        "#@title Get Mass Properties of Parts in a Part Studio\n",
        "#@markdown Defines funciton `getMassProp(url: str)`, which returns JSON of mass properties for all parts in a part studio\n",
        "url = 'https://cad.onshape.com/documents/263517311c2ad139d4eb57ca/w/b45057ae06777e0c28bca6c5/e/d316bcbc694c9dbb6555f340' #@param {type:\"string\"}\n",
        "showResponse = False #@param {type:\"boolean\"}\n",
        "\n",
        "def getMassProp(url: str):\n",
        "  fixed_url = '/api/partstudios/d/did/w/wid/e/eid/massproperties'\n",
        "  element = OnshapeElement(url)\n",
        "  method = 'GET'\n",
        "\n",
        "  params = {}\n",
        "  payload = {}\n",
        "  headers = {'Accept': 'application/vnd.onshape.v1+json; charset=UTF-8;qs=0.1',\n",
        "            'Content-Type': 'application/json'}\n",
        "\n",
        "  fixed_url = fixed_url.replace('did', element.did)\n",
        "  fixed_url = fixed_url.replace('wid', element.wvmid)\n",
        "  fixed_url = fixed_url.replace('eid', element.eid)\n",
        "\n",
        "  response = client.api_client.request(method, url=base + fixed_url, query_params=params, headers=headers, body=payload)\n",
        "\n",
        "  parsed = json.loads(response.data)\n",
        "  return parsed\n",
        "if showResponse:\n",
        "  massProp = getMassProp(url)\n",
        "  print(json.dumps(massProp, indent=4, sort_keys=True))\n",
        "else:\n",
        "  pass"
      ],
      "execution_count": null,
      "outputs": []
    },
    {
      "cell_type": "markdown",
      "metadata": {
        "id": "BUpgcakuh_1e"
      },
      "source": [
        "# 01.1.1 PartStudios - Get Mass Properties and Calculate Density\n",
        "Sample of using the mass properties endpoint to get information and do calculations on the data. Sample document here: https://cad.onshape.com/documents/263517311c2ad139d4eb57ca/w/b45057ae06777e0c28bca6c5/e/d316bcbc694c9dbb6555f340"
      ]
    },
    {
      "cell_type": "code",
      "metadata": {
        "id": "igkXm0F2iK3P"
      },
      "source": [
        "fixed_url = '/api/partstudios/d/did/w/wid/e/eid/massproperties'\n",
        "\n",
        "# https://cad.onshape.com/documents/263517311c2ad139d4eb57ca/w/b45057ae06777e0c28bca6c5/e/d316bcbc694c9dbb6555f340\n",
        "did = '263517311c2ad139d4eb57ca'\n",
        "wid = 'b45057ae06777e0c28bca6c5'\n",
        "eid = 'd316bcbc694c9dbb6555f340'\n",
        "\n",
        "method = 'GET'\n",
        "\n",
        "params = {}\n",
        "payload = {}\n",
        "headers = {'Accept': 'application/vnd.onshape.v1+json; charset=UTF-8;qs=0.1',\n",
        "           'Content-Type': 'application/json'}\n",
        "\n",
        "fixed_url = fixed_url.replace('did', did)\n",
        "fixed_url = fixed_url.replace('wid', wid)\n",
        "fixed_url = fixed_url.replace('eid', eid)\n",
        "\n",
        "response = client.api_client.request(method, url=base + fixed_url, query_params=params, headers=headers, body=payload)\n",
        "\n",
        "# The command below prints the entire JSON response from Onshape\n",
        "print(json.loads(response.data))\n",
        "# parse json to get mass and volume for all parts in the document\n",
        "volume = json.loads(response.data)['bodies']['-all-']['volume'][0] # three element array is volume, max volume, and minimum volume\n",
        "mass = json.loads(response.data)['bodies']['-all-']['mass'][0] # three element array is mass, maximum mass, and minimum mass\n",
        "\n",
        "# calculate density with mass and volume in kg/m^3\n",
        "density = mass/volume\n",
        "print(density)"
      ],
      "execution_count": null,
      "outputs": []
    },
    {
      "cell_type": "markdown",
      "metadata": {
        "id": "m2AGmZQiNB0L"
      },
      "source": [
        "# 01.1.2 PartStudios - Get Mass Properties from Configured Part\n",
        "In this example, the document has configuration variables set up to drive parameters of the geometry. We change the \"querry parameters\" of the request to get the mass property for the different values."
      ]
    },
    {
      "cell_type": "code",
      "metadata": {
        "id": "l2UtQASUNBOn"
      },
      "source": [
        "fixed_url = '/api/partstudios/d/did/w/wid/e/eid/massproperties'\n",
        "\n",
        "# https://cad.onshape.com/documents/263517311c2ad139d4eb57ca/w/b45057ae06777e0c28bca6c5/e/d316bcbc694c9dbb6555f340\n",
        "did = '263517311c2ad139d4eb57ca'\n",
        "wid = 'b45057ae06777e0c28bca6c5'\n",
        "eid = 'd316bcbc694c9dbb6555f340'\n",
        "\n",
        "method = 'GET'\n",
        "\n",
        "# add configureation to the params of the request\n",
        "params = {'configuration': 'Length%3D0.2%2Bmeter'}\n",
        "payload = {}\n",
        "headers = {'Accept': 'application/vnd.onshape.v1+json; charset=UTF-8;qs=0.1',\n",
        "           'Content-Type': 'application/json'}\n",
        "\n",
        "fixed_url = fixed_url.replace('did', did)\n",
        "fixed_url = fixed_url.replace('wid', wid)\n",
        "fixed_url = fixed_url.replace('eid', eid)\n",
        "\n",
        "response = client.api_client.request(method, url=base + fixed_url, query_params=params, headers=headers, body=payload)\n",
        "\n",
        "# The command below prints the entire JSON response from Onshape\n",
        "print(json.loads(response.data))"
      ],
      "execution_count": null,
      "outputs": []
    },
    {
      "cell_type": "markdown",
      "metadata": {
        "id": "89Ok1NduHWiG"
      },
      "source": [
        "# 01.1.3 PartStudios - Get Mass Prop for series of configurations and plot"
      ]
    },
    {
      "cell_type": "code",
      "metadata": {
        "id": "sOx_sOgBPoLf"
      },
      "source": [
        "import numpy as np\n",
        "%matplotlib inline\n",
        "import matplotlib.pyplot as plt\n",
        "plt.style.use('seaborn-whitegrid')\n",
        "\n",
        "fixed_url = '/api/partstudios/d/did/w/wid/e/eid/massproperties'\n",
        "\n",
        "# https://cad.onshape.com/documents/263517311c2ad139d4eb57ca/w/b45057ae06777e0c28bca6c5/e/d316bcbc694c9dbb6555f340\n",
        "did = '263517311c2ad139d4eb57ca'\n",
        "wid = 'b45057ae06777e0c28bca6c5'\n",
        "eid = 'd316bcbc694c9dbb6555f340'\n",
        "\n",
        "fixed_url = fixed_url.replace('did', did)\n",
        "fixed_url = fixed_url.replace('wid', wid)\n",
        "fixed_url = fixed_url.replace('eid', eid)\n",
        "\n",
        "method = 'GET'\n",
        "payload = {}\n",
        "headers = {'Accept': 'application/vnd.onshape.v1+json; charset=UTF-8;qs=0.1',\n",
        "           'Content-Type': 'application/json'}\n",
        "params = {}\n",
        "\n",
        "response = client.api_client.request(method, url=base + fixed_url, query_params=params, headers=headers, body=payload)\n",
        "print(json.loads(response.data))\n",
        "x = []\n",
        "y = []\n",
        "\n",
        "for i in range(1,5):\n",
        "  x.append(i)\n",
        "  configdef = 'Length%3D'+str(i)+'%2Bmeter'+';'+'Width%3D'+str(i)+'%2Bmeter'\n",
        "  params = {'configuration': configdef}\n",
        "\n",
        "  response = client.api_client.request(method, url=base + fixed_url, query_params=params, headers=headers, body=payload)\n",
        "  massProp = json.loads(response.data)\n",
        "  y.append(massProp['bodies']['-all-']['inertia'][0])\n",
        "\n",
        "  # The command below prints the entire JSON response from Onshape\n",
        "  print(massProp['bodies']['-all-']['inertia'][0])\n",
        "plt.plot(x, y, 'o', color='black');\n"
      ],
      "execution_count": null,
      "outputs": []
    },
    {
      "cell_type": "markdown",
      "metadata": {
        "id": "qruy2t3f4Ezp"
      },
      "source": [
        "# 01.2 PartStudios - Make Part Studio\n",
        "This is an example of a post request that creates a new part studio in an Onshape document."
      ]
    },
    {
      "cell_type": "code",
      "metadata": {
        "id": "eNd2d7Gi62zv"
      },
      "source": [
        "fixed_url = '/api/partstudios/d/did/w/wid'\n",
        "\n",
        "did = '4bda16c648566259ea1b4e4c'\n",
        "wid = 'c299b9fc994574c2637e871d'\n",
        "\n",
        "method = 'POST'\n",
        "\n",
        "params = {}\n",
        "payload = {}\n",
        "headers = {'Accept': 'application/vnd.onshape.v1+json; charset=UTF-8;qs=0.1',\n",
        "           'Content-Type': 'application/json'}\n",
        "\n",
        "fixed_url = fixed_url.replace('did', did)\n",
        "fixed_url = fixed_url.replace('wid', wid)\n",
        "\n",
        "response = client.api_client.request(method, url=base + fixed_url, query_params=params, headers=headers, body=payload)\n",
        "\n",
        "# The command below prints the entire JSON response from Onshape\n",
        "print(json.loads(response.data))"
      ],
      "execution_count": null,
      "outputs": []
    },
    {
      "cell_type": "markdown",
      "metadata": {
        "id": "IxXYVFhGAUmc"
      },
      "source": [
        "# 01.3 PartStudios - Get Feature List"
      ]
    },
    {
      "cell_type": "code",
      "metadata": {
        "id": "Y3-YnV6uAZrA",
        "cellView": "form"
      },
      "source": [
        "#@title Get Feature List from Part Studio\n",
        "#@markdown Defines funciton `getFeatureList(url: str)`, which returns JSON of all features in a part studio\n",
        "url = 'https://cad.onshape.com/documents/263517311c2ad139d4eb57ca/w/b45057ae06777e0c28bca6c5/e/d316bcbc694c9dbb6555f340' #@param {type:\"string\"}\n",
        "showResponse = False #@param {type:\"boolean\"}\n",
        "def getFeatureList(url: str):\n",
        "  fixed_url = '/api/partstudios/d/did/w/wid/e/eid/features'\n",
        "\n",
        "  element = OnshapeElement(url)\n",
        "  fixed_url = fixed_url.replace('did', element.did)\n",
        "  fixed_url = fixed_url.replace('wid', element.wvmid)\n",
        "  fixed_url = fixed_url.replace('eid', element.eid)\n",
        "\n",
        "  method = 'GET'  \n",
        "  params = {}\n",
        "  payload = {}\n",
        "  headers = {'Accept': 'application/vnd.onshape.v1+json; charset=UTF-8;qs=0.1',\n",
        "            'Content-Type': 'application/json'}\n",
        "\n",
        "  response = client.api_client.request(method, url=base + fixed_url, query_params=params, headers=headers, body=payload)\n",
        "  parsed = json.loads(response.data)\n",
        "  # The command below prints the entire JSON response from Onshape\n",
        "  # print(json.dumps(parsed, indent=4, sort_keys=True))\n",
        "  return parsed\n",
        "if showResponse:\n",
        "  featureResponse = getFeatureList(url)\n",
        "  print(json.dumps(featureResponse, indent=4, sort_keys=True))\n",
        "else:\n",
        "  pass\n"
      ],
      "execution_count": null,
      "outputs": []
    },
    {
      "cell_type": "markdown",
      "metadata": {
        "id": "5coF63vf0VEv"
      },
      "source": [
        "# 01.4 PartStudios - Update Feature\n",
        "\n",
        "First get the feature, then update the geometry, then send it back\n"
      ]
    },
    {
      "cell_type": "code",
      "metadata": {
        "id": "kk0k0toT2OQG"
      },
      "source": [
        "fixed_url = '/api/partstudios/d/did/w/wid/e/eid/features'\n",
        "\n",
        "#https://cad.onshape.com/documents/bb1a0fa7536a74f282879c0a/w/107d615fca7419084dd2ddf3/e/1cb13d9abf5bab6bcb8e3668\n",
        "did = 'bb1a0fa7536a74f282879c0a'\n",
        "wid = '107d615fca7419084dd2ddf3'\n",
        "eid = '872dc4906d7f740d74474a8c'\n",
        "\n",
        "fixed_url = fixed_url.replace('did', did)\n",
        "fixed_url = fixed_url.replace('wid', wid)\n",
        "fixed_url = fixed_url.replace('eid', eid)\n",
        "\n",
        "method = 'GET'\n",
        "params = {}\n",
        "payload = {}\n",
        "headers = {'Accept': 'application/vnd.onshape.v1+json; charset=UTF-8;qs=0.1',\n",
        "           'Content-Type': 'application/json'}\n",
        "\n",
        "response = client.api_client.request(method, url=base + fixed_url, query_params=params, headers=headers, body=payload)\n",
        "# print(json.loads(response.data)[\"features\"][0][\"message\"][\"entities\"][0][\"message\"][\"geometry\"][\"message\"])\n",
        "\n",
        "newFeature = json.loads(response.data)[\"features\"][0]\n",
        "newFeature[\"message\"][\"entities\"][0][\"message\"][\"geometry\"][\"message\"][\"radius\"] = 0.01\n",
        "print(newFeature[\"message\"][\"entities\"][0][\"message\"][\"geometry\"][\"message\"])\n",
        "\n",
        "print(json.loads(response.data)[\"sourceMicroversion\"])\n",
        "print(json.loads(response.data)[\"serializationVersion\"])\n",
        "\n",
        "fixed_url = '/api/partstudios/d/did/w/wid/e/eid/features/featureid/fid'\n",
        "\n",
        "fid = json.loads(response.data)[\"features\"][0][\"message\"][\"featureId\"]\n",
        "\n",
        "fixed_url = fixed_url.replace('did', did)\n",
        "fixed_url = fixed_url.replace('wid', wid)\n",
        "fixed_url = fixed_url.replace('eid', eid, 1)\n",
        "fixed_url = fixed_url.replace('fid', fid)\n",
        "\n",
        "print(fixed_url)\n",
        "\n",
        "method = 'POST'\n",
        "params = {}\n",
        "payload = {'feature': newFeature,\n",
        "           'serializationVersion': json.loads(response.data)[\"serializationVersion\"],\n",
        "           'sourceMicroversion': json.loads(response.data)[\"sourceMicroversion\"]}\n",
        "headers = {'Accept': 'application/vnd.onshape.v1+json; charset=UTF-8;qs=0.1',\n",
        "           'Content-Type': 'application/json'}\n",
        "\n",
        "response = client.api_client.request(method, url=base + fixed_url, query_params=params, headers=headers, body=payload)"
      ],
      "execution_count": null,
      "outputs": []
    },
    {
      "cell_type": "markdown",
      "metadata": {
        "id": "GC9W7nqkzRcd"
      },
      "source": [
        "# 01.5 PartStudios - Export STL"
      ]
    },
    {
      "cell_type": "code",
      "metadata": {
        "id": "Ql6qSU3pzWEC"
      },
      "source": [
        "def exportSTL(url: str, filename=\"OnshapePart.stl\"):\n",
        "  fixed_url = '/api/partstudios/d/did/w/wid/e/eid/stl'\n",
        "  element = OnshapeElement(url)\n",
        "  method = 'GET'\n",
        "\n",
        "  params = {}\n",
        "  payload = {}\n",
        "  headers = {'Accept': 'application/vnd.onshape.v1+octet-stream',\n",
        "            'Content-Type': 'application/json'}\n",
        "\n",
        "  fixed_url = fixed_url.replace('did', element.did)\n",
        "  fixed_url = fixed_url.replace('wid', element.wvmid)\n",
        "  fixed_url = fixed_url.replace('eid', element.eid)\n",
        "\n",
        "  response = client.api_client.request(method, url=base + fixed_url, query_params=params, headers=headers, body=payload)\n",
        "\n",
        "  with open(filename, 'wb') as f:\n",
        "    f.write(response.data.encode())\n",
        "\n",
        "exportSTL('https://cad.onshape.com/documents/263517311c2ad139d4eb57ca/w/b45057ae06777e0c28bca6c5/e/d316bcbc694c9dbb6555f340',\"colabDemo.stl\")"
      ],
      "execution_count": null,
      "outputs": []
    },
    {
      "cell_type": "markdown",
      "metadata": {
        "id": "Wmmym5dT_C0f"
      },
      "source": [
        "#01.6 PartStudios - Get Shaded View"
      ]
    },
    {
      "cell_type": "code",
      "metadata": {
        "id": "xHrl0fTX_CgT"
      },
      "source": [
        "#@title Get Shaded View of PartSutdio\n",
        "#@markdown Defines funciton `partStudioShadedView(url:str,viewMatrix = \"front\",pixelSize = 0.003)`, which returns the base64 image string of a shaded view of a part studio\n",
        "\n",
        "#@markdown URL must be to an PartStudio\n",
        "url = 'https://cad.onshape.com/documents/1e809243865e8d5244fcd096/w/d031ceaee074757da46d14b9/e/e370ef8f9ad617d9ae83f494' #@param {type:\"string\"}\n",
        "#@markdown viewMatrix can be any face direction or isometric as a string, or a 1x12 view matrix\n",
        "viewMatrix = \"isometric\" #@param {type:\"string\"}\n",
        "#@markdown pixelSize is the size in meters for each pixel. If 0, it will fill the image size output\n",
        "pixelSize = 0.0005 #@param {type:\"number\"}\n",
        "showImage = False #@param {type:\"boolean\"}\n",
        "\n",
        "from IPython.display import Image\n",
        "import base64\n",
        "\n",
        "def partStudioShadedView(url:str,viewMatrix = \"front\",pixelSize = 0.003):\n",
        "  fixed_url = '/api/assemblies/d/did/w/wid/e/eid/shadedviews'\n",
        "  element = OnshapeElement(url)\n",
        "  fixed_url = fixed_url.replace('did', element.did)\n",
        "  fixed_url = fixed_url.replace('wid', element.wvmid)\n",
        "  fixed_url = fixed_url.replace('eid', element.eid)\n",
        "\n",
        "  method = 'GET'\n",
        "\n",
        "  if any(face in viewMatrix for face in [\"front\",\"back\",\"top\",\"bottom\",\"left\",\"right\"]):\n",
        "    matrix = viewMatrix\n",
        "  elif viewMatrix == \"isometric\":\n",
        "    matrix = \"0.612,0.612,0,0,-0.354,0.354,0.707,0,0.707,-0.707,0.707,0\"\n",
        "  elif isinstance(viewMatrix,list):\n",
        "    matrix = str(matrix).replace('[','').replace(']','')\n",
        "\n",
        "  ## View Matrix below is roughly isometric\n",
        "  params = {'viewMatrix':matrix,\n",
        "            'edges':'show',\n",
        "            'outputHeight':600,\n",
        "            'outputWidth':1000,\n",
        "            'pixelSize':pixelSize}\n",
        "  # print(params)\n",
        "  payload = {}\n",
        "  headers = {'Accept': 'application/vnd.onshape.v1+json',\n",
        "              'Content-Type': 'application/json'}\n",
        "\n",
        "  response = client.api_client.request(method, url=base + fixed_url, query_params=params, headers=headers, body=payload)\n",
        "\n",
        "  parsed = json.loads(response.data)\n",
        "  imgdata = base64.b64decode(parsed['images'][0])\n",
        "  with open(\"image.jpg\", 'wb') as f:\n",
        "    f.write(imgdata)\n",
        "  \n",
        "  return imgdata\n",
        "\n",
        "img = partStudioShadedView(url,viewMatrix,pixelSize)\n",
        "if showImage:\n",
        "  display(Image(img))\n",
        "else:\n",
        "  pass"
      ],
      "execution_count": null,
      "outputs": []
    },
    {
      "cell_type": "markdown",
      "metadata": {
        "id": "9HcjM9CVsW5C"
      },
      "source": [
        "# 02.1 Parts - Get All Parts in Document\n",
        "This snippet shows a sample of getting all of the parts in an Onshape document. "
      ]
    },
    {
      "cell_type": "code",
      "metadata": {
        "id": "kvU2LNhzu6YH",
        "cellView": "form"
      },
      "source": [
        "#@title Get All Parts in Document\n",
        "#@markdown Funciton `getPartsInDocument(url: str)` returns JSON of all parts in a document\n",
        "url = 'https://cad.onshape.com/documents/263517311c2ad139d4eb57ca/w/b45057ae06777e0c28bca6c5/e/d316bcbc694c9dbb6555f340' #@param {type:\"string\"}\n",
        "showResponse = True #@param {type:\"boolean\"}\n",
        "def getPartsInDocument(url: str):\n",
        "  fixed_url = '/api/parts/d/did/w/wid'\n",
        "\n",
        "  element = OnshapeElement(url)\n",
        "  fixed_url = fixed_url.replace('did', element.did)\n",
        "  fixed_url = fixed_url.replace('wid', element.wvmid)\n",
        "\n",
        "  method = 'GET'\n",
        "\n",
        "  params = {}\n",
        "  payload = {}\n",
        "  headers = {'Accept': 'application/vnd.onshape.v1+json; charset=UTF-8;qs=0.1',\n",
        "            'Content-Type': 'application/json'}\n",
        "\n",
        "  response = client.api_client.request(method, url=base + fixed_url, query_params=params, headers=headers, body=payload)\n",
        "\n",
        "  parsed = json.loads(response.data)\n",
        "  return parsed\n",
        "\n",
        "if showResponse:\n",
        "  partResponse = getPartsInDocument(url)\n",
        "  print(json.dumps(partResponse, indent=4, sort_keys=True))\n",
        "else:\n",
        "  pass"
      ],
      "execution_count": null,
      "outputs": []
    },
    {
      "cell_type": "markdown",
      "metadata": {
        "id": "XDE05_1NXbme"
      },
      "source": [
        "# 02.2 Parts - Get All Parts in Part Studio"
      ]
    },
    {
      "cell_type": "code",
      "metadata": {
        "id": "V0L4nbhLXf8L",
        "cellView": "form"
      },
      "source": [
        "#@title Get Parts in Part Studio\n",
        "#@markdown Funciton `getPartsInPartStudio(url: str)` returns JSON of all parts in a part studio\n",
        "url = 'https://cad.onshape.com/documents/263517311c2ad139d4eb57ca/w/b45057ae06777e0c28bca6c5/e/d316bcbc694c9dbb6555f340' #@param {type:\"string\"}\n",
        "showResponse = True #@param {type:\"boolean\"}\n",
        "def getPartsInPartStudio(url: str):\n",
        "  fixed_url = '/api/parts/d/did/w/wid/e/eid/'\n",
        "\n",
        "  element = OnshapeElement(url)\n",
        "  fixed_url = fixed_url.replace('did', element.did)\n",
        "  fixed_url = fixed_url.replace('wid', element.wvmid)\n",
        "  fixed_url = fixed_url.replace('eid', element.eid)\n",
        "\n",
        "  method = 'GET'\n",
        "\n",
        "  params = {}\n",
        "  payload = {}\n",
        "  headers = {'Accept': 'application/vnd.onshape.v1+json; charset=UTF-8;qs=0.1',\n",
        "            'Content-Type': 'application/json'}\n",
        "\n",
        "  response = client.api_client.request(method, url=base + fixed_url, query_params=params, headers=headers, body=payload)\n",
        "\n",
        "  parsed = json.loads(response.data)\n",
        "  # The command below prints the entire JSON response from Onshape\n",
        "  # print(json.dumps(parsed, indent=4, sort_keys=True))\n",
        "  return parsed\n",
        "\n",
        "if showResponse:\n",
        "  partResponse = getPartsInPartStudio('https://cad.onshape.com/documents/263517311c2ad139d4eb57ca/w/b45057ae06777e0c28bca6c5/e/d316bcbc694c9dbb6555f340')\n",
        "  print(json.dumps(partResponse, indent=4, sort_keys=True))\n",
        "else:\n",
        "  pass"
      ],
      "execution_count": null,
      "outputs": []
    },
    {
      "cell_type": "markdown",
      "metadata": {
        "id": "ypWUdSlRIucB"
      },
      "source": [
        "# 03.1 MetaData - Get Element MetaData"
      ]
    },
    {
      "cell_type": "code",
      "metadata": {
        "id": "EepyiCoYI8sQ"
      },
      "source": [
        "fixed_url = '/api/metadata/d/did/w/wid/e/eid'\n",
        "\n",
        "# https://cad.onshape.com/documents/263517311c2ad139d4eb57ca/w/b45057ae06777e0c28bca6c5/e/d316bcbc694c9dbb6555f340\n",
        "did = '263517311c2ad139d4eb57ca'\n",
        "wid = 'b45057ae06777e0c28bca6c5'\n",
        "eid = 'd316bcbc694c9dbb6555f340'\n",
        "\n",
        "method = 'GET'\n",
        "\n",
        "params = {}\n",
        "payload = {}\n",
        "headers = {'Accept': 'application/vnd.onshape.v1+json; charset=UTF-8;qs=0.1',\n",
        "           'Content-Type': 'application/json'}\n",
        "\n",
        "fixed_url = fixed_url.replace('did', did)\n",
        "fixed_url = fixed_url.replace('wid', wid)\n",
        "fixed_url = fixed_url.replace('eid', eid)\n",
        "\n",
        "response = client.api_client.request(method, url=base + fixed_url, query_params=params, headers=headers, body=payload)\n",
        "\n",
        "# The command below prints the entire JSON response from Onshape\n",
        "for i in json.loads(response.data)['properties']:\n",
        "  print(i['name'])\n",
        "  print(i['value'])"
      ],
      "execution_count": null,
      "outputs": []
    },
    {
      "cell_type": "markdown",
      "metadata": {
        "id": "ItKo2uQBJkGI"
      },
      "source": [
        "# 03.2 MetaData - Get Part MetaData\n",
        "You will need a Part ID for this API endpoint. You can get Part ID's with snippet 2.1 above."
      ]
    },
    {
      "cell_type": "code",
      "metadata": {
        "id": "wLb0ugpqJu6s"
      },
      "source": [
        "fixed_url = '/api/metadata/d/did/w/wid/e/eid/p/pid'\n",
        "\n",
        "# https://cad.onshape.com/documents/263517311c2ad139d4eb57ca/w/b45057ae06777e0c28bca6c5/e/d316bcbc694c9dbb6555f340\n",
        "did = '263517311c2ad139d4eb57ca'\n",
        "wid = 'b45057ae06777e0c28bca6c5'\n",
        "eid = 'd316bcbc694c9dbb6555f340'\n",
        "pid = 'JHD'\n",
        "\n",
        "fixed_url = fixed_url.replace('did', did)\n",
        "fixed_url = fixed_url.replace('wid', wid)\n",
        "fixed_url = fixed_url.replace('eid', eid)\n",
        "fixed_url = fixed_url.replace('pid', pid)\n",
        "\n",
        "method = 'GET'\n",
        "\n",
        "params = {}\n",
        "payload = {}\n",
        "headers = {'Accept': 'application/vnd.onshape.v1+json; charset=UTF-8;qs=0.1',\n",
        "           'Content-Type': 'application/json'}\n",
        "\n",
        "response = client.api_client.request(method, url=base + fixed_url, query_params=params, headers=headers, body=payload)\n",
        "\n",
        "for i in json.loads(response.data)['properties']:\n",
        "  print(i['name'])\n",
        "  print(i['value'])"
      ],
      "execution_count": null,
      "outputs": []
    },
    {
      "cell_type": "markdown",
      "metadata": {
        "id": "xIaAq0jmyI71"
      },
      "source": [
        "# 03.2.1 MetaData - Update Part Color\n",
        "The function below gets the metadata for a part, then changes the part's color and opacity, and sends a post request to update it. **The function needs a part id (pid) and element id (eid) which can be found with the snippet in 2.1 above**."
      ]
    },
    {
      "cell_type": "code",
      "metadata": {
        "id": "7Gipencly3so",
        "cellView": "form"
      },
      "source": [
        "#@title Update Part Color\n",
        "#@markdown Defines funciton `updateColor(url,eid,pid,newOpacity,newColors)`, which updates the color of the specified part to the specified values\n",
        "\n",
        "#@markdown URL can be to your assembly\n",
        "url = 'https://cad.onshape.com/documents/fb00ed566c3e0934ae91d74c/w/80749fc9b1aa0adab776dc56/e/f17ce18736063f03b8d7dd9a' #@param {type:\"string\"}\n",
        "#@markdown eid is the element ID of the partStudio that has the part you want to change the color of\n",
        "eid = \"d57f24d933d2521fce153c7d\" #@param {type:\"string\"}\n",
        "#@markdown pid is the part ID of the part you want to change the color of\n",
        "pid = \"JHD\" #@param {type:\"string\"}\n",
        "#@markdown newOpacity is a value from 0-255, or input -1 to keep opacity the same\n",
        "newOpacity = 5 #@param {type:\"number\"}\n",
        "#@markdown newColor is a JSON object of form `{'red': 10, 'green': 255, 'blue': 10}`, or input \"none\" to keep color the same\n",
        "newColors = \"none\" #@param\n",
        "showResponse = False #@param {type:\"boolean\"}\n",
        "\n",
        "def updateColor(url,eid,pid,newOpacity,newColors):\n",
        "\n",
        "  fixed_url = '/api/metadata/d/did/w/wid/e/eid/p/pid'\n",
        "  element = OnshapeElement(url)\n",
        "  fixed_url = fixed_url.replace('did', element.did)\n",
        "  fixed_url = fixed_url.replace('wid', element.wvmid)\n",
        "  fixed_url = fixed_url.replace('eid', eid)\n",
        "  fixed_url = fixed_url.replace('pid', pid)\n",
        "\n",
        "  params = {}\n",
        "  payload = {}\n",
        "  headers = {'Accept': 'application/vnd.onshape.v1+json; charset=UTF-8;qs=0.1',\n",
        "            'Content-Type': 'application/json'}  \n",
        "\n",
        "  response = client.api_client.request('GET', url=base + fixed_url,\n",
        "  query_params=params, headers=headers, body=payload)\n",
        "\n",
        "  partMetaData = json.loads(response.data)\n",
        "  partProperties = partMetaData['properties']\n",
        "\n",
        "  # # Print current appearance values\n",
        "  # for x in partProperties:\n",
        "  #   if x['name'] == \"Appearance\":\n",
        "  #     partAppearance = x\n",
        "  #     break\n",
        "  # print(partAppearance['value'])\n",
        "\n",
        "  for i in range(len(partProperties)):\n",
        "    if partProperties[i]['name'] == \"Appearance\":\n",
        "      if newOpacity == -1:\n",
        "        pass\n",
        "      else:\n",
        "        partProperties[i]['value']['opacity'] = newOpacity\n",
        "      if newColors == \"none\":\n",
        "        pass\n",
        "      else:\n",
        "        partProperties[i]['value']['color'] = newColors\n",
        "      break\n",
        "\n",
        "  partMetaData['properties'] = partProperties\n",
        "  payload = partMetaData\n",
        "\n",
        "  response = client.api_client.request('POST', url=base + fixed_url,\n",
        "  query_params=params, headers=headers, body=payload)\n",
        "  parsed = json.loads(response.data)\n",
        "  return parsed\n",
        "\n",
        "updatedColor = updateColor(url,eid,pid,newOpacity,newColors)\n",
        "if showResponse:\n",
        "  print(json.dumps(updatedColor, indent=4, sort_keys=True))\n",
        "else:\n",
        "  pass"
      ],
      "execution_count": null,
      "outputs": []
    },
    {
      "cell_type": "markdown",
      "metadata": {
        "id": "4sNRCIZsz6mn"
      },
      "source": [
        "# 04.1 FeatureStudios - Create Feature Studio\n",
        "First snippet creates a FeatureStudio"
      ]
    },
    {
      "cell_type": "code",
      "metadata": {
        "id": "BCGGQtrm0Mo1"
      },
      "source": [
        "def addFeatureStudio(url:str,name=\"ColabFeature\"):\n",
        "  fixed_url = '/api/featurestudios/d/did/w/wid'\n",
        "\n",
        "  element = OnshapeElement(url)\n",
        "  fixed_url = fixed_url.replace('did', element.did)\n",
        "  fixed_url = fixed_url.replace('wid', element.wvmid)\n",
        "\n",
        "  method = 'POST'\n",
        "\n",
        "  params = {}\n",
        "  payload = {\"name\":name}\n",
        "  headers = {'Accept': 'application/vnd.onshape.v1+json; charset=UTF-8;qs=0.1',\n",
        "            'Content-Type': 'application/json'}\n",
        "\n",
        "  response = client.api_client.request(method, url=base + fixed_url, query_params=params, headers=headers, body=payload)\n",
        "\n",
        "  # The command below prints the entire JSON response from Onshape\n",
        "  print(json.loads(response.data))\n",
        "\n",
        "addFeatureStudio('https://cad.onshape.com/documents/7820391e3a9b37485d78da07/w/62c67fd520278fbfa3ebd529/e/c83cc398c91add81154089d7')"
      ],
      "execution_count": null,
      "outputs": []
    },
    {
      "cell_type": "markdown",
      "metadata": {
        "id": "JvtNkx7i2A_i"
      },
      "source": [
        "# 04.2 FeatureStudios - Get FeatureSpecs\n",
        "Element ID must be for a FeatureStudio"
      ]
    },
    {
      "cell_type": "code",
      "metadata": {
        "id": "bmU9Cusc2ApW"
      },
      "source": [
        "fixed_url = '/api/featurestudios/d/did/w/wid/e/eid/featurespecs'\n",
        "\n",
        "# https://cad.onshape.com/documents/263517311c2ad139d4eb57ca/w/b45057ae06777e0c28bca6c5/e/7a1ceda85403a0d972055ba7\n",
        "did = '263517311c2ad139d4eb57ca'\n",
        "wid = 'b45057ae06777e0c28bca6c5'\n",
        "eid = '7a1ceda85403a0d972055ba7'\n",
        "\n",
        "fixed_url = fixed_url.replace('did', did)\n",
        "fixed_url = fixed_url.replace('wid', wid)\n",
        "fixed_url = fixed_url.replace('eid', eid)\n",
        "\n",
        "# Method below specifies the request type - 'GET' or 'POST'\n",
        "method = 'GET'\n",
        "\n",
        "params = {}\n",
        "payload = {}\n",
        "headers = {'Accept': 'application/vnd.onshape.v1+json; charset=UTF-8;qs=0.1',\n",
        "           'Content-Type': 'application/json'}\n",
        "\n",
        "response = client.api_client.request(method, url=base + fixed_url, query_params=params, headers=headers, body=payload)\n",
        "print(response.data)"
      ],
      "execution_count": null,
      "outputs": []
    },
    {
      "cell_type": "markdown",
      "metadata": {
        "id": "OzjLGI1xDq9W"
      },
      "source": [
        "# 04.3 FeatureStudios - Get Feature Content"
      ]
    },
    {
      "cell_type": "code",
      "metadata": {
        "id": "L8sLXQGH1M5_"
      },
      "source": [
        "fixed_url = '/api/featurestudios/d/did/w/wid/e/eid'\n",
        "\n",
        "# https://cad.onshape.com/documents/263517311c2ad139d4eb57ca/w/b45057ae06777e0c28bca6c5/e/7a1ceda85403a0d972055ba7\n",
        "did = '263517311c2ad139d4eb57ca'\n",
        "wid = 'b45057ae06777e0c28bca6c5'\n",
        "eid = '7a1ceda85403a0d972055ba7'\n",
        "\n",
        "fixed_url = fixed_url.replace('did', did)\n",
        "fixed_url = fixed_url.replace('wid', wid)\n",
        "fixed_url = fixed_url.replace('eid', eid)\n",
        "\n",
        "# Method below specifies the request type - 'GET' or 'POST'\n",
        "method = 'GET'\n",
        "\n",
        "params = {}\n",
        "payload = {}\n",
        "headers = {'Accept': 'application/vnd.onshape.v1+json; charset=UTF-8;qs=0.1',\n",
        "           'Content-Type': 'application/json'}\n",
        "\n",
        "response = client.api_client.request(method, url=base + fixed_url, query_params=params, headers=headers, body=payload)\n",
        "print(response.data)"
      ],
      "execution_count": null,
      "outputs": []
    },
    {
      "cell_type": "markdown",
      "metadata": {
        "id": "8JyJVH9eETc3"
      },
      "source": [
        "# 04.4 FeatureStudios - Update Feature Content\n"
      ]
    },
    {
      "cell_type": "code",
      "metadata": {
        "id": "7c-gyyjSERry"
      },
      "source": [
        "fixed_url = '/api/featurestudios/d/did/w/wid/e/eid'\n",
        "\n",
        "did = 'e025dee9cd9e880498ecc623'\n",
        "wid = '67f35e2ecb147b5d6c4e4498'\n",
        "eid = '7e843682a5c2ec5c8a0bb1af'\n",
        "\n",
        "fixed_url = fixed_url.replace('did', did)\n",
        "fixed_url = fixed_url.replace('wid', wid)\n",
        "fixed_url = fixed_url.replace('eid', eid)\n",
        "\n",
        "# Method below specifies the request type - 'GET' or 'POST'\n",
        "method = 'GET'\n",
        "\n",
        "params = {}\n",
        "payload = {}\n",
        "headers = {'Accept': 'application/vnd.onshape.v1+json; charset=UTF-8;qs=0.1',\n",
        "           'Content-Type': 'application/json'}\n",
        "\n",
        "response = client.api_client.request(method, url=base + fixed_url, query_params=params, headers=headers, body=payload)\n",
        "\n",
        "newBody = json.loads(response.data)\n",
        "print(newBody[\"contents\"]) #print current contents of featurestudio\n",
        "\n",
        "#define new feature here\n",
        "feature = \"\"\"\n",
        "FeatureScript 1511;\n",
        "import(path : \"onshape/std/geometry.fs\", version : \"1511.0\");\n",
        "\n",
        "annotation { \"Feature Type Name\" : \"My Feature\" }\n",
        "export const myFeature = defineFeature(function(context is Context, id is Id, definition is map)\n",
        "    precondition\n",
        "    {\n",
        "        // Define the parameters of the feature type\n",
        "    }\n",
        "    {\n",
        "        // Define the function's action\n",
        "        fCuboid(context, id + \"cuboid1\", {\n",
        "                \"corner1\" : vector(0, 0, 0) * inch,\n",
        "                \"corner2\" : vector(1, 1, 1) * inch\n",
        "        });\n",
        "    });\n",
        "\"\"\"\n",
        "newBody[\"contents\"] = feature\n",
        "payload = newBody\n",
        "\n",
        "method = 'POST'\n",
        "response = client.api_client.request(method, url=base + fixed_url, query_params=params, headers=headers, body=payload)"
      ],
      "execution_count": null,
      "outputs": []
    },
    {
      "cell_type": "markdown",
      "metadata": {
        "id": "798seeWrG_jT"
      },
      "source": [
        "# 05.1 Elements - Get Configurations"
      ]
    },
    {
      "cell_type": "code",
      "metadata": {
        "id": "VxhoLuKmHDw0"
      },
      "source": [
        "#@title Get List of Configurations from an Element\n",
        "#@markdown Defines funciton `getElementConfiguration(url: str)`, which returns JSON of all configurations for an element\n",
        "\n",
        "url = 'https://cad.onshape.com/documents/eecccfab1c8776ea7391b956/w/31f74da518761683b404d0a1/e/5d75c81872788ee207559d27' #@param {type:\"string\"}\n",
        "showResponse = False #@param {type:\"boolean\"}\n",
        "def getElementConfiguration(url: str):\n",
        "  fixed_url = '/api/elements/d/did/w/wid/e/eid/configuration'\n",
        "  element = OnshapeElement(url)\n",
        "  fixed_url = fixed_url.replace('did', element.did)\n",
        "  fixed_url = fixed_url.replace('wid', element.wvmid)\n",
        "  fixed_url = fixed_url.replace('eid', element.eid)\n",
        "\n",
        "  method = 'GET'\n",
        "\n",
        "  params = {}\n",
        "  payload = {}\n",
        "  headers = {'Accept': 'application/vnd.onshape.v1+json; charset=UTF-8;qs=0.1',\n",
        "          'Content-Type': 'application/json'}\n",
        "\n",
        "  response = client.api_client.request(method, url=base + fixed_url, query_params=params, headers=headers, body=payload)\n",
        "  parsed = json.loads(response.data)\n",
        "  # The command below prints the entire JSON response from Onshape\n",
        "  # print(json.dumps(parsed, indent=4, sort_keys=True))\n",
        "  return parsed\n",
        "if showResponse:\n",
        "  elementConfiguration = getElementConfiguration(url)\n",
        "  print(json.dumps(elementConfiguration, indent=4, sort_keys=True))\n",
        "else:\n",
        "  pass"
      ],
      "execution_count": null,
      "outputs": []
    },
    {
      "cell_type": "markdown",
      "metadata": {
        "id": "crYYBbMLwEWy"
      },
      "source": [
        "# 06.1 AppElements - Create AppElement"
      ]
    },
    {
      "cell_type": "code",
      "metadata": {
        "id": "Dvp6IAD9wfUk",
        "cellView": "form"
      },
      "source": [
        "#@title Add App Element to a document\n",
        "#@markdown Defines funciton `addAppElement(url: str,name=\"Colab AppElement\")`, which adds an app element to a document with a specified name and returns the JSON response\n",
        "\n",
        "url = 'https://cad.onshape.com/documents/1619b643b35c8e9c2ef677c8/w/4df7c19535def518bee858f1/e/d742899ec15fd06180470229' #@param {type:\"string\"}\n",
        "name = \"Octoprint AppElement\" #@param {type:\"string\"}\n",
        "showResponse = True #@param {type:\"boolean\"}\n",
        "\n",
        "def addAppElement(url:str,name=\"Colab AppElement\"):\n",
        "  fixed_url = '/api/appelements/d/did/w/wid'\n",
        "  element = OnshapeElement(url)\n",
        "  fixed_url = fixed_url.replace('did', element.did)\n",
        "  fixed_url = fixed_url.replace('wid', element.wvmid)\n",
        "\n",
        "  method = 'POST'\n",
        "\n",
        "  params = {}\n",
        "  payload = {\n",
        "        \"formatId\": \"com.python\",\n",
        "        \"name\": name,\n",
        "        \"description\": \"Created App Element\",\n",
        "        \"jsonTree\": {\"hello\":\"world\"}\n",
        "      }\n",
        "  headers = {'Accept': 'application/vnd.onshape.v1+json',\n",
        "            'Content-Type': 'application/json'}\n",
        "\n",
        "  response = client.api_client.request(method, url=base + fixed_url, query_params=params, headers=headers, body=payload)\n",
        "\n",
        "  parsed = json.loads(response.data)\n",
        "  return parsed\n",
        "\n",
        "if showResponse:\n",
        "  appElement = addAppElement(url, name)\n",
        "  print(json.dumps(appElement, indent=4, sort_keys=True))\n",
        "else:\n",
        "  pass"
      ],
      "execution_count": null,
      "outputs": []
    },
    {
      "cell_type": "markdown",
      "metadata": {
        "id": "PIPytoJr1MOX"
      },
      "source": [
        "# 06.2 AppElements - Get JSON Tree Data\n",
        "\n",
        "Element ID must be an application element"
      ]
    },
    {
      "cell_type": "code",
      "metadata": {
        "id": "tQgdmA7h1ZWb"
      },
      "source": [
        "#@title Get JSON tree from App Element\n",
        "#@markdown Defines funciton `getJsonTree(url: str,name=\"Colab AppElement\")`, which adds an app element to a document with a specified name and returns the JSON response\n",
        "\n",
        "url = 'https://cad.onshape.com/documents/7820391e3a9b37485d78da07/w/62c67fd520278fbfa3ebd529/e/71e0929b813fbc1b08c92c99' #@param {type:\"string\"}\n",
        "showResponse = True #@param {type:\"boolean\"}\n",
        "\n",
        "def getJsonTree(url:str):\n",
        "  fixed_url = '/api/appelements/d/did/w/wid/e/eid/content/json'\n",
        "  element = OnshapeElement(url)\n",
        "  fixed_url = fixed_url.replace('did', element.did)\n",
        "  fixed_url = fixed_url.replace('wid', element.wvmid)\n",
        "  fixed_url = fixed_url.replace('eid', element.eid)\n",
        "\n",
        "  method = 'GET'\n",
        "\n",
        "  params = {}\n",
        "  payload = {}\n",
        "  headers = {'Accept': 'application/vnd.onshape.v2+json',\n",
        "            'Content-Type': 'application/json'}\n",
        "\n",
        "  response = client.api_client.request(method, url=base + fixed_url, query_params=params, headers=headers, body=payload)\n",
        "\n",
        "  parsed = json.loads(response.data)\n",
        "\n",
        "  return parsed\n",
        "\n",
        "if showResponse:\n",
        "  jsonTree = getJsonTree(url)\n",
        "  print(json.dumps(jsonTree, indent=4, sort_keys=True))\n",
        "else:\n",
        "  pass"
      ],
      "execution_count": null,
      "outputs": []
    },
    {
      "cell_type": "markdown",
      "metadata": {
        "id": "6xI7T4g0wv6T"
      },
      "source": [
        "# 06.3 AppElements - Update JSON Tree\n",
        "\n",
        "Change value of existing JSON key"
      ]
    },
    {
      "cell_type": "code",
      "metadata": {
        "id": "6mI1zRYmw4lc"
      },
      "source": [
        "#@title Update JSON tree in App Element\n",
        "#@markdown Defines funciton `updateAppElementJsonKey(url:str,keyName=\"foo\",keyValue=\"bar\")`, which adds an app element to a document with a specified name and returns the JSON response\n",
        "\n",
        "#@markdown **Note: you must define `getJsonTree()` function before using this**\n",
        "url = 'https://cad.onshape.com/documents/7820391e3a9b37485d78da07/w/62c67fd520278fbfa3ebd529/e/71e0929b813fbc1b08c92c99' #@param {type:\"string\"}\n",
        "keyName = 'hello' #@param {type:\"string\"}\n",
        "keyValue = 'bye' #@param {type:\"string\"}\n",
        "\n",
        "showResponse = True #@param {type:\"boolean\"}\n",
        "\n",
        "def updateAppElementJsonKey(url:str,keyName=\"foo\",keyValue=\"bar\"):\n",
        "  fixed_url = '/api/appelements/d/did/w/wid/e/eid/content'\n",
        "  element = OnshapeElement(url)\n",
        "  fixed_url = fixed_url.replace('did', element.did)\n",
        "  fixed_url = fixed_url.replace('wid', element.wvmid)\n",
        "  fixed_url = fixed_url.replace('eid', element.eid)\n",
        "\n",
        "  method = 'POST'\n",
        "\n",
        "  params = {}\n",
        "  payload = {\n",
        "      \"parentChangeId\": getJsonTree(url)['changeId'],\n",
        "      \"jsonTreeEdit\": {'btType' : \"BTJEditChange-2636\", \n",
        "                      'path' : { 'btType' : 'BTJPath-3073', 'startNode' : '', 'path' : [{ 'btType' : 'BTJPathKey-3221', 'key' : keyName }] }, \n",
        "                      'value' : keyValue }\n",
        "      }\n",
        "\n",
        "  headers = {'Accept': 'application/vnd.onshape.v1+json',\n",
        "            'Content-Type': 'application/json'}\n",
        "\n",
        "  response = client.api_client.request(method, url=base + fixed_url, query_params=params, headers=headers, body=payload)\n",
        "\n",
        "  parsed = json.loads(response.data)\n",
        "  return parsed\n",
        "\n",
        "if showResponse:\n",
        "  newJsonTree = updateAppElementJsonKey(url,keyName,keyValue)\n",
        "  print(json.dumps(newJsonTree, indent=4, sort_keys=True))\n",
        "else:\n",
        "  pass"
      ],
      "execution_count": null,
      "outputs": []
    },
    {
      "cell_type": "markdown",
      "metadata": {
        "id": "2wodJCltx1qN"
      },
      "source": [
        "# 06.3.1 AppElements - Update JSON Tree\n",
        "\n",
        "Add new json key"
      ]
    },
    {
      "cell_type": "code",
      "metadata": {
        "id": "Yd6naOTjx7sg"
      },
      "source": [
        "#@title Add new key to JSON tree in App Element\n",
        "#@markdown Defines funciton `addAppElementJsonKey(url:str,newKeyName=\"foo\",newKeyValue=\"bar\")`, which adds an app element to a document with a specified name and returns the JSON response\n",
        "\n",
        "#@markdown **Note: you must define `getJsonTree()` function before using this**\n",
        "url = 'https://cad.onshape.com/documents/7820391e3a9b37485d78da07/w/62c67fd520278fbfa3ebd529/e/71e0929b813fbc1b08c92c99' #@param {type:\"string\"}\n",
        "newKeyName = 'foo' #@param {type:\"string\"}\n",
        "newKeyValue = 'bar' #@param {type:\"string\"}\n",
        "\n",
        "showResponse = True #@param {type:\"boolean\"}\n",
        "\n",
        "def addAppElementJsonKey(url:str,newKeyName=\"foo\",newKeyValue=\"bar\"):\n",
        "  fixed_url = '/api/appelements/d/did/w/wid/e/eid/content'\n",
        "  element = OnshapeElement(url)\n",
        "  fixed_url = fixed_url.replace('did', element.did)\n",
        "  fixed_url = fixed_url.replace('wid', element.wvmid)\n",
        "  fixed_url = fixed_url.replace('eid', element.eid)\n",
        "\n",
        "  method = 'POST'\n",
        "\n",
        "  # Insertion: { 'btType' : 'BTJEditInsert-2523', 'path' : path, 'value' : newValue }\n",
        "\n",
        "  params = {}\n",
        "  payload = {\n",
        "      \"parentChangeId\": getJsonTree(url)['changeId'],\n",
        "      \"jsonTreeEdit\": {'btType' : 'BTJEditInsert-2523', \n",
        "                      'path' : { 'btType' : 'BTJPath-3073', 'startNode' : '', 'path' : [{ 'btType' : 'BTJPathKey-3221', 'key' : newKeyName }] }, \n",
        "                      'value' : newKeyValue }\n",
        "      }\n",
        "\n",
        "  headers = {'Accept': 'application/vnd.onshape.v1+json',\n",
        "            'Content-Type': 'application/json'}\n",
        "\n",
        "  response = client.api_client.request(method, url=base + fixed_url, query_params=params, headers=headers, body=payload)\n",
        "\n",
        "  parsed = json.loads(response.data)\n",
        "  return parsed\n",
        "\n",
        "if showResponse:\n",
        "  newJsonTree = addAppElementJsonKey(url,newKeyName,newKeyValue)\n",
        "  print(json.dumps(newJsonTree, indent=4, sort_keys=True))\n",
        "else:\n",
        "  pass"
      ],
      "execution_count": null,
      "outputs": []
    },
    {
      "cell_type": "markdown",
      "metadata": {
        "id": "No4YEPGvyUo8"
      },
      "source": [
        "# 06.4 AppElements - Get JSON Tree History"
      ]
    },
    {
      "cell_type": "code",
      "metadata": {
        "id": "AWz1UMgDyod_"
      },
      "source": [
        "def getJsonTreeHistory():\n",
        "  fixed_url = '/api/appelements/d/did/w/wid/e/eid/content/history'\n",
        "\n",
        "  # https://cad.onshape.com/documents/9e0878dfcce12a4a996be8a7/w/0aab7305e4b4f0d3537962d6/e/606b7bd0a144819c887bd396\n",
        "  did = '9e0878dfcce12a4a996be8a7'\n",
        "  wid = '0aab7305e4b4f0d3537962d6'\n",
        "  eid = '55015109301f6462ffe9a058'\n",
        "\n",
        "  method = 'GET'\n",
        "\n",
        "  params = {}\n",
        "  payload = {}\n",
        "  headers = {'Accept': 'application/vnd.onshape.v2+json',\n",
        "            'Content-Type': 'application/json'}\n",
        "\n",
        "  fixed_url = fixed_url.replace('did', did)\n",
        "  fixed_url = fixed_url.replace('wid', wid)\n",
        "  fixed_url = fixed_url.replace('eid', eid)\n",
        "\n",
        "  print(base + fixed_url)\n",
        "\n",
        "  response = client.api_client.request(method, url=base + fixed_url, query_params=params, headers=headers, body=payload)\n",
        "\n",
        "  parsed = json.loads(response.data)\n",
        "  # The command below prints the entire JSON response from Onshape\n",
        "  print(json.dumps(parsed, indent=4, sort_keys=True))\n",
        "  return parsed\n",
        "\n",
        "print(getJsonTreeHistory())"
      ],
      "execution_count": null,
      "outputs": []
    },
    {
      "cell_type": "markdown",
      "metadata": {
        "id": "slCemKT6y4Jl"
      },
      "source": [
        "# 07.1 Assemblies - Get Assembly Definition"
      ]
    },
    {
      "cell_type": "code",
      "metadata": {
        "id": "yruSudxjy7sX"
      },
      "source": [
        "#@title Get Assembly Definition\n",
        "#@markdown Function `getAssemblyDefinition(url: str)` returns JSON of all parts in a document. The URL can be any element from the document.\n",
        "url = 'https://cad.onshape.com/documents/bb22099573adad2eb4ea7daa/w/7c08e43470d8f47139b916ab/e/67cb1d22c65fb548487543b6' #@param {type:\"string\"}\n",
        "showResponse = False#@param {type:\"boolean\"}\n",
        "listParts = True#@param {type:\"boolean\"}\n",
        "def getAssemblyDefinition(url: str):\n",
        "  fixed_url = '/api/assemblies/d/did/w/wid/e/eid'\n",
        "\n",
        "  element = OnshapeElement(url)\n",
        "  fixed_url = fixed_url.replace('did', element.did)\n",
        "  fixed_url = fixed_url.replace('wid', element.wvmid)\n",
        "  fixed_url = fixed_url.replace('eid', element.eid)\n",
        "\n",
        "  method = 'GET'\n",
        "\n",
        "  params = {}\n",
        "  payload = {}\n",
        "  headers = {'Accept': 'application/vnd.onshape.v1+json; charset=UTF-8;qs=0.1',\n",
        "            'Content-Type': 'application/json'}\n",
        "\n",
        "  response = client.api_client.request(method, url=base + fixed_url, query_params=params, headers=headers, body=payload)\n",
        "\n",
        "  parsed = json.loads(response.data)\n",
        "  return parsed\n",
        "\n",
        "assemblyDefinitionResponse = getAssemblyDefinition(url)\n",
        "\n",
        "if showResponse:\n",
        "  print(json.dumps(assemblyDefinitionResponse, indent=4, sort_keys=True))\n",
        "if listParts:\n",
        "  for instance in assemblyDefinitionResponse['rootAssembly']['instances']:\n",
        "    name = instance['name']\n",
        "    id = instance['id']\n",
        "    print(f'Part named {name} has id {id}')\n",
        "else:\n",
        "  pass"
      ],
      "execution_count": null,
      "outputs": []
    },
    {
      "cell_type": "markdown",
      "metadata": {
        "id": "q5OyfE7i7qcn"
      },
      "source": [
        "# 07.2 Assemblies - Create Assembly Instance\n",
        "The snippet below shows how to add all Parts from a Part Studio into an Assembly within the same document. If you want to pull a part from a different document, you must specify a versionID for the source document"
      ]
    },
    {
      "cell_type": "code",
      "metadata": {
        "id": "MJ9Vofnk79Xd"
      },
      "source": [
        "# Specify the document and element ID of the source part you want to insert\n",
        "sourceDid = '062ac5b9f4d2e8b873653e76'\n",
        "sourceEid = 'b508a03a28dd5add1fc6e5c0'\n",
        "\n",
        "# Uncomment section below and use only if sourceDid is different than the assembly Did\n",
        "\n",
        "# # First get the version of the document you want to pull from\n",
        "# fixed_url = '/api/documents/d/did/versions'\n",
        "# fixed_url = fixed_url.replace('did', sourceDid)\n",
        "\n",
        "# method = 'GET'\n",
        "\n",
        "# params = {}\n",
        "# payload = {}\n",
        "# headers = {'Accept': 'application/vnd.onshape.v1+json; charset=UTF-8;qs=0.1',\n",
        "#            'Content-Type': 'application/json'}\n",
        "\n",
        "# response = client.api_client.request(method, url=base + fixed_url, query_params=params, headers=headers, body=payload)\n",
        "# version = json.loads(response.data)[0]['id']\n",
        "\n",
        "\n",
        "# Then set up POST request to assembly you want to add to\n",
        "\n",
        "fixed_url = '/api/assemblies/d/did/w/wid/e/eid/instances'\n",
        "\n",
        "# Assembly you want to add instance to\n",
        "# https://cad.onshape.com/documents/062ac5b9f4d2e8b873653e76/w/4c2c6371b76c676921ae8032/e/0a9a4d0604f036fd608e5120\n",
        "did = '062ac5b9f4d2e8b873653e76'\n",
        "wid = '4c2c6371b76c676921ae8032'\n",
        "eid = '0a9a4d0604f036fd608e5120'\n",
        "\n",
        "fixed_url = fixed_url.replace('did', did)\n",
        "fixed_url = fixed_url.replace('wid', wid)\n",
        "fixed_url = fixed_url.replace('eid', eid)\n",
        "\n",
        "method = 'POST'\n",
        "\n",
        "params = {}\n",
        "payload = {'documentId': sourceDid,\n",
        "           'elementId': sourceEid,\n",
        "          #  'versionId':version, # only include versionID if source part is in a different document than the assembly\n",
        "           'isWholePartStudio':True,\n",
        "          #  'configuration':'MotorShape=Default' # must specify configuration if part is configured\n",
        "           }\n",
        "\n",
        "headers = {'Accept': 'application/vnd.onshape.v1+json; charset=UTF-8;qs=0.1',\n",
        "           'Content-Type': 'application/json'}\n",
        "\n",
        "response = client.api_client.request(method, url=base + fixed_url, query_params=params, headers=headers, body=payload)\n",
        "\n",
        "print(response.status)"
      ],
      "execution_count": null,
      "outputs": []
    },
    {
      "cell_type": "markdown",
      "metadata": {
        "id": "oR1T94p2Xh8h"
      },
      "source": [
        "# 07.2.1 Assemblies - Create Instance from Assembly\n",
        "This snippet shows how to add a sub-assembly from a linked document into a new assembly"
      ]
    },
    {
      "cell_type": "code",
      "metadata": {
        "id": "RyCRsumLfm1I"
      },
      "source": [
        "# First get the version of the document you want to pull from\n",
        "fixed_url = '/api/documents/d/did/versions'\n",
        "did = 'a1b859a8fa32ed77b6a98ef0'\n",
        "fixed_url = fixed_url.replace('did', did)\n",
        "\n",
        "method = 'GET'\n",
        "\n",
        "params = {}\n",
        "payload = {}\n",
        "headers = {'Accept': 'application/vnd.onshape.v1+json; charset=UTF-8;qs=0.1',\n",
        "           'Content-Type': 'application/json'}\n",
        "\n",
        "response = client.api_client.request(method, url=base + fixed_url, query_params=params, headers=headers, body=payload)\n",
        "version = json.loads(response.data)[0]['id']\n",
        "\n",
        "\n",
        "# Then set up POST request to assembly you want to add to\n",
        "\n",
        "fixed_url = '/api/assemblies/d/did/w/wid/e/eid/instances'\n",
        "\n",
        "# Assembly you want to add instance to\n",
        "# https://cad.onshape.com/documents/f20e3b39b4d19572ee26665d/w/26800f92770dbe88d66129fe/e/ff736ca1cb4b923812bf7f36\n",
        "did = 'f20e3b39b4d19572ee26665d'\n",
        "wid = '26800f92770dbe88d66129fe'\n",
        "eid = 'ff736ca1cb4b923812bf7f36'\n",
        "\n",
        "fixed_url = fixed_url.replace('did', did)\n",
        "fixed_url = fixed_url.replace('wid', wid)\n",
        "fixed_url = fixed_url.replace('eid', eid)\n",
        "\n",
        "method = 'POST'\n",
        "\n",
        "# specify the document ID and element ID for the assmelby you'd like to add\n",
        "checkptDid = 'a1b859a8fa32ed77b6a98ef0'\n",
        "checkptEid = '494c89e6e3215f70111cd3c2'\n",
        "\n",
        "params = {}\n",
        "payload = {'documentId': checkptDid,\n",
        "           'elementId': checkptEid,\n",
        "           'versionId':version,\n",
        "           'isAssembly':True}\n",
        "\n",
        "headers = {'Accept': 'application/vnd.onshape.v1+json; charset=UTF-8;qs=0.1',\n",
        "           'Content-Type': 'application/json'}\n",
        "\n",
        "response = client.api_client.request(method, url=base + fixed_url, query_params=params, headers=headers, body=payload)\n",
        "\n",
        "print(response)"
      ],
      "execution_count": null,
      "outputs": []
    },
    {
      "cell_type": "markdown",
      "metadata": {
        "id": "Tq5WDTGhOX4k"
      },
      "source": [
        "# 07.3 Assemblies - Occurrence Transforms"
      ]
    },
    {
      "cell_type": "code",
      "metadata": {
        "cellView": "form",
        "id": "mMBTWMluw7bM"
      },
      "source": [
        "#@title Run this cell to load matrix helper functions\n",
        "\n",
        "import math\n",
        "import numpy\n",
        "\n",
        "def IdentitySixteen():\n",
        "  m = [\n",
        "      1, 0, 0, 0,\n",
        "      0, 1, 0, 0,\n",
        "      0, 0, 1, 0,\n",
        "      0, 0, 0, 1\n",
        "      ]\n",
        "  return m\n",
        "\n",
        "def DiceTransform(value):\n",
        "    switcher = {\n",
        "        0: [\n",
        "            0, 0, 1, 0,\n",
        "            0, 1, 0, 0,\n",
        "            -1, 0, 0, 0,\n",
        "            0, 0, 0, 1\n",
        "           ],\n",
        "        1: [\n",
        "            0, 0, 1, 0,\n",
        "            0, 1, 0, 0,\n",
        "            -1, 0, 0, 0,\n",
        "            0, 0, 0, 1\n",
        "           ],\n",
        "        2: [\n",
        "            1, 0, 0, 0,\n",
        "            0, 0, 1, 0,\n",
        "            0, -1, 0, 0,\n",
        "            0, 0, 0, 1\n",
        "           ],\n",
        "        3: [\n",
        "            1, 0, 0, 0,\n",
        "            0, -1, 0, 0,\n",
        "            0, 0, -1, 0,\n",
        "            0, 0, 0, 1\n",
        "           ],\n",
        "        4: [\n",
        "            1, 0, 0, 0,\n",
        "            0, 1, 0, 0,\n",
        "            0, 0, 1, 0,\n",
        "            0, 0, 0, 1\n",
        "           ],\n",
        "        5: [\n",
        "            1, 0, 0, 0,\n",
        "            0, 0, -1, 0,\n",
        "            0, 1, 0, 0,\n",
        "            0, 0, 0, 1\n",
        "           ],\n",
        "        6: [\n",
        "            0, 0, -1, 0,\n",
        "            0, 1, 0, 0,\n",
        "            1, 0, 0, 0,\n",
        "            0, 0, 0, 1\n",
        "           ] \n",
        "    }\n",
        "  \n",
        "    # get() method of dictionary data type returns \n",
        "    # value of passed argument if it is present \n",
        "    # in dictionary otherwise second argument will\n",
        "    # be assigned as default value of passed argument\n",
        "    return switcher.get(value, \"nothing\")\n",
        "\n",
        "def DiceMove(value,x1,y1):\n",
        "  matrix = DiceTransform(value)\n",
        "  matrix[3] = x1\n",
        "  matrix[7] = y1\n",
        "  return matrix\n",
        "\n",
        "def DiceFollow(diceMatrix,tcpMatrix):\n",
        "  diceMatrix[3] = tcpMatrix[3]\n",
        "  diceMatrix[7] = tcpMatrix[7]\n",
        "  diceMatrix[11] = tcpMatrix[11]\n",
        "  return diceMatrix\n",
        "  \n",
        "def sixteenToFourByFour(matrix):\n",
        "  fourbyfour = [[matrix[0],matrix[1],matrix[2],matrix[3]],\n",
        "                [matrix[4],matrix[5],matrix[6],matrix[7]],\n",
        "                [matrix[8],matrix[9],matrix[10],matrix[11]],\n",
        "                [matrix[12],matrix[13],matrix[14],matrix[15]]]\n",
        "  return fourbyfour\n",
        "\n",
        "def fourByFourToSixteen(matrix):\n",
        "  sixteen = [matrix[0][0],matrix[0][1],matrix[0][2],matrix[0][3],\n",
        "             matrix[1][0],matrix[1][1],matrix[1][2],matrix[1][3],\n",
        "             matrix[2][0],matrix[2][1],matrix[2][2],matrix[2][3],\n",
        "             matrix[3][0],matrix[3][1],matrix[3][2],matrix[3][3]]\n",
        "  return sixteen\n",
        "\n",
        "def clockwiseSpinX(theta):\n",
        "  m = [[1, 0, 0, 0],\n",
        "       [0, math.cos(theta), math.sin(theta), 0],\n",
        "       [0, -math.sin(theta), math.cos(theta), 0],\n",
        "       [0, 0, 0, 1]\n",
        "       ]\n",
        "  return m\n",
        "\n",
        "def clockwiseSpinY(theta):\n",
        "  m = [[math.cos(theta), 0, math.sin(theta), 0],\n",
        "       [0, 1, 0, 0],\n",
        "       [-math.sin(theta), 0, math.cos(theta), 0],\n",
        "       [0, 0, 0, 1]\n",
        "       ]\n",
        "  return m\n",
        "\n",
        "def clockwiseSpinZ(theta):\n",
        "  m = [[math.cos(theta), math.sin(theta), 0, 0],\n",
        "       [-math.sin(theta), math.cos(theta), 0, 0],\n",
        "       [0, 0, 1, 0],\n",
        "       [0, 0, 0, 1]]\n",
        "  return m\n"
      ],
      "execution_count": null,
      "outputs": []
    },
    {
      "cell_type": "code",
      "metadata": {
        "id": "D7y_HWutOWuh",
        "cellView": "form"
      },
      "source": [
        "#@title Transformation Matrix\n",
        "#@markdown Move the part with specified id. (Use getAssemblyDefinition function to get part IDs)\n",
        "url = 'https://cad.onshape.com/documents/bb22099573adad2eb4ea7daa/w/7c08e43470d8f47139b916ab/e/67cb1d22c65fb548487543b6' #@param {type:\"string\"}\n",
        "partIdToMove = 'Mqmjho+TUKGFqtaQi'#@param {type:'string'}\n",
        "isRelative = False#@param {type:'boolean'}\n",
        "#@markdown Translate object to x1,y1,z1 (if isRelative is False) or by x1,y1,z1 in the x,y,z directions (if isRelative is True)\n",
        "x1 = 0.05#@param\n",
        "y1 = 0.05#@param\n",
        "z1 = 0#@param\n",
        "#@markdown Specify rotations (in radians) about the X and Z axis\n",
        "clockwiseRotationX = math.pi/4#@param\n",
        "clockwiseRotationZ = math.pi/2#@param\n",
        "\n",
        "occurrences = getAssemblyDefinition(url)['rootAssembly']['occurrences']\n",
        "\n",
        "for x in occurrences:\n",
        "    if x['path'][0] == partIdToMove:\n",
        "      occurrence = x\n",
        "\n",
        "## Reset the transformation matrix\n",
        "occurrence['transform'] = IdentitySixteen()\n",
        "occurrence['transform'][3] = x1\n",
        "occurrence['transform'][7] = y1\n",
        "occurrence['transform'][11] = z1\n",
        "\n",
        "## Put translation first, rotation second to rotate about global coordinate system first\n",
        "rotMat = numpy.matmul(clockwiseSpinX(clockwiseRotationX),clockwiseSpinZ(clockwiseRotationZ))\n",
        "transformMat = numpy.matmul(sixteenToFourByFour(occurrence['transform']),rotMat)\n",
        "print(\"Transformation matrix:\")\n",
        "for x in transformMat:\n",
        "  print(x)\n",
        "\n",
        "## Send assembly occurence transforms\n",
        "fixed_url = '/api/assemblies/d/did/w/wid/e/eid/occurrencetransforms'\n",
        "\n",
        "element = OnshapeElement(url)\n",
        "fixed_url = fixed_url.replace('did', element.did)\n",
        "fixed_url = fixed_url.replace('wid', element.wvmid)\n",
        "fixed_url = fixed_url.replace('eid', element.eid)\n",
        "\n",
        "method = 'POST'\n",
        "\n",
        "params = {}\n",
        "payload = {'isRelative':isRelative,\n",
        "           'occurrences':[occurrence],\n",
        "           'transform':fourByFourToSixteen(transformMat)\n",
        "    }\n",
        "\n",
        "headers = {'Accept': 'application/vnd.onshape.v1+json; charset=UTF-8;qs=0.1',\n",
        "           'Content-Type': 'application/json'}\n",
        "\n",
        "response = client.api_client.request(method, url=base + fixed_url, query_params=params, headers=headers, body=payload)\n"
      ],
      "execution_count": null,
      "outputs": []
    },
    {
      "cell_type": "markdown",
      "metadata": {
        "id": "5OiWWqWhjWtc"
      },
      "source": [
        "# 07.4 Assemblies - Mate Values\n",
        "The snippet below shows how to get the values of the mate positions in an assembly. You can do a post request with the same JSON body and different values to update the mate values. **Note:** if you try to update too many mate values with one call, the assembly may not solve properly."
      ]
    },
    {
      "cell_type": "code",
      "metadata": {
        "id": "xmwEJFGWjxI5"
      },
      "source": [
        "#@title Get Mates from Assembly\n",
        "#@markdown Defines funciton `getAssemblyMates(url)`, which returns JSON of mates in an assembly\n",
        "url = 'https://cad.onshape.com/documents/1e809243865e8d5244fcd096/w/d031ceaee074757da46d14b9/e/e370ef8f9ad617d9ae83f494' #@param {type:\"string\"}\n",
        "showResponse = True #@param {type:\"boolean\"}\n",
        "\n",
        "def getAssemblyMates(url):\n",
        "  fixed_url = '/api/assemblies/d/did/w/wid/e/eid/matevalues'\n",
        "  element = OnshapeElement(url)\n",
        "  method = 'GET'\n",
        "\n",
        "  params = {}\n",
        "  payload = {}\n",
        "  headers = {'Accept': 'application/vnd.onshape.v2+json',\n",
        "              'Content-Type': 'application/vnd.onshape.v2+json'}\n",
        "\n",
        "  fixed_url = fixed_url.replace('did', element.did)\n",
        "  fixed_url = fixed_url.replace('wid', element.wvmid)\n",
        "  fixed_url = fixed_url.replace('eid', element.eid)\n",
        "\n",
        "  response = client.api_client.request(method, url=base + fixed_url, query_params=params, headers=headers, body=payload)\n",
        "\n",
        "  parsed = json.loads(response.data)\n",
        "  return parsed\n",
        "\n",
        "if showResponse:\n",
        "  mates = getAssemblyMates(url)\n",
        "  print(json.dumps(mates, indent=4, sort_keys=True))\n",
        "else:\n",
        "  pass"
      ],
      "execution_count": null,
      "outputs": []
    },
    {
      "cell_type": "markdown",
      "metadata": {
        "id": "fV2MwOVD92Im"
      },
      "source": [
        "# 07.5 Assemblies - Set Mate Value by Name\n",
        "\n",
        "The snippet below is a function that first gets the mate values from an assembly, then updates one of the mate angles and removes the other (we don't want to update it), and sends a post request to update one mate value."
      ]
    },
    {
      "cell_type": "code",
      "metadata": {
        "id": "s1qBCljj-LPV"
      },
      "source": [
        "#@title Set Mates in Assembly\n",
        "#@markdown Defines funciton `setMateByName(url,mateName,position)`, which updates the mate with the specified name to the specified position\n",
        "\n",
        "#@markdown URL must be to an assembly\n",
        "url = 'https://cad.onshape.com/documents/1e809243865e8d5244fcd096/w/d031ceaee074757da46d14b9/e/e370ef8f9ad617d9ae83f494' #@param {type:\"string\"}\n",
        "mateName = \"Revolute 1\" #@param {type:\"string\"}\n",
        "position =  0#@param {type:\"number\"}\n",
        "showResponse = True #@param {type:\"boolean\"}\n",
        "\n",
        "def getAssemblyMates(url):\n",
        "  fixed_url = '/api/assemblies/d/did/w/wid/e/eid/matevalues'\n",
        "  element = OnshapeElement(url)\n",
        "  method = 'GET'\n",
        "\n",
        "  params = {}\n",
        "  payload = {}\n",
        "  headers = {'Accept': 'application/vnd.onshape.v2+json',\n",
        "              'Content-Type': 'application/vnd.onshape.v2+json'}\n",
        "\n",
        "  fixed_url = fixed_url.replace('did', element.did)\n",
        "  fixed_url = fixed_url.replace('wid', element.wvmid)\n",
        "  fixed_url = fixed_url.replace('eid', element.eid)\n",
        "\n",
        "  response = client.api_client.request(method, url=base + fixed_url, query_params=params, headers=headers, body=payload)\n",
        "\n",
        "  parsed = json.loads(response.data)\n",
        "  return parsed\n",
        "\n",
        "def setMateByName(url,mateName,position):\n",
        "  fixed_url = '/api/assemblies/d/did/w/wid/e/eid/matevalues'\n",
        "  mates = getAssemblyMates(url)\n",
        "  element = OnshapeElement(url)\n",
        "  \n",
        "\n",
        "  for values in mates['mateValues']:\n",
        "    if values['mateName'] == mateName:\n",
        "      newMate = values\n",
        "  \n",
        "  if newMate['jsonType'] == 'Revolute':\n",
        "    newMate['rotationZ'] = position\n",
        "  elif newMate['jsonType'] == 'Slider':\n",
        "    newMate['translationZ'] = position\n",
        "  else:\n",
        "    print('failed')\n",
        "  \n",
        "  method = 'POST'\n",
        "\n",
        "  params = {}\n",
        "  payload = {'mateValues':[newMate]}\n",
        "  headers = {'Accept': 'application/vnd.onshape.v2+json',\n",
        "              'Content-Type': 'application/vnd.onshape.v2+json'}\n",
        "\n",
        "  fixed_url = fixed_url.replace('did', element.did)\n",
        "  fixed_url = fixed_url.replace('wid', element.wvmid)\n",
        "  fixed_url = fixed_url.replace('eid', element.eid)\n",
        "\n",
        "  response = client.api_client.request(method, url=base + fixed_url, query_params=params, headers=headers, body=payload)\n",
        "\n",
        "  parsed = json.loads(response.data)\n",
        "  return parsed\n",
        "\n",
        "newMates = setMateByName(url,mateName,position)\n",
        "if showResponse:\n",
        "  print(json.dumps(newMates, indent=4, sort_keys=True))\n",
        "else:\n",
        "  pass"
      ],
      "execution_count": null,
      "outputs": []
    },
    {
      "cell_type": "markdown",
      "metadata": {
        "id": "F6nsyo5MpQIP"
      },
      "source": [
        "# 07.6 Assemblies - Get Shaded View"
      ]
    },
    {
      "cell_type": "code",
      "metadata": {
        "id": "x0w6GRqQpT-8"
      },
      "source": [
        "#@title Get Shaded View of Assembly\n",
        "#@markdown Defines funciton `assembliesShadedView(url:str,viewMatrix = \"front\",pixelSize = 0.003,filename = \"image.jpg\")`, which returns the base64 image data of an assembly and saves the image as a jpeg called \"image.jpg\"\n",
        "\n",
        "#@markdown URL must be to an assembly\n",
        "url = 'https://cad.onshape.com/documents/3d09feac1ef676fa98d31eb9/w/51c15a206d5b6d3f6f0b16a5/e/c459cd771e8e664d6ce40fab' #@param {type:\"string\"}\n",
        "#@markdown viewMatrix can be any face direction or isometric as a string, or a 1x12 view matrix\n",
        "viewMatrix = \"isometric\" #@param {type:\"string\"}\n",
        "#@markdown pixelSize is the size in meters for each pixel. If 0, it will fill the image size output\n",
        "pixelSize = 0.0005 #@param {type:\"number\"}\n",
        "showImage = False #@param {type:\"boolean\"}\n",
        "\n",
        "from IPython.display import Image\n",
        "import base64\n",
        "\n",
        "def assembliesShadedView(url:str,viewMatrix = \"front\",pixelSize = 0.003,filename = \"image.jpg\"):\n",
        "  fixed_url = '/api/assemblies/d/did/w/wid/e/eid/shadedviews'\n",
        "  element = OnshapeElement(url)\n",
        "  fixed_url = fixed_url.replace('did', element.did)\n",
        "  fixed_url = fixed_url.replace('wid', element.wvmid)\n",
        "  fixed_url = fixed_url.replace('eid', element.eid)\n",
        "\n",
        "  method = 'GET'\n",
        "\n",
        "  if any(face in viewMatrix for face in [\"front\",\"back\",\"top\",\"bottom\",\"left\",\"right\"]):\n",
        "    matrix = viewMatrix\n",
        "  elif viewMatrix == \"isometric\":\n",
        "    matrix = \"0.612,0.612,0,0,-0.354,0.354,0.707,0,0.707,-0.707,0.707,0\"\n",
        "  elif isinstance(viewMatrix,list):\n",
        "    matrix = str(viewMatrix).replace('[','').replace(']','')\n",
        "\n",
        "  ## View Matrix below is roughly isometric\n",
        "  params = {'viewMatrix':matrix,\n",
        "            'edges':'show',\n",
        "            'outputHeight':600,\n",
        "            'outputWidth':1000,\n",
        "            'pixelSize':pixelSize}\n",
        "  # print(params)\n",
        "  payload = {}\n",
        "  headers = {'Accept': 'application/vnd.onshape.v1+json',\n",
        "              'Content-Type': 'application/json'}\n",
        "\n",
        "  response = client.api_client.request(method, url=base + fixed_url, query_params=params, headers=headers, body=payload)\n",
        "\n",
        "  parsed = json.loads(response.data)\n",
        "  imgdata = base64.b64decode(parsed['images'][0])\n",
        "  with open(filename, 'wb') as f:\n",
        "    f.write(imgdata)\n",
        "  \n",
        "  return imgdata\n",
        "\n",
        "img = assembliesShadedView(url,viewMatrix,pixelSize)\n",
        "if showImage:\n",
        "  display(Image(img))\n",
        "else:\n",
        "  pass"
      ],
      "execution_count": null,
      "outputs": []
    },
    {
      "cell_type": "markdown",
      "metadata": {
        "id": "DtRMhIsR8JHa"
      },
      "source": [
        "# 08.1 Thumbnails - Get document Thumbnails\n",
        "The snippet below returns the URL of the png image with the document thumbnails"
      ]
    },
    {
      "cell_type": "code",
      "metadata": {
        "id": "5_4ww1JP8T11"
      },
      "source": [
        "fixed_url = '/api/thumbnails/d/did'\n",
        "\n",
        "# https://cad.onshape.com/documents/263517311c2ad139d4eb57ca/w/b45057ae06777e0c28bca6c5/e/d316bcbc694c9dbb6555f340\n",
        "did = '263517311c2ad139d4eb57ca'\n",
        "wid = 'b45057ae06777e0c28bca6c5'\n",
        "eid = 'd316bcbc694c9dbb6555f340'\n",
        "\n",
        "method = 'GET'\n",
        "\n",
        "params = {}\n",
        "payload = {}\n",
        "headers = {'Accept': 'application/vnd.onshape.v1+json; charset=UTF-8;qs=0.1',\n",
        "           'Content-Type': 'application/json'}\n",
        "\n",
        "fixed_url = fixed_url.replace('did', did)\n",
        "fixed_url = fixed_url.replace('wid', wid)\n",
        "fixed_url = fixed_url.replace('eid', eid)\n",
        "\n",
        "response = client.api_client.request(method, url=base + fixed_url, query_params=params, headers=headers, body=payload)\n",
        "\n",
        "# The command below prints the entire JSON response from Onshape\n",
        "print(response.data)\n",
        "\n",
        "fullResponse = json.loads(response.data)"
      ],
      "execution_count": null,
      "outputs": []
    },
    {
      "cell_type": "markdown",
      "metadata": {
        "id": "7rIXJAlPDrEj"
      },
      "source": [
        "# 09.1 Documents - Get User's Documents"
      ]
    },
    {
      "cell_type": "code",
      "metadata": {
        "id": "Qr4EVuGsDuoQ"
      },
      "source": [
        "def documents():\n",
        "  fixed_url = '/api/documents'\n",
        "  method = 'GET'\n",
        "\n",
        "  params = {}\n",
        "  payload = {}\n",
        "  headers = {'Accept': 'application/vnd.onshape.v1+json',\n",
        "            'Content-Type': 'application/json'}\n",
        "\n",
        "  response = client.api_client.request(method, url=base + fixed_url, query_params=params, headers=headers, body=payload)\n",
        "\n",
        "  parsed = json.loads(response.data)\n",
        "  # The command below prints the entire JSON response from Onshape\n",
        "  # print(json.dumps(parsed, indent=4, sort_keys=True))\n",
        "  return parsed\n",
        "\n",
        "documents()"
      ],
      "execution_count": null,
      "outputs": []
    },
    {
      "cell_type": "markdown",
      "metadata": {
        "id": "wVrmZjGmyJKW"
      },
      "source": [
        "# 09.2 Documents - Get Current Microversion"
      ]
    },
    {
      "cell_type": "code",
      "metadata": {
        "id": "QMTEZJdZyMnA"
      },
      "source": [
        "def getCurrentMicroversion():\n",
        "  fixed_url = '/api/documents/d/did/w/wid/currentmicroversion'\n",
        "\n",
        "  # https://cad.onshape.com/documents/9e0878dfcce12a4a996be8a7/w/0aab7305e4b4f0d3537962d6/e/606b7bd0a144819c887bd396\n",
        "  did = '9e0878dfcce12a4a996be8a7'\n",
        "  wid = '0aab7305e4b4f0d3537962d6'\n",
        "  eid = '55015109301f6462ffe9a058'\n",
        "\n",
        "  method = 'GET'\n",
        "\n",
        "  params = {}\n",
        "  payload = {}\n",
        "  headers = {'Accept': 'application/vnd.onshape.v2+json',\n",
        "            'Content-Type': 'application/json'}\n",
        "\n",
        "  fixed_url = fixed_url.replace('did', did)\n",
        "  fixed_url = fixed_url.replace('wid', wid)\n",
        "  fixed_url = fixed_url.replace('eid', eid)\n",
        "\n",
        "  print(base + fixed_url)\n",
        "\n",
        "  response = client.api_client.request(method, url=base + fixed_url, query_params=params, headers=headers, body=payload)\n",
        "\n",
        "  parsed = json.loads(response.data)\n",
        "  # The command below prints the entire JSON response from Onshape\n",
        "  # print(json.dumps(parsed, indent=4, sort_keys=True))\n",
        "  return parsed\n",
        "\n",
        "print(getCurrentMicroversion()['microversion'])"
      ],
      "execution_count": null,
      "outputs": []
    },
    {
      "cell_type": "markdown",
      "metadata": {
        "id": "5Fi9y8KGr0DK"
      },
      "source": [
        "# 09.3 Documents - Get Document History\n",
        "\n"
      ]
    },
    {
      "cell_type": "code",
      "metadata": {
        "id": "UtSvG6pz51fH"
      },
      "source": [
        "def getDocumentHistory(url):\n",
        "  fixed_url = '/api/documents/d/did/w/wid/documenthistory'\n",
        "  element = OnshapeElement(url)\n",
        "\n",
        "  method = 'GET'\n",
        "\n",
        "  params = {}\n",
        "  payload = {}\n",
        "  headers = {'Accept': 'application/vnd.onshape.v2+json',\n",
        "            'Content-Type': 'application/json'}\n",
        "\n",
        "  fixed_url = fixed_url.replace('did', element.did)\n",
        "  fixed_url = fixed_url.replace('wid', element.wvmid)\n",
        "  # fixed_url = fixed_url.replace('eid', element.eid)\n",
        "\n",
        "  response = client.api_client.request(method, url=base + fixed_url, query_params=params, headers=headers, body=payload)\n",
        "\n",
        "  parsed = json.loads(response.data)\n",
        "  # The command below prints the entire JSON response from Onshape\n",
        "  print(json.dumps(parsed, indent=4, sort_keys=True))\n",
        "  return parsed\n",
        "\n",
        "print(getDocumentHistory('https://cad.onshape.com/documents/263517311c2ad139d4eb57ca/w/b45057ae06777e0c28bca6c5/e/d316bcbc694c9dbb6555f340'))"
      ],
      "execution_count": null,
      "outputs": []
    },
    {
      "cell_type": "markdown",
      "metadata": {
        "id": "E6tNAH8lDzek"
      },
      "source": [
        "# 09.4 Documents - Get Elements List"
      ]
    },
    {
      "cell_type": "code",
      "metadata": {
        "id": "jQkIUr-nD3Xs"
      },
      "source": [
        "#@title Get List of Elements in Document\n",
        "#@markdown Function `documentElementsList(url: str)` returns JSON of all elements in a document\n",
        "url = 'https://cad.onshape.com/documents/7820391e3a9b37485d78da07/w/62c67fd520278fbfa3ebd529/e/c83cc398c91add81154089d7' #@param {type:\"string\"}\n",
        "showResponse = True #@param {type:\"boolean\"}\n",
        "\n",
        "def documentElementsList(url: str):\n",
        "  fixed_url = '/api/documents/d/did/w/wid/elements'\n",
        "  element = OnshapeElement(url)\n",
        "  fixed_url = fixed_url.replace('did', element.did)\n",
        "  fixed_url = fixed_url.replace('wid', element.wvmid)\n",
        "  method = 'GET'\n",
        "\n",
        "  params = {}\n",
        "  payload = {}\n",
        "  headers = {'Accept': 'application/vnd.onshape.v1+json',\n",
        "            'Content-Type': 'application/json'}\n",
        "\n",
        "  response = client.api_client.request(method, url=base + fixed_url, query_params=params, headers=headers, body=payload)\n",
        "\n",
        "  parsed = json.loads(response.data)\n",
        "  # The command below prints the entire JSON response from Onshape\n",
        "  # print(json.dumps(parsed, indent=4, sort_keys=True))\n",
        "  return parsed\n",
        "\n",
        "if showResponse:\n",
        "  elementList = documentElementsList(url)\n",
        "  print(json.dumps(elementList, indent=4, sort_keys=True))\n",
        "else:\n",
        "  pass"
      ],
      "execution_count": null,
      "outputs": []
    },
    {
      "cell_type": "markdown",
      "metadata": {
        "id": "HZ8zt7oU6QxW"
      },
      "source": [
        "# 09.5 Documents - Get Document Info"
      ]
    },
    {
      "cell_type": "code",
      "metadata": {
        "cellView": "form",
        "id": "hS1oM4gK6VRl"
      },
      "source": [
        "#@title Get Document Info\n",
        "#@markdown Function `documentElement(url: str)` returns JSON of all elements in a document\n",
        "url = 'https://cad.onshape.com/documents/e83ac518fd184ff1fe94beda/w/0e658e2953c99c66acdf3c09/e/0db5e995acdfb94b0b9237f4' #@param {type:\"string\"}\n",
        "showResponse = False #@param {type:\"boolean\"}\n",
        "\n",
        "def documentElement(url: str):\n",
        "  fixed_url = '/api/documents/did'\n",
        "  element = OnshapeElement(url)\n",
        "  fixed_url = fixed_url.replace('did', element.did)\n",
        "  method = 'GET'\n",
        "\n",
        "  params = {}\n",
        "  payload = {}\n",
        "  headers = {'Accept': 'application/vnd.onshape.v1+json',\n",
        "            'Content-Type': 'application/json'}\n",
        "\n",
        "  response = client.api_client.request(method, url=base + fixed_url, query_params=params, headers=headers, body=payload)\n",
        "\n",
        "  parsed = json.loads(response.data)\n",
        "  # The command below prints the entire JSON response from Onshape\n",
        "  # print(json.dumps(parsed, indent=4, sort_keys=True))\n",
        "  return parsed\n",
        "\n",
        "if showResponse:\n",
        "  documentInfo = documentElement(url)\n",
        "  print(json.dumps(documentInfo, indent=4, sort_keys=True))\n",
        "else:\n",
        "  pass"
      ],
      "execution_count": null,
      "outputs": []
    },
    {
      "cell_type": "markdown",
      "source": [
        "# 10.1 Users - Get User Settings"
      ],
      "metadata": {
        "id": "DW2vXSykyAdm"
      }
    },
    {
      "cell_type": "code",
      "source": [
        "#@title Get User Settings\n",
        "#@markdown Function `userSettings()` returns JSON of user settings\n",
        "showResponse = True #@param {type:\"boolean\"}\n",
        "\n",
        "def userSettings():\n",
        "  fixed_url = '/api/users/settings'\n",
        "  method = 'GET'\n",
        "\n",
        "  params = {}\n",
        "  payload = {}\n",
        "  headers = {'Accept': 'application/vnd.onshape.v1+json',\n",
        "            'Content-Type': 'application/json'}\n",
        "\n",
        "  response = client.api_client.request(method, url=base + fixed_url, query_params=params, headers=headers, body=payload)\n",
        "\n",
        "  parsed = json.loads(response.data)\n",
        "  # The command below prints the entire JSON response from Onshape\n",
        "  # print(json.dumps(parsed, indent=4, sort_keys=True))\n",
        "  return parsed\n",
        "\n",
        "if showResponse:\n",
        "  settings = userSettings()\n",
        "  print(json.dumps(settings, indent=4, sort_keys=True))\n",
        "else:\n",
        "  pass"
      ],
      "metadata": {
        "cellView": "form",
        "id": "a8np3DT9yEB1"
      },
      "execution_count": null,
      "outputs": []
    },
    {
      "cell_type": "markdown",
      "source": [
        "# 11.1 Comments - Get All Comments"
      ],
      "metadata": {
        "id": "GofbJhmk6N-b"
      }
    },
    {
      "cell_type": "code",
      "source": [
        "#@title Get List of Comments in Document\n",
        "#@markdown Function `getComments(url: str)` returns JSON of all comments in a document\n",
        "url = 'https://cad.onshape.com/documents/3d09feac1ef676fa98d31eb9/w/51c15a206d5b6d3f6f0b16a5/e/94c3256991c2c583c2556f86' #@param {type:\"string\"}\n",
        "showResponse = True #@param {type:\"boolean\"}\n",
        "\n",
        "def getComments(url: str):\n",
        "  fixed_url = '/api/comments'\n",
        "  element = OnshapeElement(url)\n",
        "  method = 'GET'\n",
        "\n",
        "  params = {'did':element.did,\n",
        "            'wid':element.wvmid,\n",
        "            'eid':element.eid}\n",
        "  payload = {}\n",
        "  headers = {'Accept': 'application/vnd.onshape.v1+json',\n",
        "            'Content-Type': 'application/json'}\n",
        "\n",
        "  response = client.api_client.request(method, url=base + fixed_url, query_params=params, headers=headers, body=payload)\n",
        "\n",
        "  parsed = json.loads(response.data)\n",
        "  # The command below prints the entire JSON response from Onshape\n",
        "  # print(json.dumps(parsed, indent=4, sort_keys=True))\n",
        "  return parsed\n",
        "\n",
        "if showResponse:\n",
        "  comments = getComments(url)\n",
        "  print(json.dumps(comments, indent=4, sort_keys=True))\n",
        "else:\n",
        "  pass"
      ],
      "metadata": {
        "cellView": "form",
        "id": "19mBbTG36REe"
      },
      "execution_count": null,
      "outputs": []
    }
  ]
}