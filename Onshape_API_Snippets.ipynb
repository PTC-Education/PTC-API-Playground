{
  "nbformat": 4,
  "nbformat_minor": 0,
  "metadata": {
    "colab": {
      "name": "Onshape API Snippets.ipynb",
      "provenance": [],
      "collapsed_sections": [
        "COOE4In1LdPA",
        "-WgOMlUEf11j",
        "DUOmozvZRX5G",
        "YTDxpMiV4MPF",
        "lF98E_Xsq-31",
        "6RtW70XTSQZN",
        "llfUXRhYWgXD",
        "yVvF7aBnuOiI",
        "NCt0d_XQUW6b",
        "MSqkufS4Uz4l",
        "i0n-76agpt4k",
        "8bIQUUhCojU8",
        "PI_EM84X8n9w"
      ],
      "include_colab_link": true
    },
    "kernelspec": {
      "name": "python3",
      "display_name": "Python 3"
    }
  },
  "cells": [
    {
      "cell_type": "markdown",
      "metadata": {
        "id": "view-in-github",
        "colab_type": "text"
      },
      "source": [
        "<a href=\"https://colab.research.google.com/github/PTC-Education/PTC-API-Playground/blob/main/Onshape_API_Snippets.ipynb\" target=\"_parent\"><img src=\"https://colab.research.google.com/assets/colab-badge.svg\" alt=\"Open In Colab\"/></a>"
      ]
    },
    {
      "cell_type": "markdown",
      "metadata": {
        "id": "Hxtz9dyNeXY7"
      },
      "source": [
        "# 0. READ ME - Onshape API Snippets Overview\n",
        "This snippets library is split into numbered sections to help you get started with interacting with Onshape's REST API using their [Python Client](https://github.com/onshape-public/onshape-clients/tree/master/python). \n",
        "\n",
        "***Start by using snippets 0.1 and either 0.2 or 0.3*** to import the client and configuring you connection with API Keys generated in [Onshape's Dev Portal](https://dev-portal.onshape.com/).\n",
        "1. PartStudios\n",
        "2. Parts\n",
        "3. MetaData\n",
        "4. FeatureStudios\n",
        "5. Elements\n",
        "6. AppElements\n",
        "7. Assemblies\n",
        "\n",
        "All snippets reference [this public Onshape document](https://cad.onshape.com/documents/263517311c2ad139d4eb57ca/w/b45057ae06777e0c28bca6c5/e/d316bcbc694c9dbb6555f340). The default parameters for the did, wid, and eid will only work for \"GET\" requests because your API keys will not be able to edit the public document with a \"POST\" request."
      ]
    },
    {
      "cell_type": "markdown",
      "metadata": {
        "id": "i0n-76agpt4k"
      },
      "source": [
        "# 0.1 Connect - Import Python Client\n",
        "This snippet shows how to install the [python-client from Onshape](https://github.com/onshape-public/onshape-clients/tree/master/python)"
      ]
    },
    {
      "cell_type": "code",
      "metadata": {
        "id": "8rb81Zbgpyt4"
      },
      "source": [
        "!pip install onshape-client\n",
        "from onshape_client.client import Client\n",
        "import json\n",
        "base = 'https://cad.onshape.com' # change this if you're using a document in an enterprise (i.e. \"https://ptc.onshape.com\")"
      ],
      "execution_count": null,
      "outputs": []
    },
    {
      "cell_type": "markdown",
      "metadata": {
        "id": "sKEDB66IdsRJ"
      },
      "source": [
        "# 0.2 Connect - Configure with API Keys in snippet\n",
        "Set the configuration with app keys generated from [the developer portal](https://dev-portal.onshape.com/). Replace the 'access-key-here' and 'secret-key-here' strings with your credentials. **Make sure you do not share a notebook with your API Keys written in them.**"
      ]
    },
    {
      "cell_type": "code",
      "metadata": {
        "id": "KOs1oSajd83s"
      },
      "source": [
        "client = Client(configuration={\"base_url\": base,\n",
        "                               \"access_key\": 'access-key-here',\n",
        "                               \"secret_key\": 'secret-key-here'})"
      ],
      "execution_count": null,
      "outputs": []
    },
    {
      "cell_type": "markdown",
      "metadata": {
        "id": "ScyaAozUg0_W"
      },
      "source": [
        "# 0.3 Connect - Configure with API Keys in separate document\n",
        "This snippet shows how you can pull API keys from a document stored in your google drive. **Good for sharing a notebook but keeping your keys secret**. Run the first snippet to load files from drive, then upload a python file that includes your access and secret keys as strings to your drive (can upload from Colab with the folder icon on the left menu)."
      ]
    },
    {
      "cell_type": "markdown",
      "metadata": {
        "id": "fMRaiLonmNBD"
      },
      "source": [
        "The colabkeys.py file should look something like the following (below are dummy keys - replace with your own):\n",
        "\n",
        "access = 'Z97asb1257FkEwzp3EmCpa'\n",
        "\n",
        "secret = 'nHwN3q7asdvg4aryFC9rxYyo9U4o415WokYa8VOQ9YfUh4Zx'"
      ]
    },
    {
      "cell_type": "code",
      "metadata": {
        "id": "eYSfnEjzhIBK"
      },
      "source": [
        "import os\n",
        "def include(filename):\n",
        "    if os.path.exists(filename): \n",
        "        execfile(filename)\n",
        "include('colabkeys.py')\n",
        "client = Client(configuration={\"base_url\": base,\n",
        "                               \"access_key\": access,\n",
        "                               \"secret_key\": secret})"
      ],
      "execution_count": null,
      "outputs": []
    },
    {
      "cell_type": "markdown",
      "metadata": {
        "id": "EW44EfToO8u4"
      },
      "source": [
        "If your \"colabkeys.py\" file is saved in your google drive, you'll need to run the code cell below to allow Colab to access drive."
      ]
    },
    {
      "cell_type": "code",
      "metadata": {
        "id": "G9szMzKlhiPE"
      },
      "source": [
        "from google.colab import drive\n",
        "drive.mount('/content/drive')"
      ],
      "execution_count": null,
      "outputs": []
    },
    {
      "cell_type": "markdown",
      "metadata": {
        "id": "0GIOCdP_27qH"
      },
      "source": [
        "# 1.1 PartStudios - GET Mass Properties\n",
        "For certain API endpoints, you must pass specific endpoints. For this example, you need to provide the element id of a part studio to get the mass properties for the parts in that part studio."
      ]
    },
    {
      "cell_type": "code",
      "metadata": {
        "id": "pPr35BZi3BBb"
      },
      "source": [
        "fixed_url = '/api/partstudios/d/did/w/wid/e/eid/massproperties'\n",
        "\n",
        "# https://cad.onshape.com/documents/263517311c2ad139d4eb57ca/w/b45057ae06777e0c28bca6c5/e/d316bcbc694c9dbb6555f340\n",
        "did = '263517311c2ad139d4eb57ca'\n",
        "wid = 'b45057ae06777e0c28bca6c5'\n",
        "eid = 'd316bcbc694c9dbb6555f340'\n",
        "\n",
        "method = 'GET'\n",
        "\n",
        "params = {}\n",
        "payload = {}\n",
        "headers = {'Accept': 'application/vnd.onshape.v1+json; charset=UTF-8;qs=0.1',\n",
        "           'Content-Type': 'application/json'}\n",
        "\n",
        "fixed_url = fixed_url.replace('did', did)\n",
        "fixed_url = fixed_url.replace('wid', wid)\n",
        "fixed_url = fixed_url.replace('eid', eid)\n",
        "\n",
        "response = client.api_client.request(method, url=base + fixed_url, query_params=params, headers=headers, body=payload)\n",
        "\n",
        "# The command below prints the entire JSON response from Onshape\n",
        "print(json.loads(response.data))\n"
      ],
      "execution_count": null,
      "outputs": []
    },
    {
      "cell_type": "markdown",
      "metadata": {
        "id": "BUpgcakuh_1e"
      },
      "source": [
        "# 1.1.1 PartStudios - Get Mass Properties and Calculate Density\n",
        "Sample of using the mass properties endpoint to get information and do calculations on the data. Sample document here: https://cad.onshape.com/documents/263517311c2ad139d4eb57ca/w/b45057ae06777e0c28bca6c5/e/d316bcbc694c9dbb6555f340"
      ]
    },
    {
      "cell_type": "code",
      "metadata": {
        "id": "igkXm0F2iK3P"
      },
      "source": [
        "fixed_url = '/api/partstudios/d/did/w/wid/e/eid/massproperties'\n",
        "\n",
        "# https://cad.onshape.com/documents/263517311c2ad139d4eb57ca/w/b45057ae06777e0c28bca6c5/e/d316bcbc694c9dbb6555f340\n",
        "did = '263517311c2ad139d4eb57ca'\n",
        "wid = 'b45057ae06777e0c28bca6c5'\n",
        "eid = 'd316bcbc694c9dbb6555f340'\n",
        "\n",
        "method = 'GET'\n",
        "\n",
        "params = {}\n",
        "payload = {}\n",
        "headers = {'Accept': 'application/vnd.onshape.v1+json; charset=UTF-8;qs=0.1',\n",
        "           'Content-Type': 'application/json'}\n",
        "\n",
        "fixed_url = fixed_url.replace('did', did)\n",
        "fixed_url = fixed_url.replace('wid', wid)\n",
        "fixed_url = fixed_url.replace('eid', eid)\n",
        "\n",
        "response = client.api_client.request(method, url=base + fixed_url, query_params=params, headers=headers, body=payload)\n",
        "\n",
        "# The command below prints the entire JSON response from Onshape\n",
        "print(json.loads(response.data))\n",
        "# parse json to get mass and volume for all parts in the document\n",
        "volume = json.loads(response.data)['bodies']['-all-']['volume'][0] # three element array is volume, max volume, and minimum volume\n",
        "mass = json.loads(response.data)['bodies']['-all-']['mass'][0] # three element array is mass, maximum mass, and minimum mass\n",
        "\n",
        "# calculate density with mass and volume in kg/m^3\n",
        "density = mass/volume\n",
        "print(density)"
      ],
      "execution_count": null,
      "outputs": []
    },
    {
      "cell_type": "markdown",
      "metadata": {
        "id": "m2AGmZQiNB0L"
      },
      "source": [
        "# 1.1.2 PartStudios - Get Mass Properties from Configured Part\n",
        "In this example, the document has configuration variables set up to drive parameters of the geometry. We change the \"querry parameters\" of the request to get the mass property for the different values."
      ]
    },
    {
      "cell_type": "code",
      "metadata": {
        "id": "l2UtQASUNBOn"
      },
      "source": [
        "fixed_url = '/api/partstudios/d/did/w/wid/e/eid/massproperties'\n",
        "\n",
        "# https://cad.onshape.com/documents/263517311c2ad139d4eb57ca/w/b45057ae06777e0c28bca6c5/e/d316bcbc694c9dbb6555f340\n",
        "did = '263517311c2ad139d4eb57ca'\n",
        "wid = 'b45057ae06777e0c28bca6c5'\n",
        "eid = 'd316bcbc694c9dbb6555f340'\n",
        "\n",
        "method = 'GET'\n",
        "\n",
        "# add configureation to the params of the request\n",
        "params = {'configuration': 'Length%3D0.2%2Bmeter'}\n",
        "payload = {}\n",
        "headers = {'Accept': 'application/vnd.onshape.v1+json; charset=UTF-8;qs=0.1',\n",
        "           'Content-Type': 'application/json'}\n",
        "\n",
        "fixed_url = fixed_url.replace('did', did)\n",
        "fixed_url = fixed_url.replace('wid', wid)\n",
        "fixed_url = fixed_url.replace('eid', eid)\n",
        "\n",
        "response = client.api_client.request(method, url=base + fixed_url, query_params=params, headers=headers, body=payload)\n",
        "\n",
        "# The command below prints the entire JSON response from Onshape\n",
        "print(json.loads(response.data))"
      ],
      "execution_count": null,
      "outputs": []
    },
    {
      "cell_type": "markdown",
      "metadata": {
        "id": "89Ok1NduHWiG"
      },
      "source": [
        "# 1.1.3 PartStudios - Get Mass Prop for series of configurations and plot"
      ]
    },
    {
      "cell_type": "code",
      "metadata": {
        "id": "sOx_sOgBPoLf"
      },
      "source": [
        "import numpy as np\n",
        "%matplotlib inline\n",
        "import matplotlib.pyplot as plt\n",
        "plt.style.use('seaborn-whitegrid')\n",
        "\n",
        "fixed_url = '/api/partstudios/d/did/w/wid/e/eid/massproperties'\n",
        "\n",
        "# https://cad.onshape.com/documents/263517311c2ad139d4eb57ca/w/b45057ae06777e0c28bca6c5/e/d316bcbc694c9dbb6555f340\n",
        "did = '263517311c2ad139d4eb57ca'\n",
        "wid = 'b45057ae06777e0c28bca6c5'\n",
        "eid = 'd316bcbc694c9dbb6555f340'\n",
        "\n",
        "fixed_url = fixed_url.replace('did', did)\n",
        "fixed_url = fixed_url.replace('wid', wid)\n",
        "fixed_url = fixed_url.replace('eid', eid)\n",
        "\n",
        "method = 'GET'\n",
        "payload = {}\n",
        "headers = {'Accept': 'application/vnd.onshape.v1+json; charset=UTF-8;qs=0.1',\n",
        "           'Content-Type': 'application/json'}\n",
        "\n",
        "response = client.api_client.request(method, url=base + fixed_url, query_params=params, headers=headers, body=payload)\n",
        "print(json.loads(response.data))\n",
        "x = []\n",
        "y = []\n",
        "\n",
        "for i in range(1,5):\n",
        "  x.append(i)\n",
        "  configdef = 'Length%3D'+str(i)+'%2Bmeter'+';'+'Width%3D'+str(i)+'%2Bmeter'\n",
        "  params = {'configuration': configdef}\n",
        "\n",
        "  response = client.api_client.request(method, url=base + fixed_url, query_params=params, headers=headers, body=payload)\n",
        "  massProp = json.loads(response.data)\n",
        "  y.append(massProp['bodies']['-all-']['inertia'][0])\n",
        "\n",
        "  # The command below prints the entire JSON response from Onshape\n",
        "  print(massProp['bodies']['-all-']['inertia'][0])\n",
        "plt.plot(x, y, 'o', color='black');\n"
      ],
      "execution_count": null,
      "outputs": []
    },
    {
      "cell_type": "markdown",
      "metadata": {
        "id": "qruy2t3f4Ezp"
      },
      "source": [
        "# 1.2 PartStudios - Make Part Studio\n",
        "This is an example of a post request that creates a new part studio in an Onshape document."
      ]
    },
    {
      "cell_type": "code",
      "metadata": {
        "id": "eNd2d7Gi62zv"
      },
      "source": [
        "fixed_url = '/api/partstudios/d/did/w/wid'\n",
        "\n",
        "did = '4bda16c648566259ea1b4e4c'\n",
        "wid = 'c299b9fc994574c2637e871d'\n",
        "\n",
        "method = 'POST'\n",
        "\n",
        "params = {}\n",
        "payload = {}\n",
        "headers = {'Accept': 'application/vnd.onshape.v1+json; charset=UTF-8;qs=0.1',\n",
        "           'Content-Type': 'application/json'}\n",
        "\n",
        "fixed_url = fixed_url.replace('did', did)\n",
        "fixed_url = fixed_url.replace('wid', wid)\n",
        "\n",
        "response = client.api_client.request(method, url=base + fixed_url, query_params=params, headers=headers, body=payload)\n",
        "\n",
        "# The command below prints the entire JSON response from Onshape\n",
        "print(json.loads(response.data))"
      ],
      "execution_count": null,
      "outputs": []
    },
    {
      "cell_type": "markdown",
      "metadata": {
        "id": "5coF63vf0VEv"
      },
      "source": [
        "# 1.3 PartStudios - Update Feature\n",
        "\n",
        "First get the feature, then update the geometry, then send it back\n"
      ]
    },
    {
      "cell_type": "code",
      "metadata": {
        "id": "kk0k0toT2OQG"
      },
      "source": [
        "fixed_url = '/api/partstudios/d/did/w/wid/e/eid/features'\n",
        "\n",
        "#https://cad.onshape.com/documents/bb1a0fa7536a74f282879c0a/w/107d615fca7419084dd2ddf3/e/1cb13d9abf5bab6bcb8e3668\n",
        "did = 'bb1a0fa7536a74f282879c0a'\n",
        "wid = '107d615fca7419084dd2ddf3'\n",
        "eid = '872dc4906d7f740d74474a8c'\n",
        "\n",
        "fixed_url = fixed_url.replace('did', did)\n",
        "fixed_url = fixed_url.replace('wid', wid)\n",
        "fixed_url = fixed_url.replace('eid', eid)\n",
        "\n",
        "method = 'GET'\n",
        "params = {}\n",
        "payload = {}\n",
        "headers = {'Accept': 'application/vnd.onshape.v1+json; charset=UTF-8;qs=0.1',\n",
        "           'Content-Type': 'application/json'}\n",
        "\n",
        "response = client.api_client.request(method, url=base + fixed_url, query_params=params, headers=headers, body=payload)\n",
        "# print(json.loads(response.data)[\"features\"][0][\"message\"][\"entities\"][0][\"message\"][\"geometry\"][\"message\"])\n",
        "\n",
        "newFeature = json.loads(response.data)[\"features\"][0]\n",
        "newFeature[\"message\"][\"entities\"][0][\"message\"][\"geometry\"][\"message\"][\"radius\"] = 0.01\n",
        "print(newFeature[\"message\"][\"entities\"][0][\"message\"][\"geometry\"][\"message\"])\n",
        "\n",
        "print(json.loads(response.data)[\"sourceMicroversion\"])\n",
        "print(json.loads(response.data)[\"serializationVersion\"])\n",
        "\n",
        "fixed_url = '/api/partstudios/d/did/w/wid/e/eid/features/featureid/fid'\n",
        "\n",
        "fid = json.loads(response.data)[\"features\"][0][\"message\"][\"featureId\"]\n",
        "\n",
        "fixed_url = fixed_url.replace('did', did)\n",
        "fixed_url = fixed_url.replace('wid', wid)\n",
        "fixed_url = fixed_url.replace('eid', eid, 1)\n",
        "fixed_url = fixed_url.replace('fid', fid)\n",
        "\n",
        "print(fixed_url)\n",
        "\n",
        "method = 'POST'\n",
        "params = {}\n",
        "payload = {'feature': newFeature,\n",
        "           'serializationVersion': json.loads(response.data)[\"serializationVersion\"],\n",
        "           'sourceMicroversion': json.loads(response.data)[\"sourceMicroversion\"]}\n",
        "headers = {'Accept': 'application/vnd.onshape.v1+json; charset=UTF-8;qs=0.1',\n",
        "           'Content-Type': 'application/json'}\n",
        "\n",
        "response = client.api_client.request(method, url=base + fixed_url, query_params=params, headers=headers, body=payload)"
      ],
      "execution_count": null,
      "outputs": []
    },
    {
      "cell_type": "markdown",
      "metadata": {
        "id": "9HcjM9CVsW5C"
      },
      "source": [
        "# 2.1 Parts - Get All Parts in Document\n",
        "This snippet shows a sample of getting all of the parts in an Onshape document. "
      ]
    },
    {
      "cell_type": "code",
      "metadata": {
        "id": "kvU2LNhzu6YH"
      },
      "source": [
        "# The first part of the fixed URL specifies which API we're calling\n",
        "fixed_url = '/api/parts/d/did/w/wid'\n",
        "\n",
        "# https://cad.onshape.com/documents/263517311c2ad139d4eb57ca/w/b45057ae06777e0c28bca6c5/e/d316bcbc694c9dbb6555f340\n",
        "did = '263517311c2ad139d4eb57ca'\n",
        "wid = 'b45057ae06777e0c28bca6c5'\n",
        "\n",
        "# Method below specifies the request type - 'GET' or 'POST'\n",
        "method = 'GET'\n",
        "\n",
        "params = {}\n",
        "payload = {}\n",
        "headers = {'Accept': 'application/vnd.onshape.v1+json; charset=UTF-8;qs=0.1',\n",
        "           'Content-Type': 'application/json'}\n",
        "\n",
        "fixed_url = fixed_url.replace('did', did)\n",
        "fixed_url = fixed_url.replace('wid', wid)\n",
        "response = client.api_client.request(method, url=base + fixed_url, query_params=params, headers=headers, body=payload)\n",
        "\n",
        "# The command below prints the entire JSON response from Onshape\n",
        "# print(json.loads(response.data))\n",
        "\n",
        "parts = json.loads(response.data)\n",
        "for i in range(len(parts)):\n",
        "  print(parts[i][\"name\"] +\" has part ID: \"+ parts[i][\"partId\"])"
      ],
      "execution_count": null,
      "outputs": []
    },
    {
      "cell_type": "markdown",
      "metadata": {
        "id": "ypWUdSlRIucB"
      },
      "source": [
        "# 3.1 MetaData - Get Element MetaData"
      ]
    },
    {
      "cell_type": "code",
      "metadata": {
        "id": "EepyiCoYI8sQ"
      },
      "source": [
        "fixed_url = '/api/metadata/d/did/w/wid/e/eid'\n",
        "\n",
        "# https://cad.onshape.com/documents/263517311c2ad139d4eb57ca/w/b45057ae06777e0c28bca6c5/e/d316bcbc694c9dbb6555f340\n",
        "did = '263517311c2ad139d4eb57ca'\n",
        "wid = 'b45057ae06777e0c28bca6c5'\n",
        "eid = 'd316bcbc694c9dbb6555f340'\n",
        "\n",
        "method = 'GET'\n",
        "\n",
        "params = {}\n",
        "payload = {}\n",
        "headers = {'Accept': 'application/vnd.onshape.v1+json; charset=UTF-8;qs=0.1',\n",
        "           'Content-Type': 'application/json'}\n",
        "\n",
        "fixed_url = fixed_url.replace('did', did)\n",
        "fixed_url = fixed_url.replace('wid', wid)\n",
        "fixed_url = fixed_url.replace('eid', eid)\n",
        "\n",
        "response = client.api_client.request(method, url=base + fixed_url, query_params=params, headers=headers, body=payload)\n",
        "\n",
        "# The command below prints the entire JSON response from Onshape\n",
        "for i in json.loads(response.data)['properties']:\n",
        "  print(i['name'])\n",
        "  print(i['value'])"
      ],
      "execution_count": null,
      "outputs": []
    },
    {
      "cell_type": "markdown",
      "metadata": {
        "id": "ItKo2uQBJkGI"
      },
      "source": [
        "# 3.2 MetaData - Get Part MetaData\n",
        "You will need a Part ID for this API endpoint. You can get Part ID's with snippet 2.1 above."
      ]
    },
    {
      "cell_type": "code",
      "metadata": {
        "id": "wLb0ugpqJu6s"
      },
      "source": [
        "fixed_url = '/api/metadata/d/did/w/wid/e/eid/p/pid'\n",
        "\n",
        "# https://cad.onshape.com/documents/263517311c2ad139d4eb57ca/w/b45057ae06777e0c28bca6c5/e/d316bcbc694c9dbb6555f340\n",
        "did = '263517311c2ad139d4eb57ca'\n",
        "wid = 'b45057ae06777e0c28bca6c5'\n",
        "eid = 'd316bcbc694c9dbb6555f340'\n",
        "pid = 'JHD'\n",
        "\n",
        "fixed_url = fixed_url.replace('did', did)\n",
        "fixed_url = fixed_url.replace('wid', wid)\n",
        "fixed_url = fixed_url.replace('eid', eid)\n",
        "fixed_url = fixed_url.replace('pid', pid)\n",
        "\n",
        "method = 'GET'\n",
        "\n",
        "params = {}\n",
        "payload = {}\n",
        "headers = {'Accept': 'application/vnd.onshape.v1+json; charset=UTF-8;qs=0.1',\n",
        "           'Content-Type': 'application/json'}\n",
        "\n",
        "response = client.api_client.request(method, url=base + fixed_url, query_params=params, headers=headers, body=payload)\n",
        "\n",
        "for i in json.loads(response.data)['properties']:\n",
        "  print(i['name'])\n",
        "  print(i['value'])"
      ],
      "execution_count": null,
      "outputs": []
    },
    {
      "cell_type": "markdown",
      "metadata": {
        "id": "xIaAq0jmyI71"
      },
      "source": [
        "# 3.2.1 MetaData - Update Part Color\n",
        "The function below gets the metadata for a part, then changes the part's color and opacity, and sends a post request to update it. The function need a part id (pid) which can be found with the snippet in 2.4 above."
      ]
    },
    {
      "cell_type": "code",
      "metadata": {
        "id": "7Gipencly3so"
      },
      "source": [
        "def updateColor(eid,pid,newOpacity,newColors):\n",
        "\n",
        "  fixed_url = '/api/metadata/d/did/w/wid/e/eid/p/pid'\n",
        "  did = '4bda16c648566259ea1b4e4c'\n",
        "  wid = 'c299b9fc994574c2637e871d'\n",
        "\n",
        "  params = {}\n",
        "  payload = {}\n",
        "  headers = {'Accept': 'application/vnd.onshape.v1+json; charset=UTF-8;qs=0.1',\n",
        "            'Content-Type': 'application/json'}\n",
        "\n",
        "  fixed_url = fixed_url.replace('did', did)\n",
        "  fixed_url = fixed_url.replace('wid', wid)\n",
        "  fixed_url = fixed_url.replace('eid', eid)\n",
        "  fixed_url = fixed_url.replace('pid', pid)\n",
        "\n",
        "  response = client.api_client.request('GET', url=base + fixed_url,\n",
        "  query_params=params, headers=headers, body=payload)\n",
        "\n",
        "  partMetaData = json.loads(response.data)\n",
        "  partProperties = partMetaData['properties']\n",
        "\n",
        "  # # Print current appearance values\n",
        "  # for x in partProperties:\n",
        "  #   if x['name'] == \"Appearance\":\n",
        "  #     partAppearance = x\n",
        "  #     break\n",
        "  # print(partAppearance['value'])\n",
        "\n",
        "  for i in range(len(partProperties)):\n",
        "    if partProperties[i]['name'] == \"Appearance\":\n",
        "      partProperties[i]['value']['opacity'] = newOpacity\n",
        "      partProperties[i]['value']['color'] = newColors\n",
        "      break\n",
        "\n",
        "  partMetaData['properties'] = partProperties\n",
        "\n",
        "  payload = partMetaData\n",
        "\n",
        "  response = client.api_client.request('POST', url=base + fixed_url,\n",
        "  query_params=params, headers=headers, body=payload)"
      ],
      "execution_count": null,
      "outputs": []
    },
    {
      "cell_type": "code",
      "metadata": {
        "id": "oZvSaSAb8PcT"
      },
      "source": [
        "updateColor('7b5bc60e32e112ae487c32dc','JMD',150,{'red': 255, 'green': 1, 'blue': 1})"
      ],
      "execution_count": null,
      "outputs": []
    },
    {
      "cell_type": "markdown",
      "metadata": {
        "id": "4sNRCIZsz6mn"
      },
      "source": [
        "# 4.1 FeatureStudios - Create Feature Studio\n",
        "First snippet creates a FeatureStudio"
      ]
    },
    {
      "cell_type": "code",
      "metadata": {
        "id": "BCGGQtrm0Mo1"
      },
      "source": [
        "fixed_url = '/api/featurestudios/d/did/w/wid'\n",
        "\n",
        "did = 'e025dee9cd9e880498ecc623'\n",
        "wid = '67f35e2ecb147b5d6c4e4498'\n",
        "\n",
        "fixed_url = fixed_url.replace('did', did)\n",
        "fixed_url = fixed_url.replace('wid', wid)\n",
        "\n",
        "method = 'POST'\n",
        "\n",
        "params = {\"name\":\"ColabFeature\"}\n",
        "payload = {}\n",
        "headers = {'Accept': 'application/vnd.onshape.v1+json; charset=UTF-8;qs=0.1',\n",
        "           'Content-Type': 'application/json'}\n",
        "\n",
        "response = client.api_client.request(method, url=base + fixed_url, query_params=params, headers=headers, body=payload)\n",
        "\n",
        "# The command below prints the entire JSON response from Onshape\n",
        "print(json.loads(response.data))"
      ],
      "execution_count": null,
      "outputs": []
    },
    {
      "cell_type": "markdown",
      "metadata": {
        "id": "JvtNkx7i2A_i"
      },
      "source": [
        "# 4.2 FeatureStudios - Get FeatureSpecs\n",
        "Element ID must be for a FeatureStudio"
      ]
    },
    {
      "cell_type": "code",
      "metadata": {
        "id": "bmU9Cusc2ApW"
      },
      "source": [
        "fixed_url = '/api/featurestudios/d/did/w/wid/e/eid/featurespecs'\n",
        "\n",
        "# https://cad.onshape.com/documents/263517311c2ad139d4eb57ca/w/b45057ae06777e0c28bca6c5/e/7a1ceda85403a0d972055ba7\n",
        "did = '263517311c2ad139d4eb57ca'\n",
        "wid = 'b45057ae06777e0c28bca6c5'\n",
        "eid = '7a1ceda85403a0d972055ba7'\n",
        "\n",
        "fixed_url = fixed_url.replace('did', did)\n",
        "fixed_url = fixed_url.replace('wid', wid)\n",
        "fixed_url = fixed_url.replace('eid', eid)\n",
        "\n",
        "# Method below specifies the request type - 'GET' or 'POST'\n",
        "method = 'GET'\n",
        "\n",
        "params = {}\n",
        "payload = {}\n",
        "headers = {'Accept': 'application/vnd.onshape.v1+json; charset=UTF-8;qs=0.1',\n",
        "           'Content-Type': 'application/json'}\n",
        "\n",
        "response = client.api_client.request(method, url=base + fixed_url, query_params=params, headers=headers, body=payload)\n",
        "print(response.data)"
      ],
      "execution_count": null,
      "outputs": []
    },
    {
      "cell_type": "markdown",
      "metadata": {
        "id": "OzjLGI1xDq9W"
      },
      "source": [
        "# 4.3 FeatureStudios - Get Feature Content"
      ]
    },
    {
      "cell_type": "code",
      "metadata": {
        "id": "L8sLXQGH1M5_"
      },
      "source": [
        "fixed_url = '/api/featurestudios/d/did/w/wid/e/eid'\n",
        "\n",
        "# https://cad.onshape.com/documents/263517311c2ad139d4eb57ca/w/b45057ae06777e0c28bca6c5/e/7a1ceda85403a0d972055ba7\n",
        "did = '263517311c2ad139d4eb57ca'\n",
        "wid = 'b45057ae06777e0c28bca6c5'\n",
        "eid = '7a1ceda85403a0d972055ba7'\n",
        "\n",
        "fixed_url = fixed_url.replace('did', did)\n",
        "fixed_url = fixed_url.replace('wid', wid)\n",
        "fixed_url = fixed_url.replace('eid', eid)\n",
        "\n",
        "# Method below specifies the request type - 'GET' or 'POST'\n",
        "method = 'GET'\n",
        "\n",
        "params = {}\n",
        "payload = {}\n",
        "headers = {'Accept': 'application/vnd.onshape.v1+json; charset=UTF-8;qs=0.1',\n",
        "           'Content-Type': 'application/json'}\n",
        "\n",
        "response = client.api_client.request(method, url=base + fixed_url, query_params=params, headers=headers, body=payload)\n",
        "print(response.data)"
      ],
      "execution_count": null,
      "outputs": []
    },
    {
      "cell_type": "markdown",
      "metadata": {
        "id": "8JyJVH9eETc3"
      },
      "source": [
        "# 4.4 FeatureStudios - Update Feature Content\n"
      ]
    },
    {
      "cell_type": "code",
      "metadata": {
        "id": "7c-gyyjSERry"
      },
      "source": [
        "fixed_url = '/api/featurestudios/d/did/w/wid/e/eid'\n",
        "\n",
        "did = 'e025dee9cd9e880498ecc623'\n",
        "wid = '67f35e2ecb147b5d6c4e4498'\n",
        "eid = '7e843682a5c2ec5c8a0bb1af'\n",
        "\n",
        "fixed_url = fixed_url.replace('did', did)\n",
        "fixed_url = fixed_url.replace('wid', wid)\n",
        "fixed_url = fixed_url.replace('eid', eid)\n",
        "\n",
        "# Method below specifies the request type - 'GET' or 'POST'\n",
        "method = 'GET'\n",
        "\n",
        "params = {}\n",
        "payload = {}\n",
        "headers = {'Accept': 'application/vnd.onshape.v1+json; charset=UTF-8;qs=0.1',\n",
        "           'Content-Type': 'application/json'}\n",
        "\n",
        "response = client.api_client.request(method, url=base + fixed_url, query_params=params, headers=headers, body=payload)\n",
        "\n",
        "newBody = json.loads(response.data)\n",
        "print(newBody[\"contents\"]) #print current contents of featurestudio\n",
        "\n",
        "#define new feature here\n",
        "feature = \"\"\"\n",
        "FeatureScript 1511;\n",
        "import(path : \"onshape/std/geometry.fs\", version : \"1511.0\");\n",
        "\n",
        "annotation { \"Feature Type Name\" : \"My Feature\" }\n",
        "export const myFeature = defineFeature(function(context is Context, id is Id, definition is map)\n",
        "    precondition\n",
        "    {\n",
        "        // Define the parameters of the feature type\n",
        "    }\n",
        "    {\n",
        "        // Define the function's action\n",
        "        fCuboid(context, id + \"cuboid1\", {\n",
        "                \"corner1\" : vector(0, 0, 0) * inch,\n",
        "                \"corner2\" : vector(1, 1, 1) * inch\n",
        "        });\n",
        "    });\n",
        "\"\"\"\n",
        "newBody[\"contents\"] = feature\n",
        "payload = newBody\n",
        "\n",
        "method = 'POST'\n",
        "response = client.api_client.request(method, url=base + fixed_url, query_params=params, headers=headers, body=payload)"
      ],
      "execution_count": null,
      "outputs": []
    },
    {
      "cell_type": "markdown",
      "metadata": {
        "id": "798seeWrG_jT"
      },
      "source": [
        "# 5.1 Elements - Get Configurations"
      ]
    },
    {
      "cell_type": "code",
      "metadata": {
        "id": "VxhoLuKmHDw0"
      },
      "source": [
        "fixed_url = '/api/elements/d/did/w/wid/e/eid/configuration'\n",
        "\n",
        "# https://cad.onshape.com/documents/263517311c2ad139d4eb57ca/w/b45057ae06777e0c28bca6c5/e/d316bcbc694c9dbb6555f340\n",
        "did = '263517311c2ad139d4eb57ca'\n",
        "wid = 'b45057ae06777e0c28bca6c5'\n",
        "eid = 'd316bcbc694c9dbb6555f340'\n",
        "\n",
        "fixed_url = fixed_url.replace('did', did)\n",
        "fixed_url = fixed_url.replace('wid', wid)\n",
        "fixed_url = fixed_url.replace('eid', eid)\n",
        "\n",
        "# Method below specifies the request type - 'GET' or 'POST'\n",
        "method = 'GET'\n",
        "\n",
        "params = {}\n",
        "payload = {}\n",
        "headers = {'Accept': 'application/vnd.onshape.v1+json; charset=UTF-8;qs=0.1',\n",
        "           'Content-Type': 'application/json'}\n",
        "\n",
        "response = client.api_client.request(method, url=base + fixed_url, query_params=params, headers=headers, body=payload)\n",
        "ConfigInfo = json.loads(response.data)\n",
        "ConfigParams = ConfigInfo[\"configurationParameters\"]\n",
        "\n",
        "for i in range(len(ConfigParams)):\n",
        "  print(ConfigParams[i][\"message\"][\"parameterName\"])\n",
        "  print(ConfigParams[i][\"message\"][\"rangeAndDefault\"][\"message\"])"
      ],
      "execution_count": null,
      "outputs": []
    },
    {
      "cell_type": "markdown",
      "metadata": {
        "id": "PIPytoJr1MOX"
      },
      "source": [
        "# 6.1 AppElements - Get JSON Tree Data\n",
        "\n",
        "Element ID must be an application element"
      ]
    },
    {
      "cell_type": "code",
      "metadata": {
        "id": "tQgdmA7h1ZWb"
      },
      "source": [
        "fixed_url = '/api/appelements/d/did/w/wid/e/eid/content/json'\n",
        "\n",
        "# https://cad.onshape.com/documents/263517311c2ad139d4eb57ca/w/b45057ae06777e0c28bca6c5/e/7f3248190c050b08d31db5f8\n",
        "did = '263517311c2ad139d4eb57ca'\n",
        "wid = 'b45057ae06777e0c28bca6c5'\n",
        "eid = '7f3248190c050b08d31db5f8'\n",
        "\n",
        "fixed_url = fixed_url.replace('did', did)\n",
        "fixed_url = fixed_url.replace('wid', wid)\n",
        "fixed_url = fixed_url.replace('eid', eid)\n",
        "\n",
        "# Method below specifies the request type - 'GET' or 'POST'\n",
        "method = 'GET'\n",
        "\n",
        "params = {}\n",
        "payload = {}\n",
        "headers = {'Accept': 'application/vnd.onshape.v1+json; charset=UTF-8;qs=0.1',\n",
        "           'Content-Type': 'application/json'}\n",
        "\n",
        "response = client.api_client.request(method, url=base + fixed_url, query_params=params, headers=headers, body=payload)\n",
        "print(response.data)"
      ],
      "execution_count": null,
      "outputs": []
    },
    {
      "cell_type": "markdown",
      "metadata": {
        "id": "slCemKT6y4Jl"
      },
      "source": [
        "# 7.1 Assemblies - Get Assembly Definition"
      ]
    },
    {
      "cell_type": "code",
      "metadata": {
        "id": "yruSudxjy7sX"
      },
      "source": [
        "fixed_url = '/api/assemblies/d/did/w/wid/e/eid'\n",
        "\n",
        "# https://cad.onshape.com/documents/a1b859a8fa32ed77b6a98ef0/w/711d62fc0d00fce4a0289d79/e/494c89e6e3215f70111cd3c2\n",
        "did = 'a1b859a8fa32ed77b6a98ef0'\n",
        "wid = '711d62fc0d00fce4a0289d79'\n",
        "eid = '494c89e6e3215f70111cd3c2'\n",
        "\n",
        "method = 'GET'\n",
        "\n",
        "params = {}\n",
        "payload = {}\n",
        "headers = {'Accept': 'application/vnd.onshape.v1+json; charset=UTF-8;qs=0.1',\n",
        "           'Content-Type': 'application/json'}\n",
        "\n",
        "fixed_url = fixed_url.replace('did', did)\n",
        "fixed_url = fixed_url.replace('wid', wid)\n",
        "fixed_url = fixed_url.replace('eid', eid)\n",
        "\n",
        "response = client.api_client.request(method, url=base + fixed_url, query_params=params, headers=headers, body=payload)\n",
        "\n",
        "# The command below prints the entire JSON response from Onshape\n",
        "print(json.loads(response.data))"
      ],
      "execution_count": null,
      "outputs": []
    },
    {
      "cell_type": "markdown",
      "metadata": {
        "id": "oR1T94p2Xh8h"
      },
      "source": [
        "# 7.2.1 Assemblies - Create Assembly Instance\n",
        "This snippet shows how to add a sub-assembly from a linked document into a new assembly"
      ]
    },
    {
      "cell_type": "code",
      "metadata": {
        "id": "RyCRsumLfm1I"
      },
      "source": [
        "# First get the version of the document you want to pull from\n",
        "fixed_url = '/api/documents/d/did/versions'\n",
        "did = 'a1b859a8fa32ed77b6a98ef0'\n",
        "fixed_url = fixed_url.replace('did', did)\n",
        "\n",
        "method = 'GET'\n",
        "\n",
        "params = {}\n",
        "payload = {}\n",
        "headers = {'Accept': 'application/vnd.onshape.v1+json; charset=UTF-8;qs=0.1',\n",
        "           'Content-Type': 'application/json'}\n",
        "\n",
        "response = client.api_client.request(method, url=base + fixed_url, query_params=params, headers=headers, body=payload)\n",
        "version = json.loads(response.data)[0]['id']\n",
        "\n",
        "\n",
        "# Then set up POST request to assembly you want to add to\n",
        "\n",
        "fixed_url = '/api/assemblies/d/did/w/wid/e/eid/instances'\n",
        "\n",
        "# Assembly you want to add instance to\n",
        "# https://cad.onshape.com/documents/f20e3b39b4d19572ee26665d/w/26800f92770dbe88d66129fe/e/ff736ca1cb4b923812bf7f36\n",
        "did = 'f20e3b39b4d19572ee26665d'\n",
        "wid = '26800f92770dbe88d66129fe'\n",
        "eid = 'ff736ca1cb4b923812bf7f36'\n",
        "\n",
        "fixed_url = fixed_url.replace('did', did)\n",
        "fixed_url = fixed_url.replace('wid', wid)\n",
        "fixed_url = fixed_url.replace('eid', eid)\n",
        "\n",
        "method = 'POST'\n",
        "\n",
        "# specify the document ID and element ID for the assmelby you'd like to add\n",
        "checkptDid = 'a1b859a8fa32ed77b6a98ef0'\n",
        "checkptEid = '494c89e6e3215f70111cd3c2'\n",
        "\n",
        "params = {}\n",
        "payload = {'documentId': checkptDid,\n",
        "           'elementId': checkptEid,\n",
        "           'versionId':version,\n",
        "           'isAssembly':True}\n",
        "\n",
        "headers = {'Accept': 'application/vnd.onshape.v1+json; charset=UTF-8;qs=0.1',\n",
        "           'Content-Type': 'application/json'}\n",
        "\n",
        "response = client.api_client.request(method, url=base + fixed_url, query_params=params, headers=headers, body=payload)\n",
        "\n",
        "print(response)"
      ],
      "execution_count": null,
      "outputs": []
    }
  ]
}