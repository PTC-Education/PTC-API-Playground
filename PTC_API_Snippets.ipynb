{
  "nbformat": 4,
  "nbformat_minor": 0,
  "metadata": {
    "colab": {
      "name": "PTC API Snippets.ipynb",
      "provenance": [],
      "collapsed_sections": [
        "COOE4In1LdPA",
        "-WgOMlUEf11j",
        "DUOmozvZRX5G",
        "YTDxpMiV4MPF",
        "lF98E_Xsq-31",
        "6RtW70XTSQZN",
        "llfUXRhYWgXD",
        "yVvF7aBnuOiI",
        "NCt0d_XQUW6b",
        "8bIQUUhCojU8",
        "PI_EM84X8n9w"
      ],
      "toc_visible": true,
      "include_colab_link": true
    },
    "kernelspec": {
      "name": "python3",
      "display_name": "Python 3"
    }
  },
  "cells": [
    {
      "cell_type": "markdown",
      "metadata": {
        "id": "view-in-github",
        "colab_type": "text"
      },
      "source": [
        "<a href=\"https://colab.research.google.com/github/PTC-Education/PTC-API-Playground/blob/main/PTC_API_Snippets.ipynb\" target=\"_parent\"><img src=\"https://colab.research.google.com/assets/colab-badge.svg\" alt=\"Open In Colab\"/></a>"
      ]
    },
    {
      "cell_type": "markdown",
      "metadata": {
        "id": "Hxtz9dyNeXY7"
      },
      "source": [
        "# 0. PTC Education Snippets Overview\n",
        "1. API Library - PTC Education created a number of nicely formatted functions for interacting with Onshape's python API client and ThingWorx REST API. The library makes it easier to get started and interact with the information \n",
        "2. Onshape Python Client - sample snippets for importing Onshape's python client and some sample API calls with them\n",
        "3. ThingWorx Connection - basic examples of using ThingWorx REST API to get and set properties, and call services"
      ]
    },
    {
      "cell_type": "markdown",
      "metadata": {
        "id": "COOE4In1LdPA"
      },
      "source": [
        "# 1.1 API Lib - Import Libraries\n",
        "The code below imports Python libraries from Github for interacting with Onshape's API"
      ]
    },
    {
      "cell_type": "code",
      "metadata": {
        "id": "spxcs5j2LEdg"
      },
      "source": [
        "# Github Installation and fresh requirements install\n",
        "\n",
        "!rm -r PTCColab\n",
        "## If this is your first time running this cell the output should be\n",
        "##   \"rm: cannot remove 'OnshapeColab': No such file or directory\"\n",
        "\n",
        "print(\"*** Installing git repo . . . ***\")\n",
        "!git clone https://github.com/PTC-Education/PTCColab\n",
        "\n",
        "print(\"\\n*** Installing external dependencies . . . ***\")\n",
        "!pip install -r PTCColab/requirements.txt\n",
        "\n",
        "print(\"\\n*** Repository and requirements installed sucessfully! ***\")\n",
        "\n",
        "# Connect to Onshape\n",
        "import PTCColab as oc"
      ],
      "execution_count": null,
      "outputs": []
    },
    {
      "cell_type": "markdown",
      "metadata": {
        "id": "-WgOMlUEf11j"
      },
      "source": [
        "# 1.2 API Lib - Onshape - Set Params\n",
        "The code below allows you to connect to a specific Onshape document with API Keys at https://dev-portal.onshape.com/"
      ]
    },
    {
      "cell_type": "code",
      "metadata": {
        "id": "vRDRzYbDMbNj"
      },
      "source": [
        "## Document identifiers - Please input the document, workspace, and element ID from your desired Onshape documet like below\n",
        "\n",
        "### Clock (Public Test Document 1)\n",
        "# (https://cad.onshape.com/documents/d75bb6f0855244bdb3902141/w/2a59db92740eb894f3b29038/e/3bddbc17e620a65192e913f8)\n",
        "# workspace = \"https://cad.onshape.com\" ## Defaults to cad.onshape\n",
        "# did = \"d75bb6f0855244bdb3902141\"\n",
        "# wid = \"2a59db92740eb894f3b29038\"\n",
        "# eid = \"3bddbc17e620a65192e913f8\"\n",
        "\n",
        "### Translatiotion test (Public Test Document 2)\n",
        "# (https://cad.onshape.com/documents/0b15b64be5e54bc64d6fb3ff/w/8653864b34cbf101c1c0acb1/e/58703372dd872b5ec7f548a2)\n",
        "did = \"0b15b64be5e54bc64d6fb3ff\"\n",
        "wid = \"8653864b34cbf101c1c0acb1\"\n",
        "eid = \"58703372dd872b5ec7f548a2\"\n",
        "\n",
        "## Onshape API keys\n",
        "access =\"<Insert-Access-Key-Here>\"\n",
        "secret = \"<Insert-Secret-Key-Here>\"\n",
        "\n",
        "## Connects to Onshape API\n",
        "oc.connectToOnshape(did, wid, eid, access, secret, verbose=True)"
      ],
      "execution_count": null,
      "outputs": []
    },
    {
      "cell_type": "markdown",
      "metadata": {
        "id": "DUOmozvZRX5G"
      },
      "source": [
        "# 1.3 Onshape Library - Get Assembly Info"
      ]
    },
    {
      "cell_type": "code",
      "metadata": {
        "id": "8xFY70LILKnX",
        "colab": {
          "base_uri": "https://localhost:8080/"
        },
        "outputId": "1a26fcdd-47d0-411b-e317-779ecc7455e6"
      },
      "source": [
        "# Get Parts and Configurations\n",
        "\n",
        "## Gets Assembly (parts and positions) information\n",
        "## Note: Assembly info prints all the parts and sub assemblies!\n",
        "assemblyInfo = oc.getAssemblyInfo()\n",
        "oc.printAssembly(assemblyInfo, positions=True)\n",
        "\n",
        "## Gets Configurations\n",
        "configInfo = oc.getConfigurations()\n",
        "oc.printConfigurations(configInfo)"
      ],
      "execution_count": null,
      "outputs": [
        {
          "output_type": "stream",
          "text": [
            "Assembly Info:\n",
            "Key <1> (MpvhYOp6b7uAhogNf)\n",
            "\tTranslation (x, y, z): \t\t 0.75 \t -0.75 \t 0.0\n",
            "\tRotation (ux, uy, uz, alpha): \t 0.0 \t 0.0 \t 1.0 \t 90.0\n",
            "Plane <1> (MBY012YAYxL98d1Mo)\n",
            "\tTranslation (x, y, z): \t\t -0.75 \t -0.75 \t 0.0\n",
            "\tRotation (ux, uy, uz, alpha): \t 0 \t 0 \t 0 \t 0.0\n",
            "box <1> (MkbliODWwWA2T80sc)\n",
            "\tTranslation (x, y, z): \t\t 0.566 \t 0.887 \t 0.026\n",
            "\tRotation (ux, uy, uz, alpha): \t 0 \t 0 \t 0 \t 0.0\n",
            "\n",
            "There are no set configurations for this document.\n",
            "\n"
          ],
          "name": "stdout"
        }
      ]
    },
    {
      "cell_type": "markdown",
      "metadata": {
        "id": "YTDxpMiV4MPF"
      },
      "source": [
        "# 1.4 Onshape Library - Update Configuration Parameters\n",
        "This function updates the maximum and minimum values of a configuration parameter."
      ]
    },
    {
      "cell_type": "code",
      "metadata": {
        "colab": {
          "base_uri": "https://localhost:8080/",
          "height": 120
        },
        "id": "BhHO7Y0ekDoE",
        "outputId": "d72a525b-68a8-435b-f43e-74f7fc41e830"
      },
      "source": [
        "# Editing configurations\n",
        "import json\n",
        "\n",
        "## Prompts the user to edit their configurations\n",
        "newConfigs = oc.promptConfigurations(configInfo)\n",
        "\n",
        "print(\"\\nConfigurations that will be changed:\")\n",
        "print(json.dumps(newConfigs, indent=2), \"\\n\")\n",
        "\n",
        "## Makes API call to edit configurations\n",
        "oc.setConfigurations(newConfigs, configInfo)"
      ],
      "execution_count": null,
      "outputs": [
        {
          "output_type": "stream",
          "text": [
            "What Configurations do you want to edit?\n",
            "\n",
            "Configurations that will be changed:\n",
            "{} \n",
            "\n"
          ],
          "name": "stdout"
        },
        {
          "output_type": "execute_result",
          "data": {
            "application/vnd.google.colaboratory.intrinsic+json": {
              "type": "string"
            },
            "text/plain": [
              "'success'"
            ]
          },
          "metadata": {
            "tags": []
          },
          "execution_count": 5
        }
      ]
    },
    {
      "cell_type": "code",
      "metadata": {
        "id": "xCfa503xLCKj"
      },
      "source": [
        "# Manually Editting Configurations (Redudent with cell above)\n",
        "\n",
        "## Example newConfig body (for the clock demo) to be used with setConfigurations\n",
        "newConfigs = {\n",
        "    \"Rotation\": 0,\n",
        "    \"HourRotation\": 0,\n",
        "    \"SecondRotation\": 0\n",
        "}\n",
        "\n",
        "## Makes API call to edit configurations\n",
        "oc.setConfigurations(newConfigs, configInfo)"
      ],
      "execution_count": null,
      "outputs": []
    },
    {
      "cell_type": "markdown",
      "metadata": {
        "id": "lF98E_Xsq-31"
      },
      "source": [
        "# 1.5 Onshape - Get Global Transformations"
      ]
    },
    {
      "cell_type": "code",
      "metadata": {
        "colab": {
          "base_uri": "https://localhost:8080/"
        },
        "id": "IKTFqLV0rCi-",
        "outputId": "39763132-ec16-4b41-8619-8d6448fccd76"
      },
      "source": [
        "# Get Parts and Positions\n",
        "\n",
        "\n",
        "## Gets Assembly (parts and positions) information\n",
        "## Note: Assembly info prints all the parts and sub assemblies!\n",
        "assemblyInfo = oc.getAssemblyInfo()\n",
        "oc.printAssembly(assemblyInfo, positions=True)\n"
      ],
      "execution_count": null,
      "outputs": [
        {
          "output_type": "stream",
          "text": [
            "Assembly Info:\n",
            "Key <1> (MpvhYOp6b7uAhogNf)\n",
            "\tTranslation (x, y, z): \t\t 0.75 \t -0.75 \t 0.0\n",
            "\tRotation (ux, uy, uz, alpha): \t 0.0 \t 0.0 \t 1.0 \t 90.0\n",
            "Plane <1> (MBY012YAYxL98d1Mo)\n",
            "\tTranslation (x, y, z): \t\t -0.75 \t -0.75 \t 0.0\n",
            "\tRotation (ux, uy, uz, alpha): \t 0 \t 0 \t 0 \t 0.0\n",
            "box <1> (MkbliODWwWA2T80sc)\n",
            "\tTranslation (x, y, z): \t\t 0.566 \t 0.887 \t 0.026\n",
            "\tRotation (ux, uy, uz, alpha): \t 0 \t 0 \t 0 \t 0.0\n",
            "\n"
          ],
          "name": "stdout"
        }
      ]
    },
    {
      "cell_type": "markdown",
      "metadata": {
        "id": "6RtW70XTSQZN"
      },
      "source": [
        "# 1.6 Onshape - Set Transformation"
      ]
    },
    {
      "cell_type": "code",
      "metadata": {
        "id": "78lUiFPU-vML",
        "colab": {
          "base_uri": "https://localhost:8080/"
        },
        "outputId": "f43f9ca6-8c79-4c55-b163-d01b831b76e7"
      },
      "source": [
        "# Setting transformations\n",
        "# transArg = [tx, ty, tz, rx, ry, rz, alpha]\n",
        "transArg = [0, -.1, 0, 0, 0, 0, 0]\n",
        "\n",
        "## Automatic get Transformation Matrix (from transArg)\n",
        "M = oc.getTranslationMatrix(transArg)\n",
        "\n",
        "## Print your transformation\n",
        "oc.prettyPrintMatrix(M)"
      ],
      "execution_count": null,
      "outputs": [
        {
          "output_type": "stream",
          "text": [
            "[\n",
            "   1.0\t   0.0\t   0.0\t   0\t\n",
            "   0.0\t   1.0\t   0.0\t   -0.1\t\n",
            "   0.0\t   0.0\t   1.0\t   0\t\n",
            "   0.0\t   0.0\t   0.0\t   1.0\t\n",
            "]\n"
          ],
          "name": "stdout"
        }
      ]
    },
    {
      "cell_type": "code",
      "metadata": {
        "id": "F-vpB_sW-7a0"
      },
      "source": [
        "## OR Manual setting of a Transformation Matrix\n",
        "M = [\n",
        "   1.0,     0.0,     0.0,     0  ,\n",
        "   0.0,     1.0,     0.0,     0.1,\n",
        "   0.0,     0.0,     1.0,     0  ,\n",
        "   0.0,     0.0,     0.0,     1.0\n",
        "]\n",
        "\n",
        "## Print your transformation\n",
        "oc.prettyPrintMatrix(M)\n",
        "\n",
        "## Double check your matrix! / TODO\n",
        "# oc.checkMatrix(M, verbose=True)"
      ],
      "execution_count": null,
      "outputs": []
    },
    {
      "cell_type": "code",
      "metadata": {
        "id": "RwxIwHDzP5-G"
      },
      "source": [
        "## Automatic Get parts list\n",
        "parts = oc.promptParts(assemblyInfo)"
      ],
      "execution_count": null,
      "outputs": []
    },
    {
      "cell_type": "code",
      "metadata": {
        "id": "yAKx564w_G2S"
      },
      "source": [
        "## Manual setting of parts list (Array of part ids (each part id is an array\n",
        "##   of part/subassembly ids)\n",
        "parts = [['MkbliODWwWA2T80sc']]"
      ],
      "execution_count": null,
      "outputs": []
    },
    {
      "cell_type": "code",
      "metadata": {
        "colab": {
          "base_uri": "https://localhost:8080/",
          "height": 35
        },
        "id": "n4zk6k4jQD4k",
        "outputId": "447c6a3c-09aa-4185-8dc4-b068aed345b0"
      },
      "source": [
        "## Boolean variable representing if a transform is relative\n",
        "isRelative = True\n",
        "\n",
        "## Make API Call\n",
        "oc.postTransform(M, isRelative, parts)"
      ],
      "execution_count": null,
      "outputs": [
        {
          "output_type": "execute_result",
          "data": {
            "application/vnd.google.colaboratory.intrinsic+json": {
              "type": "string"
            },
            "text/plain": [
              "'success'"
            ]
          },
          "metadata": {
            "tags": []
          },
          "execution_count": 12
        }
      ]
    },
    {
      "cell_type": "markdown",
      "metadata": {
        "id": "llfUXRhYWgXD"
      },
      "source": [
        "# 1.6.1 Matrix Math"
      ]
    },
    {
      "cell_type": "code",
      "metadata": {
        "id": "dnt1sC3jWsW3"
      },
      "source": [
        "M = [\n",
        "   1.0,     0.0,     0.0,     0  ,\n",
        "   0.0,     1.0,     0.0,     0.1,\n",
        "   0.0,     0.0,     1.0,     0  ,\n",
        "   0.0,     0.0,     0.0,     1.0\n",
        "]\n",
        "\n",
        "A = [\n",
        "   0.0,     0.0,     0.0,     0  ,\n",
        "   0.0,     0.0,     0.0,     0.1,\n",
        "   0.0,     0.0,     0.0,     0  ,\n",
        "   0.0,     0.0,     0.0,     1.0\n",
        "]\n",
        "\n",
        "\n",
        "## Matrix operations!\n",
        "B = oc.add(M, A)\n",
        "C = oc.multiply(M, A)\n",
        "\n",
        "## Print your transformation\n",
        "oc.prettyPrintMatrix(B)\n",
        "oc.prettyPrintMatrix(C)\n",
        "\n",
        "## Convert your new Matrix back into a transformation arg (tx, ty, tz, rx, ry, rz, w)\n",
        "oc.prettyPrintPosition(oc.decodeMatrix(B))\n",
        "oc.prettyPrintPosition(oc.decodeMatrix(C))"
      ],
      "execution_count": null,
      "outputs": []
    },
    {
      "cell_type": "code",
      "metadata": {
        "id": "SaxZv7W0XDDm"
      },
      "source": [
        "import numpy as np\n",
        "\n",
        "alpha = np.pi/2 \n",
        "\n",
        "## Rotate around X\n",
        "\n",
        "B = [\n",
        "   1.0,             0.0,             0.0,             0.0,\n",
        "   0.0,             np.cos(alpha),   -(np.sin(alpha)), 0.0,\n",
        "   0.0,             np.sin(alpha),   np.cos(alpha),   0.0,\n",
        "   0.0,             0.0,             0.0,             1.0\n",
        "]\n",
        "\n",
        "oc.prettyPrintMatrix(B)"
      ],
      "execution_count": null,
      "outputs": []
    },
    {
      "cell_type": "markdown",
      "metadata": {
        "id": "yVvF7aBnuOiI"
      },
      "source": [
        "# 1.7 ThingWorx - Connect to Thingworx"
      ]
    },
    {
      "cell_type": "code",
      "metadata": {
        "id": "yKGs2Ft4URSi"
      },
      "source": [
        "# Connect To Onshape\n",
        "\n",
        "## Thingworx properties\n",
        "url = \"<Insert-Url-Here>\"\n",
        "appKey = \"<Insert-App-Key-Here>\"\n",
        "\n",
        "## Conects to Thingworx\n",
        "oc.connectToThingworx(url, appKey)"
      ],
      "execution_count": null,
      "outputs": []
    },
    {
      "cell_type": "markdown",
      "metadata": {
        "id": "NCt0d_XQUW6b"
      },
      "source": [
        "# 1.8 Thingworx - Get Fields Properties"
      ]
    },
    {
      "cell_type": "code",
      "metadata": {
        "id": "7YsFwISFUgEw"
      },
      "source": [
        "## Get current property values\n",
        "oc.thingworxGET(verbose=True)"
      ],
      "execution_count": null,
      "outputs": []
    },
    {
      "cell_type": "markdown",
      "metadata": {
        "id": "MSqkufS4Uz4l"
      },
      "source": [
        "# 1.9 Thingworx - Edit Properties"
      ]
    },
    {
      "cell_type": "code",
      "metadata": {
        "id": "OPhYfRf5UUVd"
      },
      "source": [
        "# Editing Thingworx Properties\n",
        "\n",
        "## Gets current property values\n",
        "properties = oc.thingworxGET(verbose=True)\n",
        "\n",
        "## Prompts the user to edit their configurations\n",
        "newProperties = oc.promptThings(properties)\n",
        "\n",
        "print(\"\\nProperties that will be changed:\")\n",
        "print(json.dumps(newProperties, indent=2), \"\\n\")\n",
        "\n",
        "## Makes API call to edit configurations\n",
        "statusCode = oc.thingworxPUT(newProperties)\n",
        "print(statusCode)\n",
        "## Note: Status code 200 means success!"
      ],
      "execution_count": null,
      "outputs": []
    },
    {
      "cell_type": "code",
      "metadata": {
        "id": "qkbGf1XLWPAq"
      },
      "source": [
        "# Manually Editting Properties (Redudent with cell above)\n",
        "\n",
        "## Check Property values\n",
        "oc.thingworxGET(verbose=True)\n",
        "\n",
        "## Example newProperties body (for the testThing) to be used with thingworxPut()\n",
        "newProperties = {\n",
        "    \"Second\": 180,\n",
        "    \"Minute\": 180,\n",
        "    \"Hour\": 180\n",
        "}\n",
        "\n",
        "## Makes API call to edit properties\n",
        "oc.thingworxPUT(newProperties)\n",
        "\n",
        "## Check Property values\n",
        "oc.thingworxGET(verbose=True)"
      ],
      "execution_count": null,
      "outputs": []
    },
    {
      "cell_type": "markdown",
      "metadata": {
        "id": "i0n-76agpt4k"
      },
      "source": [
        "# 2.1 Onshape - Import Python Client and configure\n",
        "This snippet shows how to install the [python-client from Onshape](https://github.com/onshape-public/onshape-clients/tree/master/python) and set the configuration with app keys generated from [the developer portal](https://dev-portal.onshape.com/)."
      ]
    },
    {
      "cell_type": "code",
      "metadata": {
        "id": "8rb81Zbgpyt4"
      },
      "source": [
        "!pip install onshape-client\n",
        "from onshape_client.client import Client\n",
        "import json\n",
        "base = 'https://cad.onshape.com' # change this if you're using a document in an enterprise (i.e. \"https://ptc.onshape.com\")\n",
        "\n",
        "client = Client(configuration={\"base_url\": base,\n",
        "                               \"access_key\": 'access-key-here',\n",
        "                               \"secret_key\": 'secret-key-here'})"
      ],
      "execution_count": null,
      "outputs": []
    },
    {
      "cell_type": "markdown",
      "metadata": {
        "id": "0GIOCdP_27qH"
      },
      "source": [
        "# 2.2 Onshape - Get Mass Properties from Part Studio\n",
        "For certain API endpoints, you must pass specific endpoints. For this example, you need to provide the element id of a part studio to get the mass properties for the parts in that part studio."
      ]
    },
    {
      "cell_type": "code",
      "metadata": {
        "id": "pPr35BZi3BBb"
      },
      "source": [
        "fixed_url = '/api/partstudios/d/did/w/wid/e/eid/massproperties'\n",
        "\n",
        "did = '4bda16c648566259ea1b4e4c'\n",
        "wid = 'c299b9fc994574c2637e871d'\n",
        "eid = 'f957091ae301cf546ac8dc4b'\n",
        "\n",
        "method = 'GET'\n",
        "\n",
        "params = {}\n",
        "payload = {}\n",
        "headers = {'Accept': 'application/vnd.onshape.v1+json; charset=UTF-8;qs=0.1',\n",
        "           'Content-Type': 'application/json'}\n",
        "\n",
        "fixed_url = fixed_url.replace('did', did)\n",
        "fixed_url = fixed_url.replace('wid', wid)\n",
        "fixed_url = fixed_url.replace('eid', eid)\n",
        "\n",
        "response = client.api_client.request(method, url=base + fixed_url, query_params=params, headers=headers, body=payload)\n",
        "\n",
        "# The command below prints the entire JSON response from Onshape\n",
        "print(json.loads(response.data))\n"
      ],
      "execution_count": null,
      "outputs": []
    },
    {
      "cell_type": "markdown",
      "metadata": {
        "id": "qruy2t3f4Ezp"
      },
      "source": [
        "# 2.3 Onshape - Make Part Studio\n",
        "This is an example of a post request that creates a new part studio in an Onshape document."
      ]
    },
    {
      "cell_type": "code",
      "metadata": {
        "id": "eNd2d7Gi62zv"
      },
      "source": [
        "fixed_url = '/api/partstudios/d/did/w/wid'\n",
        "\n",
        "did = '4bda16c648566259ea1b4e4c'\n",
        "wid = 'c299b9fc994574c2637e871d'\n",
        "\n",
        "method = 'POST'\n",
        "\n",
        "params = {}\n",
        "payload = {}\n",
        "headers = {'Accept': 'application/vnd.onshape.v1+json; charset=UTF-8;qs=0.1',\n",
        "           'Content-Type': 'application/json'}\n",
        "\n",
        "fixed_url = fixed_url.replace('did', did)\n",
        "fixed_url = fixed_url.replace('wid', wid)\n",
        "\n",
        "response = client.api_client.request(method, url=base + fixed_url, query_params=params, headers=headers, body=payload)\n",
        "\n",
        "# The command below prints the entire JSON response from Onshape\n",
        "print(json.loads(response.data))"
      ],
      "execution_count": null,
      "outputs": []
    },
    {
      "cell_type": "markdown",
      "metadata": {
        "id": "9HcjM9CVsW5C"
      },
      "source": [
        "# 2.4 Onshape - Get All Parts in Document\n",
        "This snippet shows a sample of getting all of the parts in an Onshape document. "
      ]
    },
    {
      "cell_type": "code",
      "metadata": {
        "id": "kvU2LNhzu6YH"
      },
      "source": [
        "# The first part of the fixed URL specifies which API we're calling\n",
        "fixed_url = '/api/parts/d/did/w/wid'\n",
        "# The parameters below are found in the URL of your onshape document. i.e. \"https://cad.onshape.com/documents/4bda16c648566259ea1b4e4c/w/c299b9fc994574c2637e871d/e/34431211dd542fb7cc570959\"\n",
        "did = '4bda16c648566259ea1b4e4c'\n",
        "wid = 'c299b9fc994574c2637e871d'\n",
        "\n",
        "# Method below specifies the request type - 'GET' or 'POST'\n",
        "method = 'GET'\n",
        "\n",
        "params = {}\n",
        "payload = {}\n",
        "headers = {'Accept': 'application/vnd.onshape.v1+json; charset=UTF-8;qs=0.1',\n",
        "           'Content-Type': 'application/json'}\n",
        "\n",
        "fixed_url = fixed_url.replace('did', did)\n",
        "fixed_url = fixed_url.replace('wid', wid)\n",
        "response = client.api_client.request(method, url=base + fixed_url, query_params=params, headers=headers, body=payload)\n",
        "\n",
        "# The command below prints the entire JSON response from Onshape\n",
        "# print(json.loads(response.data))\n",
        "\n",
        "parts = json.loads(response.data)\n",
        "for i in range(len(parts)):\n",
        "  print(parts[i][\"name\"] +\" has part ID: \"+ parts[i][\"partId\"])"
      ],
      "execution_count": null,
      "outputs": []
    },
    {
      "cell_type": "markdown",
      "metadata": {
        "id": "xIaAq0jmyI71"
      },
      "source": [
        "# 2.5 Onshape - Update Part Metadata\n",
        "The function below gets the metadata for a part, then changes the part's color and opacity, and sends a post request to update it. The function need a part id (pid) which can be found with the snippet in 2.4 above."
      ]
    },
    {
      "cell_type": "code",
      "metadata": {
        "id": "7Gipencly3so"
      },
      "source": [
        "def updateColor(eid,pid,newOpacity,newColors):\n",
        "\n",
        "  fixed_url = '/api/metadata/d/did/w/wid/e/eid/p/pid'\n",
        "  did = '4bda16c648566259ea1b4e4c'\n",
        "  wid = 'c299b9fc994574c2637e871d'\n",
        "\n",
        "  params = {}\n",
        "  payload = {}\n",
        "  headers = {'Accept': 'application/vnd.onshape.v1+json; charset=UTF-8;qs=0.1',\n",
        "            'Content-Type': 'application/json'}\n",
        "\n",
        "  fixed_url = fixed_url.replace('did', did)\n",
        "  fixed_url = fixed_url.replace('wid', wid)\n",
        "  fixed_url = fixed_url.replace('eid', eid)\n",
        "  fixed_url = fixed_url.replace('pid', pid)\n",
        "\n",
        "  response = client.api_client.request('GET', url=base + fixed_url,\n",
        "  query_params=params, headers=headers, body=payload)\n",
        "\n",
        "  partMetaData = json.loads(response.data)\n",
        "  partProperties = partMetaData['properties']\n",
        "\n",
        "  # # Print current appearance values\n",
        "  # for x in partProperties:\n",
        "  #   if x['name'] == \"Appearance\":\n",
        "  #     partAppearance = x\n",
        "  #     break\n",
        "  # print(partAppearance['value'])\n",
        "\n",
        "  for i in range(len(partProperties)):\n",
        "    if partProperties[i]['name'] == \"Appearance\":\n",
        "      partProperties[i]['value']['opacity'] = newOpacity\n",
        "      partProperties[i]['value']['color'] = newColors\n",
        "      break\n",
        "\n",
        "  partMetaData['properties'] = partProperties\n",
        "\n",
        "  payload = partMetaData\n",
        "\n",
        "  response = client.api_client.request('POST', url=base + fixed_url,\n",
        "  query_params=params, headers=headers, body=payload)"
      ],
      "execution_count": null,
      "outputs": []
    },
    {
      "cell_type": "code",
      "metadata": {
        "id": "oZvSaSAb8PcT"
      },
      "source": [
        "updateColor('7b5bc60e32e112ae487c32dc','JMD',150,{'red': 255, 'green': 1, 'blue': 1})"
      ],
      "execution_count": null,
      "outputs": []
    },
    {
      "cell_type": "markdown",
      "metadata": {
        "id": "8bIQUUhCojU8"
      },
      "source": [
        "# 3.1 ThingWorx - Get Thing Properties\n",
        "You need to set a [ThingWorx appkey](https://support.ptc.com/help/thingworx_hc/thingworx_8_hc/en/index.html#page/ThingWorx/Help/Composer/Security/ApplicationKeys/ApplicationKeys.html) and the correct URL with the name of your \"Thing\" (ThingName in the example below), and ending with \"Properties\""
      ]
    },
    {
      "cell_type": "code",
      "metadata": {
        "id": "42G7LuOUutB3"
      },
      "source": [
        "import requests\n",
        "import json\n",
        "\n",
        "## Add your ThingWorx appKey and the URL to the Thing you want to get\n",
        "appKey = '<ThingWorx appKey here>'\n",
        "URL = 'https://pp-2101111403aw.portal.ptc.io/Thingworx/Things/ThingName/Properties'\n",
        "headers = {\n",
        "        'appKey': appKey,\n",
        "        'accept': 'application/json',\n",
        "        'Content-Type':'application/json'\n",
        "    }\n",
        "response = requests.get(URL,headers=headers)\n",
        "FullResponse = json.dumps(response.json(), indent=4, sort_keys=True)\n",
        "\n",
        "#print(FullResponse) #this prints a well formatted version of the JSON response\n",
        "\n",
        "# specify the name of the property value you'd like below, then print it out with the next line\n",
        "propName = \"PartAngle\"\n",
        "print(response.json()['rows'][0][propName]) # This prints just the value of your specified property"
      ],
      "execution_count": null,
      "outputs": []
    },
    {
      "cell_type": "markdown",
      "metadata": {
        "id": "PI_EM84X8n9w"
      },
      "source": [
        "# 3.2 Thingworx - Set Thing Properties\n"
      ]
    },
    {
      "cell_type": "code",
      "metadata": {
        "id": "aBMrmGau9HOr"
      },
      "source": [
        "import requests\n",
        "\n",
        "appKey = '<ThingWorx appKey here>'\n",
        "propName = 'WristAngle'\n",
        "value = '1014'\n",
        "url = \"https://pp-2101111403aw.portal.ptc.io/Thingworx/Things/MM_PLTW/Properties/\"+propName #end of URL should have the property name\n",
        "\n",
        "payload=\"{\\\"\"+propName+\"\\\":\"+value+\"}\"\n",
        "headers = {\n",
        "  'appKey': appKey,\n",
        "  'Content-Type': 'application/json'\n",
        "}\n",
        "\n",
        "response = requests.request(\"PUT\", url, headers=headers, data=payload)\n",
        "\n",
        "print(response)"
      ],
      "execution_count": null,
      "outputs": []
    },
    {
      "cell_type": "markdown",
      "metadata": {
        "id": "KP5wrcDTTja3"
      },
      "source": [
        "# 3.3 ThingWorx - Post Request\n",
        "Use HTTP Post requests to invoke a service in ThingWorx."
      ]
    },
    {
      "cell_type": "code",
      "metadata": {
        "id": "FELx8bZcTp-g"
      },
      "source": [
        "import requests\n",
        "import json\n",
        "\n",
        "appKey = '<ThingWorx appKey here>'\n",
        "\n",
        "url = \"https://pp-2101111403aw.portal.ptc.io/Thingworx/Things/ButterflyNotebook/Services/SearchDataTableEntries\"\n",
        "\n",
        "payload=\"{\\n    \\\"searchExpression\\\":\\\"Steve\\\"\\n}\"\n",
        "headers = {\n",
        "  'appKey': appKey,\n",
        "  'Content-Type': 'application/json',\n",
        "  'accept': 'application/json'\n",
        "}\n",
        "\n",
        "response = requests.request(\"POST\", url, headers=headers, data=payload)\n",
        "\n",
        "FullResponse = json.dumps(response.json(), indent=4, sort_keys=True)\n",
        "\n",
        "Img = response.json()['rows'][0]['Image']\n",
        "\n",
        "print(response.json()['rows'][0]['Image'])"
      ],
      "execution_count": null,
      "outputs": []
    }
  ]
}