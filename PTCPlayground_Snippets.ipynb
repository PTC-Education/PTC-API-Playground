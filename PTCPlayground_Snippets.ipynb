{
  "nbformat": 4,
  "nbformat_minor": 0,
  "metadata": {
    "colab": {
      "name": "Onshape Snippets.ipynb",
      "provenance": [],
      "collapsed_sections": [],
      "include_colab_link": true
    },
    "kernelspec": {
      "name": "python3",
      "display_name": "Python 3"
    }
  },
  "cells": [
    {
      "cell_type": "markdown",
      "metadata": {
        "id": "view-in-github",
        "colab_type": "text"
      },
      "source": [
        "<a href=\"https://colab.research.google.com/github/PTC-Education/PTC-Playground/blob/main/PTCPlayground_Snippets.ipynb\" target=\"_parent\"><img src=\"https://colab.research.google.com/assets/colab-badge.svg\" alt=\"Open In Colab\"/></a>"
      ]
    },
    {
      "cell_type": "markdown",
      "metadata": {
        "id": "Hxtz9dyNeXY7"
      },
      "source": [
        "# 0. PTC Education Snippets Overview\n",
        "1. Onshape API Library - a number of nicely formatted functions for interacting with Onshape's python API client\n",
        "2. Onshape Python Client - snippets for importing Onshape's python client and some sample API calls\n",
        "3. ThingWorx Connection - basic examples of using ThingWorx REST API to get and set properties, and call services"
      ]
    },
    {
      "cell_type": "markdown",
      "metadata": {
        "id": "COOE4In1LdPA"
      },
      "source": [
        "# 1.1 Onshape Library - Import Libraries\n",
        "The code below imports Python libraries from Github for interacting with Onshape's API"
      ]
    },
    {
      "cell_type": "code",
      "metadata": {
        "id": "spxcs5j2LEdg",
        "colab": {
          "base_uri": "https://localhost:8080/"
        },
        "outputId": "6949c6dd-21b0-486a-f66f-e394ea6faf08"
      },
      "source": [
        "# Github Installation and fresh requirements install\n",
        "\n",
        "!rm -r PTCColab\n",
        "## If this is your first time running this cell the output should be\n",
        "##   \"rm: cannot remove 'OnshapeColab': No such file or directory\"\n",
        "\n",
        "print(\"*** Installing git repo . . . ***\")\n",
        "!git clone https://github.com/PTC-Education/PTCColab\n",
        "\n",
        "print(\"\\n*** Installing external dependencies . . . ***\")\n",
        "!pip install -r PTCColab/requirements.txt\n",
        "\n",
        "print(\"\\n*** Repository and requirements installed sucessfully! ***\")\n",
        "\n",
        "# Connect to Onshape\n",
        "import PTCColab as oc"
      ],
      "execution_count": 6,
      "outputs": [
        {
          "output_type": "stream",
          "text": [
            "*** Installing git repo . . . ***\n",
            "Cloning into 'PTCColab'...\n",
            "remote: Enumerating objects: 994, done.\u001b[K\n",
            "remote: Counting objects: 100% (994/994), done.\u001b[K\n",
            "remote: Compressing objects: 100% (500/500), done.\u001b[K\n",
            "remote: Total 994 (delta 602), reused 846 (delta 475), pack-reused 0\u001b[K\n",
            "Receiving objects: 100% (994/994), 216.04 KiB | 3.79 MiB/s, done.\n",
            "Resolving deltas: 100% (602/602), done.\n",
            "\n",
            "*** Installing external dependencies . . . ***\n",
            "Requirement already satisfied: certifi==2020.12.5 in /usr/local/lib/python3.7/dist-packages (from -r PTCColab/requirements.txt (line 1)) (2020.12.5)\n",
            "Requirement already satisfied: chardet==3.0.4 in /usr/local/lib/python3.7/dist-packages (from -r PTCColab/requirements.txt (line 2)) (3.0.4)\n",
            "Requirement already satisfied: idna==2.10 in /usr/local/lib/python3.7/dist-packages (from -r PTCColab/requirements.txt (line 3)) (2.10)\n",
            "Requirement already satisfied: nulltype==2.3.1 in /usr/local/lib/python3.7/dist-packages (from -r PTCColab/requirements.txt (line 4)) (2.3.1)\n",
            "Requirement already satisfied: numpy==1.19.5 in /usr/local/lib/python3.7/dist-packages (from -r PTCColab/requirements.txt (line 5)) (1.19.5)\n",
            "Requirement already satisfied: oauthlib==3.1.0 in /usr/local/lib/python3.7/dist-packages (from -r PTCColab/requirements.txt (line 6)) (3.1.0)\n",
            "Requirement already satisfied: onshape-client==1.6.3 in /usr/local/lib/python3.7/dist-packages (from -r PTCColab/requirements.txt (line 7)) (1.6.3)\n",
            "Requirement already satisfied: packaging==20.9 in /usr/local/lib/python3.7/dist-packages (from -r PTCColab/requirements.txt (line 8)) (20.9)\n",
            "Requirement already satisfied: Pint==0.16.1 in /usr/local/lib/python3.7/dist-packages (from -r PTCColab/requirements.txt (line 9)) (0.16.1)\n",
            "Requirement already satisfied: pyparsing==2.4.7 in /usr/local/lib/python3.7/dist-packages (from -r PTCColab/requirements.txt (line 10)) (2.4.7)\n",
            "Requirement already satisfied: python-dateutil==2.8.1 in /usr/local/lib/python3.7/dist-packages (from -r PTCColab/requirements.txt (line 11)) (2.8.1)\n",
            "Requirement already satisfied: requests==2.23.0 in /usr/local/lib/python3.7/dist-packages (from -r PTCColab/requirements.txt (line 12)) (2.23.0)\n",
            "Requirement already satisfied: requests-oauthlib==1.3.0 in /usr/local/lib/python3.7/dist-packages (from -r PTCColab/requirements.txt (line 13)) (1.3.0)\n",
            "Requirement already satisfied: ruamel.yaml==0.16.12 in /usr/local/lib/python3.7/dist-packages (from -r PTCColab/requirements.txt (line 14)) (0.16.12)\n",
            "Requirement already satisfied: six==1.15.0 in /usr/local/lib/python3.7/dist-packages (from -r PTCColab/requirements.txt (line 15)) (1.15.0)\n",
            "Requirement already satisfied: urllib3==1.25.11 in /usr/local/lib/python3.7/dist-packages (from -r PTCColab/requirements.txt (line 16)) (1.25.11)\n",
            "Requirement already satisfied: importlib-metadata; python_version < \"3.8\" in /usr/local/lib/python3.7/dist-packages (from Pint==0.16.1->-r PTCColab/requirements.txt (line 9)) (3.10.1)\n",
            "Requirement already satisfied: ruamel.yaml.clib>=0.1.2; platform_python_implementation == \"CPython\" and python_version < \"3.9\" in /usr/local/lib/python3.7/dist-packages (from ruamel.yaml==0.16.12->-r PTCColab/requirements.txt (line 14)) (0.2.2)\n",
            "Requirement already satisfied: typing-extensions>=3.6.4; python_version < \"3.8\" in /usr/local/lib/python3.7/dist-packages (from importlib-metadata; python_version < \"3.8\"->Pint==0.16.1->-r PTCColab/requirements.txt (line 9)) (3.7.4.3)\n",
            "Requirement already satisfied: zipp>=0.5 in /usr/local/lib/python3.7/dist-packages (from importlib-metadata; python_version < \"3.8\"->Pint==0.16.1->-r PTCColab/requirements.txt (line 9)) (3.4.1)\n",
            "\n",
            "*** Repository and requirements installed sucessfully! ***\n"
          ],
          "name": "stdout"
        }
      ]
    },
    {
      "cell_type": "markdown",
      "metadata": {
        "id": "-WgOMlUEf11j"
      },
      "source": [
        "# 1.2 Onshape Library - Set Params\n",
        "The code below allows you to connect to a specific Onshape document with API Keys at https://dev-portal.onshape.com/"
      ]
    },
    {
      "cell_type": "code",
      "metadata": {
        "id": "vRDRzYbDMbNj",
        "colab": {
          "base_uri": "https://localhost:8080/",
          "height": 735
        },
        "outputId": "6afac55a-b6dc-4b3a-f009-b25bdaa4a48e"
      },
      "source": [
        "## Document identifiers - Please input the document, workspace, and element ID from your desired Onshape documet like below\n",
        "\n",
        "### Clock (Public Test Document 1)\n",
        "# (https://cad.onshape.com/documents/d75bb6f0855244bdb3902141/w/2a59db92740eb894f3b29038/e/3bddbc17e620a65192e913f8)\n",
        "# workspace = \"https://cad.onshape.com\" ## Defaults to cad.onshape\n",
        "# did = \"d75bb6f0855244bdb3902141\"\n",
        "# wid = \"2a59db92740eb894f3b29038\"\n",
        "# eid = \"3bddbc17e620a65192e913f8\"\n",
        "\n",
        "### Translatiotion test (Public Test Document 2)\n",
        "# (https://cad.onshape.com/documents/0b15b64be5e54bc64d6fb3ff/w/8653864b34cbf101c1c0acb1/e/58703372dd872b5ec7f548a2)\n",
        "did = \"0b15b64be5e54bc64d6fb3ff\"\n",
        "wid = \"8653864b34cbf101c1c0acb1\"\n",
        "eid = \"58703372dd872b5ec7f548a2\"\n",
        "\n",
        "## Onshape API keys\n",
        "access =\"<Insert-Access-Key-Here>\"\n",
        "secret = \"<Insert-Secret-Key-Here>\"\n",
        "\n",
        "## Connects to Onshape API\n",
        "oc.connectToOnshape(did, wid, eid, access, secret, verbose=True)"
      ],
      "execution_count": 7,
      "outputs": [
        {
          "output_type": "stream",
          "text": [
            ". . . Defaulting to cad.onshape.com . . .\n",
            "Using Workbench: https://cad.onshape.com\n",
            "Document ID: 0b15b64be5e54bc64d6fb3ff\n",
            "Workspace ID: 8653864b34cbf101c1c0acb1\n",
            "Element ID: 58703372dd872b5ec7f548a2\n",
            "\n",
            "Connected to Onshape Client!\n",
            "\n"
          ],
          "name": "stdout"
        },
        {
          "output_type": "stream",
          "text": [
            "/usr/local/lib/python3.7/dist-packages/onshape_client/client.py:158: UserWarning: A Client was already created so this will create another and override it. Please use Client.get_client() to get the previously created client.\n",
            "  \"A Client was already created so this will create another and override it. Please use \"\n"
          ],
          "name": "stderr"
        },
        {
          "output_type": "stream",
          "text": [
            "\u001b[93m *** WARNING: Check your did, access, and secret keys have been entered correctly! *** \u001b[0m\n",
            "Sever message: \n",
            "Ending. . .\n"
          ],
          "name": "stdout"
        },
        {
          "output_type": "error",
          "ename": "NameError",
          "evalue": "ignored",
          "traceback": [
            "\u001b[0;31m---------------------------------------------------------------------------\u001b[0m",
            "\u001b[0;31mApiException\u001b[0m                              Traceback (most recent call last)",
            "\u001b[0;32m/content/PTCColab/onshape_utils.py\u001b[0m in \u001b[0;36mgetDocumentInfo\u001b[0;34m(verbose)\u001b[0m\n\u001b[1;32m     55\u001b[0m     \u001b[0;32mtry\u001b[0m\u001b[0;34m:\u001b[0m\u001b[0;34m\u001b[0m\u001b[0;34m\u001b[0m\u001b[0m\n\u001b[0;32m---> 56\u001b[0;31m         \u001b[0mresponse\u001b[0m \u001b[0;34m=\u001b[0m \u001b[0mapi\u001b[0m\u001b[0;34m.\u001b[0m\u001b[0mcallAPI\u001b[0m\u001b[0;34m(\u001b[0m\u001b[0;34m'document-info'\u001b[0m\u001b[0;34m,\u001b[0m \u001b[0;34m{\u001b[0m\u001b[0;34m}\u001b[0m\u001b[0;34m,\u001b[0m \u001b[0;34m{\u001b[0m\u001b[0;34m}\u001b[0m\u001b[0;34m,\u001b[0m \u001b[0;32mTrue\u001b[0m\u001b[0;34m,\u001b[0m \u001b[0mwid\u001b[0m\u001b[0;34m=\u001b[0m\u001b[0;32mFalse\u001b[0m\u001b[0;34m,\u001b[0m \u001b[0meid\u001b[0m\u001b[0;34m=\u001b[0m\u001b[0;32mFalse\u001b[0m\u001b[0;34m)\u001b[0m\u001b[0;34m\u001b[0m\u001b[0;34m\u001b[0m\u001b[0m\n\u001b[0m\u001b[1;32m     57\u001b[0m     \u001b[0;32mexcept\u001b[0m \u001b[0mApiException\u001b[0m \u001b[0;32mas\u001b[0m \u001b[0merror\u001b[0m\u001b[0;34m:\u001b[0m\u001b[0;34m\u001b[0m\u001b[0;34m\u001b[0m\u001b[0m\n",
            "\u001b[0;32m/content/PTCColab/utils/api_utils.py\u001b[0m in \u001b[0;36mcallAPI\u001b[0;34m(endpoint, params, payload, hasReturn, wid, eid, neweid, pid)\u001b[0m\n\u001b[1;32m    190\u001b[0m     response = args[\"client\"].api_client.request(method, url=args[\"base\"] + fixed_url,\n\u001b[0;32m--> 191\u001b[0;31m         query_params=params, headers=args[\"headers\"], body=payload)\n\u001b[0m\u001b[1;32m    192\u001b[0m \u001b[0;34m\u001b[0m\u001b[0m\n",
            "\u001b[0;32m/usr/local/lib/python3.7/dist-packages/onshape_client/oas/api_client.py\u001b[0m in \u001b[0;36mrequest\u001b[0;34m(self, method, url, query_params, headers, post_params, body, _preload_content, _request_timeout)\u001b[0m\n\u001b[1;32m    425\u001b[0m                 \u001b[0m_request_timeout\u001b[0m\u001b[0;34m=\u001b[0m\u001b[0m_request_timeout\u001b[0m\u001b[0;34m,\u001b[0m\u001b[0;34m\u001b[0m\u001b[0;34m\u001b[0m\u001b[0m\n\u001b[0;32m--> 426\u001b[0;31m                 \u001b[0mheaders\u001b[0m\u001b[0;34m=\u001b[0m\u001b[0mheaders\u001b[0m\u001b[0;34m,\u001b[0m\u001b[0;34m\u001b[0m\u001b[0;34m\u001b[0m\u001b[0m\n\u001b[0m\u001b[1;32m    427\u001b[0m             )\n",
            "\u001b[0;32m/usr/local/lib/python3.7/dist-packages/onshape_client/oas/rest.py\u001b[0m in \u001b[0;36mGET\u001b[0;34m(self, url, headers, query_params, _preload_content, _request_timeout)\u001b[0m\n\u001b[1;32m    329\u001b[0m             \u001b[0m_request_timeout\u001b[0m\u001b[0;34m=\u001b[0m\u001b[0m_request_timeout\u001b[0m\u001b[0;34m,\u001b[0m\u001b[0;34m\u001b[0m\u001b[0;34m\u001b[0m\u001b[0m\n\u001b[0;32m--> 330\u001b[0;31m             \u001b[0mquery_params\u001b[0m\u001b[0;34m=\u001b[0m\u001b[0mquery_params\u001b[0m\u001b[0;34m,\u001b[0m\u001b[0;34m\u001b[0m\u001b[0;34m\u001b[0m\u001b[0m\n\u001b[0m\u001b[1;32m    331\u001b[0m         )\n",
            "\u001b[0;32m/usr/local/lib/python3.7/dist-packages/onshape_client/oas/rest.py\u001b[0m in \u001b[0;36mrequest\u001b[0;34m(self, method, url, query_params, headers, body, post_params, _preload_content, _request_timeout)\u001b[0m\n\u001b[1;32m    311\u001b[0m         \u001b[0;32mif\u001b[0m \u001b[0;32mnot\u001b[0m \u001b[0;36m200\u001b[0m \u001b[0;34m<=\u001b[0m \u001b[0mr\u001b[0m\u001b[0;34m.\u001b[0m\u001b[0mstatus\u001b[0m \u001b[0;34m<=\u001b[0m \u001b[0;36m299\u001b[0m\u001b[0;34m:\u001b[0m\u001b[0;34m\u001b[0m\u001b[0;34m\u001b[0m\u001b[0m\n\u001b[0;32m--> 312\u001b[0;31m             \u001b[0;32mraise\u001b[0m \u001b[0mApiException\u001b[0m\u001b[0;34m(\u001b[0m\u001b[0mhttp_resp\u001b[0m\u001b[0;34m=\u001b[0m\u001b[0mr\u001b[0m\u001b[0;34m)\u001b[0m\u001b[0;34m\u001b[0m\u001b[0;34m\u001b[0m\u001b[0m\n\u001b[0m\u001b[1;32m    313\u001b[0m \u001b[0;34m\u001b[0m\u001b[0m\n",
            "\u001b[0;31mApiException\u001b[0m: (403)\nReason: Forbidden\nHTTP response headers: HTTPHeaderDict({'Date': 'Thu, 22 Apr 2021 06:40:10 GMT', 'Content-Length': '0', 'Connection': 'keep-alive', 'Strict-Transport-Security': 'max-age=31536000; includeSubDomains', 'X-Content-Type-Options': 'nosniff', 'X-XSS-Protection': '1; mode=block'})\n",
            "\nDuring handling of the above exception, another exception occurred:\n",
            "\u001b[0;31mNameError\u001b[0m                                 Traceback (most recent call last)",
            "\u001b[0;32m<ipython-input-7-bfa77b2f93ff>\u001b[0m in \u001b[0;36m<module>\u001b[0;34m()\u001b[0m\n\u001b[1;32m     19\u001b[0m \u001b[0;34m\u001b[0m\u001b[0m\n\u001b[1;32m     20\u001b[0m \u001b[0;31m## Connects to Onshape API\u001b[0m\u001b[0;34m\u001b[0m\u001b[0;34m\u001b[0m\u001b[0;34m\u001b[0m\u001b[0m\n\u001b[0;32m---> 21\u001b[0;31m \u001b[0moc\u001b[0m\u001b[0;34m.\u001b[0m\u001b[0mconnectToOnshape\u001b[0m\u001b[0;34m(\u001b[0m\u001b[0mdid\u001b[0m\u001b[0;34m,\u001b[0m \u001b[0mwid\u001b[0m\u001b[0;34m,\u001b[0m \u001b[0meid\u001b[0m\u001b[0;34m,\u001b[0m \u001b[0maccess\u001b[0m\u001b[0;34m,\u001b[0m \u001b[0msecret\u001b[0m\u001b[0;34m,\u001b[0m \u001b[0mverbose\u001b[0m\u001b[0;34m=\u001b[0m\u001b[0;32mTrue\u001b[0m\u001b[0;34m)\u001b[0m\u001b[0;34m\u001b[0m\u001b[0;34m\u001b[0m\u001b[0m\n\u001b[0m",
            "\u001b[0;32m/content/PTCColab/onshape_utils.py\u001b[0m in \u001b[0;36mconnectToOnshape\u001b[0;34m(did, wid, eid, access, secret, base, verbose)\u001b[0m\n\u001b[1;32m     32\u001b[0m     \u001b[0mapi\u001b[0m\u001b[0;34m.\u001b[0m\u001b[0msetKeys\u001b[0m\u001b[0;34m(\u001b[0m\u001b[0maccess\u001b[0m\u001b[0;34m,\u001b[0m \u001b[0msecret\u001b[0m\u001b[0;34m)\u001b[0m\u001b[0;34m\u001b[0m\u001b[0;34m\u001b[0m\u001b[0m\n\u001b[1;32m     33\u001b[0m     \u001b[0mapi\u001b[0m\u001b[0;34m.\u001b[0m\u001b[0mconnectToClient\u001b[0m\u001b[0;34m(\u001b[0m\u001b[0mverbose\u001b[0m\u001b[0;34m=\u001b[0m\u001b[0mverbose\u001b[0m\u001b[0;34m)\u001b[0m\u001b[0;34m\u001b[0m\u001b[0;34m\u001b[0m\u001b[0m\n\u001b[0;32m---> 34\u001b[0;31m     \u001b[0mdocInfo\u001b[0m \u001b[0;34m=\u001b[0m \u001b[0mgetDocumentInfo\u001b[0m\u001b[0;34m(\u001b[0m\u001b[0;34m)\u001b[0m\u001b[0;34m\u001b[0m\u001b[0;34m\u001b[0m\u001b[0m\n\u001b[0m\u001b[1;32m     35\u001b[0m \u001b[0;34m\u001b[0m\u001b[0m\n\u001b[1;32m     36\u001b[0m     \u001b[0mprint\u001b[0m\u001b[0;34m(\u001b[0m\u001b[0;34m\"Retrieved document information:\"\u001b[0m\u001b[0;34m)\u001b[0m\u001b[0;34m\u001b[0m\u001b[0;34m\u001b[0m\u001b[0m\n",
            "\u001b[0;32m/content/PTCColab/onshape_utils.py\u001b[0m in \u001b[0;36mgetDocumentInfo\u001b[0;34m(verbose)\u001b[0m\n\u001b[1;32m     59\u001b[0m         \u001b[0mprint\u001b[0m\u001b[0;34m(\u001b[0m\u001b[0;34m\"Sever message:\"\u001b[0m\u001b[0;34m,\u001b[0m \u001b[0merror\u001b[0m\u001b[0;34m.\u001b[0m\u001b[0mbody\u001b[0m\u001b[0;34m)\u001b[0m\u001b[0;34m\u001b[0m\u001b[0;34m\u001b[0m\u001b[0m\n\u001b[1;32m     60\u001b[0m         \u001b[0mprint\u001b[0m\u001b[0;34m(\u001b[0m\u001b[0;34m\"Ending. . .\"\u001b[0m\u001b[0;34m)\u001b[0m\u001b[0;34m\u001b[0m\u001b[0;34m\u001b[0m\u001b[0m\n\u001b[0;32m---> 61\u001b[0;31m         \u001b[0mexit\u001b[0m\u001b[0;34m(\u001b[0m\u001b[0;34m)\u001b[0m\u001b[0;34m;\u001b[0m\u001b[0;34m\u001b[0m\u001b[0;34m\u001b[0m\u001b[0m\n\u001b[0m\u001b[1;32m     62\u001b[0m \u001b[0;34m\u001b[0m\u001b[0m\n\u001b[1;32m     63\u001b[0m     \u001b[0;32mif\u001b[0m \u001b[0;34m(\u001b[0m\u001b[0mverbose\u001b[0m\u001b[0;34m)\u001b[0m\u001b[0;34m:\u001b[0m\u001b[0;34m\u001b[0m\u001b[0;34m\u001b[0m\u001b[0m\n",
            "\u001b[0;31mNameError\u001b[0m: name 'exit' is not defined"
          ]
        }
      ]
    },
    {
      "cell_type": "markdown",
      "metadata": {
        "id": "DUOmozvZRX5G"
      },
      "source": [
        "# 1.3 Onshape Library - Get Assembly Info"
      ]
    },
    {
      "cell_type": "code",
      "metadata": {
        "id": "8xFY70LILKnX",
        "colab": {
          "base_uri": "https://localhost:8080/"
        },
        "outputId": "1a26fcdd-47d0-411b-e317-779ecc7455e6"
      },
      "source": [
        "# Get Parts and Configurations\n",
        "\n",
        "## Gets Assembly (parts and positions) information\n",
        "## Note: Assembly info prints all the parts and sub assemblies!\n",
        "assemblyInfo = oc.getAssemblyInfo()\n",
        "oc.printAssembly(assemblyInfo, positions=True)\n",
        "\n",
        "## Gets Configurations\n",
        "configInfo = oc.getConfigurations()\n",
        "oc.printConfigurations(configInfo)"
      ],
      "execution_count": null,
      "outputs": [
        {
          "output_type": "stream",
          "text": [
            "Assembly Info:\n",
            "Key <1> (MpvhYOp6b7uAhogNf)\n",
            "\tTranslation (x, y, z): \t\t 0.75 \t -0.75 \t 0.0\n",
            "\tRotation (ux, uy, uz, alpha): \t 0.0 \t 0.0 \t 1.0 \t 90.0\n",
            "Plane <1> (MBY012YAYxL98d1Mo)\n",
            "\tTranslation (x, y, z): \t\t -0.75 \t -0.75 \t 0.0\n",
            "\tRotation (ux, uy, uz, alpha): \t 0 \t 0 \t 0 \t 0.0\n",
            "box <1> (MkbliODWwWA2T80sc)\n",
            "\tTranslation (x, y, z): \t\t 0.566 \t 0.887 \t 0.026\n",
            "\tRotation (ux, uy, uz, alpha): \t 0 \t 0 \t 0 \t 0.0\n",
            "\n",
            "There are no set configurations for this document.\n",
            "\n"
          ],
          "name": "stdout"
        }
      ]
    },
    {
      "cell_type": "markdown",
      "metadata": {
        "id": "YTDxpMiV4MPF"
      },
      "source": [
        "# 1.4 Onshape Library - Update Configuration Parameters\n",
        "This function updates the maximum and minimum values of a configuration parameter."
      ]
    },
    {
      "cell_type": "code",
      "metadata": {
        "colab": {
          "base_uri": "https://localhost:8080/",
          "height": 120
        },
        "id": "BhHO7Y0ekDoE",
        "outputId": "d72a525b-68a8-435b-f43e-74f7fc41e830"
      },
      "source": [
        "# Editing configurations\n",
        "import json\n",
        "\n",
        "## Prompts the user to edit their configurations\n",
        "newConfigs = oc.promptConfigurations(configInfo)\n",
        "\n",
        "print(\"\\nConfigurations that will be changed:\")\n",
        "print(json.dumps(newConfigs, indent=2), \"\\n\")\n",
        "\n",
        "## Makes API call to edit configurations\n",
        "oc.setConfigurations(newConfigs, configInfo)"
      ],
      "execution_count": null,
      "outputs": [
        {
          "output_type": "stream",
          "text": [
            "What Configurations do you want to edit?\n",
            "\n",
            "Configurations that will be changed:\n",
            "{} \n",
            "\n"
          ],
          "name": "stdout"
        },
        {
          "output_type": "execute_result",
          "data": {
            "application/vnd.google.colaboratory.intrinsic+json": {
              "type": "string"
            },
            "text/plain": [
              "'success'"
            ]
          },
          "metadata": {
            "tags": []
          },
          "execution_count": 5
        }
      ]
    },
    {
      "cell_type": "code",
      "metadata": {
        "id": "xCfa503xLCKj"
      },
      "source": [
        "# Manually Editting Configurations (Redudent with cell above)\n",
        "\n",
        "## Example newConfig body (for the clock demo) to be used with setConfigurations\n",
        "newConfigs = {\n",
        "    \"Rotation\": 0,\n",
        "    \"HourRotation\": 0,\n",
        "    \"SecondRotation\": 0\n",
        "}\n",
        "\n",
        "## Makes API call to edit configurations\n",
        "oc.setConfigurations(newConfigs, configInfo)"
      ],
      "execution_count": null,
      "outputs": []
    },
    {
      "cell_type": "markdown",
      "metadata": {
        "id": "lF98E_Xsq-31"
      },
      "source": [
        "# 1.5 Onshape - Get Global Transformations"
      ]
    },
    {
      "cell_type": "code",
      "metadata": {
        "colab": {
          "base_uri": "https://localhost:8080/"
        },
        "id": "IKTFqLV0rCi-",
        "outputId": "39763132-ec16-4b41-8619-8d6448fccd76"
      },
      "source": [
        "# Get Parts and Positions\n",
        "\n",
        "\n",
        "## Gets Assembly (parts and positions) information\n",
        "## Note: Assembly info prints all the parts and sub assemblies!\n",
        "assemblyInfo = oc.getAssemblyInfo()\n",
        "oc.printAssembly(assemblyInfo, positions=True)\n"
      ],
      "execution_count": null,
      "outputs": [
        {
          "output_type": "stream",
          "text": [
            "Assembly Info:\n",
            "Key <1> (MpvhYOp6b7uAhogNf)\n",
            "\tTranslation (x, y, z): \t\t 0.75 \t -0.75 \t 0.0\n",
            "\tRotation (ux, uy, uz, alpha): \t 0.0 \t 0.0 \t 1.0 \t 90.0\n",
            "Plane <1> (MBY012YAYxL98d1Mo)\n",
            "\tTranslation (x, y, z): \t\t -0.75 \t -0.75 \t 0.0\n",
            "\tRotation (ux, uy, uz, alpha): \t 0 \t 0 \t 0 \t 0.0\n",
            "box <1> (MkbliODWwWA2T80sc)\n",
            "\tTranslation (x, y, z): \t\t 0.566 \t 0.887 \t 0.026\n",
            "\tRotation (ux, uy, uz, alpha): \t 0 \t 0 \t 0 \t 0.0\n",
            "\n"
          ],
          "name": "stdout"
        }
      ]
    },
    {
      "cell_type": "markdown",
      "metadata": {
        "id": "6RtW70XTSQZN"
      },
      "source": [
        "# 1.6 Onshape - Set Transformation"
      ]
    },
    {
      "cell_type": "code",
      "metadata": {
        "id": "78lUiFPU-vML",
        "colab": {
          "base_uri": "https://localhost:8080/"
        },
        "outputId": "f43f9ca6-8c79-4c55-b163-d01b831b76e7"
      },
      "source": [
        "# Setting transformations\n",
        "# transArg = [tx, ty, tz, rx, ry, rz, alpha]\n",
        "transArg = [0, -.1, 0, 0, 0, 0, 0]\n",
        "\n",
        "## Automatic get Transformation Matrix (from transArg)\n",
        "M = oc.getTranslationMatrix(transArg)\n",
        "\n",
        "## Print your transformation\n",
        "oc.prettyPrintMatrix(M)"
      ],
      "execution_count": 4,
      "outputs": [
        {
          "output_type": "stream",
          "text": [
            "[\n",
            "   1.0\t   0.0\t   0.0\t   0\t\n",
            "   0.0\t   1.0\t   0.0\t   -0.1\t\n",
            "   0.0\t   0.0\t   1.0\t   0\t\n",
            "   0.0\t   0.0\t   0.0\t   1.0\t\n",
            "]\n"
          ],
          "name": "stdout"
        }
      ]
    },
    {
      "cell_type": "code",
      "metadata": {
        "id": "F-vpB_sW-7a0"
      },
      "source": [
        "## OR Manual setting of a Transformation Matrix\n",
        "M = [\n",
        "   1.0,     0.0,     0.0,     0  ,\n",
        "   0.0,     1.0,     0.0,     0.1,\n",
        "   0.0,     0.0,     1.0,     0  ,\n",
        "   0.0,     0.0,     0.0,     1.0\n",
        "]\n",
        "\n",
        "## Print your transformation\n",
        "oc.prettyPrintMatrix(M)\n",
        "\n",
        "## Double check your matrix! / TODO\n",
        "# oc.checkMatrix(M, verbose=True)"
      ],
      "execution_count": null,
      "outputs": []
    },
    {
      "cell_type": "code",
      "metadata": {
        "id": "RwxIwHDzP5-G"
      },
      "source": [
        "## Automatic Get parts list\n",
        "parts = oc.promptParts(assemblyInfo)"
      ],
      "execution_count": null,
      "outputs": []
    },
    {
      "cell_type": "code",
      "metadata": {
        "id": "yAKx564w_G2S"
      },
      "source": [
        "## Manual setting of parts list (Array of part ids (each part id is an array\n",
        "##   of part/subassembly ids)\n",
        "parts = [['MkbliODWwWA2T80sc']]"
      ],
      "execution_count": null,
      "outputs": []
    },
    {
      "cell_type": "code",
      "metadata": {
        "colab": {
          "base_uri": "https://localhost:8080/",
          "height": 35
        },
        "id": "n4zk6k4jQD4k",
        "outputId": "447c6a3c-09aa-4185-8dc4-b068aed345b0"
      },
      "source": [
        "## Boolean variable representing if a transform is relative\n",
        "isRelative = True\n",
        "\n",
        "## Make API Call\n",
        "oc.postTransform(M, isRelative, parts)"
      ],
      "execution_count": null,
      "outputs": [
        {
          "output_type": "execute_result",
          "data": {
            "application/vnd.google.colaboratory.intrinsic+json": {
              "type": "string"
            },
            "text/plain": [
              "'success'"
            ]
          },
          "metadata": {
            "tags": []
          },
          "execution_count": 12
        }
      ]
    },
    {
      "cell_type": "markdown",
      "metadata": {
        "id": "llfUXRhYWgXD"
      },
      "source": [
        "# 1.6.1 Matrix Math"
      ]
    },
    {
      "cell_type": "code",
      "metadata": {
        "id": "dnt1sC3jWsW3"
      },
      "source": [
        "M = [\n",
        "   1.0,     0.0,     0.0,     0  ,\n",
        "   0.0,     1.0,     0.0,     0.1,\n",
        "   0.0,     0.0,     1.0,     0  ,\n",
        "   0.0,     0.0,     0.0,     1.0\n",
        "]\n",
        "\n",
        "A = [\n",
        "   0.0,     0.0,     0.0,     0  ,\n",
        "   0.0,     0.0,     0.0,     0.1,\n",
        "   0.0,     0.0,     0.0,     0  ,\n",
        "   0.0,     0.0,     0.0,     1.0\n",
        "]\n",
        "\n",
        "\n",
        "## Matrix operations!\n",
        "B = oc.add(M, A)\n",
        "C = oc.multiply(M, A)\n",
        "\n",
        "## Print your transformation\n",
        "oc.prettyPrintMatrix(B)\n",
        "oc.prettyPrintMatrix(C)\n",
        "\n",
        "## Convert your new Matrix back into a transformation arg (tx, ty, tz, rx, ry, rz, w)\n",
        "oc.prettyPrintPosition(oc.decodeMatrix(B))\n",
        "oc.prettyPrintPosition(oc.decodeMatrix(C))"
      ],
      "execution_count": null,
      "outputs": []
    },
    {
      "cell_type": "code",
      "metadata": {
        "id": "SaxZv7W0XDDm"
      },
      "source": [
        "import numpy as np\n",
        "\n",
        "alpha = np.pi/2 \n",
        "\n",
        "## Rotate around X\n",
        "\n",
        "B = [\n",
        "   1.0,             0.0,             0.0,             0.0,\n",
        "   0.0,             np.cos(alpha),   -(np.sin(alpha)), 0.0,\n",
        "   0.0,             np.sin(alpha),   np.cos(alpha),   0.0,\n",
        "   0.0,             0.0,             0.0,             1.0\n",
        "]\n",
        "\n",
        "oc.prettyPrintMatrix(B)"
      ],
      "execution_count": null,
      "outputs": []
    },
    {
      "cell_type": "markdown",
      "metadata": {
        "id": "yVvF7aBnuOiI"
      },
      "source": [
        "# 2.1 ThingWorx - Connect to Thingworx"
      ]
    },
    {
      "cell_type": "code",
      "metadata": {
        "id": "yKGs2Ft4URSi"
      },
      "source": [
        "# Connect To Onshape\n",
        "\n",
        "## Thingworx properties\n",
        "# url = \"<Insert-Url-Here>\"\n",
        "# appKey = \"<Insert-App-Key-Here>\"\n",
        "\n",
        "## Conects to Thingworx\n",
        "oc.connectToThingworx(url, appKey)"
      ],
      "execution_count": null,
      "outputs": []
    },
    {
      "cell_type": "code",
      "metadata": {
        "id": "42G7LuOUutB3"
      },
      "source": [
        "import requests\n",
        "import json\n",
        "\n",
        "## Add your ThingWorx appKey and the URL to the Thing you want to get\n",
        "appKey = '<ThingWorx appKey here>'\n",
        "URL = 'https://pp-2101111403aw.portal.ptc.io/Thingworx/Things/MM_PLTW/Properties'\n",
        "headers = {\n",
        "        'appKey': appKey,\n",
        "        'accept': 'application/json',\n",
        "        'Content-Type':'application/json'\n",
        "    }\n",
        "response = requests.get(URL,headers=headers)\n",
        "FullResponse = json.dumps(response.json(), indent=4, sort_keys=True)\n",
        "\n",
        "#print(FullResponse) #this prints a well formatted version of the JSON response\n",
        "print(response.json()['rows'][0][propName]) #this prints just the value of your specified property"
      ],
      "execution_count": null,
      "outputs": []
    },
    {
      "cell_type": "markdown",
      "metadata": {
        "id": "NCt0d_XQUW6b"
      },
      "source": [
        "# 2.2 Thingworx - Get Fields Properties"
      ]
    },
    {
      "cell_type": "code",
      "metadata": {
        "id": "7YsFwISFUgEw"
      },
      "source": [
        "## Get current property values\n",
        "oc.thingworxGET(verbose=True)"
      ],
      "execution_count": null,
      "outputs": []
    },
    {
      "cell_type": "markdown",
      "metadata": {
        "id": "MSqkufS4Uz4l"
      },
      "source": [
        "# 2.3 Thingworx - Edit Properties"
      ]
    },
    {
      "cell_type": "code",
      "metadata": {
        "id": "OPhYfRf5UUVd"
      },
      "source": [
        "# Editing Thingworx Properties\n",
        "\n",
        "## Gets current property values\n",
        "properties = oc.thingworxGET(verbose=True)\n",
        "\n",
        "## Prompts the user to edit their configurations\n",
        "newProperties = oc.promptThings(properties)\n",
        "\n",
        "print(\"\\nProperties that will be changed:\")\n",
        "print(json.dumps(newProperties, indent=2), \"\\n\")\n",
        "\n",
        "## Makes API call to edit configurations\n",
        "statusCode = oc.thingworxPUT(newProperties)\n",
        "print(statusCode)\n",
        "## Note: Status code 200 means success!"
      ],
      "execution_count": null,
      "outputs": []
    },
    {
      "cell_type": "code",
      "metadata": {
        "id": "qkbGf1XLWPAq"
      },
      "source": [
        "# Manually Editting Properties (Redudent with cell above)\n",
        "\n",
        "## Check Property values\n",
        "oc.thingworxGET(verbose=True)\n",
        "\n",
        "## Example newProperties body (for the testThing) to be used with thingworxPut()\n",
        "newProperties = {\n",
        "    \"Second\": 180,\n",
        "    \"Minute\": 180,\n",
        "    \"Hour\": 180\n",
        "}\n",
        "\n",
        "## Makes API call to edit properties\n",
        "oc.thingworxPUT(newConfigs)\n",
        "\n",
        "## Check Property values\n",
        "oc.thingworxGET(verbose=True)"
      ],
      "execution_count": null,
      "outputs": []
    }
  ]
}