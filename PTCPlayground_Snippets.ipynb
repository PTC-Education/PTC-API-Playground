{
  "nbformat": 4,
  "nbformat_minor": 0,
  "metadata": {
    "colab": {
      "name": "Onshape Snippets.ipynb",
      "provenance": [],
      "collapsed_sections": [],
      "include_colab_link": true
    },
    "kernelspec": {
      "name": "python3",
      "display_name": "Python 3"
    }
  },
  "cells": [
    {
      "cell_type": "markdown",
      "metadata": {
        "id": "view-in-github",
        "colab_type": "text"
      },
      "source": [
        "<a href=\"https://colab.research.google.com/github/PTC-Education/PTC-Playground/blob/main/PTCPlayground_Snippets.ipynb\" target=\"_parent\"><img src=\"https://colab.research.google.com/assets/colab-badge.svg\" alt=\"Open In Colab\"/></a>"
      ]
    },
    {
      "cell_type": "markdown",
      "metadata": {
        "id": "Hxtz9dyNeXY7"
      },
      "source": [
        "# 0. PTC Education Snippets Overview\n",
        "1. Onshape API Library - a number of nicely formatted functions for interacting with Onshape's python API client\n",
        "2. Onshape Python Client - snippets for importing Onshape's python client and some sample API calls\n",
        "3. ThingWorx Connection - basic examples of using ThingWorx REST API to get and set properties, and call services"
      ]
    },
    {
      "cell_type": "markdown",
      "metadata": {
        "id": "COOE4In1LdPA"
      },
      "source": [
        "# 1.1 Onshape Library - Import Libraries\n",
        "The code below imports Python libraries from Github for interacting with Onshape's API"
      ]
    },
    {
      "cell_type": "code",
      "metadata": {
        "id": "spxcs5j2LEdg"
      },
      "source": [
        "# Github Installation and fresh requirements install\n",
        "\n",
        "!rm -r PTCColab\n",
        "## If this is your first time running this cell the output should be\n",
        "##   \"rm: cannot remove 'OnshapeColab': No such file or directory\"\n",
        "\n",
        "print(\"*** Installing git repo . . . ***\")\n",
        "!git clone https://github.com/PTC-Education/PTCColab\n",
        "\n",
        "print(\"\\n*** Installing external dependencies . . . ***\")\n",
        "!pip install -r PTCColab/requirements.txt\n",
        "\n",
        "print(\"\\n*** Repository and requirements installed sucessfully! ***\")\n",
        "\n",
        "# Connect to Onshape\n",
        "import PTCColab as oc"
      ],
      "execution_count": null,
      "outputs": []
    },
    {
      "cell_type": "markdown",
      "metadata": {
        "id": "-WgOMlUEf11j"
      },
      "source": [
        "# 1.2 Onshape Library - Set Params\n",
        "The code below allows you to connect to a specific Onshape document with API Keys at https://dev-portal.onshape.com/"
      ]
    },
    {
      "cell_type": "code",
      "metadata": {
        "id": "vRDRzYbDMbNj"
      },
      "source": [
        "## Document identifiers - Please input the document, workspace, and element ID from your desired Onshape documet like below\n",
        "\n",
        "### Clock (Public Test Document 1)\n",
        "# (https://cad.onshape.com/documents/d75bb6f0855244bdb3902141/w/2a59db92740eb894f3b29038/e/3bddbc17e620a65192e913f8)\n",
        "# workspace = \"https://cad.onshape.com\" ## Defaults to cad.onshape\n",
        "# did = \"d75bb6f0855244bdb3902141\"\n",
        "# wid = \"2a59db92740eb894f3b29038\"\n",
        "# eid = \"3bddbc17e620a65192e913f8\"\n",
        "\n",
        "### Translatiotion test (Public Test Document 2)\n",
        "# (https://cad.onshape.com/documents/0b15b64be5e54bc64d6fb3ff/w/8653864b34cbf101c1c0acb1/e/58703372dd872b5ec7f548a2)\n",
        "did = \"0b15b64be5e54bc64d6fb3ff\"\n",
        "wid = \"8653864b34cbf101c1c0acb1\"\n",
        "eid = \"58703372dd872b5ec7f548a2\"\n",
        "\n",
        "## Onshape API keys\n",
        "access =\"<Insert-Access-Key-Here>\"\n",
        "secret = \"<Insert-Secret-Key-Here>\"\n",
        "\n",
        "## Connects to Onshape API\n",
        "oc.connectToOnshape(did, wid, eid, access, secret, verbose=True)"
      ],
      "execution_count": null,
      "outputs": []
    },
    {
      "cell_type": "markdown",
      "metadata": {
        "id": "DUOmozvZRX5G"
      },
      "source": [
        "# 1.3 Onshape Library - Get Assembly Info"
      ]
    },
    {
      "cell_type": "code",
      "metadata": {
        "id": "8xFY70LILKnX",
        "colab": {
          "base_uri": "https://localhost:8080/"
        },
        "outputId": "1a26fcdd-47d0-411b-e317-779ecc7455e6"
      },
      "source": [
        "# Get Parts and Configurations\n",
        "\n",
        "## Gets Assembly (parts and positions) information\n",
        "## Note: Assembly info prints all the parts and sub assemblies!\n",
        "assemblyInfo = oc.getAssemblyInfo()\n",
        "oc.printAssembly(assemblyInfo, positions=True)\n",
        "\n",
        "## Gets Configurations\n",
        "configInfo = oc.getConfigurations()\n",
        "oc.printConfigurations(configInfo)"
      ],
      "execution_count": null,
      "outputs": [
        {
          "output_type": "stream",
          "text": [
            "Assembly Info:\n",
            "Key <1> (MpvhYOp6b7uAhogNf)\n",
            "\tTranslation (x, y, z): \t\t 0.75 \t -0.75 \t 0.0\n",
            "\tRotation (ux, uy, uz, alpha): \t 0.0 \t 0.0 \t 1.0 \t 90.0\n",
            "Plane <1> (MBY012YAYxL98d1Mo)\n",
            "\tTranslation (x, y, z): \t\t -0.75 \t -0.75 \t 0.0\n",
            "\tRotation (ux, uy, uz, alpha): \t 0 \t 0 \t 0 \t 0.0\n",
            "box <1> (MkbliODWwWA2T80sc)\n",
            "\tTranslation (x, y, z): \t\t 0.566 \t 0.887 \t 0.026\n",
            "\tRotation (ux, uy, uz, alpha): \t 0 \t 0 \t 0 \t 0.0\n",
            "\n",
            "There are no set configurations for this document.\n",
            "\n"
          ],
          "name": "stdout"
        }
      ]
    },
    {
      "cell_type": "markdown",
      "metadata": {
        "id": "YTDxpMiV4MPF"
      },
      "source": [
        "# 1.4 Onshape Library - Update Configuration Parameters\n",
        "This function updates the maximum and minimum values of a configuration parameter."
      ]
    },
    {
      "cell_type": "code",
      "metadata": {
        "colab": {
          "base_uri": "https://localhost:8080/",
          "height": 120
        },
        "id": "BhHO7Y0ekDoE",
        "outputId": "d72a525b-68a8-435b-f43e-74f7fc41e830"
      },
      "source": [
        "# Editing configurations\n",
        "import json\n",
        "\n",
        "## Prompts the user to edit their configurations\n",
        "newConfigs = oc.promptConfigurations(configInfo)\n",
        "\n",
        "print(\"\\nConfigurations that will be changed:\")\n",
        "print(json.dumps(newConfigs, indent=2), \"\\n\")\n",
        "\n",
        "## Makes API call to edit configurations\n",
        "oc.setConfigurations(newConfigs, configInfo)"
      ],
      "execution_count": null,
      "outputs": [
        {
          "output_type": "stream",
          "text": [
            "What Configurations do you want to edit?\n",
            "\n",
            "Configurations that will be changed:\n",
            "{} \n",
            "\n"
          ],
          "name": "stdout"
        },
        {
          "output_type": "execute_result",
          "data": {
            "application/vnd.google.colaboratory.intrinsic+json": {
              "type": "string"
            },
            "text/plain": [
              "'success'"
            ]
          },
          "metadata": {
            "tags": []
          },
          "execution_count": 5
        }
      ]
    },
    {
      "cell_type": "code",
      "metadata": {
        "id": "xCfa503xLCKj"
      },
      "source": [
        "# Manually Editting Configurations (Redudent with cell above)\n",
        "\n",
        "## Example newConfig body (for the clock demo) to be used with setConfigurations\n",
        "newConfigs = {\n",
        "    \"Rotation\": 0,\n",
        "    \"HourRotation\": 0,\n",
        "    \"SecondRotation\": 0\n",
        "}\n",
        "\n",
        "## Makes API call to edit configurations\n",
        "oc.setConfigurations(newConfigs, configInfo)"
      ],
      "execution_count": null,
      "outputs": []
    },
    {
      "cell_type": "markdown",
      "metadata": {
        "id": "lF98E_Xsq-31"
      },
      "source": [
        "# 1.5 Onshape - Get Global Transformations"
      ]
    },
    {
      "cell_type": "code",
      "metadata": {
        "colab": {
          "base_uri": "https://localhost:8080/"
        },
        "id": "IKTFqLV0rCi-",
        "outputId": "39763132-ec16-4b41-8619-8d6448fccd76"
      },
      "source": [
        "# Get Parts and Positions\n",
        "\n",
        "\n",
        "## Gets Assembly (parts and positions) information\n",
        "## Note: Assembly info prints all the parts and sub assemblies!\n",
        "assemblyInfo = oc.getAssemblyInfo()\n",
        "oc.printAssembly(assemblyInfo, positions=True)\n"
      ],
      "execution_count": null,
      "outputs": [
        {
          "output_type": "stream",
          "text": [
            "Assembly Info:\n",
            "Key <1> (MpvhYOp6b7uAhogNf)\n",
            "\tTranslation (x, y, z): \t\t 0.75 \t -0.75 \t 0.0\n",
            "\tRotation (ux, uy, uz, alpha): \t 0.0 \t 0.0 \t 1.0 \t 90.0\n",
            "Plane <1> (MBY012YAYxL98d1Mo)\n",
            "\tTranslation (x, y, z): \t\t -0.75 \t -0.75 \t 0.0\n",
            "\tRotation (ux, uy, uz, alpha): \t 0 \t 0 \t 0 \t 0.0\n",
            "box <1> (MkbliODWwWA2T80sc)\n",
            "\tTranslation (x, y, z): \t\t 0.566 \t 0.887 \t 0.026\n",
            "\tRotation (ux, uy, uz, alpha): \t 0 \t 0 \t 0 \t 0.0\n",
            "\n"
          ],
          "name": "stdout"
        }
      ]
    },
    {
      "cell_type": "markdown",
      "metadata": {
        "id": "6RtW70XTSQZN"
      },
      "source": [
        "# 1.6 Onshape - Set Transformation"
      ]
    },
    {
      "cell_type": "code",
      "metadata": {
        "id": "78lUiFPU-vML",
        "colab": {
          "base_uri": "https://localhost:8080/"
        },
        "outputId": "f43f9ca6-8c79-4c55-b163-d01b831b76e7"
      },
      "source": [
        "# Setting transformations\n",
        "# transArg = [tx, ty, tz, rx, ry, rz, alpha]\n",
        "transArg = [0, -.1, 0, 0, 0, 0, 0]\n",
        "\n",
        "## Automatic get Transformation Matrix (from transArg)\n",
        "M = oc.getTranslationMatrix(transArg)\n",
        "\n",
        "## Print your transformation\n",
        "oc.prettyPrintMatrix(M)"
      ],
      "execution_count": 4,
      "outputs": [
        {
          "output_type": "stream",
          "text": [
            "[\n",
            "   1.0\t   0.0\t   0.0\t   0\t\n",
            "   0.0\t   1.0\t   0.0\t   -0.1\t\n",
            "   0.0\t   0.0\t   1.0\t   0\t\n",
            "   0.0\t   0.0\t   0.0\t   1.0\t\n",
            "]\n"
          ],
          "name": "stdout"
        }
      ]
    },
    {
      "cell_type": "code",
      "metadata": {
        "id": "F-vpB_sW-7a0"
      },
      "source": [
        "## OR Manual setting of a Transformation Matrix\n",
        "M = [\n",
        "   1.0,     0.0,     0.0,     0  ,\n",
        "   0.0,     1.0,     0.0,     0.1,\n",
        "   0.0,     0.0,     1.0,     0  ,\n",
        "   0.0,     0.0,     0.0,     1.0\n",
        "]\n",
        "\n",
        "## Print your transformation\n",
        "oc.prettyPrintMatrix(M)\n",
        "\n",
        "## Double check your matrix! / TODO\n",
        "# oc.checkMatrix(M, verbose=True)"
      ],
      "execution_count": null,
      "outputs": []
    },
    {
      "cell_type": "code",
      "metadata": {
        "id": "RwxIwHDzP5-G"
      },
      "source": [
        "## Automatic Get parts list\n",
        "parts = oc.promptParts(assemblyInfo)"
      ],
      "execution_count": null,
      "outputs": []
    },
    {
      "cell_type": "code",
      "metadata": {
        "id": "yAKx564w_G2S"
      },
      "source": [
        "## Manual setting of parts list (Array of part ids (each part id is an array\n",
        "##   of part/subassembly ids)\n",
        "parts = [['MkbliODWwWA2T80sc']]"
      ],
      "execution_count": null,
      "outputs": []
    },
    {
      "cell_type": "code",
      "metadata": {
        "colab": {
          "base_uri": "https://localhost:8080/",
          "height": 35
        },
        "id": "n4zk6k4jQD4k",
        "outputId": "447c6a3c-09aa-4185-8dc4-b068aed345b0"
      },
      "source": [
        "## Boolean variable representing if a transform is relative\n",
        "isRelative = True\n",
        "\n",
        "## Make API Call\n",
        "oc.postTransform(M, isRelative, parts)"
      ],
      "execution_count": null,
      "outputs": [
        {
          "output_type": "execute_result",
          "data": {
            "application/vnd.google.colaboratory.intrinsic+json": {
              "type": "string"
            },
            "text/plain": [
              "'success'"
            ]
          },
          "metadata": {
            "tags": []
          },
          "execution_count": 12
        }
      ]
    },
    {
      "cell_type": "markdown",
      "metadata": {
        "id": "llfUXRhYWgXD"
      },
      "source": [
        "# 1.6.1 Matrix Math"
      ]
    },
    {
      "cell_type": "code",
      "metadata": {
        "id": "dnt1sC3jWsW3"
      },
      "source": [
        "M = [\n",
        "   1.0,     0.0,     0.0,     0  ,\n",
        "   0.0,     1.0,     0.0,     0.1,\n",
        "   0.0,     0.0,     1.0,     0  ,\n",
        "   0.0,     0.0,     0.0,     1.0\n",
        "]\n",
        "\n",
        "A = [\n",
        "   0.0,     0.0,     0.0,     0  ,\n",
        "   0.0,     0.0,     0.0,     0.1,\n",
        "   0.0,     0.0,     0.0,     0  ,\n",
        "   0.0,     0.0,     0.0,     1.0\n",
        "]\n",
        "\n",
        "\n",
        "## Matrix operations!\n",
        "B = oc.add(M, A)\n",
        "C = oc.multiply(M, A)\n",
        "\n",
        "## Print your transformation\n",
        "oc.prettyPrintMatrix(B)\n",
        "oc.prettyPrintMatrix(C)\n",
        "\n",
        "## Convert your new Matrix back into a transformation arg (tx, ty, tz, rx, ry, rz, w)\n",
        "oc.prettyPrintPosition(oc.decodeMatrix(B))\n",
        "oc.prettyPrintPosition(oc.decodeMatrix(C))"
      ],
      "execution_count": null,
      "outputs": []
    },
    {
      "cell_type": "code",
      "metadata": {
        "id": "SaxZv7W0XDDm"
      },
      "source": [
        "import numpy as np\n",
        "\n",
        "alpha = np.pi/2 \n",
        "\n",
        "## Rotate around X\n",
        "\n",
        "B = [\n",
        "   1.0,             0.0,             0.0,             0.0,\n",
        "   0.0,             np.cos(alpha),   -(np.sin(alpha)), 0.0,\n",
        "   0.0,             np.sin(alpha),   np.cos(alpha),   0.0,\n",
        "   0.0,             0.0,             0.0,             1.0\n",
        "]\n",
        "\n",
        "oc.prettyPrintMatrix(B)"
      ],
      "execution_count": null,
      "outputs": []
    },
    {
      "cell_type": "markdown",
      "metadata": {
        "id": "yVvF7aBnuOiI"
      },
      "source": [
        "# 2.1 ThingWorx - Connect to Thingworx"
      ]
    },
    {
      "cell_type": "code",
      "metadata": {
        "id": "yKGs2Ft4URSi"
      },
      "source": [
        "# Connect To Onshape\n",
        "\n",
        "## Thingworx properties\n",
        "url = \"<Insert-Url-Here>\"\n",
        "appKey = \"<Insert-App-Key-Here>\"\n",
        "\n",
        "## Conects to Thingworx\n",
        "oc.connectToThingworx(url, appKey)"
      ],
      "execution_count": null,
      "outputs": []
    },
    {
      "cell_type": "code",
      "metadata": {
        "id": "42G7LuOUutB3"
      },
      "source": [
        "import requests\n",
        "import json\n",
        "\n",
        "## Add your ThingWorx appKey and the URL to the Thing you want to get\n",
        "appKey = '<ThingWorx appKey here>'\n",
        "URL = 'https://pp-2101111403aw.portal.ptc.io/Thingworx/Things/MM_PLTW/Properties'\n",
        "headers = {\n",
        "        'appKey': appKey,\n",
        "        'accept': 'application/json',\n",
        "        'Content-Type':'application/json'\n",
        "    }\n",
        "response = requests.get(URL,headers=headers)\n",
        "FullResponse = json.dumps(response.json(), indent=4, sort_keys=True)\n",
        "\n",
        "#print(FullResponse) #this prints a well formatted version of the JSON response\n",
        "print(response.json()['rows'][0][propName]) #this prints just the value of your specified property"
      ],
      "execution_count": null,
      "outputs": []
    },
    {
      "cell_type": "markdown",
      "metadata": {
        "id": "NCt0d_XQUW6b"
      },
      "source": [
        "# 2.2 Thingworx - Get Fields Properties"
      ]
    },
    {
      "cell_type": "code",
      "metadata": {
        "id": "7YsFwISFUgEw"
      },
      "source": [
        "## Get current property values\n",
        "oc.thingworxGET(verbose=True)"
      ],
      "execution_count": null,
      "outputs": []
    },
    {
      "cell_type": "markdown",
      "metadata": {
        "id": "MSqkufS4Uz4l"
      },
      "source": [
        "# 2.3 Thingworx - Edit Properties"
      ]
    },
    {
      "cell_type": "code",
      "metadata": {
        "id": "OPhYfRf5UUVd"
      },
      "source": [
        "# Editing Thingworx Properties\n",
        "\n",
        "## Gets current property values\n",
        "properties = oc.thingworxGET(verbose=True)\n",
        "\n",
        "## Prompts the user to edit their configurations\n",
        "newProperties = oc.promptThings(properties)\n",
        "\n",
        "print(\"\\nProperties that will be changed:\")\n",
        "print(json.dumps(newProperties, indent=2), \"\\n\")\n",
        "\n",
        "## Makes API call to edit configurations\n",
        "statusCode = oc.thingworxPUT(newProperties)\n",
        "print(statusCode)\n",
        "## Note: Status code 200 means success!"
      ],
      "execution_count": null,
      "outputs": []
    },
    {
      "cell_type": "code",
      "metadata": {
        "id": "qkbGf1XLWPAq"
      },
      "source": [
        "# Manually Editting Properties (Redudent with cell above)\n",
        "\n",
        "## Check Property values\n",
        "oc.thingworxGET(verbose=True)\n",
        "\n",
        "## Example newProperties body (for the testThing) to be used with thingworxPut()\n",
        "newProperties = {\n",
        "    \"Second\": 180,\n",
        "    \"Minute\": 180,\n",
        "    \"Hour\": 180\n",
        "}\n",
        "\n",
        "## Makes API call to edit properties\n",
        "oc.thingworxPUT(newConfigs)\n",
        "\n",
        "## Check Property values\n",
        "oc.thingworxGET(verbose=True)"
      ],
      "execution_count": null,
      "outputs": []
    }
  ]
}