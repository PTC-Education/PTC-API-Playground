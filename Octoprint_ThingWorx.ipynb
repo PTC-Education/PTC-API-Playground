{
  "nbformat": 4,
  "nbformat_minor": 0,
  "metadata": {
    "colab": {
      "name": "Octoprint ThingWorx.ipynb",
      "provenance": [],
      "collapsed_sections": [],
      "toc_visible": true,
      "authorship_tag": "ABX9TyOhQ/jCz9sykYY7oSw5GFdb",
      "include_colab_link": true
    },
    "kernelspec": {
      "name": "python3",
      "display_name": "Python 3"
    },
    "language_info": {
      "name": "python"
    }
  },
  "cells": [
    {
      "cell_type": "markdown",
      "metadata": {
        "id": "view-in-github",
        "colab_type": "text"
      },
      "source": [
        "<a href=\"https://colab.research.google.com/github/PTC-Education/PTC-API-Playground/blob/main/Octoprint_ThingWorx.ipynb\" target=\"_parent\"><img src=\"https://colab.research.google.com/assets/colab-badge.svg\" alt=\"Open In Colab\"/></a>"
      ]
    },
    {
      "cell_type": "markdown",
      "metadata": {
        "id": "Y_JeiFoB6Ln2"
      },
      "source": [
        "# 0. Start a Local Runtime\n",
        "This is to allow you to interact with devices on your local network. [Instructions here](https://research.google.com/colaboratory/local-runtimes.html). Type the following into terminal, then copy the URL of the runtime into the connect panel in Colab."
      ]
    },
    {
      "cell_type": "code",
      "metadata": {
        "id": "TylMVjT86bdI"
      },
      "source": [
        "jupyter notebook \\\n",
        "  --NotebookApp.allow_origin='https://colab.research.google.com' \\\n",
        "  --port=8888 \\\n",
        "  --NotebookApp.port_retries=0\n"
      ],
      "execution_count": null,
      "outputs": []
    },
    {
      "cell_type": "markdown",
      "metadata": {
        "id": "QByQNTP1-qnY"
      },
      "source": [
        "# 1. Octoprint\n",
        "Must generate appKey from octoprint device connected to your printer. [Information about Octoprint's API can be found here](https://docs.octoprint.org/en/master/api/general.html)."
      ]
    },
    {
      "cell_type": "code",
      "metadata": {
        "id": "Qrtv8dQ43O1M"
      },
      "source": [
        "OPappKey = '<Octoprint-Appkey-Here>' # OctoPrint API Key\n",
        "TWappKey = '<ThingWorx-Appkey-Here>' #ThingWorx app key"
      ],
      "execution_count": null,
      "outputs": []
    },
    {
      "cell_type": "markdown",
      "metadata": {
        "id": "JPwZkNoUri4p"
      },
      "source": [
        "## Get printer info and send to TW\n",
        "Get bed and tool temps and target temps and sends them to a ThingWorx service with corresponding input names."
      ]
    },
    {
      "cell_type": "code",
      "metadata": {
        "id": "TDJIOJ3m3NCd",
        "colab": {
          "base_uri": "https://localhost:8080/"
        },
        "outputId": "a31060c1-5aaf-438a-aa44-fbf748081161"
      },
      "source": [
        "import requests\n",
        "import json\n",
        "import time\n",
        "\n",
        "base = \"http://octopi.local\"\n",
        "url = \"/api/printer\"\n",
        "\n",
        "payload=\"{}\"\n",
        "headers = {\n",
        "  'X-Api-Key': OPappKey,\n",
        "  'Content-Type': 'application/json',\n",
        "  'accept': 'application/json'\n",
        "}\n",
        "params = {}\n",
        "params = {'history':'false'}\n",
        "\n",
        "response = requests.request(\"GET\", base+url, params=params, headers=headers, data=payload)\n",
        "print(response)\n",
        "FullResponse = json.dumps(response.json(), indent=4, sort_keys=True)\n",
        "# print(FullResponse)\n",
        "\n",
        "BedTemp = response.json()['temperature']['bed']['actual']\n",
        "ToolTemp = response.json()['temperature']['tool0']['actual']\n",
        "BedTempTarget = response.json()['temperature']['bed']['target']\n",
        "ToolTempTarget = response.json()['temperature']['tool0']['target']\n",
        "\n",
        "propName = 'BedTemp'\n",
        "value = str(BedTemp)\n",
        "url = \"https://pp-2101111403aw.portal.ptc.io//Thingworx/Things/MM_Ender3/Services/PrinterTemps\" #end of URL should have the property name\n",
        "\n",
        "payload={\"BedTempIn\":BedTemp,\n",
        "        \"BedTempTargetIn\":BedTempTarget,\n",
        "        \"ToolTempIn\":ToolTemp,\n",
        "        \"ToolTempTargetIn\":ToolTempTarget}\n",
        "headers = {\n",
        "  'appKey': TWappKey,\n",
        "  'Content-Type': 'application/json'\n",
        "}\n",
        "\n",
        "response = requests.request(\"POST\", url, headers=headers, data=json.dumps(payload))\n",
        "print(response)\n"
      ],
      "execution_count": null,
      "outputs": [
        {
          "output_type": "stream",
          "text": [
            "<Response [200]>\n",
            "{\n",
            "    \"sd\": {\n",
            "        \"ready\": false\n",
            "    },\n",
            "    \"state\": {\n",
            "        \"flags\": {\n",
            "            \"cancelling\": false,\n",
            "            \"closedOrError\": false,\n",
            "            \"error\": false,\n",
            "            \"finishing\": false,\n",
            "            \"operational\": true,\n",
            "            \"paused\": false,\n",
            "            \"pausing\": false,\n",
            "            \"printing\": false,\n",
            "            \"ready\": true,\n",
            "            \"resuming\": false,\n",
            "            \"sdReady\": false\n",
            "        },\n",
            "        \"text\": \"Operational\"\n",
            "    },\n",
            "    \"temperature\": {\n",
            "        \"bed\": {\n",
            "            \"actual\": 25.91,\n",
            "            \"offset\": 0,\n",
            "            \"target\": 0.0\n",
            "        },\n",
            "        \"tool0\": {\n",
            "            \"actual\": 26.14,\n",
            "            \"offset\": 0,\n",
            "            \"target\": 0.0\n",
            "        }\n",
            "    }\n",
            "}\n",
            "<Response [200]>\n"
          ],
          "name": "stdout"
        }
      ]
    },
    {
      "cell_type": "markdown",
      "metadata": {
        "id": "yV2kzA2NrVde"
      },
      "source": [
        "loop for doing the above"
      ]
    },
    {
      "cell_type": "code",
      "metadata": {
        "id": "cBDyriOZ7dPd"
      },
      "source": [
        "import requests\n",
        "import json\n",
        "import time\n",
        "i = 0\n",
        "while True:\n",
        "\n",
        "  base = \"http://octopi.local\"\n",
        "  url = \"/api/printer\"\n",
        "\n",
        "  payload=\"{}\"\n",
        "  headers = {\n",
        "    'X-Api-Key': OPappKey,\n",
        "    'Content-Type': 'application/json',\n",
        "    'accept': 'application/json'\n",
        "  }\n",
        "  params = {}\n",
        "  params = {'history':'false'}\n",
        "\n",
        "  response = requests.request(\"GET\", base+url, params=params, headers=headers, data=payload)\n",
        "  print(response)\n",
        "  FullResponse = json.dumps(response.json(), indent=4, sort_keys=True)\n",
        "  # print(FullResponse)\n",
        "\n",
        "  BedTemp = response.json()['temperature']['bed']['actual']\n",
        "  ToolTemp = response.json()['temperature']['tool0']['actual']\n",
        "  BedTempTarget = response.json()['temperature']['bed']['target']\n",
        "  ToolTempTarget = response.json()['temperature']['tool0']['target']\n",
        "\n",
        "  propName = 'BedTemp'\n",
        "  value = str(BedTemp)\n",
        "  url = \"https://pp-2101111403aw.portal.ptc.io//Thingworx/Things/MM_Ender3/Services/PrinterTemps\" #end of URL should have the property name\n",
        "\n",
        "  payload={\"BedTempIn\":BedTemp,\n",
        "          \"BedTempTargetIn\":BedTempTarget,\n",
        "          \"ToolTempIn\":ToolTemp,\n",
        "          \"ToolTempTargetIn\":ToolTempTarget}\n",
        "  headers = {\n",
        "    'appKey': TWappKey,\n",
        "    'Content-Type': 'application/json'\n",
        "  }\n",
        "\n",
        "  response = requests.request(\"POST\", url, headers=headers, data=json.dumps(payload))\n",
        "  print(response)\n",
        "\n",
        "  time.sleep(5)\n",
        "  i+=1\n",
        "  print(i)\n"
      ],
      "execution_count": null,
      "outputs": []
    },
    {
      "cell_type": "markdown",
      "metadata": {
        "id": "jAClRmubrdH8"
      },
      "source": [
        "## Home printer"
      ]
    },
    {
      "cell_type": "code",
      "metadata": {
        "id": "Lg8fIQ6xQriU"
      },
      "source": [
        "import requests\n",
        "import json\n",
        "\n",
        "base = \"http://octopi.local\"\n",
        "url = \"/api/printer/printhead\"\n",
        "\n",
        "payload={\n",
        "    \"command\":\"home\",\n",
        "    \"axes\": [\"x\", \"y\"]\n",
        "}\n",
        "headers = {\n",
        "  'X-Api-Key': OPappKey,\n",
        "  'Content-Type': 'application/json',\n",
        "  'accept': 'application/json'\n",
        "}\n",
        "\n",
        "response = requests.request(\"POST\", base+url, headers=headers, data=json.dumps(payload))\n",
        "try:\n",
        "  FullResponse = json.dumps(response.json(), indent=4, sort_keys=True)\n",
        "except:\n",
        "  print(response)\n",
        "print(FullResponse)\n"
      ],
      "execution_count": null,
      "outputs": []
    },
    {
      "cell_type": "markdown",
      "metadata": {
        "id": "SPIpcvam3H3v"
      },
      "source": [
        "## Start Print"
      ]
    },
    {
      "cell_type": "code",
      "metadata": {
        "id": "s0xC-83Y3KVE",
        "colab": {
          "base_uri": "https://localhost:8080/",
          "height": 215
        },
        "outputId": "a2d702d3-270d-4c0f-a858-fbbe5313c983"
      },
      "source": [
        "import requests\n",
        "import json\n",
        "\n",
        "base = \"http://octopi.local\"\n",
        "url = \"/api/files/local/Top-Camera.gcode\"\n",
        "\n",
        "payload={\n",
        "  \"command\": \"select\",\n",
        "  \"print\": True\n",
        "}\n",
        "\n",
        "headers = {\n",
        "  'X-Api-Key': OPappKey,\n",
        "  'Content-Type': 'application/json',\n",
        "  'accept': 'application/json'\n",
        "}\n",
        "\n",
        "response = requests.request(\"POST\", base+url, headers=headers, data=json.dumps(payload))\n",
        "try:\n",
        "  FullResponse = json.dumps(response.json(), indent=4, sort_keys=True)\n",
        "except:\n",
        "  print(response)\n",
        "print(FullResponse)"
      ],
      "execution_count": null,
      "outputs": [
        {
          "output_type": "stream",
          "text": [
            "<Response [204]>\n"
          ],
          "name": "stdout"
        },
        {
          "output_type": "error",
          "ename": "NameError",
          "evalue": "ignored",
          "traceback": [
            "\u001b[0;31m---------------------------------------------------------------------------\u001b[0m",
            "\u001b[0;31mNameError\u001b[0m                                 Traceback (most recent call last)",
            "\u001b[0;32m<ipython-input-5-defffbce77df>\u001b[0m in \u001b[0;36m<module>\u001b[0;34m\u001b[0m\n\u001b[1;32m     21\u001b[0m \u001b[0;32mexcept\u001b[0m\u001b[0;34m:\u001b[0m\u001b[0;34m\u001b[0m\u001b[0;34m\u001b[0m\u001b[0m\n\u001b[1;32m     22\u001b[0m   \u001b[0mprint\u001b[0m\u001b[0;34m(\u001b[0m\u001b[0mresponse\u001b[0m\u001b[0;34m)\u001b[0m\u001b[0;34m\u001b[0m\u001b[0;34m\u001b[0m\u001b[0m\n\u001b[0;32m---> 23\u001b[0;31m \u001b[0mprint\u001b[0m\u001b[0;34m(\u001b[0m\u001b[0mFullResponse\u001b[0m\u001b[0;34m)\u001b[0m\u001b[0;34m\u001b[0m\u001b[0;34m\u001b[0m\u001b[0m\n\u001b[0m",
            "\u001b[0;31mNameError\u001b[0m: name 'FullResponse' is not defined"
          ]
        }
      ]
    },
    {
      "cell_type": "markdown",
      "metadata": {
        "id": "TvUMspmF5Qp3"
      },
      "source": [
        "## Stop Job"
      ]
    },
    {
      "cell_type": "code",
      "metadata": {
        "colab": {
          "base_uri": "https://localhost:8080/"
        },
        "id": "oInE9W-w5SHk",
        "outputId": "30cc13f0-f961-497c-93fa-fe3a3eeec5d3"
      },
      "source": [
        "base = \"http://octopi.local\"\n",
        "url = \"/api/job\"\n",
        "\n",
        "payload = {\n",
        "  \"command\": \"cancel\"\n",
        "}\n",
        "\n",
        "headers = {\n",
        "  'X-Api-Key': OPappKey,\n",
        "  'Content-Type': 'application/json',\n",
        "  'accept': 'application/json'\n",
        "}\n",
        "\n",
        "response = requests.request(\"POST\", base+url, headers=headers, data=json.dumps(payload))\n",
        "try:\n",
        "  FullResponse = json.dumps(response.json(), indent=4, sort_keys=True)\n",
        "except:\n",
        "  print(response)\n",
        "print(FullResponse)"
      ],
      "execution_count": null,
      "outputs": [
        {
          "output_type": "stream",
          "text": [
            "<Response [204]>\n",
            "{\n",
            "    \"sd\": {\n",
            "        \"ready\": false\n",
            "    },\n",
            "    \"state\": {\n",
            "        \"flags\": {\n",
            "            \"cancelling\": false,\n",
            "            \"closedOrError\": false,\n",
            "            \"error\": false,\n",
            "            \"finishing\": false,\n",
            "            \"operational\": true,\n",
            "            \"paused\": false,\n",
            "            \"pausing\": false,\n",
            "            \"printing\": true,\n",
            "            \"ready\": false,\n",
            "            \"resuming\": false,\n",
            "            \"sdReady\": false\n",
            "        },\n",
            "        \"text\": \"Printing\"\n",
            "    },\n",
            "    \"temperature\": {\n",
            "        \"bed\": {\n",
            "            \"actual\": 69.69,\n",
            "            \"offset\": 0,\n",
            "            \"target\": 70.0\n",
            "        },\n",
            "        \"tool0\": {\n",
            "            \"actual\": 210.0,\n",
            "            \"offset\": 0,\n",
            "            \"target\": 210.0\n",
            "        }\n",
            "    }\n",
            "}\n"
          ],
          "name": "stdout"
        }
      ]
    },
    {
      "cell_type": "markdown",
      "metadata": {
        "id": "LaeN4cesBB7r"
      },
      "source": [
        "## Get Image and Send to TW"
      ]
    },
    {
      "cell_type": "code",
      "metadata": {
        "colab": {
          "base_uri": "https://localhost:8080/"
        },
        "id": "9KNgsJcjBE-j",
        "outputId": "2b12fa1a-925e-48a6-8fa9-76461d4a28cc"
      },
      "source": [
        "from IPython.display import Image\n",
        "import urllib.request\n",
        "import base64\n",
        "import json\n",
        "import requests\n",
        "\n",
        "urllib.request.urlretrieve(\"http://octopi.local/webcam/?action=snapshot\", './Documents/image.jpg')\n",
        "Image('./Documents/image.jpg')\n",
        "\n",
        "with open('./Documents/image.jpg', \"rb\") as image_file:\n",
        "    encoded_string = base64.b64encode(image_file.read())\n",
        "\n",
        "imgEncodedString = str(encoded_string)\n",
        "imgString = imgEncodedString.split(\"'\",1)[1]\n",
        "# print(imgString)\n",
        "url = \"https://pp-2101111403aw.portal.ptc.io//Thingworx/Things/MM_Ender3/Properties/webcamSnapshot\" #end of URL should have the property name\n",
        "\n",
        "payload=json.dumps({\"webcamSnapshot\":imgString})\n",
        "headers = {\n",
        "  'appKey': TWappKey,\n",
        "  'Content-Type': 'application/json'\n",
        "}\n",
        "\n",
        "response = requests.request(\"PUT\", url, headers=headers, data=payload)\n",
        "\n",
        "print(response)\n"
      ],
      "execution_count": null,
      "outputs": [
        {
          "output_type": "stream",
          "text": [
            "<Response [200]>\n"
          ],
          "name": "stdout"
        }
      ]
    },
    {
      "cell_type": "markdown",
      "metadata": {
        "id": "GPNeaUCemW_f"
      },
      "source": [
        "## Function for sending temp and image"
      ]
    },
    {
      "cell_type": "code",
      "metadata": {
        "id": "dTizqUdamZLy"
      },
      "source": [
        "import requests\n",
        "import json\n",
        "import time\n",
        "from IPython.display import Image\n",
        "import urllib.request\n",
        "import base64\n",
        "\n",
        "def OctoPrintTW():\n",
        "  base = \"http://octopi.local\"\n",
        "  url = \"/api/printer\"\n",
        "\n",
        "  payload=\"{}\"\n",
        "  headers = {\n",
        "    'X-Api-Key': OPappKey,\n",
        "    'Content-Type': 'application/json',\n",
        "    'accept': 'application/json'\n",
        "  }\n",
        "  params = {}\n",
        "  params = {'history':'false'}\n",
        "\n",
        "  response = requests.request(\"GET\", base+url, params=params, headers=headers, data=payload)\n",
        "  print(response)\n",
        "  FullResponse = json.dumps(response.json(), indent=4, sort_keys=True)\n",
        "  # print(FullResponse)\n",
        "\n",
        "  BedTemp = response.json()['temperature']['bed']['actual']\n",
        "  ToolTemp = response.json()['temperature']['tool0']['actual']\n",
        "  BedTempTarget = response.json()['temperature']['bed']['target']\n",
        "  ToolTempTarget = response.json()['temperature']['tool0']['target']\n",
        "\n",
        "  urllib.request.urlretrieve(\"http://octopi.local/webcam/?action=snapshot\", './Documents/image.jpg')\n",
        "  Image('./Documents/image.jpg')\n",
        "\n",
        "  with open('./Documents/image.jpg', \"rb\") as image_file:\n",
        "      encoded_string = base64.b64encode(image_file.read())\n",
        "\n",
        "  imgEncodedString = str(encoded_string)\n",
        "  imgString = imgEncodedString.split(\"'\",1)[1]\n",
        "\n",
        "  url = \"https://pp-2101111403aw.portal.ptc.io//Thingworx/Things/MM_Ender3/Services/PrinterTemps\" #end of URL should have the property name\n",
        "\n",
        "  payload={\"BedTempIn\":BedTemp,\n",
        "          \"BedTempTargetIn\":BedTempTarget,\n",
        "          \"ToolTempIn\":ToolTemp,\n",
        "          \"ToolTempTargetIn\":ToolTempTarget,\n",
        "           \"SnapshotIn\":imgString}\n",
        "  headers = {\n",
        "    'appKey': TWappKey,\n",
        "    'Content-Type': 'application/json'\n",
        "  }\n",
        "\n",
        "  response = requests.request(\"POST\", url, headers=headers, data=json.dumps(payload))\n",
        "  print(response)"
      ],
      "execution_count": null,
      "outputs": []
    },
    {
      "cell_type": "code",
      "metadata": {
        "id": "46wAfv3znBiK"
      },
      "source": [
        "i=0\n",
        "while True:\n",
        "  OctoPrintTW()\n",
        "  time.sleep(10)\n",
        "  i+=1\n",
        "  print(i)"
      ],
      "execution_count": null,
      "outputs": []
    },
    {
      "cell_type": "markdown",
      "metadata": {
        "id": "Glsv2Ue7WrdL"
      },
      "source": [
        "# Upload GCODE"
      ]
    },
    {
      "cell_type": "code",
      "metadata": {
        "id": "s6SAib20WuX3"
      },
      "source": [
        "import requests\n",
        "import asyncio\n",
        "import json\n",
        "import sys\n",
        "import binascii\n",
        "import os\n",
        "\n",
        "apiKey = 'your api-key goes here'\n",
        "\n",
        "# Create a random/unique boundary parameter for separating fields in\n",
        "boundary = binascii.hexlify(os.urandom(16)).decode('ascii')\n",
        "\n",
        "# File properties are defined below\n",
        "name = \"file\"\n",
        "filename = \"whistle_v2.gcode\"\n",
        "gcode = \"M109 TO S220.00000\\r\\nTO\\r\\nG21\\r\\nG90\\r\\n\"\n",
        "\n",
        "# Create the multipart/form-data request body\n",
        "body = (\n",
        "     \"\".join(\"--%s\\r\\n\"\n",
        "             \"Content-Disposition: form-data; name=\\\"%s\\\"; filename=\\\"%s\\\"\\r\\n\"\n",
        "             \"Content-Type: application/octet-stream\\r\\n\"\n",
        "             \"\\r\\n\"\n",
        "             \"%s\\r\\n\" % (boundary, name, filename, gcode)) +\n",
        "         \"--%s--\\r\\n\" % boundary\n",
        "    )\n",
        "\n",
        "content_type = \"multipart/form-data; boundary=%s\" % boundary\n",
        "\n",
        "base = 'http://octopi.local'\n",
        "url = '/api/files/local'\n",
        "\n",
        "# Establish headers for POST call\n",
        "headers = {\n",
        "    'X-Api-Key': apiKey,\n",
        "    'Content-Type': content_type,\n",
        "    'Content-Length': str(sys.getsizeof(body))\n",
        "    }\n",
        "\n",
        "payload = body\n",
        "\n",
        "params = {}\n",
        "\n",
        "response = requests.request(\"POST\", base+url, params=params, headers=headers, data=payload)\n"
      ],
      "execution_count": null,
      "outputs": []
    },
    {
      "cell_type": "markdown",
      "metadata": {
        "id": "6lTWq8OAWvJN"
      },
      "source": [
        "# Create New Folder"
      ]
    },
    {
      "cell_type": "code",
      "metadata": {
        "id": "LZHBVT_UWzCS"
      },
      "source": [
        "import requests\n",
        "import sys\n",
        "import os\n",
        "import binascii\n",
        "\n",
        "\n",
        "apiKey = 'your api-key here'\n",
        "\n",
        "# Create a random/unique boundary parameter for separating fields in \n",
        "boundary = binascii.hexlify(os.urandom(16)).decode('ascii')\n",
        "\n",
        "# Establishes the fields for the body of the request\n",
        "\n",
        "# I.e. \n",
        "# a new folder with foldername, subfolder, with path, base+url+folder/subfolder\n",
        "fields = {\"foldername\":\"subfolder\", \"path\":\"folder/\"}\n",
        "\n",
        "# Create the multipart/form-data request body\n",
        "body = (\n",
        "    \"\".join(\"--%s\\r\\n\"\n",
        "            \"Content-Disposition: form-data; name=\\\"%s\\\"\\r\\n\"\n",
        "            \"\\r\\n\"\n",
        "            \"%s\\r\\n\" % (boundary, field, value)\n",
        "            for field, value in fields.items()) + \n",
        "            \"--%s--\\r\\n\" % boundary\n",
        ")\n",
        "\n",
        "content_type = \"multipart/form-data; boundary=%s\" % boundary\n",
        "\n",
        "base = 'http://octopi.local'\n",
        "url = '/api/files/local'\n",
        "\n",
        "# Establish headers for POST call\n",
        "headers ={\n",
        "    'X-Api-Key' : apiKey,\n",
        "    'Content-Type' : content_type,\n",
        "    'Content-Length' : str(sys.getsizeof(body))\n",
        "}\n",
        "\n",
        "payload = body\n",
        "\n",
        "params = {}\n",
        "\n",
        "response = requests.request(\"POST\", base+url, params=params, headers=headers, data=payload)"
      ],
      "execution_count": null,
      "outputs": []
    }
  ]
}