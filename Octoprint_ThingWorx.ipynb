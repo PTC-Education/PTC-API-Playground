{
  "nbformat": 4,
  "nbformat_minor": 0,
  "metadata": {
    "colab": {
      "name": "Octoprint ThingWorx.ipynb",
      "provenance": [],
      "collapsed_sections": [],
      "authorship_tag": "ABX9TyPJPYgawFz+usdqUN54Rc1/",
      "include_colab_link": true
    },
    "kernelspec": {
      "name": "python3",
      "display_name": "Python 3"
    },
    "language_info": {
      "name": "python"
    }
  },
  "cells": [
    {
      "cell_type": "markdown",
      "metadata": {
        "id": "view-in-github",
        "colab_type": "text"
      },
      "source": [
        "<a href=\"https://colab.research.google.com/github/PTC-Education/PTC-API-Playground/blob/main/Octoprint_ThingWorx.ipynb\" target=\"_parent\"><img src=\"https://colab.research.google.com/assets/colab-badge.svg\" alt=\"Open In Colab\"/></a>"
      ]
    },
    {
      "cell_type": "markdown",
      "metadata": {
        "id": "Y_JeiFoB6Ln2"
      },
      "source": [
        "# 0. Start a Local Runtime\n",
        "This is to allow you to interact with devices on your local network. [Instructions here](https://research.google.com/colaboratory/local-runtimes.html). Type the following into terminal, then copy the URL of the runtime into the connect panel in Colab."
      ]
    },
    {
      "cell_type": "code",
      "metadata": {
        "id": "TylMVjT86bdI"
      },
      "source": [
        "jupyter notebook \\\n",
        "  --NotebookApp.allow_origin='https://colab.research.google.com' \\\n",
        "  --port=8888 \\\n",
        "  --NotebookApp.port_retries=0\n"
      ],
      "execution_count": null,
      "outputs": []
    },
    {
      "cell_type": "markdown",
      "metadata": {
        "id": "QByQNTP1-qnY"
      },
      "source": [
        "# 1. Octoprint\n",
        "Must generate appKey from octoprint device connected to your printer. [Information about Octoprint's API can be found here](https://docs.octoprint.org/en/master/api/general.html)."
      ]
    },
    {
      "cell_type": "markdown",
      "metadata": {
        "id": "JPwZkNoUri4p"
      },
      "source": [
        "## Get printer info\n",
        "Get bed and tool temps and target temps and sends them to a ThingWorx service with corresponding input names."
      ]
    },
    {
      "cell_type": "code",
      "metadata": {
        "id": "TDJIOJ3m3NCd"
      },
      "source": [
        "import requests\n",
        "import json\n",
        "import time\n",
        "\n",
        "appKey = '123456D8064BA88EBA32EF4EE156'\n",
        "\n",
        "base = \"http://octopi.local\"\n",
        "url = \"/api/printer\"\n",
        "\n",
        "payload=\"{}\"\n",
        "headers = {\n",
        "  'X-Api-Key': appKey,\n",
        "  'Content-Type': 'application/json',\n",
        "  'accept': 'application/json'\n",
        "}\n",
        "params = {}\n",
        "params = {'history':'false'}\n",
        "\n",
        "response = requests.request(\"GET\", base+url, params=params, headers=headers, data=payload)\n",
        "print(response)\n",
        "FullResponse = json.dumps(response.json(), indent=4, sort_keys=True)\n",
        "print(FullResponse)\n",
        "\n",
        "BedTemp = response.json()['temperature']['bed']['actual']\n",
        "ToolTemp = response.json()['temperature']['tool0']['actual']\n",
        "BedTempTarget = response.json()['temperature']['bed']['target']\n",
        "ToolTempTarget = response.json()['temperature']['tool0']['target']\n",
        "\n",
        "\n",
        "appKey = '<ThingWorx-appkey-here>'\n",
        "propName = 'BedTemp'\n",
        "value = str(BedTemp)\n",
        "url = \"https://pp-12345abc.portal.ptc.io/Thingworx/Things/MM_Ender3/Services/PrinterTemps\" #end of URL should have the property name\n",
        "\n",
        "payload={\"BedTempIn\":BedTemp,\n",
        "        \"BedTempTargetIn\":BedTempTarget,\n",
        "        \"ToolTempIn\":ToolTemp,\n",
        "        \"ToolTempTargetIn\":ToolTempTarget}\n",
        "headers = {\n",
        "  'appKey': appKey,\n",
        "  'Content-Type': 'application/json'\n",
        "}\n",
        "\n",
        "response = requests.request(\"POST\", url, headers=headers, data=json.dumps(payload))\n",
        "print(response)\n"
      ],
      "execution_count": null,
      "outputs": []
    },
    {
      "cell_type": "markdown",
      "metadata": {
        "id": "yV2kzA2NrVde"
      },
      "source": [
        "loop for doing the above"
      ]
    },
    {
      "cell_type": "code",
      "metadata": {
        "id": "cBDyriOZ7dPd"
      },
      "source": [
        "import requests\n",
        "import json\n",
        "import time\n",
        "i = 0\n",
        "while True:\n",
        "\n",
        "  appKey = '12345E9CD44FDC90DFD0E611323981'\n",
        "\n",
        "  base = \"http://octopi.local\"\n",
        "  url = \"/api/printer\"\n",
        "\n",
        "  payload=\"{}\"\n",
        "  headers = {\n",
        "    'X-Api-Key': appKey,\n",
        "    'Content-Type': 'application/json',\n",
        "    'accept': 'application/json'\n",
        "  }\n",
        "  params = {}\n",
        "  # params = {'history':'true'}\n",
        "\n",
        "  response = requests.request(\"GET\", base+url, params=params, headers=headers, data=payload)\n",
        "  FullResponse = json.dumps(response.json(), indent=4, sort_keys=True)\n",
        "  print(FullResponse)\n",
        "  BedTemp = response.json()['temperature']['bed']['actual']\n",
        "  ToolTemp = response.json()['temperature']['tool0']['actual']\n",
        "  BedTempTarget = response.json()['temperature']['bed']['target']\n",
        "  ToolTempTarget = response.json()['temperature']['tool0']['target']\n",
        "\n",
        "\n",
        "  appKey = '170d2fcc-6d77-49c1-a8ae-e43eef4e9017'\n",
        "  propName = 'BedTemp'\n",
        "  value = str(BedTemp)\n",
        "  url = \"https://pp-2101111403aw.portal.ptc.io/Thingworx/Things/MM_Ender3/Services/PrinterTemps\" #end of URL should have the property name\n",
        "\n",
        "  payload={\"BedTempIn\":BedTemp,\n",
        "          \"BedTempTargetIn\":BedTempTarget,\n",
        "          \"ToolTempIn\":ToolTemp,\n",
        "          \"ToolTempTargetIn\":ToolTempTarget}\n",
        "  headers = {\n",
        "    'appKey': appKey,\n",
        "    'Content-Type': 'application/json'\n",
        "  }\n",
        "\n",
        "  response = requests.request(\"POST\", url, headers=headers, data=json.dumps(payload))\n",
        "  print(response)\n",
        "\n",
        "  time.sleep(5)\n",
        "  i+=1\n",
        "  print(i)\n"
      ],
      "execution_count": null,
      "outputs": []
    },
    {
      "cell_type": "markdown",
      "metadata": {
        "id": "jAClRmubrdH8"
      },
      "source": [
        "## Home printer"
      ]
    },
    {
      "cell_type": "code",
      "metadata": {
        "id": "Lg8fIQ6xQriU"
      },
      "source": [
        "import requests\n",
        "import json\n",
        "\n",
        "appKey = '12345D44FDC90DFD0E611323981'\n",
        "\n",
        "base = \"http://octopi.local\"\n",
        "url = \"/api/printer/printhead\"\n",
        "\n",
        "payload={\n",
        "    \"command\":\"home\",\n",
        "    \"axes\": [\"x\", \"y\"]\n",
        "}\n",
        "headers = {\n",
        "  'X-Api-Key': appKey,\n",
        "  'Content-Type': 'application/json',\n",
        "  'accept': 'application/json'\n",
        "}\n",
        "\n",
        "response = requests.request(\"POST\", base+url, headers=headers, data=json.dumps(payload))\n",
        "try:\n",
        "  FullResponse = json.dumps(response.json(), indent=4, sort_keys=True)\n",
        "except:\n",
        "  print(response)\n",
        "print(FullResponse)\n"
      ],
      "execution_count": null,
      "outputs": []
    }
  ]
}