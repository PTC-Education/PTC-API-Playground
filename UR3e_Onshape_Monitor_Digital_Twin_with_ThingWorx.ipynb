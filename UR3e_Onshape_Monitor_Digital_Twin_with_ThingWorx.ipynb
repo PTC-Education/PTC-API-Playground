{
  "nbformat": 4,
  "nbformat_minor": 0,
  "metadata": {
    "colab": {
      "name": "UR3e Onshape Monitor Digital Twin with ThingWorx",
      "provenance": [],
      "authorship_tag": "ABX9TyOisFvrnSj+t/sH4bOu+4Ja",
      "include_colab_link": true
    },
    "kernelspec": {
      "name": "python3",
      "display_name": "Python 3"
    },
    "language_info": {
      "name": "python"
    }
  },
  "cells": [
    {
      "cell_type": "markdown",
      "metadata": {
        "id": "view-in-github",
        "colab_type": "text"
      },
      "source": [
        "<a href=\"https://colab.research.google.com/github/PTC-Education/PTC-API-Playground/blob/main/UR3e_Onshape_Monitor_Digital_Twin_with_ThingWorx.ipynb\" target=\"_parent\"><img src=\"https://colab.research.google.com/assets/colab-badge.svg\" alt=\"Open In Colab\"/></a>"
      ]
    },
    {
      "cell_type": "markdown",
      "metadata": {
        "id": "VzjOfoomQYhn"
      },
      "source": [
        "# Setup"
      ]
    },
    {
      "cell_type": "code",
      "metadata": {
        "id": "o24jO_N_2yLl"
      },
      "source": [
        "!pip install onshape-client\n",
        "from onshape_client.client import Client\n",
        "import json\n",
        "base = 'https://cad.onshape.com' # change this if you're using a document in an enterprise (i.e. \"https://ptc.onshape.com\")"
      ],
      "execution_count": null,
      "outputs": []
    },
    {
      "cell_type": "code",
      "metadata": {
        "colab": {
          "resources": {
            "http://localhost:8080/nbextensions/google.colab/files.js": {
              "data": "Ly8gQ29weXJpZ2h0IDIwMTcgR29vZ2xlIExMQwovLwovLyBMaWNlbnNlZCB1bmRlciB0aGUgQXBhY2hlIExpY2Vuc2UsIFZlcnNpb24gMi4wICh0aGUgIkxpY2Vuc2UiKTsKLy8geW91IG1heSBub3QgdXNlIHRoaXMgZmlsZSBleGNlcHQgaW4gY29tcGxpYW5jZSB3aXRoIHRoZSBMaWNlbnNlLgovLyBZb3UgbWF5IG9idGFpbiBhIGNvcHkgb2YgdGhlIExpY2Vuc2UgYXQKLy8KLy8gICAgICBodHRwOi8vd3d3LmFwYWNoZS5vcmcvbGljZW5zZXMvTElDRU5TRS0yLjAKLy8KLy8gVW5sZXNzIHJlcXVpcmVkIGJ5IGFwcGxpY2FibGUgbGF3IG9yIGFncmVlZCB0byBpbiB3cml0aW5nLCBzb2Z0d2FyZQovLyBkaXN0cmlidXRlZCB1bmRlciB0aGUgTGljZW5zZSBpcyBkaXN0cmlidXRlZCBvbiBhbiAiQVMgSVMiIEJBU0lTLAovLyBXSVRIT1VUIFdBUlJBTlRJRVMgT1IgQ09ORElUSU9OUyBPRiBBTlkgS0lORCwgZWl0aGVyIGV4cHJlc3Mgb3IgaW1wbGllZC4KLy8gU2VlIHRoZSBMaWNlbnNlIGZvciB0aGUgc3BlY2lmaWMgbGFuZ3VhZ2UgZ292ZXJuaW5nIHBlcm1pc3Npb25zIGFuZAovLyBsaW1pdGF0aW9ucyB1bmRlciB0aGUgTGljZW5zZS4KCi8qKgogKiBAZmlsZW92ZXJ2aWV3IEhlbHBlcnMgZm9yIGdvb2dsZS5jb2xhYiBQeXRob24gbW9kdWxlLgogKi8KKGZ1bmN0aW9uKHNjb3BlKSB7CmZ1bmN0aW9uIHNwYW4odGV4dCwgc3R5bGVBdHRyaWJ1dGVzID0ge30pIHsKICBjb25zdCBlbGVtZW50ID0gZG9jdW1lbnQuY3JlYXRlRWxlbWVudCgnc3BhbicpOwogIGVsZW1lbnQudGV4dENvbnRlbnQgPSB0ZXh0OwogIGZvciAoY29uc3Qga2V5IG9mIE9iamVjdC5rZXlzKHN0eWxlQXR0cmlidXRlcykpIHsKICAgIGVsZW1lbnQuc3R5bGVba2V5XSA9IHN0eWxlQXR0cmlidXRlc1trZXldOwogIH0KICByZXR1cm4gZWxlbWVudDsKfQoKLy8gTWF4IG51bWJlciBvZiBieXRlcyB3aGljaCB3aWxsIGJlIHVwbG9hZGVkIGF0IGEgdGltZS4KY29uc3QgTUFYX1BBWUxPQURfU0laRSA9IDEwMCAqIDEwMjQ7CgpmdW5jdGlvbiBfdXBsb2FkRmlsZXMoaW5wdXRJZCwgb3V0cHV0SWQpIHsKICBjb25zdCBzdGVwcyA9IHVwbG9hZEZpbGVzU3RlcChpbnB1dElkLCBvdXRwdXRJZCk7CiAgY29uc3Qgb3V0cHV0RWxlbWVudCA9IGRvY3VtZW50LmdldEVsZW1lbnRCeUlkKG91dHB1dElkKTsKICAvLyBDYWNoZSBzdGVwcyBvbiB0aGUgb3V0cHV0RWxlbWVudCB0byBtYWtlIGl0IGF2YWlsYWJsZSBmb3IgdGhlIG5leHQgY2FsbAogIC8vIHRvIHVwbG9hZEZpbGVzQ29udGludWUgZnJvbSBQeXRob24uCiAgb3V0cHV0RWxlbWVudC5zdGVwcyA9IHN0ZXBzOwoKICByZXR1cm4gX3VwbG9hZEZpbGVzQ29udGludWUob3V0cHV0SWQpOwp9CgovLyBUaGlzIGlzIHJvdWdobHkgYW4gYXN5bmMgZ2VuZXJhdG9yIChub3Qgc3VwcG9ydGVkIGluIHRoZSBicm93c2VyIHlldCksCi8vIHdoZXJlIHRoZXJlIGFyZSBtdWx0aXBsZSBhc3luY2hyb25vdXMgc3RlcHMgYW5kIHRoZSBQeXRob24gc2lkZSBpcyBnb2luZwovLyB0byBwb2xsIGZvciBjb21wbGV0aW9uIG9mIGVhY2ggc3RlcC4KLy8gVGhpcyB1c2VzIGEgUHJvbWlzZSB0byBibG9jayB0aGUgcHl0aG9uIHNpZGUgb24gY29tcGxldGlvbiBvZiBlYWNoIHN0ZXAsCi8vIHRoZW4gcGFzc2VzIHRoZSByZXN1bHQgb2YgdGhlIHByZXZpb3VzIHN0ZXAgYXMgdGhlIGlucHV0IHRvIHRoZSBuZXh0IHN0ZXAuCmZ1bmN0aW9uIF91cGxvYWRGaWxlc0NvbnRpbnVlKG91dHB1dElkKSB7CiAgY29uc3Qgb3V0cHV0RWxlbWVudCA9IGRvY3VtZW50LmdldEVsZW1lbnRCeUlkKG91dHB1dElkKTsKICBjb25zdCBzdGVwcyA9IG91dHB1dEVsZW1lbnQuc3RlcHM7CgogIGNvbnN0IG5leHQgPSBzdGVwcy5uZXh0KG91dHB1dEVsZW1lbnQubGFzdFByb21pc2VWYWx1ZSk7CiAgcmV0dXJuIFByb21pc2UucmVzb2x2ZShuZXh0LnZhbHVlLnByb21pc2UpLnRoZW4oKHZhbHVlKSA9PiB7CiAgICAvLyBDYWNoZSB0aGUgbGFzdCBwcm9taXNlIHZhbHVlIHRvIG1ha2UgaXQgYXZhaWxhYmxlIHRvIHRoZSBuZXh0CiAgICAvLyBzdGVwIG9mIHRoZSBnZW5lcmF0b3IuCiAgICBvdXRwdXRFbGVtZW50Lmxhc3RQcm9taXNlVmFsdWUgPSB2YWx1ZTsKICAgIHJldHVybiBuZXh0LnZhbHVlLnJlc3BvbnNlOwogIH0pOwp9CgovKioKICogR2VuZXJhdG9yIGZ1bmN0aW9uIHdoaWNoIGlzIGNhbGxlZCBiZXR3ZWVuIGVhY2ggYXN5bmMgc3RlcCBvZiB0aGUgdXBsb2FkCiAqIHByb2Nlc3MuCiAqIEBwYXJhbSB7c3RyaW5nfSBpbnB1dElkIEVsZW1lbnQgSUQgb2YgdGhlIGlucHV0IGZpbGUgcGlja2VyIGVsZW1lbnQuCiAqIEBwYXJhbSB7c3RyaW5nfSBvdXRwdXRJZCBFbGVtZW50IElEIG9mIHRoZSBvdXRwdXQgZGlzcGxheS4KICogQHJldHVybiB7IUl0ZXJhYmxlPCFPYmplY3Q+fSBJdGVyYWJsZSBvZiBuZXh0IHN0ZXBzLgogKi8KZnVuY3Rpb24qIHVwbG9hZEZpbGVzU3RlcChpbnB1dElkLCBvdXRwdXRJZCkgewogIGNvbnN0IGlucHV0RWxlbWVudCA9IGRvY3VtZW50LmdldEVsZW1lbnRCeUlkKGlucHV0SWQpOwogIGlucHV0RWxlbWVudC5kaXNhYmxlZCA9IGZhbHNlOwoKICBjb25zdCBvdXRwdXRFbGVtZW50ID0gZG9jdW1lbnQuZ2V0RWxlbWVudEJ5SWQob3V0cHV0SWQpOwogIG91dHB1dEVsZW1lbnQuaW5uZXJIVE1MID0gJyc7CgogIGNvbnN0IHBpY2tlZFByb21pc2UgPSBuZXcgUHJvbWlzZSgocmVzb2x2ZSkgPT4gewogICAgaW5wdXRFbGVtZW50LmFkZEV2ZW50TGlzdGVuZXIoJ2NoYW5nZScsIChlKSA9PiB7CiAgICAgIHJlc29sdmUoZS50YXJnZXQuZmlsZXMpOwogICAgfSk7CiAgfSk7CgogIGNvbnN0IGNhbmNlbCA9IGRvY3VtZW50LmNyZWF0ZUVsZW1lbnQoJ2J1dHRvbicpOwogIGlucHV0RWxlbWVudC5wYXJlbnRFbGVtZW50LmFwcGVuZENoaWxkKGNhbmNlbCk7CiAgY2FuY2VsLnRleHRDb250ZW50ID0gJ0NhbmNlbCB1cGxvYWQnOwogIGNvbnN0IGNhbmNlbFByb21pc2UgPSBuZXcgUHJvbWlzZSgocmVzb2x2ZSkgPT4gewogICAgY2FuY2VsLm9uY2xpY2sgPSAoKSA9PiB7CiAgICAgIHJlc29sdmUobnVsbCk7CiAgICB9OwogIH0pOwoKICAvLyBXYWl0IGZvciB0aGUgdXNlciB0byBwaWNrIHRoZSBmaWxlcy4KICBjb25zdCBmaWxlcyA9IHlpZWxkIHsKICAgIHByb21pc2U6IFByb21pc2UucmFjZShbcGlja2VkUHJvbWlzZSwgY2FuY2VsUHJvbWlzZV0pLAogICAgcmVzcG9uc2U6IHsKICAgICAgYWN0aW9uOiAnc3RhcnRpbmcnLAogICAgfQogIH07CgogIGNhbmNlbC5yZW1vdmUoKTsKCiAgLy8gRGlzYWJsZSB0aGUgaW5wdXQgZWxlbWVudCBzaW5jZSBmdXJ0aGVyIHBpY2tzIGFyZSBub3QgYWxsb3dlZC4KICBpbnB1dEVsZW1lbnQuZGlzYWJsZWQgPSB0cnVlOwoKICBpZiAoIWZpbGVzKSB7CiAgICByZXR1cm4gewogICAgICByZXNwb25zZTogewogICAgICAgIGFjdGlvbjogJ2NvbXBsZXRlJywKICAgICAgfQogICAgfTsKICB9CgogIGZvciAoY29uc3QgZmlsZSBvZiBmaWxlcykgewogICAgY29uc3QgbGkgPSBkb2N1bWVudC5jcmVhdGVFbGVtZW50KCdsaScpOwogICAgbGkuYXBwZW5kKHNwYW4oZmlsZS5uYW1lLCB7Zm9udFdlaWdodDogJ2JvbGQnfSkpOwogICAgbGkuYXBwZW5kKHNwYW4oCiAgICAgICAgYCgke2ZpbGUudHlwZSB8fCAnbi9hJ30pIC0gJHtmaWxlLnNpemV9IGJ5dGVzLCBgICsKICAgICAgICBgbGFzdCBtb2RpZmllZDogJHsKICAgICAgICAgICAgZmlsZS5sYXN0TW9kaWZpZWREYXRlID8gZmlsZS5sYXN0TW9kaWZpZWREYXRlLnRvTG9jYWxlRGF0ZVN0cmluZygpIDoKICAgICAgICAgICAgICAgICAgICAgICAgICAgICAgICAgICAgJ24vYSd9IC0gYCkpOwogICAgY29uc3QgcGVyY2VudCA9IHNwYW4oJzAlIGRvbmUnKTsKICAgIGxpLmFwcGVuZENoaWxkKHBlcmNlbnQpOwoKICAgIG91dHB1dEVsZW1lbnQuYXBwZW5kQ2hpbGQobGkpOwoKICAgIGNvbnN0IGZpbGVEYXRhUHJvbWlzZSA9IG5ldyBQcm9taXNlKChyZXNvbHZlKSA9PiB7CiAgICAgIGNvbnN0IHJlYWRlciA9IG5ldyBGaWxlUmVhZGVyKCk7CiAgICAgIHJlYWRlci5vbmxvYWQgPSAoZSkgPT4gewogICAgICAgIHJlc29sdmUoZS50YXJnZXQucmVzdWx0KTsKICAgICAgfTsKICAgICAgcmVhZGVyLnJlYWRBc0FycmF5QnVmZmVyKGZpbGUpOwogICAgfSk7CiAgICAvLyBXYWl0IGZvciB0aGUgZGF0YSB0byBiZSByZWFkeS4KICAgIGxldCBmaWxlRGF0YSA9IHlpZWxkIHsKICAgICAgcHJvbWlzZTogZmlsZURhdGFQcm9taXNlLAogICAgICByZXNwb25zZTogewogICAgICAgIGFjdGlvbjogJ2NvbnRpbnVlJywKICAgICAgfQogICAgfTsKCiAgICAvLyBVc2UgYSBjaHVua2VkIHNlbmRpbmcgdG8gYXZvaWQgbWVzc2FnZSBzaXplIGxpbWl0cy4gU2VlIGIvNjIxMTU2NjAuCiAgICBsZXQgcG9zaXRpb24gPSAwOwogICAgZG8gewogICAgICBjb25zdCBsZW5ndGggPSBNYXRoLm1pbihmaWxlRGF0YS5ieXRlTGVuZ3RoIC0gcG9zaXRpb24sIE1BWF9QQVlMT0FEX1NJWkUpOwogICAgICBjb25zdCBjaHVuayA9IG5ldyBVaW50OEFycmF5KGZpbGVEYXRhLCBwb3NpdGlvbiwgbGVuZ3RoKTsKICAgICAgcG9zaXRpb24gKz0gbGVuZ3RoOwoKICAgICAgY29uc3QgYmFzZTY0ID0gYnRvYShTdHJpbmcuZnJvbUNoYXJDb2RlLmFwcGx5KG51bGwsIGNodW5rKSk7CiAgICAgIHlpZWxkIHsKICAgICAgICByZXNwb25zZTogewogICAgICAgICAgYWN0aW9uOiAnYXBwZW5kJywKICAgICAgICAgIGZpbGU6IGZpbGUubmFtZSwKICAgICAgICAgIGRhdGE6IGJhc2U2NCwKICAgICAgICB9LAogICAgICB9OwoKICAgICAgbGV0IHBlcmNlbnREb25lID0gZmlsZURhdGEuYnl0ZUxlbmd0aCA9PT0gMCA/CiAgICAgICAgICAxMDAgOgogICAgICAgICAgTWF0aC5yb3VuZCgocG9zaXRpb24gLyBmaWxlRGF0YS5ieXRlTGVuZ3RoKSAqIDEwMCk7CiAgICAgIHBlcmNlbnQudGV4dENvbnRlbnQgPSBgJHtwZXJjZW50RG9uZX0lIGRvbmVgOwoKICAgIH0gd2hpbGUgKHBvc2l0aW9uIDwgZmlsZURhdGEuYnl0ZUxlbmd0aCk7CiAgfQoKICAvLyBBbGwgZG9uZS4KICB5aWVsZCB7CiAgICByZXNwb25zZTogewogICAgICBhY3Rpb246ICdjb21wbGV0ZScsCiAgICB9CiAgfTsKfQoKc2NvcGUuZ29vZ2xlID0gc2NvcGUuZ29vZ2xlIHx8IHt9OwpzY29wZS5nb29nbGUuY29sYWIgPSBzY29wZS5nb29nbGUuY29sYWIgfHwge307CnNjb3BlLmdvb2dsZS5jb2xhYi5fZmlsZXMgPSB7CiAgX3VwbG9hZEZpbGVzLAogIF91cGxvYWRGaWxlc0NvbnRpbnVlLAp9Owp9KShzZWxmKTsK",
              "ok": true,
              "headers": [
                [
                  "content-type",
                  "application/javascript"
                ]
              ],
              "status": 200,
              "status_text": ""
            }
          },
          "base_uri": "https://localhost:8080/",
          "height": 89
        },
        "id": "AmGED0Hhp5lJ",
        "outputId": "ff27bf37-1784-4055-a77c-934cd0af1528"
      },
      "source": [
        "from google.colab import files\n",
        "\n",
        "uploaded = files.upload()\n",
        "for fn in uploaded.keys():\n",
        "  execfile(fn)\n",
        "\n",
        "client = Client(configuration={\"base_url\": base,\n",
        "                               \"access_key\": access,\n",
        "                               \"secret_key\": secret})\n",
        "print('client configured')"
      ],
      "execution_count": null,
      "outputs": [
        {
          "output_type": "display_data",
          "data": {
            "text/html": [
              "\n",
              "     <input type=\"file\" id=\"files-aaf42ff9-a43c-4b37-ba44-7214c64e72b6\" name=\"files[]\" multiple disabled\n",
              "        style=\"border:none\" />\n",
              "     <output id=\"result-aaf42ff9-a43c-4b37-ba44-7214c64e72b6\">\n",
              "      Upload widget is only available when the cell has been executed in the\n",
              "      current browser session. Please rerun this cell to enable.\n",
              "      </output>\n",
              "      <script src=\"/nbextensions/google.colab/files.js\"></script> "
            ],
            "text/plain": [
              "<IPython.core.display.HTML object>"
            ]
          },
          "metadata": {}
        },
        {
          "output_type": "stream",
          "text": [
            "Saving colabkeys.py to colabkeys.py\n",
            "client configured\n"
          ],
          "name": "stdout"
        }
      ]
    },
    {
      "cell_type": "markdown",
      "metadata": {
        "id": "xRfjvl9jQoOX"
      },
      "source": [
        "# Get UR3 Data from TWX"
      ]
    },
    {
      "cell_type": "markdown",
      "metadata": {
        "id": "O8nS-_r0K_s5"
      },
      "source": [
        "Data from the physical robot is being sent to ThingWorx through Kepware, so we are pulling the joint data from ThingWorx REST API"
      ]
    },
    {
      "cell_type": "code",
      "metadata": {
        "id": "laFQTTSrvGgK"
      },
      "source": [
        "twkey = \"<tw-appkey>\""
      ],
      "execution_count": null,
      "outputs": []
    },
    {
      "cell_type": "code",
      "metadata": {
        "id": "0OJ5bv1Kh7rF"
      },
      "source": [
        "import requests\n",
        "import json\n",
        "\n",
        "def getUR3Data():\n",
        "  URL = 'https://pp-xyz.portal.ptc.io/Thingworx/Things/UR_Robot1/Properties'\n",
        "\n",
        "  headers = {\n",
        "          'appKey': twkey,\n",
        "          'accept': 'application/json',\n",
        "          'Content-Type':'application/json'\n",
        "      }\n",
        "\n",
        "  response = requests.get(URL,headers=headers)\n",
        "  robotInfoTableProperty = response.json()['rows'][0]['robotInfoTableProperty']['rows'][0]\n",
        "\n",
        "\n",
        "  DiceValuePos = [response.json()['rows'][0]['lastRollValue'],response.json()['rows'][0]['DiceDemo_dx'],response.json()['rows'][0]['DiceDemo_dy'],response.json()['rows'][0]['gripperState']]\n",
        "  RobotData = [robotInfoTableProperty['BaseJointAngle'],robotInfoTableProperty['ShoulderJointAngle'],robotInfoTableProperty['ElbowJointAngle'],robotInfoTableProperty['Wrist1JointAngle'],robotInfoTableProperty['Wrist2JointAngle'],robotInfoTableProperty['Wrist3JointAngle'],response.json()['rows'][0]['gripperState']*0.015]\n",
        "  return DiceValuePos, RobotData\n",
        "  # return response.json()"
      ],
      "execution_count": null,
      "outputs": []
    },
    {
      "cell_type": "code",
      "metadata": {
        "colab": {
          "base_uri": "https://localhost:8080/"
        },
        "id": "qzksgkeVsjLL",
        "outputId": "caed0255-f6ca-49e2-e17e-f6881cd0677f"
      },
      "source": [
        "print(getUR3Data())"
      ],
      "execution_count": null,
      "outputs": [
        {
          "output_type": "stream",
          "text": [
            "([1, 122, 356, 1], [308, 245, 258, 305, 90, 332, 0.015])\n"
          ],
          "name": "stdout"
        }
      ]
    },
    {
      "cell_type": "markdown",
      "metadata": {
        "id": "9aQqcve8WjYB"
      },
      "source": [
        "# LEGO Brick Color Update"
      ]
    },
    {
      "cell_type": "markdown",
      "metadata": {
        "id": "QiW6POLJL-pC"
      },
      "source": [
        "Find Part ID of LEGO Brick"
      ]
    },
    {
      "cell_type": "code",
      "metadata": {
        "id": "fPOjfM54KBgD"
      },
      "source": [
        "# The first part of the fixed URL specifies which API we're calling\n",
        "fixed_url = '/api/parts/d/did/w/wid'\n",
        "\n",
        "# https://cad.onshape.com/documents/f45fad4854ca95357c3937ee/w/947c0b3bc5c329a1c2960014/e/560babcca9702c62ed1034af\n",
        "did = 'f45fad4854ca95357c3937ee'\n",
        "wid = '947c0b3bc5c329a1c2960014'\n",
        "\n",
        "# Method below specifies the request type - 'GET' or 'POST'\n",
        "method = 'GET'\n",
        "\n",
        "params = {}\n",
        "payload = {}\n",
        "headers = {'Accept': 'application/vnd.onshape.v1+json; charset=UTF-8;qs=0.1',\n",
        "           'Content-Type': 'application/json'}\n",
        "\n",
        "fixed_url = fixed_url.replace('did', did)\n",
        "fixed_url = fixed_url.replace('wid', wid)\n",
        "response = client.api_client.request(method, url=base + fixed_url, query_params=params, headers=headers, body=payload)\n",
        "\n",
        "# The command below prints the entire JSON response from Onshape\n",
        "# print(json.loads(response.data))\n",
        "\n",
        "parts = json.loads(response.data)\n",
        "for i in range(len(parts)):\n",
        "  print(parts[i][\"name\"] +\" has part ID: \"+ parts[i][\"partId\"])"
      ],
      "execution_count": null,
      "outputs": []
    },
    {
      "cell_type": "markdown",
      "metadata": {
        "id": "hxn-DQoiMBaH"
      },
      "source": [
        "Set \"partMetaData\" variable to the meta data from LEGO brick part"
      ]
    },
    {
      "cell_type": "code",
      "metadata": {
        "id": "gICSqf9bLk-0"
      },
      "source": [
        "# https://cad.onshape.com/documents/f45fad4854ca95357c3937ee/w/947c0b3bc5c329a1c2960014/e/560babcca9702c62ed1034af\n",
        "fixed_url = '/api/metadata/d/did/w/wid/e/eid/p/pid'\n",
        "did = 'f45fad4854ca95357c3937ee'\n",
        "wid = '947c0b3bc5c329a1c2960014'\n",
        "eid = '560babcca9702c62ed1034af'\n",
        "pid = 'JLD'\n",
        "\n",
        "params = {}\n",
        "payload = {}\n",
        "headers = {'Accept': 'application/vnd.onshape.v1+json; charset=UTF-8;qs=0.1',\n",
        "          'Content-Type': 'application/json'}\n",
        "\n",
        "fixed_url = fixed_url.replace('did', did)\n",
        "fixed_url = fixed_url.replace('wid', wid)\n",
        "fixed_url = fixed_url.replace('eid', eid)\n",
        "fixed_url = fixed_url.replace('pid', pid)\n",
        "\n",
        "response = client.api_client.request('GET', url=base + fixed_url,\n",
        "query_params=params, headers=headers, body=payload)\n",
        "\n",
        "partMetaData = json.loads(response.data)"
      ],
      "execution_count": null,
      "outputs": []
    },
    {
      "cell_type": "markdown",
      "metadata": {
        "id": "M_o7XyB-MFfq"
      },
      "source": [
        "function for changing color of LEGO brick"
      ]
    },
    {
      "cell_type": "code",
      "metadata": {
        "id": "gQsVgJ1CJfTk"
      },
      "source": [
        "def updateColor(partMetaData,newColors):\n",
        "  partProperties = partMetaData['properties']\n",
        "\n",
        "  # # Print current appearance values\n",
        "  # for x in partProperties:\n",
        "  #   if x['name'] == \"Appearance\":\n",
        "  #     partAppearance = x\n",
        "  #     break\n",
        "  # print(partAppearance['value'])\n",
        "\n",
        "  for i in range(len(partProperties)):\n",
        "    if partProperties[i]['name'] == \"Appearance\":\n",
        "      partProperties[i]['value']['color'] = newColors\n",
        "      break\n",
        "\n",
        "  partMetaData['properties'] = partProperties\n",
        "\n",
        "  payload = partMetaData\n",
        "\n",
        "  response = client.api_client.request('POST', url=base + fixed_url,\n",
        "  query_params=params, headers=headers, body=payload)"
      ],
      "execution_count": null,
      "outputs": []
    },
    {
      "cell_type": "code",
      "metadata": {
        "id": "lSJ8hFXnJfTu"
      },
      "source": [
        "updateColor(partMetaData,{'red': 1, 'green': 255, 'blue': 255})"
      ],
      "execution_count": null,
      "outputs": []
    },
    {
      "cell_type": "markdown",
      "metadata": {
        "id": "E5QCj_jAXA5j"
      },
      "source": [
        "# Update Dice Number Text"
      ]
    },
    {
      "cell_type": "markdown",
      "metadata": {
        "id": "blCXbseNcGyp"
      },
      "source": [
        "Load FeatureInfo Variable"
      ]
    },
    {
      "cell_type": "code",
      "metadata": {
        "id": "oMpN0V51Whw1"
      },
      "source": [
        "fixed_url = '/api/partstudios/d/did/w/wid/e/eid/features'\n",
        "\n",
        "#https://cad.onshape.com/documents/f45fad4854ca95357c3937ee/w/947c0b3bc5c329a1c2960014/e/600c5bc17d1d06585c85b9e8\n",
        "did = 'f45fad4854ca95357c3937ee'\n",
        "wid = '947c0b3bc5c329a1c2960014'\n",
        "eid = '600c5bc17d1d06585c85b9e8'\n",
        "\n",
        "fixed_url = fixed_url.replace('did', did)\n",
        "fixed_url = fixed_url.replace('wid', wid)\n",
        "fixed_url = fixed_url.replace('eid', eid)\n",
        "\n",
        "method = 'GET'\n",
        "params = {}\n",
        "payload = {}\n",
        "headers = {'Accept': 'application/vnd.onshape.v1+json; charset=UTF-8;qs=0.1',\n",
        "          'Content-Type': 'application/json'}\n",
        "\n",
        "FeatureInfo = client.api_client.request(method, url=base + fixed_url, query_params=params, headers=headers, body=payload)"
      ],
      "execution_count": null,
      "outputs": []
    },
    {
      "cell_type": "code",
      "metadata": {
        "id": "I3miE-T9cRJR"
      },
      "source": [
        "def updateValue(value):\n",
        "  newFeature = json.loads(FeatureInfo.data)[\"features\"][0]\n",
        "  newFeature[\"message\"][\"entities\"][0][\"message\"]['parameters'][1]['message']['value'] = '''Last Roll: '''+value\n",
        "  # print(newFeature[\"message\"][\"entities\"][0][\"message\"]['parameters'][1]['message']['value'])\n",
        "  # print(timeRemaining)\n",
        "  # print(json.loads(response.data)[\"sourceMicroversion\"])\n",
        "  # print(json.loads(response.data)[\"serializationVersion\"])\n",
        "\n",
        "  fixed_url = '/api/partstudios/d/did/w/wid/e/eid/features/featureid/fid'\n",
        "\n",
        "  fid = json.loads(FeatureInfo.data)[\"features\"][0][\"message\"][\"featureId\"]\n",
        "\n",
        "  fixed_url = fixed_url.replace('did', did)\n",
        "  fixed_url = fixed_url.replace('wid', wid)\n",
        "  fixed_url = fixed_url.replace('eid', eid, 1)\n",
        "  fixed_url = fixed_url.replace('fid', fid)\n",
        "\n",
        "  # print(fixed_url)\n",
        "\n",
        "  method = 'POST'\n",
        "  params = {}\n",
        "  payload = {'feature': newFeature,\n",
        "            'serializationVersion': json.loads(FeatureInfo.data)[\"serializationVersion\"],\n",
        "            'sourceMicroversion': json.loads(FeatureInfo.data)[\"sourceMicroversion\"]}\n",
        "  headers = {'Accept': 'application/vnd.onshape.v1+json; charset=UTF-8;qs=0.1',\n",
        "            'Content-Type': 'application/json'}\n",
        "\n",
        "  response = client.api_client.request(method, url=base + fixed_url, query_params=params, headers=headers, body=payload)"
      ],
      "execution_count": null,
      "outputs": []
    },
    {
      "cell_type": "code",
      "metadata": {
        "id": "CQw_wuBeciQ2"
      },
      "source": [
        "updateValue('5')"
      ],
      "execution_count": null,
      "outputs": []
    },
    {
      "cell_type": "markdown",
      "metadata": {
        "id": "UoR_qjGbQ5pn"
      },
      "source": [
        "# Gripper Open/Close"
      ]
    },
    {
      "cell_type": "code",
      "metadata": {
        "id": "OBPha0qmpL8K"
      },
      "source": [
        "fixed_url = '/api/elements/d/did/w/wid/e/eid/configuration'\n",
        "\n",
        "# https://cad.onshape.com/documents/f45fad4854ca95357c3937ee/w/947c0b3bc5c329a1c2960014/e/e13b8f1b2de53390ea9d2e34\n",
        "did = 'f45fad4854ca95357c3937ee'\n",
        "wid = '947c0b3bc5c329a1c2960014'\n",
        "eid = '6361bbad5f20ace895955cf6'\n",
        "\n",
        "fixed_url = fixed_url.replace('did', did)\n",
        "fixed_url = fixed_url.replace('wid', wid)\n",
        "fixed_url = fixed_url.replace('eid', eid)\n",
        "\n",
        "# Method below specifies the request type - 'GET' or 'POST'\n",
        "method = 'GET'\n",
        "\n",
        "params = {}\n",
        "payload = {}\n",
        "headers = {'Accept': 'application/vnd.onshape.v1+json; charset=UTF-8;qs=0.1',\n",
        "           'Content-Type': 'application/json'}\n",
        "\n",
        "response = client.api_client.request(method, url=base + fixed_url, query_params=params, headers=headers, body=payload)\n",
        "gripperConfigInfo = json.loads(response.data)\n",
        "# ConfigParams = ConfigInfo[\"configurationParameters\"]\n",
        "\n",
        "# for i in range(len(ConfigParams)):\n",
        "#   print(ConfigParams[i][\"message\"][\"parameterName\"])\n",
        "#   print(ConfigParams[i][\"message\"][\"parameterId\"])"
      ],
      "execution_count": null,
      "outputs": []
    },
    {
      "cell_type": "code",
      "metadata": {
        "id": "tHEl_cwUp2Bz"
      },
      "source": [
        "def moveGripper(openclose):\n",
        "  fixed_url = '/api/elements/d/did/w/wid/e/eid/configuration'\n",
        "\n",
        "  # https://cad.onshape.com/documents/f45fad4854ca95357c3937ee/w/947c0b3bc5c329a1c2960014/e/e13b8f1b2de53390ea9d2e34\n",
        "  did = 'f45fad4854ca95357c3937ee'\n",
        "  wid = '947c0b3bc5c329a1c2960014'\n",
        "  eid = '6361bbad5f20ace895955cf6'\n",
        "\n",
        "  fixed_url = fixed_url.replace('did', did)\n",
        "  fixed_url = fixed_url.replace('wid', wid)\n",
        "  fixed_url = fixed_url.replace('eid', eid)\n",
        "\n",
        "  # Method below specifies the request type - 'GET' or 'POST'\n",
        "  method = 'POST'\n",
        "  ConfigParams = gripperConfigInfo[\"configurationParameters\"]\n",
        "  if openclose == 'open':\n",
        "    ConfigParams[0][\"message\"][\"rangeAndDefault\"][\"message\"][\"minValue\"] = 0\n",
        "    ConfigParams[0][\"message\"][\"rangeAndDefault\"][\"message\"][\"maxValue\"] = 0\n",
        "    ConfigParams[0][\"message\"][\"rangeAndDefault\"][\"message\"][\"defaultValue\"] = 0\n",
        "  else:\n",
        "    ConfigParams[0][\"message\"][\"rangeAndDefault\"][\"message\"][\"minValue\"] = 0.016\n",
        "    ConfigParams[0][\"message\"][\"rangeAndDefault\"][\"message\"][\"maxValue\"] = 0.016\n",
        "    ConfigParams[0][\"message\"][\"rangeAndDefault\"][\"message\"][\"defaultValue\"] = 0.016\n",
        "\n",
        "  params = {}\n",
        "  payload = {'configurationParameters': ConfigParams,\n",
        "            'serializationVersion': gripperConfigInfo[\"serializationVersion\"],\n",
        "            'sourceMicroversion': gripperConfigInfo[\"sourceMicroversion\"]}\n",
        "  headers = {'Accept': 'application/vnd.onshape.v1+json; charset=UTF-8;qs=0.1',\n",
        "            'Content-Type': 'application/json'}\n",
        "\n",
        "  response = client.api_client.request(method, url=base + fixed_url, query_params=params, headers=headers, body=payload)"
      ],
      "execution_count": null,
      "outputs": []
    },
    {
      "cell_type": "code",
      "metadata": {
        "id": "nLyskohcrVpW"
      },
      "source": [
        "moveGripper('open')"
      ],
      "execution_count": null,
      "outputs": []
    },
    {
      "cell_type": "markdown",
      "metadata": {
        "id": "sOTH1qnMSDgw"
      },
      "source": [
        "# Matrix Library"
      ]
    },
    {
      "cell_type": "code",
      "metadata": {
        "id": "S3pHR2W4UtLu"
      },
      "source": [
        "import math\n",
        "import numpy\n",
        "\n",
        "def DiceTransform(value):\n",
        "    switcher = {\n",
        "        0: [\n",
        "            0, 0, 1, 0,\n",
        "            0, 1, 0, -0.4,\n",
        "            -1, 0, 0, -0.015,\n",
        "            0, 0, 0, 1\n",
        "           ],\n",
        "        1: [\n",
        "            0, 0, 1, 0,\n",
        "            0, 1, 0, -0.4,\n",
        "            -1, 0, 0, -0.015,\n",
        "            0, 0, 0, 1\n",
        "           ],\n",
        "        2: [\n",
        "            1, 0, 0, 0,\n",
        "            0, 0, 1, -0.4,\n",
        "            0, -1, 0, -0.015,\n",
        "            0, 0, 0, 1\n",
        "           ],\n",
        "        3: [\n",
        "            1, 0, 0, 0,\n",
        "            0, -1, 0, -0.4,\n",
        "            0, 0, -1, -0.015,\n",
        "            0, 0, 0, 1\n",
        "           ],\n",
        "        4: [\n",
        "            1, 0, 0, 0,\n",
        "            0, 1, 0, -0.4,\n",
        "            0, 0, 1, -0.015,\n",
        "            0, 0, 0, 1\n",
        "           ],\n",
        "        5: [\n",
        "            1, 0, 0, 0,\n",
        "            0, 0, -1, -0.4,\n",
        "            0, 1, 0, -0.015,\n",
        "            0, 0, 0, 1\n",
        "           ],\n",
        "        6: [\n",
        "            0, 0, -1, 0,\n",
        "            0, 1, 0, -0.4,\n",
        "            1, 0, 0, -0.015,\n",
        "            0, 0, 0, 1\n",
        "           ] \n",
        "    }\n",
        "  \n",
        "    # get() method of dictionary data type returns \n",
        "    # value of passed argument if it is present \n",
        "    # in dictionary otherwise second argument will\n",
        "    # be assigned as default value of passed argument\n",
        "    return switcher.get(value, \"nothing\")\n",
        "\n",
        "def DiceMoveSpin(value,x1,y1):\n",
        "  matrix = DiceTransform(value)\n",
        "  matrix[3] = x1\n",
        "  matrix[7] = y1\n",
        "  return matrix\n",
        "\n",
        "def DiceFollow(diceMatrix,tcpMatrix):\n",
        "  diceMatrix[3] = tcpMatrix[3]\n",
        "  diceMatrix[7] = tcpMatrix[7]\n",
        "  diceMatrix[11] = tcpMatrix[11]\n",
        "  return diceMatrix\n",
        "  \n",
        "def sixteenToFourByFour(matrix):\n",
        "  fourbyfour = [[matrix[0],matrix[1],matrix[2],matrix[3]],\n",
        "                [matrix[4],matrix[5],matrix[6],matrix[7]],\n",
        "                [matrix[8],matrix[9],matrix[10],matrix[11]],\n",
        "                [matrix[12],matrix[13],matrix[14],matrix[15]]]\n",
        "  return fourbyfour\n",
        "\n",
        "def fourByFourToSixteen(matrix):\n",
        "  sixteen = [matrix[0][0],matrix[0][1],matrix[0][2],matrix[0][3],\n",
        "             matrix[1][0],matrix[1][1],matrix[1][2],matrix[1][3],\n",
        "             matrix[2][0],matrix[2][1],matrix[2][2],matrix[2][3],\n",
        "             matrix[3][0],matrix[3][1],matrix[3][2],matrix[3][3]]\n",
        "  return sixteen\n",
        "\n",
        "def clockwiseSpinZ(theta):\n",
        "  m = [[math.cos(theta), math.sin(theta), 0, 0],\n",
        "       [-math.sin(theta), math.cos(theta), 0, 0],\n",
        "       [0, 0, 1, 0],\n",
        "       [0, 0, 0, 1]]\n",
        "  return m\n",
        "\n",
        "def clockwiseSpinX(theta):\n",
        "  m = [[1, 0, 0, 0],\n",
        "       [0, math.cos(theta), math.sin(theta), 0],\n",
        "       [0, -math.sin(theta), math.cos(theta), 0],\n",
        "       [0, 0, 0, 1]\n",
        "       ]\n",
        "  return m\n"
      ],
      "execution_count": null,
      "outputs": []
    },
    {
      "cell_type": "markdown",
      "metadata": {
        "id": "ZwgB18HZAu2K"
      },
      "source": [
        "# Dice Control"
      ]
    },
    {
      "cell_type": "code",
      "metadata": {
        "id": "dpE2eN96OPeE"
      },
      "source": [
        "fixed_url = '/api/assemblies/d/did/w/wid/e/eid'\n",
        "\n",
        "# https://cad.onshape.com/documents/f45fad4854ca95357c3937ee/w/947c0b3bc5c329a1c2960014/e/e13b8f1b2de53390ea9d2e34\n",
        "did = 'f45fad4854ca95357c3937ee'\n",
        "wid = '947c0b3bc5c329a1c2960014'\n",
        "eid = '32946638068e1d1428bac606'\n",
        "\n",
        "method = 'GET'\n",
        "\n",
        "params = {}\n",
        "payload = {}\n",
        "headers = {'Accept': 'application/vnd.onshape.v1+json; charset=UTF-8;qs=0.1',\n",
        "           'Content-Type': 'application/json'}\n",
        "\n",
        "fixed_url = fixed_url.replace('did', did)\n",
        "fixed_url = fixed_url.replace('wid', wid)\n",
        "fixed_url = fixed_url.replace('eid', eid)\n",
        "\n",
        "response = client.api_client.request(method, url=base + fixed_url, query_params=params, headers=headers, body=payload)\n",
        "# print(response.data)\n",
        "# The command below prints the entire JSON response from Onshape\n",
        "occurances = json.loads(response.data)['rootAssembly']['occurrences']\n",
        "for x in occurances:\n",
        "  # print(x['path'])\n",
        "  if x['path'][0] == 'MyTMZjC8CDrpoJtvv':\n",
        "    diceId = x\n",
        "  elif x['path'][0] == 'MPcb81Pj8AzXubNwt':\n",
        "    tcpId = x"
      ],
      "execution_count": null,
      "outputs": []
    },
    {
      "cell_type": "code",
      "metadata": {
        "id": "tTMyrlIMORG4"
      },
      "source": [
        "import numpy\n",
        "def DiceControl(following,value,dicex,dicey,thetaz,thetax,thetay):\n",
        "  ## Get assembly occurances\n",
        "  fixed_url = '/api/assemblies/d/did/w/wid/e/eid'\n",
        "\n",
        "  # https://cad.onshape.com/documents/f45fad4854ca95357c3937ee/w/947c0b3bc5c329a1c2960014/e/e13b8f1b2de53390ea9d2e34\n",
        "  did = 'f45fad4854ca95357c3937ee'\n",
        "  wid = '947c0b3bc5c329a1c2960014'\n",
        "  eid = '32946638068e1d1428bac606'\n",
        "\n",
        "  method = 'GET'\n",
        "\n",
        "  params = {}\n",
        "  payload = {}\n",
        "  headers = {'Accept': 'application/vnd.onshape.v1+json; charset=UTF-8;qs=0.1',\n",
        "            'Content-Type': 'application/json'}\n",
        "\n",
        "  fixed_url = fixed_url.replace('did', did)\n",
        "  fixed_url = fixed_url.replace('wid', wid)\n",
        "  fixed_url = fixed_url.replace('eid', eid)\n",
        "\n",
        "  response = client.api_client.request(method, url=base + fixed_url, query_params=params, headers=headers, body=payload)\n",
        "\n",
        "  occurances = json.loads(response.data)['rootAssembly']['occurrences']\n",
        "\n",
        "  for x in occurances:\n",
        "    if x['path'][0] == 'MyTMZjC8CDrpoJtvv':\n",
        "      diceOccurence = x\n",
        "    elif x['path'][0] == 'MPcb81Pj8AzXubNwt':\n",
        "      tcpId = x\n",
        "\n",
        "\n",
        "  ## Send assembly occurence transforms\n",
        "  fixed_url = '/api/assemblies/d/did/w/wid/e/eid/occurrencetransforms'\n",
        "\n",
        "  fixed_url = fixed_url.replace('did', did)\n",
        "  fixed_url = fixed_url.replace('wid', wid)\n",
        "  fixed_url = fixed_url.replace('eid', eid)\n",
        "\n",
        "  method = 'POST'\n",
        "\n",
        "  params = {}\n",
        "\n",
        "  if following == True:\n",
        "    payload = {'isRelative':False,\n",
        "              'occurrences':[diceOccurence],\n",
        "              'transform': fourByFourToSixteen(numpy.matmul(sixteenToFourByFour(DiceFollow(DiceMoveSpin(value,0.2,-0.4),tcpId['transform'])),clockwiseSpinX(thetax)))\n",
        "        }\n",
        "  else:\n",
        "    # payload = {'isRelative':False,\n",
        "    #           'occurrences':[diceOccurence],\n",
        "    #           'transform': DiceMoveSpin(getDiceValue()[0],dicex,dicey)\n",
        "    #     }\n",
        "    payload = {'isRelative':False,\n",
        "              'occurrences':[diceOccurence],\n",
        "               'transform': DiceMoveSpin(value,dicex,dicey)\n",
        "              # 'transform': fourByFourToSixteen(numpy.matmul(sixteenToFourByFour(DiceMoveSpin(value,dicex,dicey)),clockwiseSpinZ(thetaz)))\n",
        "        }\n",
        "\n",
        "  headers = {'Accept': 'application/vnd.onshape.v1+json; charset=UTF-8;qs=0.1',\n",
        "            'Content-Type': 'application/json'}\n",
        "\n",
        "  response = client.api_client.request(method, url=base + fixed_url, query_params=params, headers=headers, body=payload)\n"
      ],
      "execution_count": null,
      "outputs": []
    },
    {
      "cell_type": "code",
      "metadata": {
        "id": "vbP7tRZKZAcm"
      },
      "source": [
        "DiceControl(False,3,.2,-.4,0,0.1,0)"
      ],
      "execution_count": null,
      "outputs": []
    },
    {
      "cell_type": "code",
      "metadata": {
        "colab": {
          "base_uri": "https://localhost:8080/"
        },
        "id": "aaFUljspvt0s",
        "outputId": "849948bf-003e-475c-dc0c-b08ff7ae5418"
      },
      "source": [
        "import numpy\n",
        "print(fourByFourToSixteen(numpy.matmul(sixteenToFourByFour(DiceMoveSpin(4,1,2)),clockwiseSpinZ(math.pi/2))))"
      ],
      "execution_count": null,
      "outputs": [
        {
          "output_type": "stream",
          "text": [
            "[6.123233995736766e-17, 1.0, 0.0, 1.0, -1.0, 6.123233995736766e-17, 0.0, 2.0, 0.0, 0.0, 1.0, -0.015, 0.0, 0.0, 0.0, 1.0]\n"
          ],
          "name": "stdout"
        }
      ]
    },
    {
      "cell_type": "markdown",
      "metadata": {
        "id": "9zV1q_aikuUD"
      },
      "source": [
        "# Update Joint Configurations"
      ]
    },
    {
      "cell_type": "code",
      "metadata": {
        "id": "Iosj081gh792"
      },
      "source": [
        "fixed_url = '/api/elements/d/did/w/wid/e/eid/configuration'\n",
        "\n",
        "# https://cad.onshape.com/documents/f45fad4854ca95357c3937ee/w/947c0b3bc5c329a1c2960014/e/e13b8f1b2de53390ea9d2e34\n",
        "did = 'f45fad4854ca95357c3937ee'\n",
        "wid = '947c0b3bc5c329a1c2960014'\n",
        "eid = 'e13b8f1b2de53390ea9d2e34'\n",
        "\n",
        "fixed_url = fixed_url.replace('did', did)\n",
        "fixed_url = fixed_url.replace('wid', wid)\n",
        "fixed_url = fixed_url.replace('eid', eid)\n",
        "\n",
        "# Method below specifies the request type - 'GET' or 'POST'\n",
        "method = 'GET'\n",
        "\n",
        "params = {}\n",
        "payload = {}\n",
        "headers = {'Accept': 'application/vnd.onshape.v1+json; charset=UTF-8;qs=0.1',\n",
        "           'Content-Type': 'application/json'}\n",
        "\n",
        "response = client.api_client.request(method, url=base + fixed_url, query_params=params, headers=headers, body=payload)\n",
        "ConfigInfo = json.loads(response.data)\n",
        "ConfigParams = ConfigInfo[\"configurationParameters\"]\n",
        "\n",
        "for i in range(len(ConfigParams)):\n",
        "  print(ConfigParams[i][\"message\"][\"parameterName\"])\n",
        "  print(ConfigParams[i][\"message\"][\"parameterId\"])\n",
        "  # print(ConfigParams[i][\"message\"][\"rangeAndDefault\"][\"message\"]) # useful info if configurations are variables\n",
        "  "
      ],
      "execution_count": null,
      "outputs": []
    },
    {
      "cell_type": "code",
      "metadata": {
        "id": "nV1WF2vkjW7C"
      },
      "source": [
        "def updateJoints(jointArray):\n",
        "  fixed_url = '/api/elements/d/did/w/wid/e/eid/configuration'\n",
        "\n",
        "  # https://cad.onshape.com/documents/f45fad4854ca95357c3937ee/w/947c0b3bc5c329a1c2960014/e/e13b8f1b2de53390ea9d2e34\n",
        "  did = 'f45fad4854ca95357c3937ee'\n",
        "  wid = '947c0b3bc5c329a1c2960014'\n",
        "  eid = 'e13b8f1b2de53390ea9d2e34'\n",
        "\n",
        "  fixed_url = fixed_url.replace('did', did)\n",
        "  fixed_url = fixed_url.replace('wid', wid)\n",
        "  fixed_url = fixed_url.replace('eid', eid)\n",
        "\n",
        "  # Method below specifies the request type - 'GET' or 'POST'\n",
        "  method = 'POST'\n",
        "\n",
        "  ConfigParams = ConfigInfo[\"configurationParameters\"]\n",
        "  for i in range(len(ConfigParams)):\n",
        "    ConfigParams[i][\"message\"][\"rangeAndDefault\"][\"message\"][\"minValue\"] = jointArray[i]\n",
        "    ConfigParams[i][\"message\"][\"rangeAndDefault\"][\"message\"][\"maxValue\"] = jointArray[i]\n",
        "    ConfigParams[i][\"message\"][\"rangeAndDefault\"][\"message\"][\"defaultValue\"] = jointArray[i]\n",
        "\n",
        "\n",
        "  params = {}\n",
        "  payload = {'configurationParameters': ConfigParams,\n",
        "            'serializationVersion': ConfigInfo[\"serializationVersion\"],\n",
        "            'sourceMicroversion': ConfigInfo[\"sourceMicroversion\"]}\n",
        "  headers = {'Accept': 'application/vnd.onshape.v1+json; charset=UTF-8;qs=0.1',\n",
        "            'Content-Type': 'application/json'}\n",
        "\n",
        "  response = client.api_client.request(method, url=base + fixed_url, query_params=params, headers=headers, body=payload)\n"
      ],
      "execution_count": null,
      "outputs": []
    },
    {
      "cell_type": "markdown",
      "metadata": {
        "id": "MT9-dVsJeuxC"
      },
      "source": [
        "# Update Joint Mate Values"
      ]
    },
    {
      "cell_type": "code",
      "metadata": {
        "id": "m24T7h0se0rp"
      },
      "source": [
        "RobotData = [0.1,-0.5,0,0,0,0,0]\n",
        "\n",
        "def updateJoints2(RobotData):\n",
        "  fixed_url = '/api/assemblies/d/did/w/wid/e/eid/matevalues'\n",
        "\n",
        "  # https://cad.onshape.com/documents/f45fad4854ca95357c3937ee/w/947c0b3bc5c329a1c2960014/e/32946638068e1d1428bac606\n",
        "  did = 'f45fad4854ca95357c3937ee'\n",
        "  wid = '947c0b3bc5c329a1c2960014'\n",
        "  eid = '32946638068e1d1428bac606'\n",
        "\n",
        "  method = 'GET'\n",
        "\n",
        "  params = {}\n",
        "  payload = {}\n",
        "  headers = {'Accept': 'application/vnd.onshape.v2+json',\n",
        "            'Content-Type': 'application/vnd.onshape.v2+json'}\n",
        "\n",
        "  fixed_url = fixed_url.replace('did', did)\n",
        "  fixed_url = fixed_url.replace('wid', wid)\n",
        "  fixed_url = fixed_url.replace('eid', eid)\n",
        "\n",
        "  response = client.api_client.request(method, url=base + fixed_url, query_params=params, headers=headers, body=payload)\n",
        "  fullResponse = json.loads(response.data)\n",
        "\n",
        "  for i in range(len(fullResponse[\"mateValues\"])):\n",
        "    if fullResponse['mateValues'][i]['mateName'] == \"Base revolve\":\n",
        "      fullResponse['mateValues'][i]['rotationZ'] = RobotData[0]\n",
        "    elif fullResponse['mateValues'][i]['mateName'] == \"Shoulder revolve\":\n",
        "      fullResponse['mateValues'][i]['rotationZ'] = RobotData[1]\n",
        "    elif fullResponse['mateValues'][i]['mateName'] == \"Elbow revolve\":\n",
        "      fullResponse['mateValues'][i]['rotationZ'] = RobotData[2]\n",
        "    elif fullResponse['mateValues'][i]['mateName'] == \"Wrist 1 revolve\":\n",
        "      fullResponse['mateValues'][i]['rotationZ'] = RobotData[3]\n",
        "    elif fullResponse['mateValues'][i]['mateName'] == \"Wrist 2 revolve\":\n",
        "      fullResponse['mateValues'][i]['rotationZ'] = RobotData[4]\n",
        "    elif fullResponse['mateValues'][i]['mateName'] == \"Wrist 3 revolve\":\n",
        "      fullResponse['mateValues'][i]['rotationZ'] = RobotData[5]\n",
        "    elif fullResponse['mateValues'][i]['mateName'] == \"Gripper 1\":\n",
        "      fullResponse['mateValues'][i]['translationZ'] = RobotData[6]\n",
        "\n",
        "  method = 'POST'\n",
        "\n",
        "  params = {}\n",
        "  payload = fullResponse\n",
        "  headers = {'Accept': 'application/vnd.onshape.v2+json',\n",
        "            'Content-Type': 'application/vnd.onshape.v2+json'}\n",
        "  response = client.api_client.request(method, url=base + fixed_url, query_params=params, headers=headers, body=payload)\n",
        "\n",
        "  # The command below prints the entire JSON response from Onshape\n",
        "  print(response.status)"
      ],
      "execution_count": null,
      "outputs": []
    },
    {
      "cell_type": "code",
      "metadata": {
        "colab": {
          "base_uri": "https://localhost:8080/"
        },
        "id": "Hohn4ioQxdFb",
        "outputId": "c73856e9-c66d-458d-e503-e022f530a1ce"
      },
      "source": [
        "updateJoints2(RobotData)"
      ],
      "execution_count": null,
      "outputs": [
        {
          "output_type": "stream",
          "text": [
            "200\n"
          ],
          "name": "stdout"
        }
      ]
    },
    {
      "cell_type": "markdown",
      "metadata": {
        "id": "_UJkyXqdbCVH"
      },
      "source": [
        "# Get Shaded Views and Send to TW"
      ]
    },
    {
      "cell_type": "code",
      "metadata": {
        "id": "1IvrWHwzouA2"
      },
      "source": [
        "from IPython.display import Image\n",
        "import base64\n",
        "\n",
        "def getOnshapeShadedView():\n",
        "  fixed_url = '/api/assemblies/d/did/w/wid/e/eid/shadedviews'\n",
        "\n",
        "  # https://cad.onshape.com/documents/f45fad4854ca95357c3937ee/w/947c0b3bc5c329a1c2960014/e/32946638068e1d1428bac606\n",
        "  did = 'f45fad4854ca95357c3937ee'\n",
        "  wid = '947c0b3bc5c329a1c2960014'\n",
        "  eid = '32946638068e1d1428bac606'\n",
        "\n",
        "  method = 'GET'\n",
        "\n",
        "  ## View Matrix below is roughly isometric\n",
        "  params = {'viewMatrix':'0.612,0.612,0,0,-0.354,0.354,0.707,0,0.707,-0.707,0.707,0',\n",
        "            'edges':'show',\n",
        "            'outputHeight':600,\n",
        "            'outputWidth':1000,\n",
        "            'pixelSize':0.002}\n",
        "  payload = {}\n",
        "  headers = {'Accept': 'application/vnd.onshape.v1+json',\n",
        "              'Content-Type': 'application/json'}\n",
        "\n",
        "  fixed_url = fixed_url.replace('did', did)\n",
        "  fixed_url = fixed_url.replace('wid', wid)\n",
        "  fixed_url = fixed_url.replace('eid', eid)\n",
        "\n",
        "  response = client.api_client.request(method, url=base + fixed_url, query_params=params, headers=headers, body=payload)\n",
        "\n",
        "  parsed = json.loads(response.data)\n",
        "\n",
        "  imgdata = base64.b64decode(parsed['images'][0])\n",
        "\n",
        "  # return imgdata\n",
        "  with open(\"image.jpg\", 'wb') as f:\n",
        "      f.write(imgdata)"
      ],
      "execution_count": null,
      "outputs": []
    },
    {
      "cell_type": "code",
      "metadata": {
        "id": "QLUcFSHrbrmW"
      },
      "source": [
        "import base64\n",
        "import json\n",
        "import requests\n",
        "\n",
        "def sendPicToTW():\n",
        "  with open(\"image.jpg\", \"rb\") as image_file:\n",
        "      encoded_string = base64.b64encode(image_file.read())\n",
        "\n",
        "  imgEncodedString = str(encoded_string)\n",
        "  imgString = imgEncodedString.split(\"'\",1)[1]\n",
        "  appKey = twkey\n",
        "  URL = 'https://pp-2101111403aw.portal.ptc.io/Thingworx/Things/UR_Robot1/Properties/OnshapeImage'\n",
        "\n",
        "  payload=json.dumps({\"OnshapeImage\":imgString})\n",
        "  headers = {\n",
        "    'appKey': appKey,\n",
        "    'Content-Type': 'application/json'\n",
        "  }\n",
        "\n",
        "  response = requests.request(\"PUT\", URL, headers=headers, data=payload)\n",
        "\n",
        "  print(response)"
      ],
      "execution_count": null,
      "outputs": []
    },
    {
      "cell_type": "code",
      "metadata": {
        "colab": {
          "base_uri": "https://localhost:8080/"
        },
        "id": "DNagRDz9zAWk",
        "outputId": "b719e636-46a8-49ad-bda1-48006efbfc4f"
      },
      "source": [
        "getOnshapeShadedView()\n",
        "sendPicToTW()"
      ],
      "execution_count": null,
      "outputs": [
        {
          "output_type": "stream",
          "text": [
            "<Response [200]>\n"
          ],
          "name": "stdout"
        }
      ]
    },
    {
      "cell_type": "markdown",
      "metadata": {
        "id": "-2SzIHDkQ0EF"
      },
      "source": [
        "# Main Loop"
      ]
    },
    {
      "cell_type": "code",
      "metadata": {
        "id": "Fw_fsB04z7wD"
      },
      "source": [
        "def translate(value, leftMin, leftMax, rightMin, rightMax):\n",
        "    # Figure out how 'wide' each range is\n",
        "    leftSpan = leftMax - leftMin\n",
        "    rightSpan = rightMax - rightMin\n",
        "\n",
        "    # Convert the left range into a 0-1 range (float)\n",
        "    valueScaled = float(value - leftMin) / float(leftSpan)\n",
        "\n",
        "    # Convert the 0-1 range into a value in the right range.\n",
        "    return rightMin + (valueScaled * rightSpan)"
      ],
      "execution_count": null,
      "outputs": []
    },
    {
      "cell_type": "code",
      "metadata": {
        "colab": {
          "base_uri": "https://localhost:8080/"
        },
        "id": "REIXuPwDweHz",
        "outputId": "5fa867ac-bbfd-4310-a5fe-3165d70c4fd0"
      },
      "source": [
        "import numpy as np\n",
        "dicevalarray, UR3array = getUR3Data()\n",
        "print(dicevalarray)\n",
        "print(np.multiply(UR3array,math.pi/180))"
      ],
      "execution_count": null,
      "outputs": [
        {
          "output_type": "stream",
          "text": [
            "[3, 140, 347, 0]\n",
            "[5.42797397 4.29350996 4.48549618 5.32325422 1.57079633 1.51843645\n",
            " 0.        ]\n"
          ],
          "name": "stdout"
        }
      ]
    },
    {
      "cell_type": "code",
      "metadata": {
        "id": "n-3hlJGa9bXT"
      },
      "source": [
        "import time\n",
        "while True:\n",
        "  # updateValue(str(getDiceValue()[0]))\n",
        "  time.sleep(0.25)\n",
        "  dicevalarray, UR3array = getUR3Data()\n",
        "  print(UR3array)\n",
        "  try:\n",
        "    updateJoints2(np.multiply(UR3array,-math.pi/180))\n",
        "    if dicevalarray[3] == 1:\n",
        "      DiceControl(dicevalarray[3],dicevalarray[0],0.143,-0.312,0,0,0)\n",
        "    else:\n",
        "      DiceControl(dicevalarray[3],dicevalarray[0],dicevalarray[1]*0.001+0.16,dicevalarray[2]*-0.001,0,0,0)\n",
        "    getOnshapeShadedView()\n",
        "    sendPicToTW()\n",
        "  except:\n",
        "    print('fail')"
      ],
      "execution_count": null,
      "outputs": []
    }
  ]
}