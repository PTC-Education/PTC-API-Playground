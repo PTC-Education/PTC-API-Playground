{
  "nbformat": 4,
  "nbformat_minor": 0,
  "metadata": {
    "colab": {
      "name": "Feature Analysis of Public Documents.ipynb",
      "provenance": [],
      "collapsed_sections": [],
      "authorship_tag": "ABX9TyNkw4qnNc2LdkPjwFEzth3g",
      "include_colab_link": true
    },
    "kernelspec": {
      "name": "python3",
      "display_name": "Python 3"
    },
    "language_info": {
      "name": "python"
    }
  },
  "cells": [
    {
      "cell_type": "markdown",
      "metadata": {
        "id": "view-in-github",
        "colab_type": "text"
      },
      "source": [
        "<a href=\"https://colab.research.google.com/github/PTC-Education/PTC-API-Playground/blob/main/Feature_Analysis_of_Public_Documents.ipynb\" target=\"_parent\"><img src=\"https://colab.research.google.com/assets/colab-badge.svg\" alt=\"Open In Colab\"/></a>"
      ]
    },
    {
      "cell_type": "markdown",
      "metadata": {
        "id": "bZP7d2cP8UER"
      },
      "source": [
        "# Configure Onshape Client"
      ]
    },
    {
      "cell_type": "code",
      "metadata": {
        "colab": {
          "resources": {
            "http://localhost:8080/nbextensions/google.colab/files.js": {
              "data": "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",
              "ok": true,
              "headers": [
                [
                  "content-type",
                  "application/javascript"
                ]
              ],
              "status": 200,
              "status_text": ""
            }
          },
          "base_uri": "https://localhost:8080/",
          "height": 90
        },
        "id": "0GT2fRXT4FeS",
        "cellView": "form",
        "outputId": "1c014b88-265f-4d88-c809-101d96730f1f"
      },
      "source": [
        "#@title Import and Setup Onshape Client\n",
        "\n",
        "!pip install onshape-client\n",
        "from onshape_client.client import Client\n",
        "from onshape_client.onshape_url import OnshapeElement\n",
        "import json\n",
        "\n",
        "#@markdown Chage the base if using an enterprise (i.e. \"https://ptc.onshape.com\")\n",
        "base = 'https://cad.onshape.com' #@param {type:\"string\"}\n",
        "\n",
        "#@markdown Would you like to import your API keys from a file, or copy and paste them directly?\n",
        "keyImportOption = \"Upload Keys from File\" #@param [\"Upload Keys from File\", \"Copy/Paste Keys\"]\n",
        "\n",
        "from IPython.display import clear_output \n",
        "clear_output()\n",
        "print(\"Onshape Client successfully imported!\")\n",
        "\n",
        "if keyImportOption == \"Upload Keys from File\":\n",
        "  from google.colab import files\n",
        "  uploaded = files.upload()\n",
        "  for fn in uploaded.keys():\n",
        "    execfile(fn)\n",
        "\n",
        "  client = Client(configuration={\"base_url\": base,\n",
        "                                \"access_key\": access,\n",
        "                                \"secret_key\": secret})\n",
        "  clear_output()\n",
        "  print('Onshape client configured - ready to go!')\n",
        "else:\n",
        "  access = input(\"Paste your Onshape Access Key: \")\n",
        "  secret = input(\"Paste your Onshape Secret Key: \")\n",
        "  client = Client(configuration={\"base_url\": base,\n",
        "                                \"access_key\": access,\n",
        "                                \"secret_key\": secret})\n",
        "  clear_output()\n",
        "  print('Onshape client configured - ready to go!')\n"
      ],
      "execution_count": 1,
      "outputs": [
        {
          "output_type": "stream",
          "name": "stdout",
          "text": [
            "Onshape client configured - ready to go!\n"
          ]
        }
      ]
    },
    {
      "cell_type": "markdown",
      "metadata": {
        "id": "CPrQGLT57H67"
      },
      "source": [
        "# Connect Google Sheets\n",
        "\n",
        "Run one of the two cells below"
      ]
    },
    {
      "cell_type": "code",
      "metadata": {
        "cellView": "form",
        "id": "XG8IVELR4_Vl"
      },
      "source": [
        "#@title Create new sheet\n",
        "#@markdown Run this cell to create a new google sheets document with the following headers\n",
        "\n",
        "#@markdown [URL, Document Name, etc]\n",
        "\n",
        "from google.colab import auth\n",
        "auth.authenticate_user()\n",
        "\n",
        "import gspread\n",
        "from oauth2client.client import GoogleCredentials\n",
        "\n",
        "gc = gspread.authorize(GoogleCredentials.get_application_default())\n",
        "\n",
        "sh = gc.create('Feature Analysis')\n",
        "\n",
        "# Open our new sheet and add some data.\n",
        "worksheet = gc.open('Feature Analysis').sheet1\n",
        "url = \"https://docs.google.com/spreadsheets/d/\"+worksheet.spreadsheet.id\n",
        "print(url)\n",
        "worksheet.insert_row(['URL', 'Document Name'],1)"
      ],
      "execution_count": null,
      "outputs": []
    },
    {
      "cell_type": "code",
      "metadata": {
        "cellView": "form",
        "id": "v29-pW_b6er6"
      },
      "source": [
        "#@title Use existing sheet\n",
        "#@markdown Insert the URL of a google sheets doc with the following headers\n",
        "\n",
        "#@markdown [URL, Document Name, etc]\n",
        "\n",
        "from google.colab import auth\n",
        "auth.authenticate_user()\n",
        "\n",
        "import gspread\n",
        "from oauth2client.client import GoogleCredentials\n",
        "\n",
        "gc = gspread.authorize(GoogleCredentials.get_application_default())\n",
        "\n",
        "url = \"https://docs.google.com/spreadsheets/d/1FKLvWxC3mQcviejpcper2S-VU6v9zC9qlJD9CxUXCRQ/edit#gid=0\" #@param {type:\"string\"}\n",
        "sheetName = \"PartStudios\" #@param {type:\"string\"}\n",
        "# Open our new sheet and add some data.\n",
        "worksheet = gc.open_by_url(url)\n",
        "worksheet = worksheet.worksheet(sheetName)"
      ],
      "execution_count": 26,
      "outputs": []
    },
    {
      "cell_type": "markdown",
      "metadata": {
        "id": "lZTWMbwyGwL-"
      },
      "source": [
        "# Define Onshape Functions\n"
      ]
    },
    {
      "cell_type": "markdown",
      "metadata": {
        "id": "7YztRgn3llyx"
      },
      "source": [
        "## Document Functions"
      ]
    },
    {
      "cell_type": "code",
      "metadata": {
        "cellView": "form",
        "id": "-BpdHOjHlh0j"
      },
      "source": [
        "#@title Get List of Elements in Document\n",
        "#@markdown Function `documentElementsList(url: str)` returns JSON of all elements in a document\n",
        "url = 'https://brazosportisd.onshape.com/documents/70189407bb90b19e3e48fa4f/w/a5f425efa0185c1ddd6930cc/e/8cc250fdcbe8fc02acd0ea29?aa=true' #@param {type:\"string\"}\n",
        "showResponse = True #@param {type:\"boolean\"}\n",
        "\n",
        "def documentElementsList(url: str):\n",
        "  fixed_url = '/api/documents/d/did/w/wid/elements'\n",
        "  element = OnshapeElement(url)\n",
        "  fixed_url = fixed_url.replace('did', element.did)\n",
        "  fixed_url = fixed_url.replace('wid', element.wvmid)\n",
        "  method = 'GET'\n",
        "\n",
        "  params = {}\n",
        "  payload = {}\n",
        "  headers = {'Accept': 'application/vnd.onshape.v1+json',\n",
        "            'Content-Type': 'application/json'}\n",
        "\n",
        "  response = client.api_client.request(method, url=base + fixed_url, query_params=params, headers=headers, body=payload)\n",
        "\n",
        "  parsed = json.loads(response.data)\n",
        "  # The command below prints the entire JSON response from Onshape\n",
        "  # print(json.dumps(parsed, indent=4, sort_keys=True))\n",
        "  return parsed\n",
        "\n",
        "if showResponse:\n",
        "  elementList = documentElementsList(url)\n",
        "  print(json.dumps(elementList, indent=4, sort_keys=True))\n",
        "else:\n",
        "  pass"
      ],
      "execution_count": null,
      "outputs": []
    },
    {
      "cell_type": "code",
      "metadata": {
        "cellView": "form",
        "id": "eJCpiHXpmes1"
      },
      "source": [
        "#@title Get Document Info\n",
        "#@markdown Function `documentElement(url: str)` returns JSON of all elements in a document\n",
        "url = 'https://cad.onshape.com/documents/e83ac518fd184ff1fe94beda/w/0e658e2953c99c66acdf3c09/e/0db5e995acdfb94b0b9237f4' #@param {type:\"string\"}\n",
        "showResponse = True #@param {type:\"boolean\"}\n",
        "\n",
        "def documentElement(url: str):\n",
        "  fixed_url = '/api/documents/did'\n",
        "  element = OnshapeElement(url)\n",
        "  fixed_url = fixed_url.replace('did', element.did)\n",
        "  method = 'GET'\n",
        "\n",
        "  params = {}\n",
        "  payload = {}\n",
        "  headers = {'Accept': 'application/vnd.onshape.v1+json',\n",
        "            'Content-Type': 'application/json'}\n",
        "\n",
        "  response = client.api_client.request(method, url=base + fixed_url, query_params=params, headers=headers, body=payload)\n",
        "\n",
        "  parsed = json.loads(response.data)\n",
        "  # The command below prints the entire JSON response from Onshape\n",
        "  # print(json.dumps(parsed, indent=4, sort_keys=True))\n",
        "  return parsed\n",
        "\n",
        "if showResponse:\n",
        "  documentInfo = documentElement(url)\n",
        "  print(json.dumps(documentInfo, indent=4, sort_keys=True))\n",
        "else:\n",
        "  pass"
      ],
      "execution_count": null,
      "outputs": []
    },
    {
      "cell_type": "markdown",
      "metadata": {
        "id": "TNlNtIzhlpFi"
      },
      "source": [
        "## PartStudio Functions\n"
      ]
    },
    {
      "cell_type": "code",
      "metadata": {
        "id": "fFmLqnioM7-K",
        "cellView": "form"
      },
      "source": [
        "#@title Get Parts in Document\n",
        "#@markdown Funciton `getPartsInDocument(url: str)` returns JSON of all parts in a document\n",
        "url = 'https://cad.onshape.com/documents/0978f4acc704f932922b4d3f/w/fc91782f631a87ad80a4afb3/e/2cf60d208b0aeefd767e20c9' #@param {type:\"string\"}\n",
        "showResponse = True #@param {type:\"boolean\"}\n",
        "def getPartsInDocument(url: str):\n",
        "  fixed_url = '/api/parts/d/did/w/wid'\n",
        "\n",
        "  element = OnshapeElement(url)\n",
        "  fixed_url = fixed_url.replace('did', element.did)\n",
        "  fixed_url = fixed_url.replace('wid', element.wvmid)\n",
        "\n",
        "  method = 'GET'\n",
        "\n",
        "  params = {}\n",
        "  payload = {}\n",
        "  headers = {'Accept': 'application/vnd.onshape.v1+json; charset=UTF-8;qs=0.1',\n",
        "            'Content-Type': 'application/json'}\n",
        "\n",
        "  response = client.api_client.request(method, url=base + fixed_url, query_params=params, headers=headers, body=payload)\n",
        "\n",
        "  parsed = json.loads(response.data)\n",
        "  return parsed\n",
        "\n",
        "if showResponse:\n",
        "  partResponse = getPartsInDocument(url)\n",
        "  print(json.dumps(partResponse, indent=4, sort_keys=True))\n",
        "else:\n",
        "  pass"
      ],
      "execution_count": null,
      "outputs": []
    },
    {
      "cell_type": "code",
      "metadata": {
        "id": "oRXEek7SOQ0v",
        "cellView": "form"
      },
      "source": [
        "#@title Get Parts in Part Studio\n",
        "#@markdown Funciton `getPartsInPartStudio(url: str)` returns JSON of all parts in a part studio\n",
        "url = 'https://cad.onshape.com/documents/0978f4acc704f932922b4d3f/w/fc91782f631a87ad80a4afb3/e/2cf60d208b0aeefd767e20c9' #@param {type:\"string\"}\n",
        "showResponse = True #@param {type:\"boolean\"}\n",
        "def getPartsInPartStudio(url: str):\n",
        "  fixed_url = '/api/parts/d/did/w/wid/e/eid/'\n",
        "\n",
        "  element = OnshapeElement(url)\n",
        "  fixed_url = fixed_url.replace('did', element.did)\n",
        "  fixed_url = fixed_url.replace('wid', element.wvmid)\n",
        "  fixed_url = fixed_url.replace('eid', element.eid)\n",
        "\n",
        "  method = 'GET'\n",
        "\n",
        "  params = {}\n",
        "  payload = {}\n",
        "  headers = {'Accept': 'application/vnd.onshape.v1+json; charset=UTF-8;qs=0.1',\n",
        "            'Content-Type': 'application/json'}\n",
        "\n",
        "  response = client.api_client.request(method, url=base + fixed_url, query_params=params, headers=headers, body=payload)\n",
        "\n",
        "  parsed = json.loads(response.data)\n",
        "  # The command below prints the entire JSON response from Onshape\n",
        "  # print(json.dumps(parsed, indent=4, sort_keys=True))\n",
        "  return parsed\n",
        "\n",
        "if showResponse:\n",
        "  partResponse = getPartsInPartStudio('https://cad.onshape.com/documents/263517311c2ad139d4eb57ca/w/b45057ae06777e0c28bca6c5/e/d316bcbc694c9dbb6555f340')\n",
        "  print(json.dumps(partResponse, indent=4, sort_keys=True))\n",
        "else:\n",
        "  pass"
      ],
      "execution_count": null,
      "outputs": []
    },
    {
      "cell_type": "code",
      "metadata": {
        "cellView": "form",
        "id": "J88cfAwT_TxV"
      },
      "source": [
        "#@title Get Feature Specs from Part Studio\n",
        "#@markdown Funciton `getFeatureSpecs(url: str)` returns JSON of all features in a part studio\n",
        "url = 'https://cad.onshape.com/documents/5ca2ec2cc054ec2c8e27ebf0/w/b674f0460c028845e0870206/e/9c0befb5535ff5856fd008d5' #@param {type:\"string\"}\n",
        "showResponse = False #@param {type:\"boolean\"}\n",
        "def getFeatureSpecs(url: str):\n",
        "  fixed_url = '/api/partstudios/d/did/w/wid/e/eid/featurespecs'\n",
        "\n",
        "  element = OnshapeElement(url)\n",
        "  fixed_url = fixed_url.replace('did', element.did)\n",
        "  fixed_url = fixed_url.replace('wid', element.wvmid)\n",
        "  fixed_url = fixed_url.replace('eid', element.eid)\n",
        "\n",
        "  method = 'GET'  \n",
        "  params = {}\n",
        "  payload = {}\n",
        "  headers = {'Accept': 'application/vnd.onshape.v1+json; charset=UTF-8;qs=0.1',\n",
        "            'Content-Type': 'application/json'}\n",
        "\n",
        "  response = client.api_client.request(method, url=base + fixed_url, query_params=params, headers=headers, body=payload)\n",
        "  parsed = json.loads(response.data)\n",
        "  # The command below prints the entire JSON response from Onshape\n",
        "  # print(json.dumps(parsed, indent=4, sort_keys=True))\n",
        "  return parsed\n",
        "if showResponse:\n",
        "  featureResponse = getFeatureList(url)\n",
        "  # print(json.dumps(featureResponse, indent=4, sort_keys=True))\n",
        "else:\n",
        "  pass\n"
      ],
      "execution_count": null,
      "outputs": []
    },
    {
      "cell_type": "code",
      "metadata": {
        "id": "n3s_7-a-DI45",
        "cellView": "form"
      },
      "source": [
        "#@title Get FeatureScript from Part Studio\n",
        "#@markdown Funciton `getFeatureScriptRepresentation(url: str)` returns JSON of all features in a part studio\n",
        "url = 'https://cad.onshape.com/documents/673abef9191b151e6c18bd97/w/39b1c73934e6d958b2c59f9c/e/9e18ff8506a348a1d344f469' #@param {type:\"string\"}\n",
        "showResponse = False #@param {type:\"boolean\"}\n",
        "def getFeatureScriptRepresentation(url: str):\n",
        "  fixed_url = '/api/partstudios/d/did/w/wid/e/eid/featurescriptrepresentation'\n",
        "\n",
        "  element = OnshapeElement(url)\n",
        "  fixed_url = fixed_url.replace('did', element.did)\n",
        "  fixed_url = fixed_url.replace('wid', element.wvmid)\n",
        "  fixed_url = fixed_url.replace('eid', element.eid)\n",
        "\n",
        "  method = 'GET'  \n",
        "  params = {}\n",
        "  payload = {}\n",
        "  headers = {'Accept': 'application/vnd.onshape.v1+json; charset=UTF-8;qs=0.1',\n",
        "            'Content-Type': 'application/json'}\n",
        "\n",
        "  response = client.api_client.request(method, url=base + fixed_url, query_params=params, headers=headers, body=payload)\n",
        "  parsed = json.loads(response.data)\n",
        "  # The command below prints the entire JSON response from Onshape\n",
        "  # print(json.dumps(parsed, indent=4, sort_keys=True))\n",
        "  return parsed\n",
        "if showResponse:\n",
        "  featureResponse = getFeatureScriptRepresentation(url)\n",
        "  print(json.dumps(featureResponse, indent=4, sort_keys=True))\n",
        "else:\n",
        "  pass\n"
      ],
      "execution_count": null,
      "outputs": []
    },
    {
      "cell_type": "code",
      "metadata": {
        "id": "pcUDZI5-KRTP",
        "cellView": "form"
      },
      "source": [
        "#@title Get Feature List from Part Studio\n",
        "#@markdown Funciton `getFeatureList(url: str)` returns JSON of all features in a part studio\n",
        "url = 'https://cad.onshape.com/documents/5ca2ec2cc054ec2c8e27ebf0/w/b674f0460c028845e0870206/e/9c0befb5535ff5856fd008d5' #@param {type:\"string\"}\n",
        "showResponse = False #@param {type:\"boolean\"}\n",
        "def getFeatureList(url: str):\n",
        "  fixed_url = '/api/partstudios/d/did/w/wid/e/eid/features'\n",
        "\n",
        "  element = OnshapeElement(url)\n",
        "  fixed_url = fixed_url.replace('did', element.did)\n",
        "  fixed_url = fixed_url.replace('wid', element.wvmid)\n",
        "  fixed_url = fixed_url.replace('eid', element.eid)\n",
        "\n",
        "  method = 'GET'  \n",
        "  params = {}\n",
        "  payload = {}\n",
        "  headers = {'Accept': 'application/vnd.onshape.v1+json; charset=UTF-8;qs=0.1',\n",
        "            'Content-Type': 'application/json'}\n",
        "\n",
        "  response = client.api_client.request(method, url=base + fixed_url, query_params=params, headers=headers, body=payload)\n",
        "  parsed = json.loads(response.data)\n",
        "  # The command below prints the entire JSON response from Onshape\n",
        "  # print(json.dumps(parsed, indent=4, sort_keys=True))\n",
        "  return parsed\n",
        "if showResponse:\n",
        "  featureResponse = getFeatureList(url)\n",
        "  print(json.dumps(featureResponse, indent=4, sort_keys=True))\n",
        "else:\n",
        "  pass\n"
      ],
      "execution_count": 24,
      "outputs": []
    },
    {
      "cell_type": "code",
      "metadata": {
        "id": "PPTVdCrfC5Zx",
        "cellView": "form"
      },
      "source": [
        "#@title Get PartStduio Metadata\n",
        "#@markdown Funciton `getPartStudioMetadata(url: str)` returns JSON of part studio metadata\n",
        "url = 'https://cad.onshape.com/documents/e83ac518fd184ff1fe94beda/w/0e658e2953c99c66acdf3c09/e/6de5c62e4b15033ee6d63562' #@param {type:\"string\"}\n",
        "showResponse = True #@param {type:\"boolean\"}\n",
        "def getPartStudioMetadata(url: str):\n",
        "  fixed_url = '/api/metadata/d/did/w/wid/e/eid/'\n",
        "\n",
        "  element = OnshapeElement(url)\n",
        "  fixed_url = fixed_url.replace('did', element.did)\n",
        "  fixed_url = fixed_url.replace('wid', element.wvmid)\n",
        "  fixed_url = fixed_url.replace('eid', element.eid)\n",
        "\n",
        "  method = 'GET'\n",
        "\n",
        "  params = {}\n",
        "  payload = {}\n",
        "  headers = {'Accept': 'application/vnd.onshape.v1+json; charset=UTF-8;qs=0.1',\n",
        "            'Content-Type': 'application/json'}\n",
        "\n",
        "  response = client.api_client.request(method, url=base + fixed_url, query_params=params, headers=headers, body=payload)\n",
        "\n",
        "  parsed = json.loads(response.data)\n",
        "  # The command below prints the entire JSON response from Onshape\n",
        "  # print(json.dumps(parsed, indent=4, sort_keys=True))\n",
        "  return parsed\n",
        "if showResponse:\n",
        "  partStudioMetadata = getPartStudioMetadata('https://cad.onshape.com/documents/263517311c2ad139d4eb57ca/w/b45057ae06777e0c28bca6c5/e/d316bcbc694c9dbb6555f340')\n",
        "  print(json.dumps(partStudioMetadata, indent=4, sort_keys=True))\n",
        "else:\n",
        "  pass\n"
      ],
      "execution_count": null,
      "outputs": []
    },
    {
      "cell_type": "markdown",
      "metadata": {
        "id": "M2k351ekKTCE"
      },
      "source": [
        "# Get list of Onshape URLs to Analyze"
      ]
    },
    {
      "cell_type": "code",
      "metadata": {
        "id": "cZU8MjabKqO2",
        "cellView": "form"
      },
      "source": [
        "#@title Load worksheet into dataframe\n",
        "\n",
        "import pandas as pd\n",
        "from gspread_dataframe import set_with_dataframe\n",
        "\n",
        "# sheet_id = worksheet.spreadsheet.id\n",
        "# sheet_name = 'Sheet1'\n",
        "# url = f\"https://docs.google.com/spreadsheets/d/{sheet_id}/gviz/tq?tqx=out:csv&sheet={sheet_name}\"\n",
        "\n",
        "df = pd.DataFrame(worksheet.get_all_records())\n",
        "df.head()\n",
        "print(df)"
      ],
      "execution_count": null,
      "outputs": []
    },
    {
      "cell_type": "code",
      "source": [
        "#@title Get all part studios in document\n",
        "\n",
        "partStudioList = []\n",
        "\n",
        "basic_url = 'https://cad.onshape.com/documents/did/w/wid/e/eid'\n",
        "\n",
        "for i, url in enumerate(df['Link to Onshape Document']):\n",
        "  try:\n",
        "    elementList = documentElementsList(url)\n",
        "    for x in elementList:\n",
        "      basic_url = 'https://cad.onshape.com/documents/did/w/wid/e/eid'\n",
        "      if x['elementType'] == \"PARTSTUDIO\":\n",
        "        element = OnshapeElement(url)\n",
        "        basic_url = basic_url.replace('did', element.did)\n",
        "        basic_url = basic_url.replace('wid', element.wvmid)\n",
        "        basic_url = basic_url.replace('eid', x['id'])\n",
        "        partStudioList.append(basic_url)\n",
        "  except:\n",
        "    print(url)\n",
        "\n",
        "partStudioDF = pd.DataFrame(partStudioList,columns=['url'])\n",
        "print(partStudioDF)\n",
        "set_with_dataframe(worksheet,partStudioDF)"
      ],
      "metadata": {
        "cellView": "form",
        "id": "ZF4X8jtFZwZQ"
      },
      "execution_count": null,
      "outputs": []
    },
    {
      "cell_type": "code",
      "metadata": {
        "id": "U6Fh0uUu8Wzz"
      },
      "source": [
        "#@title Get document info for all URLs and update sheet\n",
        "\n",
        "for i, url in enumerate(df['URL']):\n",
        "  documentInfo = documentElement(url)\n",
        "  df['Document Name'][i] = documentInfo['name']\n",
        "set_with_dataframe(worksheet,df)"
      ],
      "execution_count": null,
      "outputs": []
    },
    {
      "cell_type": "code",
      "metadata": {
        "id": "3NOwAFwbap18"
      },
      "source": [
        "#@title Get feature list (with Sketch Data) for all URLs and update sheet\n",
        "\n",
        "for i, url in enumerate(df['URL']):\n",
        "  featureList = getFeatureList(url)\n",
        "  featureArray = []\n",
        "  for features in featureList['features']:\n",
        "    if features['message']['featureType'] == \"newSketch\":\n",
        "      entities = len(features['message']['entities'])\n",
        "      constraints = len(features['message']['constraints'])\n",
        "      featureArray.append([features['message']['featureType'],{\"entities\":entities,\"constraints\":constraints}])\n",
        "    else:\n",
        "      featureArray.append(features['message']['featureType'])\n",
        "  df['# of Features'][i] = len(featureArray)\n",
        "  df['Features Listed (sketch data)'][i] = featureArray\n",
        "set_with_dataframe(worksheet,df)"
      ],
      "execution_count": 28,
      "outputs": []
    },
    {
      "cell_type": "code",
      "metadata": {
        "id": "t_WrGZ56ya-w"
      },
      "source": [
        "#@title Get feature list (basic) for all URLs and update sheet\n",
        "\n",
        "for i, url in enumerate(df['URL']):\n",
        "  featureList = getFeatureList(url)\n",
        "  featureArray = []\n",
        "  for features in featureList['features']:\n",
        "    featureArray.append(features['message']['featureType'])\n",
        "  df['Features Listed (basic)'][i] = featureArray\n",
        "set_with_dataframe(worksheet,df)"
      ],
      "execution_count": null,
      "outputs": []
    },
    {
      "cell_type": "code",
      "metadata": {
        "id": "OCl28ptiEEbt"
      },
      "source": [
        "#@title Get parts list for all URLs and update sheet\n",
        "\n",
        "for i, url in enumerate(df['URL']):\n",
        "  try:\n",
        "    partList = getPartsInPartStudio(url)\n",
        "    partArray = []\n",
        "    for parts in partList:\n",
        "      partArray.append(parts['name'])\n",
        "    df['# of Parts'][i] = len(partArray)\n",
        "    df['Part Names Listed'][i] = partArray\n",
        "  except:\n",
        "    print(url)\n",
        "set_with_dataframe(worksheet,df)"
      ],
      "execution_count": null,
      "outputs": []
    },
    {
      "cell_type": "markdown",
      "metadata": {
        "id": "yG74jzhF9ang"
      },
      "source": [
        "# Classificiation and Analysis"
      ]
    },
    {
      "cell_type": "code",
      "metadata": {
        "id": "jPotEvnZ9c-S"
      },
      "source": [
        "#@title Classify in groups\n",
        "featureGroup1 = [\"newSketch\"] #@param\n",
        "featureGroup2 = [\"extrude\",\"revolve\",\"sweep\",\"thicken\",\"loft\"] #@param\n",
        "featureGroup3 = [\"fillet\",\"chamfer\",\"draft\",\"rib\",\"shell\",\"hole\"] #@param\n",
        "featureGroup4 = [\"linearPattern\",\"circularPattern\",\"curvePattern\",\"mirror\"] #@param\n",
        "featureGroup5 = [\"boolean\",\"split\",\"transform\",\"wrap\",\"deletePart\"] #@param\n",
        "featureGroup6 = [\"cPlane\"] #@param\n",
        "\n",
        "\n",
        "def classify_feature_type(action: str) -> int:\n",
        "    # Sketch\n",
        "    if action in featureGroup1:\n",
        "        return 0\n",
        "    # Create Part\n",
        "    elif action in featureGroup2:\n",
        "        return 1\n",
        "    # Modify Part\n",
        "    elif action in featureGroup3:\n",
        "        return 2\n",
        "    # Duplicating Parts/Features\n",
        "    elif action in featureGroup4:\n",
        "        return 3\n",
        "    # Combining/Moving Parts\n",
        "    elif action in featureGroup5:\n",
        "        return 4\n",
        "    # Combining/Moving Parts\n",
        "    elif action in featureGroup6:\n",
        "        return 5\n",
        "    # Not classified (Optional: print out the unclassified actions)\n",
        "    else:\n",
        "        return -1"
      ],
      "execution_count": null,
      "outputs": []
    },
    {
      "cell_type": "code",
      "metadata": {
        "colab": {
          "base_uri": "https://localhost:8080/"
        },
        "id": "icl_EbT48RtY",
        "outputId": "c79eae71-e7b0-4437-82bb-2777737b16bb"
      },
      "source": [
        "classify_feature_type('newSketch')"
      ],
      "execution_count": null,
      "outputs": [
        {
          "output_type": "stream",
          "name": "stdout",
          "text": [
            "newSketch\n"
          ]
        },
        {
          "output_type": "execute_result",
          "data": {
            "text/plain": [
              "0"
            ]
          },
          "metadata": {},
          "execution_count": 41
        }
      ]
    },
    {
      "cell_type": "code",
      "metadata": {
        "id": "oKOytpx9EiNO",
        "colab": {
          "base_uri": "https://localhost:8080/"
        },
        "outputId": "cd418cea-c5ae-4683-cb17-bd6bab38613b"
      },
      "source": [
        "for featList in df['Features Listed (basic)']:\n",
        "  categorized = []\n",
        "  featList = featList.strip(\"[]\")\n",
        "  featList = featList.strip(\" \")\n",
        "  featList = featList.split(\",\")\n",
        "  for feature in featList:\n",
        "    feature = feature.strip(\" \")\n",
        "    categorized.append(classify_feature_type(str(feature.replace(\"'\",\"\"))))\n",
        "  print(categorized)"
      ],
      "execution_count": null,
      "outputs": [
        {
          "output_type": "stream",
          "name": "stdout",
          "text": [
            "[0, 1, 0, 1, 2, 2, 0, 2, 2]\n",
            "[0, 1, 1, 2, 2, 2]\n",
            "[5, 5, 5, 5, 5, -1, 4, 2, 4, 4, 4, -1, -1, 2, -1, -1, -1, 3, 2, 2, -1]\n",
            "[5, 5, 5, 5, 5, -1, 4, 4, 2, 4, 4, 4, 4, 4, 3, 4, 4, 4, -1, 2, 2, 2]\n",
            "[0, 1, 1, 2, 2, 0, 1, 1, 2, 2, 3, 3, 3, 3, 3, 5, 0, 1, 2, 0, 2]\n",
            "[0, 1, 0, 1, 0, 2]\n",
            "[0, 1, 0, 1, 1, 2, 2, 2]\n",
            "[0, 1, 0, 1, 2, 3, 2]\n",
            "[0, 1, 2, 5, 0, 2, 0, 1]\n"
          ]
        }
      ]
    },
    {
      "cell_type": "code",
      "metadata": {
        "id": "g7zIfzGxrZ7n"
      },
      "source": [
        "plt.rcParams[\"figure.figsize\"] = (10, 5)  # Resize the plot\n",
        "\n",
        "plt.eventplot(position, lineoffsets=offset,linelengths=linelengths1, linewidths= 1, colors=colors1)\n",
        "y = [\"Group 1\", \"Group 2\", \"Group 3\", \"Group 4\", \"Group 5\"]\n",
        "plt.yticks(np.arange(len(y)), y)\n",
        "plt.xlabel(\"Feature Number\")\n",
        "# removing \"_cleaned\" from the plot title\n",
        "fileName = fileName.replace(\"_cleaned\",\"\")\n",
        "#print(fileName)\n",
        "# add filename as title\n",
        "plt.title(fileName, fontdict=None, loc='center', pad=6)\n",
        "plt.tight_layout()"
      ],
      "execution_count": null,
      "outputs": []
    }
  ]
}