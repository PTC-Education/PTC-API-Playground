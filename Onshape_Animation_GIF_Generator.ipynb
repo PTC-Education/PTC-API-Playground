{
  "nbformat": 4,
  "nbformat_minor": 0,
  "metadata": {
    "colab": {
      "name": "Onshape Animation GIF Generator.ipynb",
      "provenance": [],
      "collapsed_sections": [],
      "authorship_tag": "ABX9TyOvD00bKhDi5CgcT+q2SQrq",
      "include_colab_link": true
    },
    "kernelspec": {
      "name": "python3",
      "display_name": "Python 3"
    },
    "language_info": {
      "name": "python"
    }
  },
  "cells": [
    {
      "cell_type": "markdown",
      "metadata": {
        "id": "view-in-github",
        "colab_type": "text"
      },
      "source": [
        "<a href=\"https://colab.research.google.com/github/PTC-Education/PTC-API-Playground/blob/main/Onshape_Animation_GIF_Generator.ipynb\" target=\"_parent\"><img src=\"https://colab.research.google.com/assets/colab-badge.svg\" alt=\"Open In Colab\"/></a>"
      ]
    },
    {
      "cell_type": "code",
      "metadata": {
        "id": "c_ha0MXzo41E"
      },
      "source": [
        "!pip install onshape-client\n",
        "from onshape_client.client import Client\n",
        "import json\n",
        "base = 'https://cad.onshape.com' # change this if you're using a document in an enterprise (i.e. \"https://ptc.onshape.com\")"
      ],
      "execution_count": null,
      "outputs": []
    },
    {
      "cell_type": "code",
      "metadata": {
        "id": "ngKcboUUo5g6"
      },
      "source": [
        "from google.colab import files\n",
        "\n",
        "uploaded = files.upload()\n",
        "for fn in uploaded.keys():\n",
        "  execfile(fn)\n",
        "\n",
        "client = Client(configuration={\"base_url\": base,\n",
        "                               \"access_key\": access,\n",
        "                               \"secret_key\": secret})\n",
        "print('client configured')"
      ],
      "execution_count": null,
      "outputs": []
    },
    {
      "cell_type": "code",
      "metadata": {
        "id": "RpZ-2PQbpbtk"
      },
      "source": [
        "def moveMate(rot):\n",
        "  fixed_url = '/api/assemblies/d/did/w/wid/e/eid/matevalues'\n",
        "\n",
        "  # https://cad.onshape.com/documents/cc9c5cb9912e286856491ca1/w/46ca1ebc66132096757402de/e/b23d54c6d17e2dc553e99171\n",
        "  did = 'cc9c5cb9912e286856491ca1'\n",
        "  wid = '46ca1ebc66132096757402de'\n",
        "  eid = 'b23d54c6d17e2dc553e99171'\n",
        "\n",
        "  method = 'GET'\n",
        "\n",
        "  params = {}\n",
        "  payload = {}\n",
        "  headers = {'Accept': 'application/vnd.onshape.v2+json',\n",
        "              'Content-Type': 'application/vnd.onshape.v2+json'}\n",
        "\n",
        "  fixed_url = fixed_url.replace('did', did)\n",
        "  fixed_url = fixed_url.replace('wid', wid)\n",
        "  fixed_url = fixed_url.replace('eid', eid)\n",
        "\n",
        "  response = client.api_client.request(method, url=base + fixed_url, query_params=params, headers=headers, body=payload)\n",
        "\n",
        "  parsed = json.loads(response.data)\n",
        "  # The command below prints the entire JSON response from Onshape\n",
        "  parsed['mateValues'][0]['rotationZ'] = rot\n",
        "\n",
        "  response = client.api_client.request('POST', url=base + fixed_url, query_params=params, headers=headers, body=parsed)\n",
        "\n",
        "moveMate(1)"
      ],
      "execution_count": 114,
      "outputs": []
    },
    {
      "cell_type": "code",
      "metadata": {
        "id": "jl_NfKI-Qr3F"
      },
      "source": [
        "fixed_url = '/api/assemblies/d/did/e/eid/namedViews'\n",
        "\n",
        "# https://cad.onshape.com/documents/cc9c5cb9912e286856491ca1/w/46ca1ebc66132096757402de/e/b23d54c6d17e2dc553e99171\n",
        "did = 'cc9c5cb9912e286856491ca1'\n",
        "wid = '46ca1ebc66132096757402de'\n",
        "eid = 'b23d54c6d17e2dc553e99171'\n",
        "\n",
        "method = 'GET'\n",
        "\n",
        "params = {}\n",
        "payload = {}\n",
        "headers = {'Accept': 'application/vnd.onshape.v1+json',\n",
        "            'Content-Type': 'application/json'}\n",
        "\n",
        "fixed_url = fixed_url.replace('did', did)\n",
        "fixed_url = fixed_url.replace('wid', wid)\n",
        "fixed_url = fixed_url.replace('eid', eid)\n",
        "\n",
        "response = client.api_client.request(method, url=base + fixed_url, query_params=params, headers=headers, body=payload)\n",
        "print(response.data)\n",
        "\n",
        "parsed = json.loads(response.data)\n",
        "# The command below prints the entire JSON response from Onshape"
      ],
      "execution_count": null,
      "outputs": []
    },
    {
      "cell_type": "code",
      "metadata": {
        "id": "MwbM1Yu_NN_d"
      },
      "source": [
        "import base64\n",
        "def shadedViews():\n",
        "  fixed_url = '/api/assemblies/d/did/w/wid/e/eid/shadedviews'\n",
        "\n",
        "  # https://cad.onshape.com/documents/cc9c5cb9912e286856491ca1/w/46ca1ebc66132096757402de/e/b23d54c6d17e2dc553e99171\n",
        "  did = 'cc9c5cb9912e286856491ca1'\n",
        "  wid = '46ca1ebc66132096757402de'\n",
        "  eid = 'b23d54c6d17e2dc553e99171'\n",
        "\n",
        "  method = 'GET'\n",
        "\n",
        "  params = {'viewMatrix':'0.612,0.612,0,0,-0.354,0.354,0.707,0,0.707,-0.707,0.707,0',\n",
        "            'edges':'show',\n",
        "            'outputHeight':500,\n",
        "            'outputWidth':500,\n",
        "            'pixelSize':0.0005}\n",
        "  payload = {}\n",
        "  headers = {'Accept': 'application/vnd.onshape.v1+json',\n",
        "              'Content-Type': 'application/json'}\n",
        "\n",
        "  fixed_url = fixed_url.replace('did', did)\n",
        "  fixed_url = fixed_url.replace('wid', wid)\n",
        "  fixed_url = fixed_url.replace('eid', eid)\n",
        "\n",
        "  response = client.api_client.request(method, url=base + fixed_url, query_params=params, headers=headers, body=payload)\n",
        "\n",
        "  parsed = json.loads(response.data)\n",
        "\n",
        "  imgdata = base64.b64decode(parsed['images'][0])\n",
        "  \n",
        "  return imgdata\n",
        "  # with open(filename, 'wb') as f:\n",
        "  #     f.write(imgdata)"
      ],
      "execution_count": 120,
      "outputs": []
    },
    {
      "cell_type": "code",
      "metadata": {
        "id": "pdUEi4F76z_F"
      },
      "source": [
        "import time\n",
        "import imageio\n",
        "import io\n",
        "images = []\n",
        "for i in range(10):\n",
        "  moveMate(i/10)\n",
        "  images.append(imageio.imread(io.BytesIO(shadedViews())))\n",
        "\n",
        "imageio.mimsave('OnshapeGif.gif', images)\n"
      ],
      "execution_count": 121,
      "outputs": []
    }
  ]
}