{
  "nbformat": 4,
  "nbformat_minor": 0,
  "metadata": {
    "colab": {
      "name": "Onshape Flyover GIF Generator.ipynb",
      "provenance": [],
      "collapsed_sections": [],
      "authorship_tag": "ABX9TyN6nPWBnroJ5WVh/J975AEU",
      "include_colab_link": true
    },
    "kernelspec": {
      "name": "python3",
      "display_name": "Python 3"
    },
    "language_info": {
      "name": "python"
    }
  },
  "cells": [
    {
      "cell_type": "markdown",
      "metadata": {
        "id": "view-in-github",
        "colab_type": "text"
      },
      "source": [
        "<a href=\"https://colab.research.google.com/github/PTC-Education/PTC-API-Playground/blob/main/Onshape_Flyover_GIF_Generator.ipynb\" target=\"_parent\"><img src=\"https://colab.research.google.com/assets/colab-badge.svg\" alt=\"Open In Colab\"/></a>"
      ]
    },
    {
      "cell_type": "code",
      "metadata": {
        "colab": {
          "base_uri": "https://localhost:8080/",
          "resources": {
            "http://localhost:8080/nbextensions/google.colab/files.js": {
              "data": "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",
              "ok": true,
              "headers": [
                [
                  "content-type",
                  "application/javascript"
                ]
              ],
              "status": 200,
              "status_text": ""
            }
          },
          "height": 90
        },
        "id": "6VUCp2uJk9ny",
        "cellView": "form",
        "outputId": "960ccf5b-7873-49f7-fc08-c794218ae3f2"
      },
      "source": [
        "#@title Import and Setup Onshape Client\n",
        "\n",
        "!pip install onshape-client\n",
        "from onshape_client.client import Client\n",
        "from onshape_client.onshape_url import OnshapeElement\n",
        "import json\n",
        "\n",
        "#@markdown Chage the base if using an enterprise (i.e. \"https://ptc.onshape.com\")\n",
        "base = 'https://cad.onshape.com' #@param {type:\"string\"}\n",
        "\n",
        "#@markdown Would you like to import your API keys from a file, or copy and paste them directly?\n",
        "keyImportOption = \"Upload Keys from File\" #@param [\"Upload Keys from File\", \"Copy/Paste Keys\"]\n",
        "\n",
        "from IPython.display import clear_output \n",
        "clear_output()\n",
        "print(\"Onshape Client successfully imported!\")\n",
        "\n",
        "if keyImportOption == \"Upload Keys from File\":\n",
        "  from google.colab import files\n",
        "  uploaded = files.upload()\n",
        "  for fn in uploaded.keys():\n",
        "    execfile(fn)\n",
        "\n",
        "  client = Client(configuration={\"base_url\": base,\n",
        "                                \"access_key\": access,\n",
        "                                \"secret_key\": secret})\n",
        "  clear_output()\n",
        "  print('Onshape client configured - ready to go!')\n",
        "else:\n",
        "  access = input(\"Paste your Onshape Access Key: \")\n",
        "  secret = input(\"Paste your Onshape Secret Key: \")\n",
        "  client = Client(configuration={\"base_url\": base,\n",
        "                                \"access_key\": access,\n",
        "                                \"secret_key\": secret})\n",
        "  clear_output()\n",
        "  print('Onshape client configured - ready to go!')\n"
      ],
      "execution_count": 1,
      "outputs": [
        {
          "output_type": "stream",
          "name": "stdout",
          "text": [
            "Onshape client configured - ready to go!\n"
          ]
        }
      ]
    },
    {
      "cell_type": "markdown",
      "metadata": {
        "id": "FoYg6wVhXgMt"
      },
      "source": [
        "## Define image functions"
      ]
    },
    {
      "cell_type": "code",
      "metadata": {
        "id": "3LLJYk954g3y",
        "cellView": "form"
      },
      "source": [
        "#@title Get Shaded View of Assembly\n",
        "#@markdown Defines funciton `assembliesShadedView(url:str,viewMatrix = \"front\",pixelSize = 0.003,edges = \"show\",filename = \"image.jpg\")`, which returns the base64 image data of an assembly and saves the image as a jpeg called \"image.jpg\"\n",
        "\n",
        "#@markdown URL must be to an assembly\n",
        "url = 'https://cad.onshape.com/documents/fb00ed566c3e0934ae91d74c/w/80749fc9b1aa0adab776dc56/e/f17ce18736063f03b8d7dd9a' #@param {type:\"string\"}\n",
        "#@markdown viewMatrix can be any face direction (top, front, right, etc.) or isometric as a string, or a 1x12 view matrix\n",
        "viewMatrix = \"isometric\" #@param {type:\"string\"}\n",
        "#@markdown pixelSize is the size in meters for each pixel. If 0, it will fill the image size output\n",
        "pixelSize = 0 #@param {type:\"number\"}\n",
        "#@markdown You can set edges of your models to \"show\" or \"hide\"\n",
        "edges = \"hide\" #@param {type:\"string\"}\n",
        "# showImage = True #@param {type:\"boolean\"}\n",
        "\n",
        "from IPython.display import Image\n",
        "import base64\n",
        "\n",
        "def assembliesShadedView(url:str,viewMatrix = \"front\",pixelSize = 0.003,edges = \"show\",filename = \"image.jpg\",outputHeight = 600,outputWidth = 1000):\n",
        "  fixed_url = '/api/assemblies/d/did/w/wid/e/eid/shadedviews'\n",
        "  element = OnshapeElement(url)\n",
        "  fixed_url = fixed_url.replace('did', element.did)\n",
        "  fixed_url = fixed_url.replace('wid', element.wvmid)\n",
        "  fixed_url = fixed_url.replace('eid', element.eid)\n",
        "\n",
        "  method = 'GET'\n",
        "\n",
        "  if any(face in viewMatrix for face in [\"front\",\"back\",\"top\",\"bottom\",\"left\",\"right\"]):\n",
        "    matrix = viewMatrix\n",
        "  elif viewMatrix == \"isometric\":\n",
        "    matrix = \"0.612,0.612,0,0,-0.354,0.354,0.707,0,0.707,-0.707,0.707,0\"\n",
        "  elif isinstance(viewMatrix,list):\n",
        "    matrix = str(viewMatrix).replace('[','').replace(']','')\n",
        "\n",
        "  ## View Matrix below is roughly isometric\n",
        "  params = {'viewMatrix':matrix,\n",
        "            'edges':edges,\n",
        "            'outputHeight':outputHeight,\n",
        "            'outputWidth':outputWidth,\n",
        "            'pixelSize':pixelSize}\n",
        "  # print(params)\n",
        "  payload = {}\n",
        "  headers = {'Accept': 'application/vnd.onshape.v1+json',\n",
        "              'Content-Type': 'application/json'}\n",
        "\n",
        "  response = client.api_client.request(method, url=base + fixed_url, query_params=params, headers=headers, body=payload)\n",
        "\n",
        "  parsed = json.loads(response.data)\n",
        "  imgdata = base64.b64decode(parsed['images'][0])\n",
        "  with open(filename, 'wb') as f:\n",
        "    f.write(imgdata)\n",
        "  \n",
        "  return imgdata\n",
        "\n",
        "img = assembliesShadedView(url,viewMatrix,pixelSize,edges)\n",
        "Image(img)\n",
        "\n",
        "## Additional imports and function for generating GIF\n",
        "\n",
        "from PIL import Image as Image2\n",
        "import time\n",
        "import imageio\n",
        "import io\n",
        "import numpy as np\n",
        "import math\n",
        "\n",
        "def gen_frame(path):\n",
        "    im = Image2.open(path)\n",
        "    alpha = im.getchannel('A')\n",
        "\n",
        "    # Convert the image into P mode but only use 255 colors in the palette out of 256\n",
        "    im = im.convert('RGB').convert('P', palette=Image2.ADAPTIVE, colors=255)\n",
        "\n",
        "    # Set all pixel values below 5 to 255 , and the rest to 0\n",
        "    mask = Image2.eval(alpha, lambda a: 255 if a <=5 else 0)\n",
        "\n",
        "    # Paste the color of index 255 and use alpha as a mask\n",
        "    im.paste(255, mask)\n",
        "\n",
        "    # The transparency index is 255\n",
        "    im.info['transparency'] = 255\n",
        "\n",
        "    return im\n"
      ],
      "execution_count": 24,
      "outputs": []
    },
    {
      "cell_type": "markdown",
      "metadata": {
        "id": "Q5Cbq9aQ1IAT"
      },
      "source": [
        "### Optional: get shaded views from different perspectives\n",
        "Run the cells below to define functions that manipulate the \"view matrix\" used by Onshape to specify where the shaded view will be captured from."
      ]
    },
    {
      "cell_type": "code",
      "metadata": {
        "id": "IC1b4Tme4Wgu",
        "cellView": "form"
      },
      "source": [
        "#@title View Matrix Helper Functions\n",
        "#@markdown Run this cell to load a library of functions for view matrices\n",
        "\n",
        "import math\n",
        "import numpy\n",
        "\n",
        "#@markdown The function `mult(x,y)` multiplies two 4x3 view matrices to get their determinant\n",
        "\n",
        "def mult(x,y):\n",
        "  result = numpy.matmul(x,y)\n",
        "  return result\n",
        "\n",
        "#@markdown The function `IdentityTwelve()` returns a flattened identity view matrix (1x12)\n",
        "def identityTwelve():\n",
        "  m = [\n",
        "      1, 0, 0, 0,\n",
        "      0, 1, 0, 0,\n",
        "      0, 0, 1, 0\n",
        "      ]\n",
        "  return m\n",
        "\n",
        "#@markdown The function `Move(base,x1,y1,z1)` takes a 1x12 view matrix and moves the x,y,z coordinates\n",
        "def moveMatrix(base,x1,y1,z1):\n",
        "  matrix = base\n",
        "  matrix[0][3] = x1\n",
        "  matrix[1][3] = y1\n",
        "  matrix[2][3] = z1\n",
        "  return matrix\n",
        "\n",
        "#@markdown The function `Move(base,x1,y1,z1)` takes a 1x12 view matrix and moves the x,y,z coordinates\n",
        "def moveFlat(base,x1,y1,z1):\n",
        "  matrix = base\n",
        "  matrix[3] = x1\n",
        "  matrix[7] = y1\n",
        "  matrix[11] = z1\n",
        "  return matrix\n",
        "\n",
        "#@markdown The function `twelveToThreeByFour(matrix)` takes a flattened 1x12 view matrix and makes a 4x3 matrix for linear algrebra\n",
        "def twelveToThreeByFour(matrix):\n",
        "  threebyfour = [[matrix[0],matrix[1],matrix[2],matrix[3]],\n",
        "                [matrix[4],matrix[5],matrix[6],matrix[7]],\n",
        "                [matrix[8],matrix[9],matrix[10],matrix[11]]]\n",
        "  return threebyfour\n",
        "\n",
        "#@markdown The function `threeByFourToTwelve(matrix)` takes a 4x3 view matrix and flattens it to 1x12, the form used by Onshape\n",
        "def threeByFourToTwelve(matrix):\n",
        "  twelve = [matrix[0][0],matrix[0][1],matrix[0][2],matrix[0][3],\n",
        "             matrix[1][0],matrix[1][1],matrix[1][2],matrix[1][3],\n",
        "             matrix[2][0],matrix[2][1],matrix[2][2],matrix[2][3]]\n",
        "  return twelve\n",
        "\n",
        "def fourByFourToThreeByFour(matrix):\n",
        "  matrix.pop(3)\n",
        "  return matrix\n",
        "\n",
        "#@markdown The functions `clockwiseSpinX(theta)`, `clockwiseSpinY(theta)`, and `clockwiseSpinZ(theta)` returns a 4x3 matrix with a rotation of theta around the specified axis.\n",
        "def clockwiseSpinX(theta):\n",
        "  m = [[1, 0, 0, 0],\n",
        "       [0, math.cos(theta), math.sin(theta), 0],\n",
        "       [0, -math.sin(theta), math.cos(theta), 0],\n",
        "       [0, 0, 0, 1]\n",
        "       ]\n",
        "  return m\n",
        "\n",
        "def clockwiseSpinY(theta):\n",
        "  m = [[math.cos(theta), 0, math.sin(theta), 0],\n",
        "       [0, 1, 0, 0],\n",
        "       [-math.sin(theta), 0, math.cos(theta), 0],\n",
        "       [0, 0, 0, 1]\n",
        "       ]\n",
        "  return m\n",
        "\n",
        "def clockwiseSpinZ(theta):\n",
        "  m = [[math.cos(theta), math.sin(theta), 0, 0],\n",
        "       [-math.sin(theta), math.cos(theta), 0, 0],\n",
        "       [0, 0, 1, 0],\n",
        "       [0, 0, 0, 1]]\n",
        "  return m\n"
      ],
      "execution_count": 22,
      "outputs": []
    },
    {
      "cell_type": "markdown",
      "source": [
        "# View Matrix Key Frames\n"
      ],
      "metadata": {
        "id": "MO8G7d17BdO0"
      }
    },
    {
      "cell_type": "code",
      "source": [
        "#@title Get named views from Assembly\n",
        "#@markdown Function `assembliesNamedViews(url: str)` returns JSON of all named views in an assembly\n",
        "url = 'https://cad.onshape.com/documents/d1448e1a9a0ba70defc593b2/w/fbb3bdfdea457112f17b6a56/e/913330ba7e114b144ac9a8c1' #@param {type:\"string\"}\n",
        "showResponse = False #@param {type:\"boolean\"}\n",
        "\n",
        "from IPython.display import Image\n",
        "import base64\n",
        "\n",
        "def assembliesNamedViews(url:str):\n",
        "  fixed_url = '/api/assemblies/d/did/e/eid/namedViews'\n",
        "  element = OnshapeElement(url)\n",
        "  fixed_url = fixed_url.replace('did', element.did)\n",
        "  fixed_url = fixed_url.replace('eid', element.eid)\n",
        "\n",
        "  method = 'GET'\n",
        "\n",
        "  ## View Matrix below is roughly isometric\n",
        "  params = {}\n",
        "  # print(params)\n",
        "  payload = {}\n",
        "  headers = {'Accept': 'application/vnd.onshape.v1+json',\n",
        "              'Content-Type': 'application/json'}\n",
        "\n",
        "  response = client.api_client.request(method, url=base + fixed_url, query_params=params, headers=headers, body=payload)\n",
        "\n",
        "  parsed = json.loads(response.data)\n",
        "  \n",
        "  return parsed\n",
        "\n",
        "if showResponse:\n",
        "  views = assembliesNamedViews(url)\n",
        "  print(json.dumps(views, indent=4, sort_keys=True))\n",
        "else:\n",
        "  pass"
      ],
      "metadata": {
        "cellView": "form",
        "id": "rQWWZvanBgco"
      },
      "execution_count": null,
      "outputs": []
    },
    {
      "cell_type": "markdown",
      "source": [
        "# Stepping rotation"
      ],
      "metadata": {
        "id": "2mDBYyKod5HP"
      }
    },
    {
      "cell_type": "code",
      "source": [
        "startingNamedView = 'view 1' #@param {type:'string'}\n",
        "totalZRotationAngle = math.pi/4 #@param\n",
        "numberOfFrames = 60 #@param\n",
        "zoomStart = 0.001 #@param\n",
        "zoomEnd = 0.0005 #@param\n",
        "translationStart = [0,0,0] #@param\n",
        "translationEnd = [0,0,-0.05] #@param\n",
        "url = 'https://cad.onshape.com/documents/d1448e1a9a0ba70defc593b2/w/fbb3bdfdea457112f17b6a56/e/913330ba7e114b144ac9a8c1' #@param {type:\"string\"}\n",
        "\n",
        "viewMatrices = assembliesNamedViews(url)\n",
        "viewArray = viewMatrices['namedViews'][startingNamedView]['viewMatrix']\n",
        "origArray = np.array([viewArray[0:4],viewArray[4:8],viewArray[8:12],viewArray[12:16]])\n",
        "\n",
        "# Build new array from old array\n",
        "\n",
        "newArray = [viewArray[0:4],viewArray[4:8],viewArray[8:12]]\n",
        "newArrayFlat = viewArray[0:4]+viewArray[4:8]+viewArray[8:12]\n",
        "# newArray = [viewArray[0:3]+[0],viewArray[4:7]+[0],viewArray[8:11]+[0]]\n",
        "# newArrayFlat = viewArray[0:3]+[0]+viewArray[4:7]+[0]+viewArray[8:11]+[4]\n",
        "\n",
        "images = []\n",
        "\n",
        "matrix = newArray\n",
        "\n",
        "translationArray = np.linspace(translationStart,translationEnd,numberOfFrames)\n",
        "zoomArray = np.linspace(zoomStart,zoomEnd,numberOfFrames)\n",
        "\n",
        "for i in range(numberOfFrames):\n",
        "  matrix = mult(matrix,clockwiseSpinZ(totalZRotationAngle/numberOfFrames))\n",
        "  matrix = moveMatrix(matrix,translationArray[i][0],translationArray[i][1],translationArray[i][2])\n",
        "  if i == 0:\n",
        "    flattenedArrayArray = matrix[0][0:4].tolist()+matrix[1][0:4].tolist()+matrix[2][0:4].tolist()\n",
        "    assembliesShadedView(url,flattenedArrayArray,zoomArray[i],\"hide\",\"image.jpg\")\n",
        "    im1 = gen_frame(\"image.jpg\")\n",
        "  else:\n",
        "    flattenedArrayArray = matrix[0][0:4].tolist()+matrix[1][0:4].tolist()+matrix[2][0:4].tolist()\n",
        "    assembliesShadedView(url,flattenedArrayArray,zoomArray[i],\"hide\",\"image.jpg\")\n",
        "    images.append(gen_frame(\"image.jpg\"))\n",
        "\n",
        "im1.save('OnshapeGIF.gif', save_all=True, loop = 500, append_images=images, disposal=2, duration=200)"
      ],
      "metadata": {
        "cellView": "form",
        "id": "1C5siXPjd8h7"
      },
      "execution_count": 25,
      "outputs": []
    },
    {
      "cell_type": "markdown",
      "source": [
        "# Linear interpolation attempt 1"
      ],
      "metadata": {
        "id": "dt-kL0FjdzZ-"
      }
    },
    {
      "cell_type": "code",
      "source": [
        "namedView1 = 'view 1' #@param {type:'string'}\n",
        "namedView2 = 'view 3' #@param {type:'string'}\n",
        "\n",
        "viewMatrices = assembliesNamedViews(url)\n",
        "viewArray1 = viewMatrices['namedViews'][namedView1]['viewMatrix']\n",
        "origArray1 = np.array([viewArray1[0:4],viewArray1[4:8],viewArray1[8:12],viewArray1[12:16]])\n",
        "\n",
        "viewArray2 = viewMatrices['namedViews'][namedView2]['viewMatrix']\n",
        "origArray2 = np.array([viewArray2[0:4],viewArray2[4:8],viewArray2[8:12],viewArray2[12:16]])\n",
        "# print(\"Original Named View Matrix\")\n",
        "# print(origArray1)\n",
        "# print(\"\")\n",
        "\n",
        "## Try to create 4x3 view matrix for the shaded views api (which takes a 1x12 flattened array) to get the same image\n",
        "\n",
        "# First transpose the original array\n",
        "\n",
        "# origTrans1 = np.transpose(origArray1)\n",
        "# origTrans2 = np.transpose(origArray1)\n",
        "# print(\"Transposed Named View Matrix\")\n",
        "# print(origTrans1)\n",
        "# print(\"\")\n",
        "\n",
        "# Build new array from old array\n",
        "\n",
        "newArray1 = [viewArray1[0:4],viewArray1[4:8],viewArray1[8:12]]\n",
        "newArrayFlat1 = viewArray1[0:4]+viewArray1[4:8]+viewArray1[8:12]\n",
        "# newArray1 = [viewArray1[0:3]+[0],viewArray1[4:7]+[0],viewArray1[8:11]+[0]]\n",
        "# newArrayFlat1 = viewArray1[0:3]+[0]+viewArray1[4:7]+[0]+viewArray1[8:11]+[4]\n",
        "\n",
        "newArray2 = [viewArray2[0:4],viewArray2[4:8],viewArray2[8:12]]\n",
        "newArrayFlat2 = viewArray2[0:4]+viewArray2[4:8]+viewArray2[8:12]\n",
        "# newArray2 = [viewArray2[0:3]+[0],viewArray2[4:7]+[0],viewArray2[8:11]+[0]]\n",
        "# newArrayFlat2 = viewArray2[0:3]+[3]+viewArray2[4:7]+[3]+viewArray2[8:11]+[4]\n",
        "\n",
        "arrayArray = np.linspace(newArray1,newArray2,25)\n",
        "print(arrayArray)\n",
        "\n",
        "# print(np.array(newArray1))\n",
        "# print(np.transpose(np.array(newArray)))\n",
        "# flattenedArrayArray = arrayArray[0][0][0:4].tolist()+arrayArray[0][1][0:4].tolist()+arrayArray[0][2][0:4].tolist()\n",
        "# print(flattenedArrayArray)\n",
        "# img = assembliesShadedView(url,flattenedArrayArray,0.001)\n",
        "# display(Image(img))\n",
        "\n",
        "images = []\n",
        "\n",
        "for ind, matrix in enumerate(arrayArray):\n",
        "  if ind == 0:\n",
        "    flattenedArrayArray = matrix[0][0:4].tolist()+matrix[1][0:4].tolist()+matrix[2][0:4].tolist()\n",
        "    assembliesShadedView(url,flattenedArrayArray,0.001,\"hide\",\"image.jpg\")\n",
        "    im1 = gen_frame(\"image.jpg\")\n",
        "  else:\n",
        "    flattenedArrayArray = matrix[0][0:4].tolist()+matrix[1][0:4].tolist()+matrix[2][0:4].tolist()\n",
        "    assembliesShadedView(url,flattenedArrayArray,0.001,\"hide\",\"image.jpg\")\n",
        "    images.append(gen_frame(\"image.jpg\"))\n",
        "\n",
        "im1.save('OnshapeGIF.gif', save_all=True, loop = 500, append_images=images, disposal=2, duration=200)"
      ],
      "metadata": {
        "id": "lSPOqT3VBqum",
        "cellView": "form"
      },
      "execution_count": null,
      "outputs": []
    },
    {
      "cell_type": "markdown",
      "source": [
        "# Linear interpolation attempt 2"
      ],
      "metadata": {
        "id": "its6SgOLd2Lu"
      }
    },
    {
      "cell_type": "code",
      "source": [
        "namedView1 = 'view 1' #@param {type:'string'}\n",
        "namedView2 = 'view 3' #@param {type:'string'}\n",
        "\n",
        "viewMatrices = assembliesNamedViews(url)\n",
        "viewArray1 = viewMatrices['namedViews'][namedView1]['viewMatrix']\n",
        "origArray1 = np.array([viewArray1[0:4],viewArray1[4:8],viewArray1[8:12],viewArray1[12:16]])\n",
        "\n",
        "viewArray2 = viewMatrices['namedViews'][namedView2]['viewMatrix']\n",
        "origArray2 = np.array([viewArray2[0:4],viewArray2[4:8],viewArray2[8:12],viewArray2[12:16]])\n",
        "# print(\"Original Named View Matrix\")\n",
        "# print(origArray1)\n",
        "# print(\"\")\n",
        "\n",
        "## Try to create 4x3 view matrix for the shaded views api (which takes a 1x12 flattened array) to get the same image\n",
        "\n",
        "# First transpose the original array\n",
        "\n",
        "# origTrans1 = np.transpose(origArray1)\n",
        "# origTrans2 = np.transpose(origArray1)\n",
        "# print(\"Transposed Named View Matrix\")\n",
        "# print(origTrans1)\n",
        "# print(\"\")\n",
        "\n",
        "# Build new array from old array\n",
        "\n",
        "newArray1 = [viewArray1[0:4],viewArray1[4:8],viewArray1[8:12]]\n",
        "newArrayFlat1 = viewArray1[0:4]+viewArray1[4:8]+viewArray1[8:12]\n",
        "# newArray1 = [viewArray1[0:3]+[0],viewArray1[4:7]+[0],viewArray1[8:11]+[0]]\n",
        "# newArrayFlat1 = viewArray1[0:3]+[0]+viewArray1[4:7]+[0]+viewArray1[8:11]+[4]\n",
        "\n",
        "newArray2 = [viewArray2[0:4],viewArray2[4:8],viewArray2[8:12]]\n",
        "newArrayFlat2 = viewArray2[0:4]+viewArray2[4:8]+viewArray2[8:12]\n",
        "# newArray2 = [viewArray2[0:3]+[0],viewArray2[4:7]+[0],viewArray2[8:11]+[0]]\n",
        "# newArrayFlat2 = viewArray2[0:3]+[3]+viewArray2[4:7]+[3]+viewArray2[8:11]+[4]\n",
        "\n",
        "arrayArray = np.linspace(origArray1,origArray2,10)\n",
        "print(arrayArray)\n",
        "\n",
        "# print(np.array(newArray1))\n",
        "# print(np.transpose(np.array(newArray)))\n",
        "# flattenedArrayArray = arrayArray[0][0][0:4].tolist()+arrayArray[0][1][0:4].tolist()+arrayArray[0][2][0:4].tolist()\n",
        "# print(flattenedArrayArray)\n",
        "# img = assembliesShadedView(url,flattenedArrayArray,0.001)\n",
        "# display(Image(img))\n",
        "\n",
        "images = []\n",
        "\n",
        "for ind, matrix in enumerate(arrayArray):\n",
        "  if ind == 0:\n",
        "    flattenedArrayArray = matrix[0][0:4].tolist()+matrix[1][0:4].tolist()+matrix[2][0:4].tolist()\n",
        "    assembliesShadedView(url,flattenedArrayArray,0.001,\"hide\",\"image.jpg\")\n",
        "    im1 = gen_frame(\"image.jpg\")\n",
        "  else:\n",
        "    flattenedArrayArray = matrix[0][0:4].tolist()+matrix[1][0:4].tolist()+matrix[2][0:4].tolist()\n",
        "    assembliesShadedView(url,flattenedArrayArray,0.001,\"hide\",\"image.jpg\")\n",
        "    images.append(gen_frame(\"image.jpg\"))\n",
        "\n",
        "im1.save('OnshapeGIF.gif', save_all=True, loop = 500, append_images=images, disposal=2, duration=400)"
      ],
      "metadata": {
        "id": "pxaIXiUkjTqQ"
      },
      "execution_count": null,
      "outputs": []
    },
    {
      "cell_type": "code",
      "source": [
        "print(arrayArray[0])\n",
        "np.linalg.det(arrayArray[1])"
      ],
      "metadata": {
        "colab": {
          "base_uri": "https://localhost:8080/"
        },
        "id": "YoMyouJyL5tm",
        "outputId": "5c82ab83-d256-49db-b106-da759ff63e8d"
      },
      "execution_count": null,
      "outputs": [
        {
          "output_type": "stream",
          "name": "stdout",
          "text": [
            "[[ 8.66025406e-01  4.99999997e-01  6.73058687e-09  0.00000000e+00]\n",
            " [-2.50000004e-01  4.33012701e-01  8.66025403e-01  0.00000000e+00]\n",
            " [ 4.33012696e-01 -7.50000003e-01  5.00000002e-01  0.00000000e+00]\n",
            " [ 1.06514574e-01 -1.85170373e-01  2.23050881e-01  1.00000000e+00]]\n"
          ]
        },
        {
          "output_type": "execute_result",
          "data": {
            "text/plain": [
              "0.682690529776203"
            ]
          },
          "metadata": {},
          "execution_count": 70
        }
      ]
    }
  ]
}