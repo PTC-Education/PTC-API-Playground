{
  "nbformat": 4,
  "nbformat_minor": 0,
  "metadata": {
    "colab": {
      "name": "ThingWorx API Snippets.ipynb",
      "provenance": [],
      "collapsed_sections": [],
      "authorship_tag": "ABX9TyOuehTcJEW0qy5/S/4lNLr8",
      "include_colab_link": true
    },
    "kernelspec": {
      "name": "python3",
      "display_name": "Python 3"
    }
  },
  "cells": [
    {
      "cell_type": "markdown",
      "metadata": {
        "id": "view-in-github",
        "colab_type": "text"
      },
      "source": [
        "<a href=\"https://colab.research.google.com/github/PTC-Education/PTC-API-Playground/blob/main/ThingWorx_API_Snippets.ipynb\" target=\"_parent\"><img src=\"https://colab.research.google.com/assets/colab-badge.svg\" alt=\"Open In Colab\"/></a>"
      ]
    },
    {
      "cell_type": "markdown",
      "metadata": {
        "id": "TM9IV3ZIih70"
      },
      "source": [
        "# 1.0 ThingWorx - Get Property Value\n",
        "Below is an example of getting property values from ThingWorx. Make sure your appKey, property name, and url are set as strings. Your JSON may be formatted differently based on the setup of your Thing."
      ]
    },
    {
      "cell_type": "code",
      "metadata": {
        "colab": {
          "base_uri": "https://localhost:8080/"
        },
        "id": "ckt6MxcKAkCr",
        "outputId": "313ac8de-8f15-4820-b90c-4ecbf0b4162f"
      },
      "source": [
        "import requests\n",
        "import json\n",
        "\n",
        "appKey = '<ThingWorx appKey here>'\n",
        "propName = 'BaseAngle'\n",
        "URL = 'https://pp-1234abcd.portal.ptc.io/Thingworx/Things/MM_PLTW/Properties'\n",
        "\n",
        "headers = {\n",
        "        'appKey': appKey,\n",
        "        'accept': 'application/json',\n",
        "        'Content-Type':'application/json'\n",
        "    }\n",
        "\n",
        "response = requests.get(URL,headers=headers)\n",
        "\n",
        "FullResponse = json.dumps(response.json(), indent=4, sort_keys=True)\n",
        "\n",
        "#print(FullResponse) #this prints a well formatted version of the JSON response\n",
        "print(response.json()['rows'][0][propName]) #this prints just the value of your specified property"
      ],
      "execution_count": null,
      "outputs": [
        {
          "output_type": "stream",
          "text": [
            "1234\n"
          ],
          "name": "stdout"
        }
      ]
    },
    {
      "cell_type": "markdown",
      "metadata": {
        "id": "OJDP6NuBj1OL"
      },
      "source": [
        "# 2.0 ThingWorx - Set Property Value\n",
        "\n",
        "Below is an example of setting a property value in a Thing with a put request. Again, make sure your parameters are all in quotes. You'll know it worked if you get a \"200\" response."
      ]
    },
    {
      "cell_type": "code",
      "metadata": {
        "id": "8K1nd57FSHnc"
      },
      "source": [
        "import requests\n",
        "\n",
        "appKey = '<ThingWorx appKey here>'\n",
        "propName = 'WristAngle'\n",
        "value = '1014'\n",
        "url = \"https://pp-1234abcd.portal.ptc.io/Thingworx/Things/MM_PLTW/Properties/\"+propName #end of URL should have the property name\n",
        "\n",
        "payload=\"{\\\"\"+propName+\"\\\":\"+value+\"}\"\n",
        "headers = {\n",
        "  'appKey': appKey,\n",
        "  'Content-Type': 'application/json'\n",
        "}\n",
        "\n",
        "response = requests.request(\"PUT\", url, headers=headers, data=payload)\n",
        "\n",
        "print(response)"
      ],
      "execution_count": null,
      "outputs": []
    },
    {
      "cell_type": "markdown",
      "metadata": {
        "id": "lyVTdHIxF5_K"
      },
      "source": [
        "# 2.1 ThingWorx - Set Image Property"
      ]
    },
    {
      "cell_type": "code",
      "metadata": {
        "id": "gRHY3w43F9u3"
      },
      "source": [
        "import base64\n",
        "import json\n",
        "import requests\n",
        "\n",
        "with open(\"photo.jpg\", \"rb\") as image_file:\n",
        "    encoded_string = base64.b64encode(image_file.read())\n",
        "\n",
        "imgEncodedString = str(encoded_string)\n",
        "imgString = imgEncodedString.split(\"'\",1)[1]\n",
        "appKey = '<ThingWorx appKey here>'\n",
        "url = \"https://pp-1234abcd.portal.ptc.io/Thingworx/Things/MM_STL_Test/Properties/ImageTest\" #end of URL should have the property name\n",
        "\n",
        "payload=json.dumps({\"ImageTest\":imgString})\n",
        "headers = {\n",
        "  'appKey': appKey,\n",
        "  'Content-Type': 'application/json'\n",
        "}\n",
        "\n",
        "response = requests.request(\"PUT\", url, headers=headers, data=payload)\n",
        "\n",
        "print(response)"
      ],
      "execution_count": null,
      "outputs": []
    },
    {
      "cell_type": "markdown",
      "metadata": {
        "id": "zdUpYBuAU2JK"
      },
      "source": [
        "# 3.0 ThingWorx - Call ThingWorx Service\n",
        "Use HTTP Post requests to invoke a service in ThingWorx."
      ]
    },
    {
      "cell_type": "code",
      "metadata": {
        "id": "5ZfAaKZhU_ii"
      },
      "source": [
        "import requests\n",
        "import json\n",
        "\n",
        "url = \"https://pp-1234abcd.portal.ptc.io/Thingworx/Things/ButterflyNotebook/Services/SearchDataTableEntries\"\n",
        "\n",
        "appKey = '<ThingWorx appKey here>'\n",
        "payload=\"{\\n    \\\"searchExpression\\\":\\\"Steve\\\"\\n}\"\n",
        "headers = {\n",
        "  'appKey': appKey,\n",
        "  'Content-Type': 'application/json',\n",
        "  'accept': 'application/json'\n",
        "}\n",
        "\n",
        "response = requests.request(\"POST\", url, headers=headers, data=payload)\n",
        "\n",
        "FullResponse = json.dumps(response.json(), indent=4, sort_keys=True)\n",
        "\n",
        "Img = response.json()['rows'][0]['Image']\n",
        "\n",
        "print(response.json()['rows'][0]['Image'])\n",
        "\n",
        "# import base64 \n",
        "# png_recovered = base64.decodestring(response.json()['rows'][0]['Image'])\n",
        "# f = open(\"temp.png\", \"w\")\n",
        "# f.write(png_recovered)\n",
        "# f.close()\n",
        "\n",
        "# from IPython.display import Image\n",
        "# Image(filename='temp.png') "
      ],
      "execution_count": null,
      "outputs": []
    },
    {
      "cell_type": "markdown",
      "metadata": {
        "id": "mQJe3QftEo8q"
      },
      "source": [
        "# 3.1 ThingWorx - Show image from ThingWorx\n"
      ]
    },
    {
      "cell_type": "code",
      "metadata": {
        "id": "2nfU7Cp3EtuL"
      },
      "source": [
        "import requests\n",
        "import json\n",
        "\n",
        "appKey = '<ThingWorx-appkey-here>'\n",
        "url = \"https://pp-1234abcd.portal.ptc.io/Thingworx/Things/PerseveranceNotebook/Services/SearchDataTableEntries\"\n",
        "\n",
        "payload=\"{\\n    \\\"searchExpression\\\":\\\" \\\"\\n}\"\n",
        "headers = {\n",
        "  'appKey': appKey,\n",
        "  'Content-Type': 'application/json',\n",
        "  'accept': 'application/json'\n",
        "}\n",
        "\n",
        "response = requests.request(\"POST\", url, headers=headers, data=payload)\n",
        "\n",
        "FullResponse = json.dumps(response.json(), indent=4, sort_keys=True)\n",
        "\n",
        "Img = response.json()['rows'][0]['Image']\n",
        "Imgurl = 'data:image/png;base64,'+response.json()['rows'][0]['Image']\n",
        "\n",
        "from IPython.display import Image\n",
        "Image(Img) "
      ],
      "execution_count": null,
      "outputs": []
    },
    {
      "cell_type": "markdown",
      "metadata": {
        "id": "G_SidjA5FQTu"
      },
      "source": [
        "# 3.1.1 ThingWorx - Download Images from ThingWorx\n"
      ]
    },
    {
      "cell_type": "code",
      "metadata": {
        "id": "9O0AkyxsFc6H"
      },
      "source": [
        "import requests\n",
        "import json\n",
        "from google.colab import files\n",
        "\n",
        "url = \"https://pp-1234abcd.portal.ptc.io/Thingworx/Things/Skittles2/Services/SearchDataTableEntries\"\n",
        "\n",
        "color = \"Purple\"\n",
        "\n",
        "appKey = '<ThingWorx-appkey-here>'\n",
        "payload=json.dumps({\"searchExpression\":color})\n",
        "headers = {\n",
        "  'appKey': appKey,\n",
        "  'Content-Type': 'application/json',\n",
        "  'accept': 'application/json'\n",
        "}\n",
        "\n",
        "response = requests.request(\"POST\", url, headers=headers, data=payload)\n",
        "print(response)\n",
        "# FullResponse = json.dumps(response.json(), indent=4, sort_keys=True)\n",
        "\n",
        "numberOfImg = len(response.json()['rows'])\n",
        "\n",
        "for i in range(numberOfImg):\n",
        "  Img = response.json()['rows'][i]['Image']\n",
        "\n",
        "  filename = color+str(i)+'.jpg'\n",
        "\n",
        "  binary = b64decode(Img)\n",
        "  with open(filename, 'wb') as f:\n",
        "    f.write(binary)\n",
        "  files.download(filename)"
      ],
      "execution_count": null,
      "outputs": []
    },
    {
      "cell_type": "markdown",
      "metadata": {
        "id": "tBYZghT_bq9h"
      },
      "source": [
        "# 3.2 Download Datatable as CSV"
      ]
    },
    {
      "cell_type": "code",
      "metadata": {
        "id": "lFmaRtuxbutn"
      },
      "source": [
        "import requests\n",
        "import json\n",
        "from google.colab import files\n",
        "\n",
        "url = \"https://pp-1234abcd.portal.ptc.io/Thingworx/Things/Skittles2/Services/SearchDataTableEntries\"\n",
        "\n",
        "appKey = '<ThingWorx-appkey-here>'\n",
        "payload=json.dumps({\"maxItems\":500})\n",
        "headers = {\n",
        "  'appKey': appKey,\n",
        "  'Content-Type': 'application/json',\n",
        "  'accept': 'text/csv'\n",
        "}\n",
        "\n",
        "response = requests.request(\"POST\", url, headers=headers)\n",
        "print(response.text)\n",
        "\n",
        "with open('trainingdata.csv','w') as f:\n",
        "  f.write(response.text)\n",
        "files.download('trainingdata.csv')"
      ],
      "execution_count": null,
      "outputs": []
    }
  ]
}