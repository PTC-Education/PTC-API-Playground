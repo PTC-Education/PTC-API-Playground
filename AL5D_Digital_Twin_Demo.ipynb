{
  "nbformat": 4,
  "nbformat_minor": 0,
  "metadata": {
    "colab": {
      "name": "AL5D Digital Twin Demo.ipynb",
      "provenance": [],
      "collapsed_sections": [],
      "authorship_tag": "ABX9TyNIH50z8OtbgVKWdZzjkY5G",
      "include_colab_link": true
    },
    "kernelspec": {
      "name": "python3",
      "display_name": "Python 3"
    },
    "language_info": {
      "name": "python"
    }
  },
  "cells": [
    {
      "cell_type": "markdown",
      "metadata": {
        "id": "view-in-github",
        "colab_type": "text"
      },
      "source": [
        "<a href=\"https://colab.research.google.com/github/PTC-Education/PTC-API-Playground/blob/main/AL5D_Digital_Twin_Demo.ipynb\" target=\"_parent\"><img src=\"https://colab.research.google.com/assets/colab-badge.svg\" alt=\"Open In Colab\"/></a>"
      ]
    },
    {
      "cell_type": "markdown",
      "metadata": {
        "id": "eXcFCrtOOIz4"
      },
      "source": [
        "# AL5D PLTW Onshape Digital Twin\n",
        "This notebook allows you to control the AL5D robot arm using a digtial twin in Onshape. Derivation of the inverse kinematics [can be found here](https://colab.research.google.com/github/PTC-Education/PTC-API-Playground/blob/main/Inverse_Kinematics.ipynb)."
      ]
    },
    {
      "cell_type": "markdown",
      "metadata": {
        "id": "A4zLOPukOBGP"
      },
      "source": [
        "### Connect to Local Runtime"
      ]
    },
    {
      "cell_type": "code",
      "metadata": {
        "id": "GQRMMYWoOAaU"
      },
      "source": [
        "jupyter notebook \\\n",
        "  --NotebookApp.allow_origin='https://colab.research.google.com' \\\n",
        "  --port=8888 \\\n",
        "  --NotebookApp.port_retries=0"
      ],
      "execution_count": null,
      "outputs": []
    },
    {
      "cell_type": "markdown",
      "metadata": {
        "id": "DZvjiRkCOheC"
      },
      "source": [
        "### Set up serial connection to Robot Arm"
      ]
    },
    {
      "cell_type": "code",
      "metadata": {
        "id": "IJd6i9tYeNS1"
      },
      "source": [
        "import serial\n",
        "import sys\n",
        "import glob\n",
        "import time\n",
        "\n",
        "def serial_ports():\n",
        "    if sys.platform.startswith('win'):\n",
        "        ports = ['COM%s' % (i + 1) for i in range(256)]\n",
        "    elif sys.platform.startswith('darwin'):\n",
        "        ports = glob.glob('/dev/tty.*')\n",
        "        for port in ports:\n",
        "            if 'usb' in port:\n",
        "                guess = port\n",
        "        return guess\n",
        "    else:\n",
        "        raise EnvironmentError('Unsupported platform')\n",
        "    result = []\n",
        "    for port in ports:\n",
        "        try:\n",
        "            s = serial.Serial(port)\n",
        "            s.close()\n",
        "            result.append(port)\n",
        "        except (OSError, serial.SerialException):\n",
        "            pass\n",
        "    return ports\n",
        "\n",
        "def serial_write(string):\n",
        "    ser.write(string + b'\\r\\n')\n",
        "    time.sleep(0.1)\n",
        "    while ser.in_waiting:  \n",
        "        print(ser.read(ser.in_waiting).decode())\n",
        "        "
      ],
      "execution_count": null,
      "outputs": []
    },
    {
      "cell_type": "markdown",
      "metadata": {
        "id": "UEwNbUpDOlNG"
      },
      "source": [
        "Should return \"True\" if connection is successfully opened (may need to unplug/replug USB cable if it is not connecting)"
      ]
    },
    {
      "cell_type": "code",
      "metadata": {
        "colab": {
          "base_uri": "https://localhost:8080/"
        },
        "id": "NbF7k64HpzSQ",
        "outputId": "56a36c3c-ffbd-4dbc-962d-b6dd404bab56"
      },
      "source": [
        "port = serial_ports()\n",
        "ser = serial.Serial(\n",
        "    port=port,\n",
        "    baudrate=9600\n",
        ")\n",
        "\n",
        "ser.isOpen()"
      ],
      "execution_count": null,
      "outputs": [
        {
          "output_type": "execute_result",
          "data": {
            "text/plain": [
              "True"
            ]
          },
          "metadata": {
            "tags": []
          },
          "execution_count": 60
        }
      ]
    },
    {
      "cell_type": "markdown",
      "metadata": {
        "id": "VN5CdmyJOztN"
      },
      "source": [
        "Test the connection by writing to the hand motor"
      ]
    },
    {
      "cell_type": "code",
      "metadata": {
        "id": "Y1XMwYZWrDZx"
      },
      "source": [
        "ser.write(b'#4 P1500\\r')\n",
        "\n",
        "time.sleep(1)\n",
        "while ser.in_waiting:  \n",
        "    ser.read(ser.in_waiting)"
      ],
      "execution_count": null,
      "outputs": []
    },
    {
      "cell_type": "markdown",
      "metadata": {
        "id": "dxKfG_-MOOFK"
      },
      "source": [
        "# Connect to Onshape"
      ]
    },
    {
      "cell_type": "code",
      "metadata": {
        "colab": {
          "base_uri": "https://localhost:8080/"
        },
        "id": "RB69biDXPZyu",
        "outputId": "b8943245-1ea4-46ef-f70d-fde381601b36"
      },
      "source": [
        "!pip install onshape-client\n",
        "from onshape_client.client import Client\n",
        "import json\n",
        "base = 'https://cad.onshape.com' # change this if you're using a document in an enterprise (i.e. \"https://ptc.onshape.com\")"
      ],
      "execution_count": null,
      "outputs": [
        {
          "output_type": "stream",
          "text": [
            "Requirement already satisfied: onshape-client in ./opt/anaconda3/lib/python3.8/site-packages (1.6.3)\n",
            "Requirement already satisfied: urllib3>=1.23 in ./opt/anaconda3/lib/python3.8/site-packages (from onshape-client) (1.26.3)\n",
            "Requirement already satisfied: requests-oauthlib in ./opt/anaconda3/lib/python3.8/site-packages (from onshape-client) (1.3.0)\n",
            "Requirement already satisfied: python-dateutil>=2.1 in ./opt/anaconda3/lib/python3.8/site-packages (from onshape-client) (2.8.1)\n",
            "Requirement already satisfied: six>=1.10 in ./opt/anaconda3/lib/python3.8/site-packages (from onshape-client) (1.15.0)\n",
            "Requirement already satisfied: certifi>=2017.4.17 in ./opt/anaconda3/lib/python3.8/site-packages (from onshape-client) (2020.12.5)\n",
            "Requirement already satisfied: ruamel.yaml in ./opt/anaconda3/lib/python3.8/site-packages/ruamel.yaml-0.17.4-py3.8.egg (from onshape-client) (0.17.4)\n",
            "Requirement already satisfied: pint in ./opt/anaconda3/lib/python3.8/site-packages (from onshape-client) (0.16.1)\n",
            "Requirement already satisfied: nulltype in ./opt/anaconda3/lib/python3.8/site-packages (from onshape-client) (2.3.1)\n",
            "Requirement already satisfied: requests>=2.0.0 in ./opt/anaconda3/lib/python3.8/site-packages (from requests-oauthlib->onshape-client) (2.25.1)\n",
            "Requirement already satisfied: oauthlib>=3.0.0 in ./opt/anaconda3/lib/python3.8/site-packages (from requests-oauthlib->onshape-client) (3.1.0)\n",
            "Requirement already satisfied: ruamel.yaml.clib>=0.1.2 in ./opt/anaconda3/lib/python3.8/site-packages (from ruamel.yaml->onshape-client) (0.2.2)\n",
            "Requirement already satisfied: packaging in ./opt/anaconda3/lib/python3.8/site-packages (from pint->onshape-client) (20.8)\n",
            "Requirement already satisfied: chardet<5,>=3.0.2 in ./opt/anaconda3/lib/python3.8/site-packages (from requests>=2.0.0->requests-oauthlib->onshape-client) (4.0.0)\n",
            "Requirement already satisfied: idna<3,>=2.5 in ./opt/anaconda3/lib/python3.8/site-packages (from requests>=2.0.0->requests-oauthlib->onshape-client) (2.10)\n",
            "Requirement already satisfied: pyparsing>=2.0.2 in ./opt/anaconda3/lib/python3.8/site-packages (from packaging->pint->onshape-client) (2.4.7)\n"
          ],
          "name": "stdout"
        }
      ]
    },
    {
      "cell_type": "code",
      "metadata": {
        "colab": {
          "base_uri": "https://localhost:8080/"
        },
        "id": "1tIaqyPSqLOz",
        "outputId": "33dfa816-4c93-4972-80dc-20e07d64327f"
      },
      "source": [
        "%run '~/Documents/colabkeys.py'\n",
        "client = Client(configuration={\"base_url\": base,\n",
        "                               \"access_key\": access,\n",
        "                               \"secret_key\": secret})\n",
        "print('client configured')"
      ],
      "execution_count": null,
      "outputs": [
        {
          "output_type": "stream",
          "text": [
            "client configured\n"
          ],
          "name": "stdout"
        }
      ]
    },
    {
      "cell_type": "markdown",
      "metadata": {
        "id": "TuZAbZOnO9o1"
      },
      "source": [
        "### Define functions for getting the mate values from Onshape and setting the mate values in Onshape"
      ]
    },
    {
      "cell_type": "code",
      "metadata": {
        "id": "C0bRWmKMT9tx"
      },
      "source": [
        "def getMateValues():\n",
        "  RobotData = []\n",
        "  RobotData = [0 for i in range(6)]\n",
        "  fixed_url = '/api/assemblies/d/did/w/wid/e/eid/matevalues'\n",
        "\n",
        "  # https://cad.onshape.com/documents/4bda16c648566259ea1b4e4c/w/c299b9fc994574c2637e871d/e/2f52bf4870f9d7ddc900b4de\n",
        "  did = '4bda16c648566259ea1b4e4c'\n",
        "  wid = 'c299b9fc994574c2637e871d'\n",
        "  eid = '2f52bf4870f9d7ddc900b4de'\n",
        "\n",
        "  method = 'GET'\n",
        "\n",
        "  params = {}\n",
        "  payload = {}\n",
        "  headers = {'Accept': 'application/vnd.onshape.v2+json',\n",
        "            'Content-Type': 'application/vnd.onshape.v2+json'}\n",
        "\n",
        "  fixed_url = fixed_url.replace('did', did)\n",
        "  fixed_url = fixed_url.replace('wid', wid)\n",
        "  fixed_url = fixed_url.replace('eid', eid)\n",
        "\n",
        "  response = client.api_client.request(method, url=base + fixed_url, query_params=params, headers=headers, body=payload)\n",
        "  fullResponse = json.loads(response.data)\n",
        "\n",
        "  for i in range(len(fullResponse[\"mateValues\"])):\n",
        "    if fullResponse['mateValues'][i]['mateName'] == \"Base\":\n",
        "      RobotData[0] = int(translate(fullResponse['mateValues'][i]['rotationZ'],0,3.14,500,2500))\n",
        "    elif fullResponse['mateValues'][i]['mateName'] == \"Shoulder\":\n",
        "      RobotData[1] = int(translate(fullResponse['mateValues'][i]['rotationZ'],0,3.14,500,2500))\n",
        "    elif fullResponse['mateValues'][i]['mateName'] == \"Elbow\":\n",
        "      RobotData[2] = int(translate(fullResponse['mateValues'][i]['rotationZ'],0,3.14,500,2500))-70\n",
        "    elif fullResponse['mateValues'][i]['mateName'] == \"Wrist\":\n",
        "      RobotData[3] = int(translate(fullResponse['mateValues'][i]['rotationZ'],0,3.14,2500,500))+50\n",
        "    elif fullResponse['mateValues'][i]['mateName'] == \"Hand\":\n",
        "      RobotData[4] = int(translate(fullResponse['mateValues'][i]['rotationZ'],0,3.14,500,2500))\n",
        "    elif fullResponse['mateValues'][i]['mateName'] == \"Gripper\":\n",
        "      RobotData[5] = int(translate(fullResponse['mateValues'][i]['rotationZ'],0,3.14,500,2500))\n",
        "  \n",
        "  return RobotData\n",
        "\n",
        "def setMateValues(baseAngle,shoulderAngle,elbowAngle,wristAngle,handAngle,gripperAngle):\n",
        "  fixed_url = '/api/assemblies/d/did/w/wid/e/eid/matevalues'\n",
        "\n",
        "  # https://cad.onshape.com/documents/4bda16c648566259ea1b4e4c/w/c299b9fc994574c2637e871d/e/2f52bf4870f9d7ddc900b4de\n",
        "  did = '4bda16c648566259ea1b4e4c'\n",
        "  wid = 'c299b9fc994574c2637e871d'\n",
        "  eid = '2f52bf4870f9d7ddc900b4de'\n",
        "\n",
        "  method = 'GET'\n",
        "\n",
        "  params = {}\n",
        "  payload = {}\n",
        "  headers = {'Accept': 'application/vnd.onshape.v2+json',\n",
        "            'Content-Type': 'application/vnd.onshape.v2+json'}\n",
        "\n",
        "  fixed_url = fixed_url.replace('did', did)\n",
        "  fixed_url = fixed_url.replace('wid', wid)\n",
        "  fixed_url = fixed_url.replace('eid', eid)\n",
        "\n",
        "  response = client.api_client.request(method, url=base + fixed_url, query_params=params, headers=headers, body=payload)\n",
        "  fullResponse = json.loads(response.data)\n",
        "  \n",
        "  for i in range(len(fullResponse[\"mateValues\"])):\n",
        "    if fullResponse['mateValues'][i]['mateName'] == \"Base\":\n",
        "      print(fullResponse['mateValues'][i])\n",
        "      fullResponse['mateValues'][i]['rotationZ'] = baseAngle\n",
        "      print(fullResponse['mateValues'][i])\n",
        "\n",
        "  method = 'POST'\n",
        "\n",
        "  params = {}\n",
        "  payload = fullResponse\n",
        "  headers = {'Accept': 'application/vnd.onshape.v2+json',\n",
        "            'Content-Type': 'application/vnd.onshape.v2+json'}\n",
        "  response = client.api_client.request(method, url=base + fixed_url, query_params=params, headers=headers, body=payload)\n",
        "\n",
        "  for i in range(len(fullResponse[\"mateValues\"])):\n",
        "    if fullResponse['mateValues'][i]['mateName'] == \"Shoulder\":\n",
        "      fullResponse['mateValues'][i]['rotationZ'] = shoulderAngle\n",
        "    elif fullResponse['mateValues'][i]['mateName'] == \"Elbow\":\n",
        "      fullResponse['mateValues'][i]['rotationZ'] = elbowAngle\n",
        "    elif fullResponse['mateValues'][i]['mateName'] == \"Wrist\":\n",
        "      fullResponse['mateValues'][i]['rotationZ'] = wristAngle\n",
        "    elif fullResponse['mateValues'][i]['mateName'] == \"Hand\":\n",
        "      fullResponse['mateValues'][i]['rotationZ'] = handAngle\n",
        "    elif fullResponse['mateValues'][i]['mateName'] == \"Gripper\":\n",
        "      fullResponse['mateValues'][i]['rotationZ'] = gripperAngle\n",
        "\n",
        "  method = 'POST'\n",
        "\n",
        "  params = {}\n",
        "  payload = fullResponse\n",
        "  headers = {'Accept': 'application/vnd.onshape.v2+json',\n",
        "            'Content-Type': 'application/vnd.onshape.v2+json'}\n",
        "  response = client.api_client.request(method, url=base + fixed_url, query_params=params, headers=headers, body=payload)\n",
        "  # The command below prints the entire JSON response from Onshape\n",
        "  print(response.status)\n",
        "\n",
        "def translate(value, leftMin, leftMax, rightMin, rightMax):\n",
        "  # Figure out how 'wide' each range is\n",
        "  leftSpan = leftMax - leftMin\n",
        "  rightSpan = rightMax - rightMin\n",
        "\n",
        "  # Convert the left range into a 0-1 range (float)\n",
        "  valueScaled = float(value - leftMin) / float(leftSpan)\n",
        "\n",
        "  # Convert the 0-1 range into a value in the right range.\n",
        "  return rightMin + (valueScaled * rightSpan)"
      ],
      "execution_count": null,
      "outputs": []
    },
    {
      "cell_type": "markdown",
      "metadata": {
        "id": "KJ4YX5dFPEdA"
      },
      "source": [
        "Send digital twin to its home position (all joints at 90 degrees)"
      ]
    },
    {
      "cell_type": "code",
      "metadata": {
        "colab": {
          "base_uri": "https://localhost:8080/"
        },
        "id": "IhvE2575sizP",
        "outputId": "fc19d860-e7b0-4c25-92e8-e20d2a371c0b"
      },
      "source": [
        "setMateValues(math.pi/2,math.pi/2,math.pi/2,math.pi/2,math.pi/2,math.pi/2)"
      ],
      "execution_count": null,
      "outputs": [
        {
          "output_type": "stream",
          "text": [
            "{'jsonType': 'Revolute', 'rotationZ': 1.57079632679486, 'mateName': 'Base', 'featureId': 'MP0JnvCPgEfKeP2HM'}\n",
            "{'jsonType': 'Revolute', 'rotationZ': 1.5707963267948966, 'mateName': 'Base', 'featureId': 'MP0JnvCPgEfKeP2HM'}\n",
            "200\n"
          ],
          "name": "stdout"
        }
      ]
    },
    {
      "cell_type": "code",
      "metadata": {
        "colab": {
          "base_uri": "https://localhost:8080/"
        },
        "id": "JO9WZCLVvDdS",
        "outputId": "c681897f-420b-4482-8641-9b86a350e209"
      },
      "source": [
        "# numpy.arange([start, ]stop, [step, ], dtype=None) -> numpy.ndarray\n",
        "tester = [0 for i in range(6)]\n",
        "empty = [0 for i in range(6)]\n",
        "tester = np.vstack([tester,empty])\n",
        "try:\n",
        "  tester[2][3] = 1\n",
        "except:\n",
        "  tester = np.vstack([tester,empty])\n",
        "print(tester)"
      ],
      "execution_count": null,
      "outputs": [
        {
          "output_type": "stream",
          "text": [
            "[[0 0 0 0 0 0]\n",
            " [0 0 0 0 0 0]\n",
            " [0 0 0 0 0 0]]\n"
          ],
          "name": "stdout"
        }
      ]
    },
    {
      "cell_type": "markdown",
      "metadata": {
        "id": "gmLev19lxuTR"
      },
      "source": [
        "# Inverse Kinematics"
      ]
    },
    {
      "cell_type": "code",
      "metadata": {
        "id": "_7-WbIHlxv4K"
      },
      "source": [
        "import math\n",
        "import numpy\n",
        "DegToRad = math.pi/180\n",
        "RadToDeg = 180/math.pi\n",
        "\n",
        "FloorToFirstJoint = 2.61*0.0254\n",
        "UpperArmLength = 5.74*0.0254\n",
        "ForeArmLength = 7.23*0.0254\n",
        "GripperLength = 4.43*0.0254\n",
        "\n",
        "def GetJointAngles(TCPx,TCPy,TCPz,WristAngleIn):\n",
        "  BaseAngle = math.atan2(TCPx,TCPy)\n",
        "\n",
        "  TCPq = math.sqrt(TCPx**2 + TCPy**2)\n",
        "  TCPp = TCPz - FloorToFirstJoint\n",
        "\n",
        "  WristQ = TCPq - GripperLength*math.cos(WristAngleIn*DegToRad)\n",
        "  WristP = TCPp + GripperLength*math.sin(WristAngleIn*DegToRad)\n",
        "\n",
        "  D2 = math.sqrt(WristP**2 + WristQ**2)\n",
        "  print(WristQ,WristP)\n",
        "\n",
        "  ElbowAngle = math.acos((WristP**2 + WristQ**2 - UpperArmLength**2 - ForeArmLength**2)/(2*UpperArmLength*ForeArmLength))\n",
        "\n",
        "  a1 = math.atan2(ForeArmLength*math.sin(ElbowAngle),UpperArmLength + ForeArmLength*math.cos(ElbowAngle))\n",
        "  a2 = math.atan2(WristP,WristQ)\n",
        "  ShoulderAngle = a1 + a2\n",
        "\n",
        "  WristAngleOut = ShoulderAngle - ElbowAngle + WristAngleIn*DegToRad + math.pi/2\n",
        "\n",
        "  print(numpy.dot([BaseAngle, ShoulderAngle, ElbowAngle, WristAngleOut],RadToDeg))\n",
        "  return [BaseAngle, ShoulderAngle, ElbowAngle, WristAngleOut]"
      ],
      "execution_count": null,
      "outputs": []
    },
    {
      "cell_type": "code",
      "metadata": {
        "colab": {
          "base_uri": "https://localhost:8080/"
        },
        "id": "Q17CUuJs0BOT",
        "outputId": "3046e8c5-a0d3-474b-f0b2-7a31818646aa"
      },
      "source": [
        "setMateValues(GetJointAngles(0.2,0.2,0.2,0),math.pi/2,0)"
      ],
      "execution_count": null,
      "outputs": [
        {
          "output_type": "stream",
          "text": [
            "0.17032071247461908 0.13370600000000002\n",
            "[45.         95.09984984 98.69417921 86.40567063]\n",
            "200\n"
          ],
          "name": "stdout"
        }
      ]
    },
    {
      "cell_type": "markdown",
      "metadata": {
        "id": "dut5aMkU-Esu"
      },
      "source": [
        "## Get Checkoint position"
      ]
    },
    {
      "cell_type": "code",
      "metadata": {
        "id": "tKLpyhQy-Gav"
      },
      "source": [
        "def getCheckpointPos():\n",
        "  import array\n",
        "  base = 'https://cad.onshape.com'\n",
        "  fixed_url = '/api/assemblies/d/did/w/wid/e/eid'\n",
        "\n",
        "  # https://cad.onshape.com/documents/4bda16c648566259ea1b4e4c/w/c299b9fc994574c2637e871d/e/2f52bf4870f9d7ddc900b4de\n",
        "  did = '4bda16c648566259ea1b4e4c'\n",
        "  wid = 'c299b9fc994574c2637e871d'\n",
        "  eid = '2f52bf4870f9d7ddc900b4de'\n",
        "\n",
        "  method = 'GET'\n",
        "\n",
        "  params = {}\n",
        "  payload = {}\n",
        "  headers = {'Accept': 'application/vnd.onshape.v1+json; charset=UTF-8;qs=0.1',\n",
        "            'Content-Type': 'application/json'}\n",
        "\n",
        "  fixed_url = fixed_url.replace('did', did)\n",
        "  fixed_url = fixed_url.replace('wid', wid)\n",
        "  fixed_url = fixed_url.replace('eid', eid)\n",
        "\n",
        "  response = client.api_client.request(method, url=base + fixed_url, query_params=params, headers=headers, body=payload)\n",
        "  parsed = json.loads(response.data)\n",
        "  # The command below prints the entire JSON response from Onshape\n",
        "  # print(json.dumps(parsed, indent=4, sort_keys=True))\n",
        "\n",
        "  ## Specify number of checkpoints\n",
        "  NumberOfCheckpoints = 1\n",
        "\n",
        "  checkpointId = []\n",
        "  checkpointId = [\"id\" for i in range(NumberOfCheckpoints)]\n",
        "\n",
        "  checkpointPos = []\n",
        "  checkpointPos = [[0,0,0] for i in range(NumberOfCheckpoints)]\n",
        "\n",
        "  checkpointNum = 0\n",
        "  for i in range(len(parsed['rootAssembly']['instances'])):\n",
        "    if \"Checkpoint\" in parsed['rootAssembly']['instances'][i]['name']:\n",
        "      checkpointId[checkpointNum] = parsed['rootAssembly']['instances'][i]['id']\n",
        "      checkpointNum += 1\n",
        "      if checkpointNum == NumberOfCheckpoints:\n",
        "        break\n",
        "  # print(checkpointId)\n",
        "\n",
        "  checkpointNum = 0\n",
        "  for i in range(len(parsed['rootAssembly']['occurrences'])):\n",
        "    for j in range(NumberOfCheckpoints):\n",
        "      if parsed['rootAssembly']['occurrences'][i]['path'][0] == checkpointId[j] and len(parsed['rootAssembly']['occurrences'][i]['path'])==1:\n",
        "        checkpointPos[j] = [parsed['rootAssembly']['occurrences'][i]['transform'][3],parsed['rootAssembly']['occurrences'][i]['transform'][7],parsed['rootAssembly']['occurrences'][i]['transform'][11]]\n",
        "  return checkpointPos"
      ],
      "execution_count": null,
      "outputs": []
    },
    {
      "cell_type": "code",
      "metadata": {
        "colab": {
          "base_uri": "https://localhost:8080/"
        },
        "id": "fP-qJ2y9lVKq",
        "outputId": "b710e22f-9e30-4b48-859b-23676009a813"
      },
      "source": [
        "def getTCPPos():\n",
        "  import array\n",
        "  base = 'https://cad.onshape.com'\n",
        "  fixed_url = '/api/assemblies/d/did/w/wid/e/eid'\n",
        "\n",
        "  # https://cad.onshape.com/documents/4bda16c648566259ea1b4e4c/w/c299b9fc994574c2637e871d/e/2f52bf4870f9d7ddc900b4de\n",
        "  did = '4bda16c648566259ea1b4e4c'\n",
        "  wid = 'c299b9fc994574c2637e871d'\n",
        "  eid = '2f52bf4870f9d7ddc900b4de'\n",
        "\n",
        "  method = 'GET'\n",
        "\n",
        "  params = {}\n",
        "  payload = {}\n",
        "  headers = {'Accept': 'application/vnd.onshape.v1+json; charset=UTF-8;qs=0.1',\n",
        "            'Content-Type': 'application/json'}\n",
        "\n",
        "  fixed_url = fixed_url.replace('did', did)\n",
        "  fixed_url = fixed_url.replace('wid', wid)\n",
        "  fixed_url = fixed_url.replace('eid', eid)\n",
        "\n",
        "  response = client.api_client.request(method, url=base + fixed_url, query_params=params, headers=headers, body=payload)\n",
        "  parsed = json.loads(response.data)\n",
        "  # The command below prints the entire JSON response from Onshape\n",
        "  # print(json.dumps(parsed, indent=4, sort_keys=True))\n",
        "\n",
        "  for i in range(len(parsed['rootAssembly']['instances'])):\n",
        "    if \"TCP\" in parsed['rootAssembly']['instances'][i]['name']:\n",
        "      TCPid = parsed['rootAssembly']['instances'][i]['id']\n",
        "      break\n",
        "\n",
        "  for i in range(len(parsed['rootAssembly']['occurrences'])):\n",
        "    if parsed['rootAssembly']['occurrences'][i]['path'][0] == TCPid and len(parsed['rootAssembly']['occurrences'][i]['path'])==1:\n",
        "      TCPpos = [parsed['rootAssembly']['occurrences'][i]['transform'][3],parsed['rootAssembly']['occurrences'][i]['transform'][7],parsed['rootAssembly']['occurrences'][i]['transform'][11]]\n",
        "  return TCPpos\n",
        "print(getTCPPos())\n",
        "print(getCheckpointPos())"
      ],
      "execution_count": null,
      "outputs": [
        {
          "output_type": "stream",
          "text": [
            "[0.14385380726199481, 0.060439793367692715, 0.3532739781232383]\n",
            "[[0.14464893895175013, 0.049074929578456876, 0.3572741929778415]]\n"
          ],
          "name": "stdout"
        }
      ]
    },
    {
      "cell_type": "code",
      "metadata": {
        "colab": {
          "base_uri": "https://localhost:8080/"
        },
        "id": "W8pAjj02-1HE",
        "outputId": "43749e59-b34f-4270-a2d6-876aa8dee6a1"
      },
      "source": [
        "pos = getCheckpointPos()[0]\n",
        "ikArray = GetJointAngles(pos[0],pos[1],pos[2],0)\n",
        "setMateValues(ikArray[0],ikArray[1],ikArray[2],ikArray[3],math.pi/2,0)"
      ],
      "execution_count": null,
      "outputs": [
        {
          "output_type": "stream",
          "text": [
            "0.09805709040665586 0.12007882476994938\n",
            "[ 93.0789431  125.94020741 125.30433915  90.63586826]\n",
            "{'jsonType': 'Revolute', 'rotationZ': 1.9790730376617336, 'mateName': 'Base', 'featureId': 'MP0JnvCPgEfKeP2HM'}\n",
            "{'jsonType': 'Revolute', 'rotationZ': 1.6245340213771557, 'mateName': 'Base', 'featureId': 'MP0JnvCPgEfKeP2HM'}\n",
            "200\n"
          ],
          "name": "stdout"
        }
      ]
    },
    {
      "cell_type": "code",
      "metadata": {
        "id": "tHR4MfKQtvuq"
      },
      "source": [
        "LastJointArray = [1500,1500,1500,1500,1500,1500]"
      ],
      "execution_count": null,
      "outputs": []
    },
    {
      "cell_type": "code",
      "metadata": {
        "id": "zIn4jVyOeBuv"
      },
      "source": [
        "import time\n",
        "import numpy as np\n",
        "\n",
        "smoothingThreshold = 100\n",
        "steps = 15\n",
        "delay = 0.05\n",
        "\n",
        "while True:\n",
        "  pos = getCheckpointPos()[0]\n",
        "  ikArray = GetJointAngles(pos[0],pos[1],pos[2],0)\n",
        "  setMateValues(ikArray[0],ikArray[1],ikArray[2],ikArray[3],math.pi/2,0)\n",
        "  JointArray = getMateValues()\n",
        "\n",
        "  # numpy.arange([start, ]stop, [step, ], dtype=None) -> numpy.ndarray\n",
        "  ndPosArray = [0 for i in range(6)]\n",
        "  empty = [0 for i in range(6)]\n",
        "  ndPosArray = np.vstack([ndPosArray,empty])\n",
        "  # try:\n",
        "  #   tester[2][3] = 1\n",
        "  # except:\n",
        "  #   tester = np.vstack([tester,empty])\n",
        "\n",
        "  # print(JointArray)\n",
        "  for i in range(len(JointArray)):\n",
        "    if LastJointArray[i] - JointArray[i] < 0:\n",
        "      posArray = np.array(range(LastJointArray[i],JointArray[i],steps))\n",
        "    else:\n",
        "      posArray = np.array(range(LastJointArray[i],JointArray[i],-steps))\n",
        "    for j in range(len(posArray)):\n",
        "      try:\n",
        "        ndPosArray[j][i] = posArray[j]\n",
        "      except:\n",
        "        ndPosArray = np.vstack([ndPosArray,empty])\n",
        "        ndPosArray[j][i] = posArray[j]\n",
        "\n",
        "  for x in ndPosArray:\n",
        "    print(x)\n",
        "    for i in range(len(x)):\n",
        "      if x[i] != 0:\n",
        "        command = '#'+str(i)+' P'+str(x[i])+'\\r'\n",
        "        ser.write(command.encode())\n",
        "        time.sleep(delay)\n",
        "  LastJointArray = JointArray\n",
        "  time.sleep(0.25)"
      ],
      "execution_count": null,
      "outputs": []
    }
  ]
}