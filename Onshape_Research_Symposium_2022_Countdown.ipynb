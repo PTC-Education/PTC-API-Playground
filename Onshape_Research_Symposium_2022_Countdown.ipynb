{
  "nbformat": 4,
  "nbformat_minor": 0,
  "metadata": {
    "colab": {
      "name": "Onshape Research Symposium 2022 Countdown.ipynb",
      "provenance": [],
      "collapsed_sections": [],
      "include_colab_link": true
    },
    "kernelspec": {
      "name": "python3",
      "display_name": "Python 3"
    },
    "language_info": {
      "name": "python"
    }
  },
  "cells": [
    {
      "cell_type": "markdown",
      "metadata": {
        "id": "view-in-github",
        "colab_type": "text"
      },
      "source": [
        "<a href=\"https://colab.research.google.com/github/PTC-Education/PTC-API-Playground/blob/main/Onshape_Research_Symposium_2022_Countdown.ipynb\" target=\"_parent\"><img src=\"https://colab.research.google.com/assets/colab-badge.svg\" alt=\"Open In Colab\"/></a>"
      ]
    },
    {
      "cell_type": "markdown",
      "metadata": {
        "id": "elw1t5tdO6H8"
      },
      "source": [
        "# Onshape Countdown Timer\n",
        "This python notebook is set up to control [this public Onshape document](https://cad.onshape.com/documents/ed30f64021f3697e6f786867/w/2927a853e746a5a7e0e57cd9/e/c2de207d4ed142dbfd08feba) to count down a specified duration of time.\n",
        "\n",
        "For more info on the Onshape REST API, you can visit [the developer portal](https://onshape-public.github.io/docs/). A library of example python notebooks and getting started tutorials [can be found on this page](https://ptc-education.github.io/docs/solutions/onshapedx).\n"
      ]
    },
    {
      "cell_type": "code",
      "source": [
        "#@title Import and Setup Onshape Client\n",
        "\n",
        "!pip install onshape-client\n",
        "from onshape_client.client import Client\n",
        "from onshape_client.onshape_url import OnshapeElement\n",
        "import json\n",
        "\n",
        "#@markdown Chage the base if using an enterprise (i.e. \"https://ptc.onshape.com\")\n",
        "base = 'https://cad.onshape.com' #@param {type:\"string\"}\n",
        "\n",
        "#@markdown Would you like to import your API keys from a file, or copy and paste them directly?\n",
        "keyImportOption = \"Copy/Paste Keys\" #@param [\"Upload Keys from File\", \"Copy/Paste Keys\"]\n",
        "\n",
        "from IPython.display import clear_output \n",
        "clear_output()\n",
        "print(\"Onshape Client successfully imported!\")\n",
        "\n",
        "if keyImportOption == \"Upload Keys from File\":\n",
        "  from google.colab import files\n",
        "  uploaded = files.upload()\n",
        "  for fn in uploaded.keys():\n",
        "    execfile(fn)\n",
        "\n",
        "  client = Client(configuration={\"base_url\": base,\n",
        "                                \"access_key\": access,\n",
        "                                \"secret_key\": secret})\n",
        "  clear_output()\n",
        "  print('Onshape client configured - ready to go!')\n",
        "else:\n",
        "  access = input(\"Paste your Onshape Access Key: \")\n",
        "  secret = input(\"Paste your Onshape Secret Key: \")\n",
        "  client = Client(configuration={\"base_url\": base,\n",
        "                                \"access_key\": access,\n",
        "                                \"secret_key\": secret})\n",
        "  clear_output()\n",
        "  print('Onshape client configured - ready to go!')\n"
      ],
      "metadata": {
        "cellView": "form",
        "colab": {
          "base_uri": "https://localhost:8080/"
        },
        "id": "0INcbnXkRM7q",
        "outputId": "2643e64e-4969-4d02-dd85-c0f98e1fd16e"
      },
      "execution_count": 1,
      "outputs": [
        {
          "output_type": "stream",
          "name": "stdout",
          "text": [
            "Onshape client configured - ready to go!\n"
          ]
        }
      ]
    },
    {
      "cell_type": "markdown",
      "source": [
        "### Define funcitons for getting and setting variables"
      ],
      "metadata": {
        "id": "j4rGR2sNnbCV"
      }
    },
    {
      "cell_type": "code",
      "source": [
        "#@title Get Variables from Variable Studio or Part Studio\n",
        "#@markdown Defines function `getVariables(url)`, which returns JSON of all variables in a variable studio or part studio\n",
        "url = 'https://cad.onshape.com/documents/ed30f64021f3697e6f786867/w/2927a853e746a5a7e0e57cd9/e/9df078c75304fa3b3642b9a4' #@param {type:\"string\"}\n",
        "showResponse = True #@param {type:\"boolean\"}\n",
        "#@markdown **Also defines** function `getVariableValue(url,config,varName)`\n",
        "\n",
        "#@markdown Input a variable name to get value for that variable.\n",
        "varName = 'timeRemaining' #@param {type:\"string\"}\n",
        "\n",
        "\n",
        "def getVariables(url: str):\n",
        "  fixed_url = '/api/variables/d/did/w/wid/e/eid/variables'\n",
        "  element = OnshapeElement(url)\n",
        "  method = 'GET'\n",
        "\n",
        "  params = {}\n",
        "  payload = {}\n",
        "  headers = {'Accept': 'application/vnd.onshape.v2+json; charset=UTF-8;qs=0.1',\n",
        "            'Content-Type': 'application/json'}\n",
        "\n",
        "  fixed_url = fixed_url.replace('did', element.did)\n",
        "  fixed_url = fixed_url.replace('wid', element.wvmid)\n",
        "  fixed_url = fixed_url.replace('eid', element.eid)\n",
        "\n",
        "  response = client.api_client.request(method, url=base + fixed_url, query_params=params, headers=headers, body=payload)\n",
        "\n",
        "  parsed = json.loads(response.data)\n",
        "  return parsed\n",
        "if showResponse:\n",
        "  vars = getVariables(url)\n",
        "  print(json.dumps(vars, indent=4, sort_keys=True))\n",
        "else:\n",
        "  pass\n",
        "\n",
        "def getVariableValue(url,varName):\n",
        "  vars = getVariables(url)\n",
        "  for x in vars[0]['variables']:\n",
        "    if varName in x['name']:\n",
        "      return(x['expression'])\n",
        "\n",
        "if varName is not \"\":\n",
        "  value = getVariableValue(url,varName)\n",
        "  print(varName + \" is equal to \" + value)"
      ],
      "metadata": {
        "cellView": "form",
        "colab": {
          "base_uri": "https://localhost:8080/"
        },
        "id": "iSUMRR17RvHv",
        "outputId": "6fcbe904-a45f-4b65-fd65-c51d98d2ef36"
      },
      "execution_count": 2,
      "outputs": [
        {
          "output_type": "stream",
          "name": "stdout",
          "text": [
            "[\n",
            "    {\n",
            "        \"variableStudioReference\": null,\n",
            "        \"variables\": [\n",
            "            {\n",
            "                \"description\": \"\",\n",
            "                \"expression\": \"\\\"Right now!\\\"\",\n",
            "                \"name\": \"timeRemaining\",\n",
            "                \"type\": \"ANY\",\n",
            "                \"value\": null\n",
            "            },\n",
            "            {\n",
            "                \"description\": \"\",\n",
            "                \"expression\": \"3.4125*cm\",\n",
            "                \"name\": \"hourGlassTime\",\n",
            "                \"type\": \"LENGTH\",\n",
            "                \"value\": null\n",
            "            }\n",
            "        ]\n",
            "    }\n",
            "]\n",
            "timeRemaining is equal to \"Right now!\"\n"
          ]
        }
      ]
    },
    {
      "cell_type": "code",
      "source": [
        "#@title Set Variable in Variable Studio\n",
        "#@markdown Defines function `setVariable(url, varName, varValue)`, which updates the value of specified name with specified variable\n",
        "url = 'https://cad.onshape.com/documents/ed30f64021f3697e6f786867/w/2927a853e746a5a7e0e57cd9/e/9df078c75304fa3b3642b9a4' #@param {type:\"string\"}\n",
        "varName = 'timeRemaining' #@param {type:\"string\"}\n",
        "varValue = \"\\\"hello\\\"\" #@param {type:\"string\"}\n",
        "showResponse = True #@param {type:\"boolean\"}\n",
        "\n",
        "def setVariable(url: str, varName: str, varValue):\n",
        "  fixed_url = '/api/variables/d/did/w/wid/e/eid/variables'\n",
        "  element = OnshapeElement(url)\n",
        "  method = 'POST'\n",
        "\n",
        "  params = {}\n",
        "  headers = {'Accept': 'application/vnd.onshape.v2+json; charset=UTF-8;qs=0.1',\n",
        "            'Content-Type': 'application/json'}\n",
        "\n",
        "  fixed_url = fixed_url.replace('did', element.did)\n",
        "  fixed_url = fixed_url.replace('wid', element.wvmid)\n",
        "  fixed_url = fixed_url.replace('eid', element.eid)\n",
        "  vars = getVariables(url)\n",
        "\n",
        "  for i,x in enumerate(vars[0]['variables']):\n",
        "    del vars[0]['variables'][i]['value']\n",
        "    if varName in x['name']:\n",
        "      vars[0]['variables'][i]['expression'] = varValue\n",
        "\n",
        "  payload = vars[0]['variables']\n",
        "\n",
        "  response = client.api_client.request(method, url=base + fixed_url, query_params=params, headers=headers, body=payload)\n",
        "\n",
        "newVars = setVariable(url, varName, varValue)\n",
        "if showResponse:\n",
        "  print(json.dumps(newVars, indent=4, sort_keys=True))\n",
        "else:\n",
        "  pass\n"
      ],
      "metadata": {
        "cellView": "form",
        "colab": {
          "base_uri": "https://localhost:8080/"
        },
        "id": "NEkCGtyKe0Gi",
        "outputId": "3604ada8-c9e2-4755-dbbc-861ecc57f0a0"
      },
      "execution_count": 3,
      "outputs": [
        {
          "output_type": "stream",
          "name": "stdout",
          "text": [
            "null\n"
          ]
        }
      ]
    },
    {
      "cell_type": "markdown",
      "source": [
        "### Main loop for updating the variables to count down for the specified time"
      ],
      "metadata": {
        "id": "m1WrXtb6ni-8"
      }
    },
    {
      "cell_type": "code",
      "metadata": {
        "id": "bf20vO1MOwq3",
        "colab": {
          "base_uri": "https://localhost:8080/",
          "height": 722
        },
        "outputId": "7905d89f-e556-41bb-9dbc-87609129cb56"
      },
      "source": [
        "## import the time module\n",
        "import time\n",
        "\n",
        "## define the countdown func.\n",
        "def countdown(timerIn):\n",
        "  ## initiate the timer\n",
        "  t = int(timerIn)\n",
        "  originalTime = int(timerIn)\n",
        "  while t > 0:\n",
        "    mins, secs = divmod(t, 60)\n",
        "    timer = '{:02d}:{:02d}'.format(mins, secs)\n",
        "    print(timer)\n",
        "    start = time.time()\n",
        "    setVariable(url, \"timeRemaining\", \"\\\"\" + timer + \"\\\"\" )\n",
        "    hourGlassTime = ((originalTime - t)/originalTime)*3.9\n",
        "    print(str(hourGlassTime))\n",
        "    setVariable(url, \"hourGlassTime\", str(hourGlassTime)+\"*cm\")\n",
        "    end = time.time()\n",
        "    callTime = start-end\n",
        "    print(callTime)\n",
        "    time.sleep(10)\n",
        "    timerIn -= 10+callTime\n",
        "    t = int(timerIn)\n",
        "    \n",
        "  print('Right now!')\n",
        "  setVariable(url, \"timeRemaining\", \"\\\"Right now!\\\"\")\n",
        "  setVariable(url, \"hourGlassTime\", \"4*cm\")\n",
        "\n",
        "\n",
        "# input time in seconds\n",
        "timerIn = input(\"Enter the time in seconds: \")\n",
        "\n",
        "# function call\n",
        "countdown(float(timerIn))\n"
      ],
      "execution_count": 5,
      "outputs": [
        {
          "output_type": "stream",
          "name": "stdout",
          "text": [
            "Enter the time in seconds: 100\n",
            "01:40\n",
            "0.0\n",
            "-0.875551700592041\n",
            "01:30\n",
            "0.39\n",
            "-0.6237497329711914\n",
            "01:21\n",
            "0.741\n",
            "-0.6287891864776611\n",
            "01:12\n",
            "1.092\n",
            "-0.5999963283538818\n",
            "01:02\n",
            "1.482\n",
            "-0.5994679927825928\n",
            "00:53\n",
            "1.833\n",
            "-0.5913779735565186\n",
            "00:43\n",
            "2.223\n",
            "-0.6082549095153809\n"
          ]
        },
        {
          "output_type": "error",
          "ename": "KeyboardInterrupt",
          "evalue": "ignored",
          "traceback": [
            "\u001b[0;31m---------------------------------------------------------------------------\u001b[0m",
            "\u001b[0;31mKeyboardInterrupt\u001b[0m                         Traceback (most recent call last)",
            "\u001b[0;32m<ipython-input-5-397022f0d534>\u001b[0m in \u001b[0;36m<module>\u001b[0;34m()\u001b[0m\n\u001b[1;32m     31\u001b[0m \u001b[0;34m\u001b[0m\u001b[0m\n\u001b[1;32m     32\u001b[0m \u001b[0;31m# function call\u001b[0m\u001b[0;34m\u001b[0m\u001b[0;34m\u001b[0m\u001b[0;34m\u001b[0m\u001b[0m\n\u001b[0;32m---> 33\u001b[0;31m \u001b[0mcountdown\u001b[0m\u001b[0;34m(\u001b[0m\u001b[0mfloat\u001b[0m\u001b[0;34m(\u001b[0m\u001b[0mtimerIn\u001b[0m\u001b[0;34m)\u001b[0m\u001b[0;34m)\u001b[0m\u001b[0;34m\u001b[0m\u001b[0;34m\u001b[0m\u001b[0m\n\u001b[0m",
            "\u001b[0;32m<ipython-input-5-397022f0d534>\u001b[0m in \u001b[0;36mcountdown\u001b[0;34m(timerIn)\u001b[0m\n\u001b[1;32m     18\u001b[0m     \u001b[0mcallTime\u001b[0m \u001b[0;34m=\u001b[0m \u001b[0mstart\u001b[0m\u001b[0;34m-\u001b[0m\u001b[0mend\u001b[0m\u001b[0;34m\u001b[0m\u001b[0;34m\u001b[0m\u001b[0m\n\u001b[1;32m     19\u001b[0m     \u001b[0mprint\u001b[0m\u001b[0;34m(\u001b[0m\u001b[0mcallTime\u001b[0m\u001b[0;34m)\u001b[0m\u001b[0;34m\u001b[0m\u001b[0;34m\u001b[0m\u001b[0m\n\u001b[0;32m---> 20\u001b[0;31m     \u001b[0mtime\u001b[0m\u001b[0;34m.\u001b[0m\u001b[0msleep\u001b[0m\u001b[0;34m(\u001b[0m\u001b[0;36m10\u001b[0m\u001b[0;34m)\u001b[0m\u001b[0;34m\u001b[0m\u001b[0;34m\u001b[0m\u001b[0m\n\u001b[0m\u001b[1;32m     21\u001b[0m     \u001b[0mtimerIn\u001b[0m \u001b[0;34m-=\u001b[0m \u001b[0;36m10\u001b[0m\u001b[0;34m+\u001b[0m\u001b[0mcallTime\u001b[0m\u001b[0;34m\u001b[0m\u001b[0;34m\u001b[0m\u001b[0m\n\u001b[1;32m     22\u001b[0m     \u001b[0mt\u001b[0m \u001b[0;34m=\u001b[0m \u001b[0mint\u001b[0m\u001b[0;34m(\u001b[0m\u001b[0mtimerIn\u001b[0m\u001b[0;34m)\u001b[0m\u001b[0;34m\u001b[0m\u001b[0;34m\u001b[0m\u001b[0m\n",
            "\u001b[0;31mKeyboardInterrupt\u001b[0m: "
          ]
        }
      ]
    }
  ]
}